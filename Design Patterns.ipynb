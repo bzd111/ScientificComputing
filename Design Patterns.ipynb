{
 "cells": [
  {
   "cell_type": "markdown",
   "metadata": {
    "deletable": true,
    "editable": true
   },
   "source": [
    "# 　Null Patterns"
   ]
  },
  {
   "cell_type": "code",
   "execution_count": 1,
   "metadata": {
    "collapsed": false,
    "deletable": true,
    "editable": true
   },
   "outputs": [
    {
     "name": "stdout",
     "output_type": "stream",
     "text": [
      "1\n"
     ]
    }
   ],
   "source": [
    "class A(object):\n",
    "    pass \n",
    "\n",
    "class B(object):\n",
    "    b = 1 \n",
    "    @classmethod\n",
    "    def test(cls):\n",
    "        print(cls.b)\n",
    "        \n",
    "\n",
    "class NULL(object):\n",
    "    def __init__(self, *args, **kwargs):\n",
    "        return None \n",
    "    def __call__(self, *args, **kwargs):\n",
    "        return self\n",
    "    def __getattr__(self, name):\n",
    "        return self\n",
    "    def __setattr__(self, name, value):\n",
    "        return self\n",
    "    def __delattr__(self, name):\n",
    "        return self\n",
    "    def __repr__(self):\n",
    "        return \"<NULL>\"\n",
    "    def __str__(self):\n",
    "        return \"NULL\"\n",
    "    \n",
    "def get_test_with_null(x):\n",
    "    try:\n",
    "        return x.test\n",
    "    except AttributeError:\n",
    "        return NULL()\n",
    "    \n",
    "for i in [A, B]:\n",
    "    get_test_with_null(i)()\n",
    "   "
   ]
  },
  {
   "cell_type": "markdown",
   "metadata": {},
   "source": [
    "# Brog 模式"
   ]
  },
  {
   "cell_type": "code",
   "execution_count": 13,
   "metadata": {
    "collapsed": false,
    "deletable": true,
    "editable": true
   },
   "outputs": [
    {
     "name": "stdout",
     "output_type": "stream",
     "text": [
      "hello\n",
      "None\n",
      "{'hello': '123'}\n",
      "{'hello': ''}\n"
     ]
    }
   ],
   "source": [
    "class Config(object):\n",
    "    _we_are_one = {}\n",
    "    _myvalue = \"\"\n",
    "    \n",
    "    def __new__(cls, *args, **kwargs):\n",
    "        self = object.__new__(cls, *args, *kwargs)\n",
    "        self._dict = cls._we_are_one\n",
    "        return self\n",
    "    def myvalue(self, value=None):\n",
    "        if value:\n",
    "            self._myvalue = value\n",
    "            return self._myvalue\n",
    "    def setvalue(self, value=None):\n",
    "        if value:\n",
    "            self._dict['hello'] = value \n",
    "        else:\n",
    "            self._dict['hello'] = self._myvalue\n",
    "        return self\n",
    "if __name__ == \"__main__\":\n",
    "    c1 = Config()\n",
    "    print(c1.myvalue(\"hello\"))\n",
    "    c2 = Config()\n",
    "    print(c2.myvalue())\n",
    "    c3 = Config()\n",
    "    print(c3.setvalue('123')._dict)\n",
    "    c4 = Config()\n",
    "    print(c4.setvalue()._dict)"
   ]
  },
  {
   "cell_type": "markdown",
   "metadata": {},
   "source": [
    "# Brog模式"
   ]
  },
  {
   "cell_type": "code",
   "execution_count": 16,
   "metadata": {
    "collapsed": false,
    "deletable": true,
    "editable": true
   },
   "outputs": [
    {
     "name": "stdout",
     "output_type": "stream",
     "text": [
      "i am borg\n"
     ]
    }
   ],
   "source": [
    "def borg(cls):\n",
    "    cls._state = {}\n",
    "    orig_init = cls.__init__\n",
    "    def new_init(self, *args, **kwargs):\n",
    "        self.__dict__ = cls._state\n",
    "        orig_init(self, *args, **kwargs)\n",
    "    cls.__init__ = new_init\n",
    "    return cls\n",
    "\n",
    "@borg\n",
    "class TestBorg(object):\n",
    "    def say_borg(self):\n",
    "        print(\"i am borg\")\n",
    "t1 = TestBorg()\n",
    "t1.say_borg()\n"
   ]
  },
  {
   "cell_type": "code",
   "execution_count": null,
   "metadata": {
    "collapsed": true,
    "deletable": true,
    "editable": true
   },
   "outputs": [],
   "source": [
    "class Borg:\n",
    "    __shared_state = {}\n",
    "    def __init__(self):\n",
    "        self.__dict__ = self.__shared_state"
   ]
  },
  {
   "cell_type": "markdown",
   "metadata": {
    "deletable": true,
    "editable": true
   },
   "source": [
    "# Factory Patterns"
   ]
  },
  {
   "cell_type": "code",
   "execution_count": 10,
   "metadata": {
    "collapsed": false,
    "deletable": true,
    "editable": true
   },
   "outputs": [
    {
     "name": "stdout",
     "output_type": "stream",
     "text": [
      "Price of HamMushroom is 8.5\n",
      "Price of Deluxe is 10.5\n",
      "Price of Hawaiian is 11.5\n"
     ]
    }
   ],
   "source": [
    "class Pizza(object):\n",
    "    # def __init__(self):\n",
    "    #     self._price = None\n",
    "\n",
    "    def get_price(self):\n",
    "        return self._price\n",
    "\n",
    "class HamAndMushroomPizza(Pizza):\n",
    "    def __init__(self):\n",
    "        self._price = 8.5\n",
    "\n",
    "class DeluxePizza(Pizza):\n",
    "    def __init__(self):\n",
    "        self._price = 10.5\n",
    "\n",
    "\n",
    "class HawaiianPizza(Pizza):\n",
    "    def __init__(self):\n",
    "        self._price = 11.5\n",
    "\n",
    "# class PizzaFactory(object):\n",
    "#     @staticmethod\n",
    "#     def create_pizza(pizza_type):\n",
    "#         if pizza_type == 'HamMushroom':\n",
    "#             return HamAndMushroomPizza()\n",
    "#         elif pizza_type == 'Deluxe':\n",
    "#             return DeluxePizza()\n",
    "#         elif pizza_type == 'Hawaiian':\n",
    "#             return HawaiianPizza()\n",
    "\n",
    "class PizzaFactory(object):\n",
    "    Pizza_dict = dict(HamMushroom=HamAndMushroomPizza, \n",
    "                     Deluxe=DeluxePizza,\n",
    "                     Hawaiian=HawaiianPizza)\n",
    "    @staticmethod\n",
    "    def create_pizza(pizza_type):\n",
    "#         Pizza_dict = dict(HamMushroom=HamAndMushroomPizza, \n",
    "#                      Deluxe=DeluxePizza,\n",
    "#                      Hawaiian=HawaiianPizza)\n",
    "        return PizzaFactory.Pizza_dict.get(pizza_type)()\n",
    "\n",
    "# print(PizzaFactory.create_pizza('Deluxe').get_price())\n",
    "\n",
    "for pizza_type in ('HamMushroom', 'Deluxe', 'Hawaiian'):\n",
    "    print(\"Price of {0} is {1}\".format(pizza_type, PizzaFactory.create_pizza(pizza_type).get_price()))"
   ]
  },
  {
   "cell_type": "code",
   "execution_count": 4,
   "metadata": {
    "collapsed": false,
    "deletable": true,
    "editable": true
   },
   "outputs": [
    {
     "name": "stdout",
     "output_type": "stream",
     "text": [
      "dog σκύλος\n",
      "parrot parrot\n",
      "cat γάτα\n",
      "bear bear\n"
     ]
    }
   ],
   "source": [
    "\n",
    "class GreekGetter(object):\n",
    "\n",
    "    \"\"\"A simple localizer a la gettext\"\"\"\n",
    "\n",
    "    def __init__(self):\n",
    "        self.trans = dict(dog=\"σκύλος\", cat=\"γάτα\")\n",
    "\n",
    "    def get(self, msgid):\n",
    "        \"\"\"We'll punt if we don't have a translation\"\"\"\n",
    "        return self.trans.get(msgid, str(msgid))\n",
    "\n",
    "\n",
    "class EnglishGetter(object):\n",
    "\n",
    "    \"\"\"Simply echoes the msg ids\"\"\"\n",
    "\n",
    "    def get(self, msgid):\n",
    "        return str(msgid)\n",
    "\n",
    "\n",
    "def get_localizer(language=\"English\"):\n",
    "    \"\"\"The factory method\"\"\"\n",
    "    languages = dict(English=EnglishGetter, Greek=GreekGetter)\n",
    "    return languages[language]()\n",
    "\n",
    "\n",
    "# Create our localizers\n",
    "e, g = get_localizer(language=\"English\"), get_localizer(language=\"Greek\")\n",
    "# Localize some text\n",
    "for msgid in \"dog parrot cat bear\".split():\n",
    "    print(e.get(msgid), g.get(msgid))"
   ]
  },
  {
   "cell_type": "markdown",
   "metadata": {
    "deletable": true,
    "editable": true
   },
   "source": [
    "#  Bridge Pattern"
   ]
  },
  {
   "cell_type": "code",
   "execution_count": 13,
   "metadata": {
    "collapsed": false,
    "deletable": true,
    "editable": true
   },
   "outputs": [
    {
     "name": "stdout",
     "output_type": "stream",
     "text": [
      "UseCase1: \n",
      "Linux!\n",
      "UseCase1: \n",
      "Windows.\n",
      "UseCase2: \n",
      "Linux!\n",
      "UseCase2: \n",
      "Windows.\n"
     ]
    }
   ],
   "source": [
    "class Bridge(object):\n",
    "\n",
    "    def __init__(self):\n",
    "        self.__implementation = None\n",
    "\n",
    "    def someFunctionality(self):\n",
    "        raise NotImplemented()\n",
    "\n",
    "class UseCase1(Bridge):\n",
    "    # 根据初始化参数传入实现的产品类\n",
    "    def __init__(self, implementation):\n",
    "        self.__implementation = implementation\n",
    "    # 根据传入的产品类的属性打印结果\n",
    "    def someFunctionality(self):\n",
    "        print(\"UseCase1: \")\n",
    "        self.__implementation.anotherFunctionality()\n",
    "\n",
    "\n",
    "class UseCase2(Bridge):\n",
    "    def __init__(self, implementation):\n",
    "        self.__implementation = implementation\n",
    "\n",
    "    def someFunctionality(self):\n",
    "        print(\"UseCase2: \",) \n",
    "        self.__implementation.anotherFunctionality()\n",
    "\n",
    "\n",
    "class ImplementationInterface:\n",
    "\n",
    "    def anotherFunctionality(self):\n",
    "        raise NotImplemented()\n",
    "\n",
    "# 这里其实才是实现的产品类\n",
    "class Linux(ImplementationInterface):\n",
    "\n",
    "    # 它定义了这个方法，回应操作系统的名字\n",
    "    def anotherFunctionality(self):\n",
    "        print(\"Linux!\") \n",
    "\n",
    "\n",
    "class Windows(ImplementationInterface):\n",
    "    def anotherFunctionality(self):\n",
    "        print(\"Windows.\") \n",
    "\n",
    "\n",
    "def main():\n",
    "    linux = Linux()\n",
    "    windows = Windows()\n",
    "\n",
    "    useCase = UseCase1(linux)\n",
    "    useCase.someFunctionality()\n",
    "\n",
    "    useCase = UseCase1(windows)\n",
    "    useCase.someFunctionality()\n",
    "\n",
    "    useCase = UseCase2(linux)\n",
    "    useCase.someFunctionality()\n",
    "\n",
    "    useCase = UseCase2(windows)\n",
    "    useCase.someFunctionality()\n",
    "    \n",
    "if __name__ == \"__main__\":\n",
    "    main()"
   ]
  },
  {
   "cell_type": "code",
   "execution_count": 15,
   "metadata": {
    "collapsed": false,
    "deletable": true,
    "editable": true
   },
   "outputs": [
    {
     "name": "stdout",
     "output_type": "stream",
     "text": [
      "API1.circle at 1.000000:2.000000 radius 7.500000\n",
      "API2.circle at 5.000000:7.000000 radius 27.500000\n"
     ]
    }
   ],
   "source": [
    "# Implementor\n",
    "class DrawingAPI:\n",
    "    def drawCircle(x, y, radius):\n",
    "        pass\n",
    "\n",
    "\n",
    "# ConcreteImplementor 1/2\n",
    "class DrawingAPI1(DrawingAPI):\n",
    "    def drawCircle(self, x, y, radius):\n",
    "            print(\"API1.circle at %f:%f radius %f\" % (x, y, radius))\n",
    "\n",
    "\n",
    "# ConcreteImplementor 2/2\n",
    "class DrawingAPI2(DrawingAPI):\n",
    "    def drawCircle(self, x, y, radius):\n",
    "            print(\"API2.circle at %f:%f radius %f\" % (x, y, radius)) \n",
    "\n",
    "\n",
    "# Abstraction\n",
    "class Shape:\n",
    "    # Low-level\n",
    "    def draw(self):\n",
    "        pass\n",
    "\n",
    "    # High-level\n",
    "    def resizeByPercentage(self, pct):\n",
    "        pass\n",
    "\n",
    "\n",
    "# Refined Abstraction\n",
    "class CircleShape(Shape):\n",
    "    def __init__(self, x, y, radius, drawingAPI):\n",
    "        self.__x = x\n",
    "        self.__y = y\n",
    "        self.__radius = radius\n",
    "        self.__drawingAPI = drawingAPI\n",
    "\n",
    "    # low-level i.e. Implementation specific\n",
    "    def draw(self):\n",
    "        self.__drawingAPI.drawCircle(self.__x, self.__y, self.__radius)\n",
    "\n",
    "    # high-level i.e. Abstraction specific\n",
    "    def resizeByPercentage(self, pct):\n",
    "        self.__radius *= pct\n",
    "\n",
    "\n",
    "def main():\n",
    "    shapes = [\n",
    "        CircleShape(1, 2, 3, DrawingAPI1()),\n",
    "        CircleShape(5, 7, 11, DrawingAPI2())\n",
    "    ]\n",
    "\n",
    "    for shape in shapes:\n",
    "        shape.resizeByPercentage(2.5)\n",
    "        shape.draw()\n",
    "\n",
    "if __name__ == \"__main__\":\n",
    "    main()"
   ]
  },
  {
   "cell_type": "markdown",
   "metadata": {
    "collapsed": true,
    "deletable": true,
    "editable": true
   },
   "source": [
    "#  State Pattern"
   ]
  },
  {
   "cell_type": "code",
   "execution_count": 19,
   "metadata": {
    "collapsed": false,
    "deletable": true,
    "editable": true
   },
   "outputs": [
    {
     "name": "stdout",
     "output_type": "stream",
     "text": [
      "<bound method Radio.scan of <__main__.Radio object at 0x0000000004C7A940>>\n",
      "Scanning... Station is 1380 AM\n",
      "Scanning... Station is 1510 AM\n",
      "Switching to FM\n",
      "Scanning... Station is 89.1 FM\n",
      "Scanning... Station is 103.9 FM\n",
      "Scanning... Station is 81.3 FM\n",
      "Scanning... Station is 89.1 FM\n",
      "Switching to AM\n",
      "Scanning... Station is 1250 AM\n",
      "Scanning... Station is 1380 AM\n"
     ]
    }
   ],
   "source": [
    "from __future__ import print_function\n",
    "\n",
    "\n",
    "class State(object):\n",
    "\n",
    "    \"\"\"Base state. This is to share functionality\"\"\"\n",
    "\n",
    "    def scan(self):\n",
    "        \"\"\"Scan the dial to the next station\"\"\"\n",
    "        self.pos += 1\n",
    "        if self.pos == len(self.stations):\n",
    "            self.pos = 0\n",
    "        print(u\"Scanning... Station is %s %s\" %\n",
    "              (self.stations[self.pos], self.name))\n",
    "\n",
    "\n",
    "class AmState(State):\n",
    "\n",
    "    def __init__(self, radio):\n",
    "        self.radio = radio\n",
    "        self.stations = [\"1250\", \"1380\", \"1510\"]\n",
    "        self.pos = 0\n",
    "        self.name = \"AM\"\n",
    "\n",
    "    def toggle_amfm(self):\n",
    "        print(u\"Switching to FM\")\n",
    "        self.radio.state = self.radio.fmstate\n",
    "\n",
    "\n",
    "class FmState(State):\n",
    "\n",
    "    def __init__(self, radio):\n",
    "        self.radio = radio\n",
    "        self.stations = [\"81.3\", \"89.1\", \"103.9\"]\n",
    "        self.pos = 0\n",
    "        self.name = \"FM\"\n",
    "\n",
    "    def toggle_amfm(self):\n",
    "        print(u\"Switching to AM\")\n",
    "        self.radio.state = self.radio.amstate\n",
    "\n",
    "\n",
    "class Radio(object):\n",
    "\n",
    "    \"\"\"A radio.     It has a scan button, and an AM/FM toggle switch.\"\"\"\n",
    "\n",
    "    def __init__(self):\n",
    "        \"\"\"We have an AM state and an FM state\"\"\"\n",
    "        self.amstate = AmState(self)\n",
    "        self.fmstate = FmState(self)\n",
    "        self.state = self.amstate\n",
    "\n",
    "    def toggle_amfm(self):\n",
    "        self.state.toggle_amfm()\n",
    "\n",
    "    def scan(self):\n",
    "        self.state.scan()\n",
    "\n",
    "\n",
    "# Test our radio out\n",
    "if __name__ == '__main__':\n",
    "    radio = Radio()\n",
    "    actions = [radio.scan] * 2 + [radio.toggle_amfm] + [radio.scan] * 2\n",
    "    \n",
    "    actions *= 2\n",
    "    \n",
    "\n",
    "    for action in actions:\n",
    "        action()"
   ]
  },
  {
   "cell_type": "code",
   "execution_count": 22,
   "metadata": {
    "collapsed": false,
    "deletable": true,
    "editable": true
   },
   "outputs": [
    {
     "name": "stdout",
     "output_type": "stream",
     "text": [
      "without connection:\n",
      "cannot send...Offline\n",
      "cannot receive...Offline\n",
      "starting connection\n",
      "sending Data\n",
      "receiving Data\n"
     ]
    }
   ],
   "source": [
    "class NetworkCardState:\n",
    "    \"\"\"基类\"\"\"\n",
    "    def send(self):\n",
    "        raise NotImplementedError\n",
    "\n",
    "    def receive(self):\n",
    "        raise NotImplementedError\n",
    "\n",
    "class Online(NetworkCardState):\n",
    "    \"\"\"在线\"\"\"\n",
    "    def send(self):\n",
    "        print(\"sending Data\")\n",
    "\n",
    "    def receive(self):\n",
    "        print(\"receiving Data\") \n",
    "\n",
    "class Offline(NetworkCardState):\n",
    "    \"\"\"离线\"\"\"\n",
    "    def send(self):\n",
    "        print(\"cannot send...Offline\") \n",
    "\n",
    "    def receive(self):\n",
    "        print(\"cannot receive...Offline\") \n",
    "\n",
    "class NetworkCard:\n",
    "    def __init__(self):\n",
    "        self.online = Online()\n",
    "        self.offline = Offline()\n",
    "        # 修改内部属性currentState，默认是离线，直接传入类\n",
    "        self.currentState = self.offline\n",
    "\n",
    "    def startConnection(self):\n",
    "        # 修改状态成在线\n",
    "        self.currentState = self.online\n",
    "\n",
    "    def stopConnection(self):\n",
    "        self.currentState = self.offline\n",
    "\n",
    "    def send(self):\n",
    "        # 去掉用这个可变的属性的方法，达到看起来是操作了类的属性的改变\n",
    "        self.currentState.send()\n",
    "\n",
    "    def receive(self):\n",
    "        self.currentState.receive()\n",
    "\n",
    "def main():\n",
    "    myNetworkCard = NetworkCard()\n",
    "    print(\"without connection:\") \n",
    "    myNetworkCard.send()\n",
    "    myNetworkCard.receive()\n",
    "    print(\"starting connection\")\n",
    "    myNetworkCard.startConnection()\n",
    "    myNetworkCard.send()\n",
    "    myNetworkCard.receive()\n",
    "\n",
    "if __name__ == '__main__':\n",
    "    main()"
   ]
  },
  {
   "cell_type": "code",
   "execution_count": 2,
   "metadata": {
    "collapsed": false,
    "deletable": true,
    "editable": true
   },
   "outputs": [
    {
     "name": "stdout",
     "output_type": "stream",
     "text": [
      "Apr-06-17 10:34:34 PM\n",
      "Apr-06-17 02:34:34 PM\n",
      "Apr-06-17 10:34:34 PM\n"
     ]
    }
   ],
   "source": [
    "from time import time \n",
    "from datetime import datetime, timedelta\n",
    "class MyTime(object):\n",
    "    def show(self):\n",
    "        raise NotImplemented\n",
    "    \n",
    "class LocalTime(MyTime):\n",
    "    def show(self):\n",
    "        print(datetime.now().strftime(\"%b-%d-%y %I:%M:%S %p\"))\n",
    "\n",
    "class StandardTime(MyTime):\n",
    "    def show(self):\n",
    "        print(datetime.utcnow().strftime(\"%b-%d-%y %I:%M:%S %p\"))\n",
    "    \n",
    "class TimeShow(object):\n",
    "    def __init__(self):\n",
    "        self.local_time = LocalTime()\n",
    "        self.standard_time = StandardTime()\n",
    "        self.state = self.local_time\n",
    "        \n",
    "    def switch_local(self):\n",
    "        self.state = self.local_time\n",
    "        \n",
    "        \n",
    "    def switch_standard(self):\n",
    "        self.stat = self.standard_time\n",
    "    \n",
    "    def show_local(self):\n",
    "        self.local_time.show()\n",
    "    \n",
    "    def show_standard(self):\n",
    "        self.standard_time.show()\n",
    "\n",
    "if __name__ == \"__main__\":\n",
    "    t = TimeShow()\n",
    "    t.show_local()\n",
    "    t.switch_standard()\n",
    "    t.show_standard()\n",
    "    t.switch_local()\n",
    "    t.show_local()\n",
    "    "
   ]
  },
  {
   "cell_type": "markdown",
   "metadata": {
    "collapsed": true,
    "deletable": true,
    "editable": true
   },
   "source": [
    "# Template 模式"
   ]
  },
  {
   "cell_type": "code",
   "execution_count": 2,
   "metadata": {
    "collapsed": true
   },
   "outputs": [],
   "source": [
    "class AbstractGame:\n",
    "     \"\"\"An abstract class that is common to several games in which\n",
    "     players play against the others, but only one is playing at a\n",
    "     given time.\n",
    "     \"\"\"\n",
    "     def __init__(self, *args, **kwargs):\n",
    "         if self.__class__ is AbstractGame:\n",
    "             raise TypeError('abstract class cannot be instantiated')\n",
    "\n",
    "     def playOneGame(self, playersCount):\n",
    "         self.playersCount = playersCount\n",
    "         self.initializeGame()\n",
    "         j = 0\n",
    "         while not self.endOfGame():\n",
    "             self.makePlay(j)\n",
    "             j = (j + 1) % self.playersCount\n",
    "         self.printWinner()\n",
    "\n",
    "     def initializeGame(self):\n",
    "         raise TypeError('abstract method must be overridden')\n",
    "\n",
    "     def endOfGame(self):\n",
    "         raise TypeError('abstract method must be overridden')\n",
    "\n",
    "     def makePlay(self, player_num):\n",
    "         raise TypeError('abstract method must be overridden')\n",
    "\n",
    "     def printWinner(self):\n",
    "         raise TypeError('abstract method must be overridden')\n",
    "\n",
    "\n",
    "# Now to create concrete (non-abstract) games, you subclass AbstractGame\n",
    "# and override the abstract methods.\n",
    "\n",
    "class Chess(AbstractGame):\n",
    "     def initializeGame(self):\n",
    "         # Put the pieces on the board.\n",
    "         pass\n",
    "\n",
    "     def makePlay(player):\n",
    "         # Process a turn for the player\n",
    "         pass\n",
    "\n",
    "# --------- Alex's Martelli example ---------\n",
    "\n",
    "class AbstractBase(object):\n",
    "    def orgMethod(self):\n",
    "        self.doThis()\n",
    "        self.doThat()\n",
    "\n",
    "class Concrete(AbstractBase):\n",
    "    def doThis(self):\n",
    "        pass\n",
    "    def doThat(self):\n",
    "        pass\n",
    "    \n",
    "a = AbstractBase()\n"
   ]
  },
  {
   "cell_type": "code",
   "execution_count": 12,
   "metadata": {
    "collapsed": false
   },
   "outputs": [
    {
     "name": "stdout",
     "output_type": "stream",
     "text": [
      "spam\n",
      "eggs\n",
      "apple\n",
      "--------------------\n",
      "apple\n",
      "eggs\n",
      "spam\n",
      "--------------------\n",
      "maps\n",
      "sgge\n",
      "elppa\n",
      "--------------------\n",
      "elppa\n",
      "sgge\n",
      "maps\n",
      "--------------------\n",
      "['s', 'p', 'a', 'm']\n",
      "['e', 'g', 'g', 's']\n",
      "['a', 'p', 'p', 'l', 'e']\n",
      "--------------------\n",
      "['a', 'p', 'p', 'l', 'e']\n",
      "['e', 'g', 'g', 's']\n",
      "['s', 'p', 'a', 'm']\n",
      "--------------------\n",
      "['m', 'a', 'p', 's']\n",
      "['s', 'g', 'g', 'e']\n",
      "['e', 'l', 'p', 'p', 'a']\n",
      "--------------------\n",
      "['e', 'l', 'p', 'p', 'a']\n",
      "['s', 'g', 'g', 'e']\n",
      "['m', 'a', 'p', 's']\n",
      "--------------------\n"
     ]
    }
   ],
   "source": [
    "\"\"\"http://ginstrom.com/scribbles/2007/10/08/design-patterns-python-style/\n",
    "An example of the Template pattern in Python\"\"\"\n",
    "\n",
    "ingredients = \"spam eggs apple\"\n",
    "line = '-' * 20\n",
    "\n",
    "\n",
    "# Skeletons\n",
    "def iter_elements(getter, action):\n",
    "    \"\"\"Template skeleton that iterates items\"\"\"\n",
    "    for element in getter():\n",
    "        action(element)\n",
    "    print(line) \n",
    "\n",
    "\n",
    "def rev_elements(getter, action):\n",
    "    \"\"\"Template skeleton that iterates items in reverse order\"\"\"\n",
    "    for element in getter()[::-1]:\n",
    "        action(element)\n",
    "    print(line)\n",
    "\n",
    "\n",
    "# Getters\n",
    "def get_list():\n",
    "    return ingredients.split()\n",
    "\n",
    "\n",
    "def get_lists():\n",
    "    return [list(x) for x in ingredients.split()]\n",
    "\n",
    "\n",
    "# Actions\n",
    "def print_item(item):\n",
    "    print(item)\n",
    "\n",
    "\n",
    "def reverse_item(item):\n",
    "    print(item[::-1])\n",
    "\n",
    "\n",
    "# Makes templates\n",
    "def make_template(skeleton, getter, action):\n",
    "    \"\"\"Instantiate a template method with getter and action\"\"\"\n",
    "    def template():\n",
    "        skeleton(getter, action)\n",
    "    \n",
    "    return template\n",
    "\n",
    "\n",
    "# Create our template functions\n",
    "templates = [make_template(s, g, a)\n",
    "             for g in (get_list, get_lists)\n",
    "             for a in (print_item, reverse_item)\n",
    "             for s in (iter_elements, rev_elements)]\n",
    "\n",
    "# Execute them\n",
    "for template in templates:\n",
    "    template()"
   ]
  },
  {
   "cell_type": "code",
   "execution_count": 9,
   "metadata": {
    "collapsed": false
   },
   "outputs": [
    {
     "name": "stdout",
     "output_type": "stream",
     "text": [
      "0 0 0\n",
      "0 0 1\n",
      "0 1 0\n",
      "0 1 1\n",
      "1 0 0\n",
      "1 0 1\n",
      "1 1 0\n",
      "1 1 1\n"
     ]
    }
   ],
   "source": [
    "templates = [\n",
    "    print(x,y,z)\n",
    "    for x in range(2)\n",
    "    for y in range(2)\n",
    "    for z in range(2)\n",
    "]"
   ]
  },
  {
   "cell_type": "code",
   "execution_count": null,
   "metadata": {
    "collapsed": true
   },
   "outputs": [],
   "source": []
  }
 ],
 "metadata": {
  "kernelspec": {
   "display_name": "Python 3",
   "language": "python",
   "name": "python3"
  },
  "language_info": {
   "codemirror_mode": {
    "name": "ipython",
    "version": 3
   },
   "file_extension": ".py",
   "mimetype": "text/x-python",
   "name": "python",
   "nbconvert_exporter": "python",
   "pygments_lexer": "ipython3",
   "version": "3.5.2"
  }
 },
 "nbformat": 4,
 "nbformat_minor": 2
}
