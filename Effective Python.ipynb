{
 "cells": [
  {
   "cell_type": "code",
   "execution_count": 2,
   "metadata": {
    "collapsed": false,
    "deletable": true,
    "editable": true
   },
   "outputs": [
    {
     "name": "stdout",
     "output_type": "stream",
     "text": [
      "('Before:', {'green': 12, 'bule': 3})\n",
      "key added\n",
      "key added\n",
      "key added\n",
      "('After:', {'blue': 17, 'orange': 9, 'green': 12, 'bule': 3, 'red': 5})\n"
     ]
    }
   ],
   "source": [
    "from collections import defaultdict\n",
    "\n",
    "current = {'green': 12, 'bule': 3}\n",
    "increments = [\n",
    "    ('red', 5),\n",
    "    ('blue', 17),\n",
    "    ('orange', 9)\n",
    "]\n",
    "\n",
    "def log_missing():\n",
    "    print(\"key added\")\n",
    "    return 0\n",
    "\n",
    "result = defaultdict(log_missing, current)\n",
    "print(\"Before:\", dict(result))\n",
    "for key, amount in increments:\n",
    "    result[key] += amount\n",
    "print(\"After:\", dict(result))"
   ]
  },
  {
   "cell_type": "code",
   "execution_count": 6,
   "metadata": {
    "collapsed": false,
    "deletable": true,
    "editable": true
   },
   "outputs": [],
   "source": [
    "from collections import defaultdict\n",
    "\n",
    "\n",
    "current = {'green': 12, 'bule': 3}\n",
    "increments = [\n",
    "    ('red', 5),\n",
    "    ('blue', 17),\n",
    "    ('orange', 9)\n",
    "]\n",
    "\n",
    "\n",
    "def increment_with_report(current, increments):\n",
    "    added_count = 0\n",
    "    \n",
    "    def missing():\n",
    "        nonlocal added_count\n",
    "        added_count += 1\n",
    "        return 0\n",
    "    \n",
    "    result = defaultdict(missing, current)\n",
    "    for key, amount in increments:\n",
    "        result[key] += amount\n",
    "        \n",
    "    return result, added_count\n",
    "\n",
    "result, count = increment_with_report(current, increments)\n",
    "assert count == 3\n"
   ]
  },
  {
   "cell_type": "code",
   "execution_count": 9,
   "metadata": {
    "collapsed": false,
    "deletable": true,
    "editable": true
   },
   "outputs": [
    {
     "name": "stdout",
     "output_type": "stream",
     "text": [
      "{'blue': 17, 'orange': 9, 'red': 5, 'bule': 3, 'green': 12}\n",
      "3\n"
     ]
    }
   ],
   "source": [
    "from collections import defaultdict\n",
    "\n",
    "\n",
    "current = {'green': 12, 'bule': 3}\n",
    "increments = [\n",
    "    ('red', 5),\n",
    "    ('blue', 17),\n",
    "    ('orange', 9)\n",
    "]\n",
    "\n",
    "\n",
    "class CountMissing(object):\n",
    "    def __init__(self):\n",
    "        self.count = 0\n",
    "        \n",
    "    def missing(self):\n",
    "        self.count += 1\n",
    "        return 0\n",
    "    \n",
    "count = CountMissing()\n",
    "result = defaultdict(count.missing, current)\n",
    "for key, amount in increments:\n",
    "    result[key] += amount\n",
    "print(dict(result))\n",
    "print(count.count)"
   ]
  },
  {
   "cell_type": "code",
   "execution_count": 13,
   "metadata": {
    "collapsed": false,
    "deletable": true,
    "editable": true
   },
   "outputs": [
    {
     "name": "stdout",
     "output_type": "stream",
     "text": [
      "0\n",
      "{'blue': 17, 'orange': 9, 'red': 5, 'bule': 3, 'green': 12}\n"
     ]
    }
   ],
   "source": [
    "from collections import defaultdict\n",
    "\n",
    "\n",
    "current = {'green': 12, 'bule': 3}\n",
    "increments = [\n",
    "    ('red', 5),\n",
    "    ('blue', 17),\n",
    "    ('orange', 9)\n",
    "]\n",
    "\n",
    "\n",
    "class BetterCountMissing(object):\n",
    "    def __init__(self):\n",
    "        self.count = 1\n",
    "        \n",
    "    def __call__(self):\n",
    "        self.count += 1\n",
    "        return 0\n",
    "    \n",
    "count = BetterCountMissing()\n",
    "print(count())\n",
    "assert callable(count)\n",
    "\n",
    "result = defaultdict(count, current)\n",
    "for key, amount in increments:\n",
    "    result[key] += amount\n",
    "\n",
    "print(dict(result))\n"
   ]
  },
  {
   "cell_type": "code",
   "execution_count": 2,
   "metadata": {
    "collapsed": false,
    "deletable": true,
    "editable": true
   },
   "outputs": [
    {
     "name": "stdout",
     "output_type": "stream",
     "text": [
      "58\n",
      "18939\n",
      "\n",
      "There are 1960 lines\n"
     ]
    }
   ],
   "source": [
    "# cofing=utf-8\n",
    "import os\n",
    "from tempfile import TemporaryDirectory\n",
    "import tempfile\n",
    "from threading import Thread\n",
    "\n",
    "\n",
    "class InputData(object):\n",
    "    def read(self):\n",
    "        raise NotImplementedError\n",
    "\n",
    "\n",
    "class PathInputData(object):\n",
    "    def __init__(self, path):\n",
    "        super().__init__()\n",
    "        self.path = path\n",
    "\n",
    "    def read(self):\n",
    "        return open(self.path, encoding=\"utf8\").read()\n",
    "\n",
    "\n",
    "class Worker(object):\n",
    "    def __init__(self, input_data):\n",
    "        self.input_data = input_data\n",
    "        self.result = None\n",
    "\n",
    "    def map(self):\n",
    "        raise NotImplementedError\n",
    "\n",
    "    def reduce(self):\n",
    "        raise NotImplementedError\n",
    "\n",
    "\n",
    "class LineCountWorker(Worker):\n",
    "    def map(self):\n",
    "        data = self.input_data.read()\n",
    "        self.result = data.count(\"\\n\")\n",
    "        print(self.result)\n",
    "\n",
    "    def reduce(self, other):\n",
    "        self.result += other.result\n",
    "\n",
    "\n",
    "def generate_inputs(data_dir):\n",
    "    for name in os.listdir(data_dir):\n",
    "        if name.endswith(\"txt\"):\n",
    "            # print(os.path.join(data_dir, name))\n",
    "            yield PathInputData(os.path.join(data_dir, name))\n",
    "\n",
    "\n",
    "def creata_workers(input_list):\n",
    "    workers = []\n",
    "    for input_data in input_list:\n",
    "        workers.append(LineCountWorker(input_data))\n",
    "    return workers\n",
    "\n",
    "\n",
    "def execute(workers):\n",
    "    threads = [Thread(target=w.map) for w in workers]\n",
    "    for thread in threads:\n",
    "        thread.start()\n",
    "    for thread in threads:\n",
    "        thread.join()\n",
    "\n",
    "    first, rest = workers[0], workers[1:]\n",
    "    for worker in rest:\n",
    "        first.reduce(worker)\n",
    "    return first.result\n",
    "\n",
    "\n",
    "def mapreduce(data_dir):\n",
    "    input_list = generate_inputs(data_dir)\n",
    "    workers = creata_workers(input_list)\n",
    "    return execute(workers)\n",
    "\n",
    "\n",
    "with TemporaryDirectory() as tmpdir:\n",
    "    # tmpdir = r\"C:\\Users\\zxc\\AppData\\Local\\Temp\\tPyUxDiMxXjRiNmX\"\n",
    "    tmpdir = r\"F:\\Coding.net\\test\\jieba_wordcloud\"\n",
    "    result = mapreduce(tmpdir)\n",
    "\n",
    "print(\"There are\", result, \"lines\")"
   ]
  },
  {
   "cell_type": "code",
   "execution_count": 8,
   "metadata": {
    "collapsed": false,
    "deletable": true,
    "editable": true
   },
   "outputs": [
    {
     "name": "stdout",
     "output_type": "stream",
     "text": [
      "58\n",
      "9\n",
      "1893\n",
      "There are 1960 lines\n"
     ]
    }
   ],
   "source": [
    "import os\n",
    "from threading import Thread\n",
    "\n",
    "\n",
    "class GenericInputData(object):\n",
    "    def __init__(self, path):\n",
    "        super().__init__()\n",
    "        self.path = path\n",
    "\n",
    "    def read(self):\n",
    "        raise NotImplementedError\n",
    "\n",
    "    @classmethod\n",
    "    def generic_input(cls, config):\n",
    "        raise NotImplementedError\n",
    "\n",
    "\n",
    "class PathInputData(GenericInputData):\n",
    "    def read(self):\n",
    "        return open(self.path, encoding=\"utf8\").read()\n",
    "\n",
    "    @classmethod\n",
    "    def generic_input(cls, config):\n",
    "        for name in os.listdir(config):\n",
    "            if name.endswith(\".txt\"):\n",
    "                yield cls(os.path.join(config, name))\n",
    "\n",
    "\n",
    "class GenericWorker(object):\n",
    "    def __init__(self, input_data):\n",
    "        self.input_data = input_data\n",
    "        self.result = None\n",
    "\n",
    "    def map(self):\n",
    "        raise NotImplementedError\n",
    "\n",
    "    def reduce(self):\n",
    "        raise NotImplementedError\n",
    "\n",
    "    @classmethod\n",
    "    def create_workers(cls, input_class, config):\n",
    "        workers = []\n",
    "        for input_data in input_class.generic_input(config):\n",
    "            workers.append(cls(input_data))\n",
    "        return workers\n",
    "\n",
    "\n",
    "class LineCountWorker(GenericWorker):\n",
    "    def map(self):\n",
    "        data = self.input_data.read()\n",
    "        self.result = data.count(\"\\n\")\n",
    "        print(self.result)\n",
    "\n",
    "    def reduce(self, other):\n",
    "        self.result += other.result\n",
    "\n",
    "\n",
    "def execute(workers):\n",
    "    threads = [Thread(target=w.map) for w in workers]\n",
    "    for thread in threads:\n",
    "        thread.start()\n",
    "    for thread in threads:\n",
    "        thread.join()\n",
    "\n",
    "    first, rest = workers[0], workers[1:]\n",
    "    for worker in rest:\n",
    "        first.reduce(worker)\n",
    "    return first.result\n",
    "\n",
    "\n",
    "def mapreduce(worker_class, input_class, config):\n",
    "    workers = worker_class.create_workers(input_class, config)\n",
    "    return execute(workers)\n",
    "\n",
    "\n",
    "tmpdir = r\"F:\\Coding.net\\test\\jieba_wordcloud\"\n",
    "result = mapreduce(LineCountWorker, PathInputData, tmpdir)\n",
    "\n",
    "print(\"There are\", result, \"lines\")\n"
   ]
  },
  {
   "cell_type": "code",
   "execution_count": 1,
   "metadata": {
    "collapsed": false,
    "deletable": true,
    "editable": true
   },
   "outputs": [
    {
     "name": "stdout",
     "output_type": "stream",
     "text": [
      "C:\\Users\\zxc\\AppData\\Local\\Temp\\tmp2kejubi4\n",
      ".git\n",
      ".gitignore\n",
      ".ipynb_checkpoints\n",
      "cafe.txt\n",
      "Design Patterns.ipynb\n",
      "Effective Python.ipynb\n",
      "Fluent Python.ipynb\n",
      "Numpy .ipynb\n",
      "Practice——Python2.ipynb\n",
      "Practice——Python3.ipynb\n",
      "PythonSheets.ipynb\n",
      "README.md\n",
      "sqlalchemy.ipynb\n",
      "test.ipynb\n",
      "Test——Python2.ipynb\n",
      "WebDevelop.ipynb\n",
      "123\n"
     ]
    }
   ],
   "source": [
    "import os\n",
    "from tempfile import TemporaryDirectory\n",
    "\n",
    "\n",
    "with TemporaryDirectory() as tmpdir:\n",
    "    print(tmpdir)\n",
    "    for name in os.listdir(os.path.curdir):\n",
    "        print(name)\n",
    "    else:\n",
    "        print(123)"
   ]
  },
  {
   "cell_type": "code",
   "execution_count": 14,
   "metadata": {
    "collapsed": false,
    "deletable": true,
    "editable": true
   },
   "outputs": [
    {
     "name": "stdout",
     "output_type": "stream",
     "text": [
      "9\n",
      "9\n",
      "7\n",
      "6\n",
      "[<class '__main__.ThisWay'>,\n",
      " <class '__main__.TimesFive'>,\n",
      " <class '__main__.PlusTwo'>,\n",
      " <class '__main__.MyBaseClass'>,\n",
      " <class 'object'>]\n",
      "35\n",
      "[<class '__main__.SuperWay'>,\n",
      " <class '__main__.TimesFiveCorrect'>,\n",
      " <class '__main__.PlusTwoCorrect'>,\n",
      " <class '__main__.MyBaseClass'>,\n",
      " <class 'object'>]\n"
     ]
    }
   ],
   "source": [
    "from pprint import pprint\n",
    "\n",
    "class MyBaseClass(object):\n",
    "    def __init__(self, value):\n",
    "        self.value = value\n",
    "\n",
    "class TimesTwo(object):\n",
    "    def __init__(self, value):\n",
    "        self.value *= 2\n",
    "    \n",
    "class PlusFive(object):\n",
    "    def __init__(self, value):\n",
    "        self.value += 5\n",
    "        \n",
    "class FirstWay(MyBaseClass, TimesTwo, PlusFive):\n",
    "    def __init__(self, value):\n",
    "        MyBaseClass.__init__(self, value)\n",
    "        TimesTwo.__init__(self, value)\n",
    "        PlusFive.__init__(self, value)\n",
    "class SecondWay(MyBaseClass, PlusFive, TimesTwo):\n",
    "    def __init__(self, value):\n",
    "        MyBaseClass.__init__(self, value)\n",
    "        TimesTwo.__init__(self, value)\n",
    "        PlusFive.__init__(self, value)\n",
    "        \n",
    "        \n",
    "class TimesFive(MyBaseClass):\n",
    "    def __init__(self, value):\n",
    "        MyBaseClass.__init__(self, value)\n",
    "        self.value *= 5\n",
    "        \n",
    "class TimesFiveCorrect(MyBaseClass):\n",
    "    def __init__(self, value):\n",
    "        super(TimesFiveCorrect, self).__init__(value)\n",
    "        self.value *= 5\n",
    "        \n",
    "class PlusTwo(MyBaseClass):\n",
    "    def __init__(self, value):\n",
    "        MyBaseClass.__init__(self, value)\n",
    "        self.value += 2\n",
    "\n",
    "class PlusTwoCorrect(MyBaseClass):\n",
    "    def __init__(self, value):\n",
    "#         super(PlusTwoCorrect, self).__init__(value)\n",
    "        super(__class__, self).__init__(value)\n",
    "        self.value += 2\n",
    "        \n",
    "class ThisWay(TimesFive, PlusTwo):\n",
    "    def __init__(self, value):\n",
    "        TimesFive.__init__(self, value)\n",
    "        PlusTwo.__init__(self, value)\n",
    "\n",
    "class SuperWay(TimesFiveCorrect, PlusTwoCorrect):\n",
    "    def __init__(self, value):\n",
    "#         super(SuperWay, self).__init__(value)\n",
    "        super().__init__(value)\n",
    "        \n",
    "fw = FirstWay(2)\n",
    "print(fw.value)\n",
    "sw = SecondWay(2)\n",
    "print(sw.value)\n",
    "tw = ThisWay(5)\n",
    "print(tw.value)\n",
    "tw = ThisWay(4)\n",
    "\n",
    "print(tw.value)\n",
    "pprint(ThisWay.mro())\n",
    "# 因为是菱形继承，会将value值初始化两次\n",
    "\n",
    "sw = SuperWay(5)\n",
    "print(sw.value)\n",
    "pprint(SuperWay.mro())\n",
    "# 5*(5+2) = 35"
   ]
  },
  {
   "cell_type": "code",
   "execution_count": 17,
   "metadata": {
    "collapsed": false,
    "deletable": true,
    "editable": true
   },
   "outputs": [
    {
     "name": "stdout",
     "output_type": "stream",
     "text": [
      "{'_MyOtherObject__private_value': 5}\n",
      "5\n"
     ]
    }
   ],
   "source": [
    "class MyOtherObject(object):\n",
    "    def __init__(self):\n",
    "         self.__private_value = 5\n",
    "            \n",
    "    @classmethod\n",
    "    def get_private_from_instance(cls, instance):\n",
    "        return instance.__private_value\n",
    "    \n",
    "a = MyOtherObject()\n",
    "print(a.__dict__)\n",
    "print(MyOtherObject.get_private_from_instance(a))\n",
    "assert MyOtherObject.get_private_from_instance(a) == 5"
   ]
  },
  {
   "cell_type": "code",
   "execution_count": 29,
   "metadata": {
    "collapsed": false,
    "deletable": true,
    "editable": true
   },
   "outputs": [
    {
     "name": "stdout",
     "output_type": "stream",
     "text": [
      "10\n",
      "15\n"
     ]
    }
   ],
   "source": [
    "class MyClass:\n",
    "    def __init__(self, value):\n",
    "        self.__value = value\n",
    "        \n",
    "    def get_value(self):\n",
    "        return str(self.__value)\n",
    "    \n",
    "class MySubClass(MyClass):\n",
    "    def get_value(self):\n",
    "        return self._MyClass__value\n",
    "\n",
    "mc = MyClass(10)    \n",
    "print(mc.get_value())\n",
    "foo = MySubClass(15)\n",
    "print(foo.get_value())"
   ]
  },
  {
   "cell_type": "code",
   "execution_count": 34,
   "metadata": {
    "collapsed": false,
    "deletable": true,
    "editable": true
   },
   "outputs": [
    {
     "name": "stdout",
     "output_type": "stream",
     "text": [
      "{'b': 2, 'a': 3, 'c': 1}\n"
     ]
    }
   ],
   "source": [
    "class FrequencyList(list):\n",
    "    def __init__(self, members):\n",
    "        super().__init__(members)\n",
    "    def frequency(self):\n",
    "        counts = {}\n",
    "        for item in self:\n",
    "            counts.setdefault(item, 0)\n",
    "            counts[item] += 1\n",
    "        return counts\n",
    "\n",
    "a = 'a'\n",
    "b = 'b'\n",
    "c = 'c'\n",
    "members = [a, a, a, b, b, c]\n",
    "print(FrequencyList(members).frequency())\n"
   ]
  },
  {
   "cell_type": "code",
   "execution_count": 2,
   "metadata": {
    "collapsed": false,
    "deletable": true,
    "editable": true
   },
   "outputs": [
    {
     "name": "stdout",
     "output_type": "stream",
     "text": [
      "Before: {'_exists': 5}\n",
      "After: {'foo': 'Value for foo', '_exists': 5}\n",
      "Called __getattribute__ __dict__\n",
      "Before: {'_exists': 5}\n",
      "Called __getattribute__ foo\n",
      "Not have this value\n",
      "foo: Value for foo\n",
      "Called __getattribute__ foo\n",
      "foo: Value for foo\n",
      "Called __getattribute__ foo\n",
      "foo: Value for foo\n",
      "Called __getattribute__ __dict__\n",
      "After: {'foo': 'Value for foo', '_exists': 5}\n",
      "--------------------------------------------------------------------------------\n",
      "Called __getattribute__ __dict__\n",
      "Before: {}\n",
      "Called __getattribute__ foo\n",
      "Not have this value\n",
      "foo: Value for foo\n",
      "Called __getattribute__ foo\n",
      "foo: Value for foo\n",
      "Called __getattribute__ __dict__\n",
      "After: {'foo': 'Value for foo'}\n",
      "--------------------------------------------------------------------------------\n",
      "Before: {}\n",
      "Called __setattr__ data5\n",
      "After: {'data': 5}\n",
      "Called __setattr__ data10\n",
      "After: {'data': 10}\n"
     ]
    }
   ],
   "source": [
    "class TestGetattr(object):\n",
    "    def __init__(self):\n",
    "        self._exists = 5\n",
    "\n",
    "    def __getattr__(self, name):\n",
    "        value = \"Value for {}\".format(name)\n",
    "        setattr(self, name, value)\n",
    "        return value\n",
    "\n",
    "tg = TestGetattr()\n",
    "print(\"Before:\", tg.__dict__)\n",
    "tg.foo\n",
    "print(\"After:\", tg.__dict__)\n",
    "\n",
    "\n",
    "class TestGetattrSub(TestGetattr):\n",
    "    # def __getattr__(self, name):\n",
    "    #     print(\"Called __getattr__ {}\".format(name))\n",
    "    #     return super(TestGetattrSub, self).__getattr__(name)\n",
    "\n",
    "    def __getattribute__(self, name):\n",
    "        print(\"Called __getattribute__ {}\".format(name))\n",
    "        try:\n",
    "            return super(TestGetattrSub, self).__getattribute__(name)\n",
    "        except AttributeError:\n",
    "            print(\"Not have this value\")\n",
    "            value = \"Value for {}\".format(name)\n",
    "            setattr(self, name, value)\n",
    "            return value\n",
    "\n",
    "\n",
    "class TestGetattrClass(object):\n",
    "    def __getattr__(self, name):\n",
    "        print(\"Called __getattr__ {}\".format(name))\n",
    "        return super(TestGetattrClass, self).__getattr__(name)\n",
    "\n",
    "    def __getattribute__(self, name):\n",
    "        print(\"Called __getattribute__ {}\".format(name))\n",
    "        try:\n",
    "            return super(TestGetattrClass, self).__getattribute__(name)\n",
    "        except AttributeError:\n",
    "            print(\"Not have this value\")\n",
    "            value = \"Value for {}\".format(name)\n",
    "            setattr(self, name, value)\n",
    "            return value\n",
    "\n",
    "\n",
    "class TestSetattrClass():\n",
    "    def __setattr__(self, name, value):\n",
    "        print(\"Called __setattr__ {}{}\".format(name, value))\n",
    "        super(TestSetattrClass, self).__setattr__(name, value)\n",
    "\n",
    "\n",
    "tgs = TestGetattrSub()\n",
    "print(\"Before:\", tgs.__dict__)\n",
    "print(\"foo:\", tgs.foo)  # 第一次访问是不存在，然后会调用__getattr__\n",
    "print(\"foo:\", tgs.foo)  # 第二次访问是，因为已经存在于__dict__中了\n",
    "print(\"foo:\", tgs.foo)\n",
    "print(\"After:\", tgs.__dict__)\n",
    "print(\"--\"*40)\n",
    "tgc = TestGetattrClass()\n",
    "print(\"Before:\", tgc.__dict__)\n",
    "print(\"foo:\", tgc.foo)\n",
    "print(\"foo:\", tgc.foo)\n",
    "print(\"After:\", tgc.__dict__)\n",
    "print(\"--\"*40)\n",
    "tsc = TestSetattrClass()\n",
    "print(\"Before:\", tsc.__dict__)\n",
    "tsc.data = 5\n",
    "print(\"After:\", tsc.__dict__)\n",
    "tsc.data = 10\n",
    "print(\"After:\", tsc.__dict__)\n"
   ]
  },
  {
   "cell_type": "markdown",
   "metadata": {
    "collapsed": true,
    "deletable": true,
    "editable": true
   },
   "source": [
    "#  第33条：用元类来验证子类"
   ]
  },
  {
   "cell_type": "code",
   "execution_count": 4,
   "metadata": {
    "collapsed": false,
    "deletable": true,
    "editable": true
   },
   "outputs": [
    {
     "name": "stdout",
     "output_type": "stream",
     "text": [
      "<class '__main__.Meta'> MyClass (<class 'object'>,) {'foo': <function MyClass.foo at 0x0000000004B60E18>, 'stuff': 123, '__module__': '__main__', '__qualname__': 'MyClass'}\n"
     ]
    }
   ],
   "source": [
    "class Meta(type):\n",
    "    def __new__(meta, name, bases, class_dict):\n",
    "        print(meta, name, bases, class_dict)\n",
    "        return type.__new__(meta, name, bases, class_dict)\n",
    "    \n",
    "class MyClass(object, metaclass=Meta):\n",
    "    stuff = 123\n",
    "    \n",
    "    def foo(self):\n",
    "        pass\n",
    "    \n",
    "class MyClassPython2(object):\n",
    "    __metaclass__ = Meta\n",
    "    \n",
    "    def foo(self):\n",
    "        pass\n",
    "        "
   ]
  },
  {
   "cell_type": "code",
   "execution_count": 9,
   "metadata": {
    "collapsed": false,
    "deletable": true,
    "editable": true
   },
   "outputs": [
    {
     "name": "stdout",
     "output_type": "stream",
     "text": [
      "180\n"
     ]
    }
   ],
   "source": [
    "class ValidatePolygon(type):\n",
    "    def __new__(meta, name, bases, class_dict):\n",
    "        if bases != (object,):\n",
    "            if class_dict['sides'] < 3:\n",
    "                raise ValueError(\"Plygons need 3+ sides\")\n",
    "        return type.__new__(meta, name, bases, class_dict)\n",
    "\n",
    "class Ploygon(object, metaclass=ValidatePolygon):\n",
    "    sides = None\n",
    "    \n",
    "    @classmethod\n",
    "    def interior_angles(cls):\n",
    "        return (cls.sides - 2) * 180\n",
    "    \n",
    "class Triangle(Ploygon):\n",
    "    sides = 3\n",
    "print(Triangle.interior_angles())\n",
    "\n",
    "\n",
    "# class Line(Ploygon):\n",
    "#     print(\"Before sides\")\n",
    "#     sides = 1\n",
    "#     print(\"After sides\")\n",
    "#     print(\"After class\")\n",
    "# ValueError: Plygons need 3+ sides\n",
    "\n"
   ]
  },
  {
   "cell_type": "markdown",
   "metadata": {
    "deletable": true,
    "editable": true
   },
   "source": [
    "# 第34条：用元类来注册子类"
   ]
  },
  {
   "cell_type": "code",
   "execution_count": 16,
   "metadata": {
    "collapsed": false,
    "deletable": true,
    "editable": true
   },
   "outputs": [
    {
     "name": "stdout",
     "output_type": "stream",
     "text": [
      "Before:   <__main__.Vector3D object at 0x0000000004C57FD0>\n",
      "Serialized:   {\"args\": [10, -7, 3], \"class\": \"Vector3D\"}\n",
      "After:   <__main__.Vector3D object at 0x0000000004C49320>\n"
     ]
    }
   ],
   "source": [
    "import simplejson as json\n",
    "\n",
    "\n",
    "registry = {}\n",
    "def registry_class(target_class):\n",
    "    registry[target_class.__name__] = target_class\n",
    "    \n",
    "def deserializable(data):\n",
    "    params = json.loads(data)\n",
    "    name = params['class']\n",
    "    target_class = registry[name]\n",
    "    return target_class(*params[\"args\"])\n",
    "\n",
    "class Meta(type):\n",
    "    def __new__(meta, name, bases, class_dict):\n",
    "        cls = type.__new__(meta, name, bases, class_dict)\n",
    "        registry_class(cls)\n",
    "        return cls\n",
    "\n",
    "class Serializable(object):\n",
    "    def __init__(self, *args):\n",
    "        self.args = args\n",
    "\n",
    "    def serializable(self):\n",
    "        return json.dumps(\n",
    "        {\n",
    "            \"class\": self.__class__.__name__,\n",
    "            \"args\": self.args\n",
    "        })\n",
    "    \n",
    "class Registeredserializable(Serializable, metaclass=Meta):\n",
    "    pass\n",
    "\n",
    "\n",
    "class Vector3D(Registeredserializable):\n",
    "    def __init__(self, x, y, z):\n",
    "        super().__init__(x, y, z)\n",
    "        self.x, self.y, self.z = x, y, z\n",
    "        \n",
    "v3 = Vector3D(10, -7, 3)\n",
    "print(\"Before:  \", v3)\n",
    "data = v3.serializable()\n",
    "print(\"Serialized:  \", data)\n",
    "print(\"After:  \", deserializable(data))"
   ]
  },
  {
   "cell_type": "markdown",
   "metadata": {
    "collapsed": true,
    "deletable": true,
    "editable": true
   },
   "source": [
    "# 第40条：考虑用协程来并发地运行多个函数"
   ]
  },
  {
   "cell_type": "code",
   "execution_count": 1,
   "metadata": {
    "collapsed": false,
    "deletable": true,
    "editable": true
   },
   "outputs": [
    {
     "name": "stdout",
     "output_type": "stream",
     "text": [
      "Received:  First\n",
      "Received:  Second\n"
     ]
    }
   ],
   "source": [
    "def my_coroutine():\n",
    "    while True:\n",
    "        received = yield\n",
    "        print(\"Received: \", received)\n",
    "        \n",
    "it = my_coroutine()\n",
    "it.send(None)\n",
    "it.send('First')\n",
    "it.send('Second')\n"
   ]
  },
  {
   "cell_type": "code",
   "execution_count": 7,
   "metadata": {
    "collapsed": false,
    "deletable": true,
    "editable": true
   },
   "outputs": [
    {
     "name": "stdout",
     "output_type": "stream",
     "text": [
      "['A', 1, 2, 'B']\n",
      "['A', 1, 2, 'B']\n"
     ]
    }
   ],
   "source": [
    "def delegated():\n",
    "    yield 1\n",
    "    yield 2\n",
    "    \n",
    "def composed():\n",
    "    yield 'A'\n",
    "    # python2 usage\n",
    "    for value in delegated():\n",
    "        yield value\n",
    "    yield 'B'\n",
    "    \n",
    "def another_composed():\n",
    "    yield 'A'\n",
    "    # python3 usage\n",
    "    yield from delegated()\n",
    "    yield 'B'\n",
    "\n",
    "print(list(composed()))\n",
    "print(list(another_composed()))\n",
    "# print()"
   ]
  },
  {
   "cell_type": "code",
   "execution_count": 1,
   "metadata": {
    "collapsed": false,
    "deletable": true,
    "editable": true
   },
   "outputs": [
    {
     "name": "stdout",
     "output_type": "stream",
     "text": [
      "[1, 4]\n"
     ]
    }
   ],
   "source": [
    "class MyReturn(Exception):\n",
    "    def __init__(self, value):\n",
    "        self._value = value\n",
    "        \n",
    "def delegated():\n",
    "    yield 1\n",
    "    raise MyReturn(2)\n",
    "    yield 2\n",
    "    \n",
    "def composed():\n",
    "    try:\n",
    "        for value in delegated():\n",
    "            yield value\n",
    "    except MyReturn as e:\n",
    "        output = e._value\n",
    "    yield output*2 \n",
    "\n",
    "print(list(composed()))"
   ]
  },
  {
   "cell_type": "markdown",
   "metadata": {
    "deletable": true,
    "editable": true
   },
   "source": [
    "\n",
    "# 第41条：考虑用concurrent.futures来实现真正的平行计算"
   ]
  },
  {
   "cell_type": "code",
   "execution_count": null,
   "metadata": {
    "collapsed": false,
    "deletable": true,
    "editable": true
   },
   "outputs": [],
   "source": [
    "from time import time\n",
    "from concurrent.futures import ThreadPoolExecutor, ProcessPoolExecutor\n",
    "from multiprocessing import Process as pro, Pool as ProPool\n",
    "from multiprocessing.dummy import Process as thr, Pool as ThrPool\n",
    "from multiprocessing import freeze_support\n",
    "\n",
    "\n",
    "def get_cp(pair):\n",
    "    a, b = pair\n",
    "    low = min(a, b)\n",
    "    for i in range(low, 0, -1):\n",
    "        if a % i == 0 and b % i == 0:\n",
    "            return i\n",
    "\n",
    "numbers = [(196330, 2265973), (2030677, 3814172),\n",
    "           (1551645, 2229620), (2039045, 2020802)]\n",
    "\n",
    "if __name__ == \"__main__\":\n",
    "    freeze_support()\n",
    "\n",
    "    start = time()\n",
    "    result = list(map(get_cp, numbers))\n",
    "    end = time()\n",
    "    print(\"Cost time: {:.5f}\".format(end - start))\n",
    "\n",
    "    # process_list = []\n",
    "    # start = time()\n",
    "    # for number in numbers:\n",
    "    #     p = pro(target=get_cp, args=number)\n",
    "    #     p.start()\n",
    "    #     process_list.append(p)\n",
    "    # for process in process_list:\n",
    "    #     process.join()\n",
    "    # end = time()\n",
    "    # print(\"Cost time: {:.5f}\".format(end - start))\n",
    "\n",
    "    # thread_list = []\n",
    "    # start = time()\n",
    "    # for number in numbers:\n",
    "    #     p = pro(target=get_cp, args=number)\n",
    "    #     p.start()\n",
    "    #     thread_list.append(p)\n",
    "    # for thread in thread_list:\n",
    "    #     thread.join()\n",
    "    # end = time()\n",
    "    # print(\"Cost time: {:.5f}\".format(end - start))\n",
    "\n",
    "    start = time()\n",
    "    pool = ProPool(4)\n",
    "    result = list(pool.map(get_cp, numbers))\n",
    "    pool.close()\n",
    "    pool.join()\n",
    "    end = time()\n",
    "    print(\"Cost time: {:.5f}\".format(end - start))\n",
    "\n",
    "    start = time()\n",
    "    pool = ThrPool(4)\n",
    "    result = list(pool.map(get_cp, numbers))\n",
    "    pool.close()\n",
    "    pool.join()\n",
    "    end = time()\n",
    "    print(\"Cost time: {:.5f}\".format(end - start))\n",
    "\n",
    "    start = time()\n",
    "    pool = ThreadPoolExecutor(max_workers=4)\n",
    "    result = list(pool.map(get_cp, numbers))\n",
    "    end = time()\n",
    "    print(\"Cost time: {:.5f}\".format(end - start))\n",
    "\n",
    "    start = time()\n",
    "    pool = ProcessPoolExecutor(max_workers=4)\n",
    "    result = list(pool.map(get_cp, numbers))\n",
    "    end = time()\n",
    "    print(\"Cost time: {:.5f}\".format(end - start))\n"
   ]
  },
  {
   "cell_type": "code",
   "execution_count": 1,
   "metadata": {
    "collapsed": false,
    "deletable": true,
    "editable": true
   },
   "outputs": [
    {
     "name": "stdout",
     "output_type": "stream",
     "text": [
      "(196330, 2265973)\n",
      "(2030677, 3814172)\n",
      "(1551645, 2229620)\n",
      "(2039045, 2020802)\n",
      "(15523645, 22234920)\n",
      "(20393405, 2020232)\n"
     ]
    }
   ],
   "source": [
    "\n",
    "numbers = [(196330, 2265973), (2030677, 3814172),\n",
    "           (1551645, 2229620), (2039045, 2020802),\n",
    "           (15523645, 22234920), (20393405, 2020232)]\n",
    "for number in numbers:\n",
    "    print(number)"
   ]
  },
  {
   "cell_type": "markdown",
   "metadata": {
    "deletable": true,
    "editable": true
   },
   "source": [
    "# 第47条：在重视精确度的场合，应该使用decimal"
   ]
  },
  {
   "cell_type": "code",
   "execution_count": 8,
   "metadata": {
    "collapsed": false,
    "deletable": true,
    "editable": true
   },
   "outputs": [
    {
     "name": "stdout",
     "output_type": "stream",
     "text": [
      "5.365\n",
      "5.37\n",
      "5.36\n"
     ]
    }
   ],
   "source": [
    "from decimal import Decimal, ROUND_UP, ROUND_DOWN\n",
    "rate = Decimal('1.45')\n",
    "seconds = Decimal(str(3*60+42))\n",
    "cost = rate * seconds / Decimal('60')\n",
    "print(cost)\n",
    "rounded_up = cost.quantize(Decimal('0.01'), rounding=ROUND_UP)\n",
    "rounded_down = cost.quantize(Decimal('0.01'), rounding=ROUND_DOWN)\n",
    "# cost.quantize??\n",
    "print(rounded_up)\n",
    "print(rounded_down)"
   ]
  },
  {
   "cell_type": "code",
   "execution_count": 18,
   "metadata": {
    "collapsed": false,
    "deletable": true,
    "editable": true
   },
   "outputs": [
    {
     "name": "stdout",
     "output_type": "stream",
     "text": [
      "6\n",
      "6\n"
     ]
    }
   ],
   "source": [
    "s = \"abc123abc456\"\n",
    "print(s.find('abc', 4))\n",
    "\n",
    "from operator import methodcaller\n",
    "print(methodcaller('find','abc',4)(s))"
   ]
  },
  {
   "cell_type": "code",
   "execution_count": 30,
   "metadata": {
    "collapsed": false
   },
   "outputs": [
    {
     "name": "stdout",
     "output_type": "stream",
     "text": [
      "[6.0, 78.5, 12]\n",
      "6.0\n",
      "78.5\n",
      "12\n"
     ]
    }
   ],
   "source": [
    "class Circle:\n",
    "    def __init__(self, r):\n",
    "        self._r = r\n",
    "        \n",
    "    def get_area(self):\n",
    "        return self._r **2*3.14\n",
    "\n",
    "class Rectangle:\n",
    "    def __init__(self, w, h):\n",
    "        self._w = w\n",
    "        self._h = h\n",
    "        \n",
    "    def get_area(self):\n",
    "        return self._w * self._h\n",
    "    \n",
    "class Triangle:\n",
    "    def __init__(self, a, b, c):\n",
    "        self._a = a\n",
    "        self._b = b\n",
    "        self._c = c\n",
    "    \n",
    "    def get_area(self):\n",
    "        a, b, c = self._a, self._b, self._c\n",
    "        p = (a + b + c)/2\n",
    "        area = p*(p-a)*(p-b)*(p-c)\n",
    "        return area**0.5\n",
    "    \n",
    "def Get_Area(shape):\n",
    "    f = getattr(shape, 'get_area', None)\n",
    "    if f:\n",
    "        return f()\n",
    "\n",
    "t = Triangle(3, 4, 5)\n",
    "c = Circle(5)\n",
    "r = Rectangle(3, 4)\n",
    "print(list(map(Get_Area, [t, c, r])))\n",
    "\n",
    "for s in [t, c, r]:\n",
    "    print(getattr(s, 'get_area')())\n",
    "        "
   ]
  },
  {
   "cell_type": "code",
   "execution_count": 41,
   "metadata": {
    "collapsed": false
   },
   "outputs": [
    {
     "name": "stdout",
     "output_type": "stream",
     "text": [
      "zxc\n"
     ]
    }
   ],
   "source": [
    "class Attr:\n",
    "    def __init__(self, name, type_):\n",
    "        self._name = name\n",
    "        self._type = type_\n",
    "    \n",
    "    def __get__(self, instance, owner):\n",
    "        return instance.__dict__[self._name]\n",
    "    \n",
    "    def __set__(self, instance, value):\n",
    "        if not isinstance(value, self._type):\n",
    "            raise TypeError(\"Type isn't except\")\n",
    "        instance.__dict__[self._name] = value\n",
    "    \n",
    "    def __delete__(self, instance):\n",
    "        del instance.__dict__[self._name]\n",
    "        \n",
    "class Person:\n",
    "    name = Attr('name', str)\n",
    "    age = Attr('age', int)\n",
    "    height = Attr('height', float)\n",
    "p = Person()\n",
    "p.name = \"zxc\"\n",
    "print(p.name)"
   ]
  },
  {
   "cell_type": "code",
   "execution_count": 52,
   "metadata": {
    "collapsed": false
   },
   "outputs": [
    {
     "name": "stdout",
     "output_type": "stream",
     "text": [
      "False\n",
      "True\n",
      "False\n"
     ]
    }
   ],
   "source": [
    "from functools import total_ordering\n",
    "import abc\n",
    "\n",
    "@total_ordering\n",
    "class Shape(abc.ABC):\n",
    "#     __metaclass__=abc.ABCMeta\n",
    "    @abc.abstractmethod\n",
    "    def get_area(self):\n",
    "        pass\n",
    "    \n",
    "    def __lt__(self, other):\n",
    "        if not isinstance(other, Shape):\n",
    "            raise TypeError(\"excepted the instance is Shape\")\n",
    "        return self.get_area() < other.get_area()\n",
    "\n",
    "    def __eq__(self, other):\n",
    "        if not isinstance(other, Shape):\n",
    "            raise TypeError(\"excepted the instance is Shape\")\n",
    "        return self.get_area() == other.get_area()\n",
    "\n",
    "class Circle(Shape):\n",
    "    def __init__(self, r):\n",
    "        self._r = r\n",
    "        \n",
    "    def get_area(self):\n",
    "        return self._r **2*3.14\n",
    "\n",
    "class Rectangle(Shape):\n",
    "    def __init__(self, w, h):\n",
    "        self._w = w\n",
    "        self._h = h\n",
    "        \n",
    "    def get_area(self):\n",
    "        return self._w * self._h\n",
    "    \n",
    "class Triangle(Shape):\n",
    "    def __init__(self, a, b, c):\n",
    "        self._a = a\n",
    "        self._b = b\n",
    "        self._c = c\n",
    "    \n",
    "    def get_area(self):\n",
    "        a, b, c = self._a, self._b, self._c\n",
    "        p = (a + b + c)/2\n",
    "        area = p*(p-a)*(p-b)*(p-c)\n",
    "        return area**0.5\n",
    "    \n",
    "t = Triangle(3, 4, 5)\n",
    "c = Circle(5)\n",
    "print(t > c)\n",
    "print(t < c)\n",
    "print(t == c)\n"
   ]
  },
  {
   "cell_type": "code",
   "execution_count": 59,
   "metadata": {
    "collapsed": false
   },
   "outputs": [
    {
     "name": "stdout",
     "output_type": "stream",
     "text": [
      "(1, 6, 3)\n"
     ]
    }
   ],
   "source": [
    "class IntTuple(tuple):\n",
    "    def __new__(cls, iterable):\n",
    "        g = (i for i in iterable if isinstance(i, int) and i >0)\n",
    "#         return super().__new__(cls, iterable)\n",
    "#         return super().__new__(cls, g)\n",
    "        return super(IntTuple, cls).__new__(cls, g)\n",
    "    def __init__(self, iterable):\n",
    "#         super().__init__(iterable)\n",
    "        super(IntTuple, self).__init__()\n",
    "    \n",
    "it = IntTuple([1, -1, 'abc', 6, ['x', 'y'], 3])\n",
    "print(it)"
   ]
  }
 ],
 "metadata": {
  "kernelspec": {
   "display_name": "Python 3",
   "language": "python",
   "name": "python3"
  },
  "language_info": {
   "codemirror_mode": {
    "name": "ipython",
    "version": 3
   },
   "file_extension": ".py",
   "mimetype": "text/x-python",
   "name": "python",
   "nbconvert_exporter": "python",
   "pygments_lexer": "ipython3",
   "version": "3.5.2"
  }
 },
 "nbformat": 4,
 "nbformat_minor": 2
}
