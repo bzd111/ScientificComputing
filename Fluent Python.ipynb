{
 "cells": [
  {
   "cell_type": "code",
   "execution_count": 2,
   "metadata": {},
   "outputs": [
    {
     "data": {
      "text/plain": [
       "52"
      ]
     },
     "execution_count": 2,
     "metadata": {},
     "output_type": "execute_result"
    }
   ],
   "source": [
    "from collections import namedtuple\n",
    "Card = namedtuple(\"Card\",['rank','suit'])\n",
    "class FrenchDeck():\n",
    "    ranks = [str(n) for n in range(2,11)] + list('JQKA')\n",
    "    suits = \"spades dimonds clubs hearts\".split()\n",
    "    def __init__(self):\n",
    "        self._cards=[Card(rank,suit) for rank in self.ranks\n",
    "                                     for suit in self.suits]\n",
    "    def __len__(self):\n",
    "        return len(self._cards)\n",
    "    def __getitem__(self,position):\n",
    "        return self._cards[position]\n",
    "deck = FrenchDeck()\n",
    "len(deck)"
   ]
  },
  {
   "cell_type": "code",
   "execution_count": 2,
   "metadata": {},
   "outputs": [
    {
     "data": {
      "text/plain": [
       "5.0"
      ]
     },
     "execution_count": 2,
     "metadata": {},
     "output_type": "execute_result"
    }
   ],
   "source": [
    "from math import hypot\n",
    "class Vector():\n",
    "    def __init__(self,x,y):\n",
    "        self.x = x \n",
    "        self.y = y \n",
    "    def __abs__(self):\n",
    "        return hypot(self.x,self.y)\n",
    "    def __add__(self,other):\n",
    "        x = self.x + other.x \n",
    "        y = self.y + other.y \n",
    "        return Vector(x,y)\n",
    "    def __repr__(self):\n",
    "        return 'Vector(%r,%r)' %(self.x,self.y)\n",
    "    def __mul__(self,num):\n",
    "        return Vector(self.x*num,self.y*num)\n",
    "    def __str__(self):\n",
    "        return \"Str Vector(%s,%s)\" %(self.x,self.y)\n",
    "    def __bool__(self):\n",
    "        return bool(abs(self))\n",
    "v1 = Vector(2,1)\n",
    "v2 = Vector(2,4)\n",
    "v1*3\n",
    "abs(Vector(-3,4))\n",
    "# bool(Vector(3,4))"
   ]
  },
  {
   "cell_type": "code",
   "execution_count": 10,
   "metadata": {},
   "outputs": [
    {
     "name": "stdout",
     "output_type": "stream",
     "text": [
      "[('black', 'S'), ('black', 'M'), ('black', 'L'), ('white', 'S'), ('white', 'M'), ('white', 'L')]\n",
      "[('black', 'S'), ('white', 'S'), ('black', 'M'), ('white', 'M'), ('black', 'L'), ('white', 'L')]\n",
      "[('black', 'S'), ('black', 'M'), ('black', 'L'), ('white', 'S'), ('white', 'M'), ('white', 'L')]\n"
     ]
    }
   ],
   "source": [
    "colors=['black','white']\n",
    "sizes = ['S','M','L']\n",
    "tshirts = [(color,size) for color in colors for size in sizes ]\n",
    "print(tshirts)\n",
    "\n",
    "tshirts = [(color,size) for size in sizes\n",
    "                        for color in colors]\n",
    "print(tshirts)\n",
    "tshirts = [(color,size) for color in colors \n",
    "                        for size in sizes]\n",
    "print(tshirts)"
   ]
  },
  {
   "cell_type": "code",
   "execution_count": 13,
   "metadata": {
    "collapsed": true
   },
   "outputs": [],
   "source": [
    "import array \n",
    "array.array?"
   ]
  },
  {
   "cell_type": "markdown",
   "metadata": {},
   "source": [
    "#Tuple作为记录"
   ]
  },
  {
   "cell_type": "code",
   "execution_count": 8,
   "metadata": {},
   "outputs": [
    {
     "name": "stdout",
     "output_type": "stream",
     "text": [
      "USA\n",
      "BRA\n",
      "ESP\n",
      "('BRA', 'CE342567')\n",
      "BRA/CE342567\n",
      "('ESP', 'XDA205856')\n",
      "ESP/XDA205856\n",
      "('USA', '31195855')\n",
      "USA/31195855\n"
     ]
    }
   ],
   "source": [
    "traveler_ids = [('USA', '31195855'), ('BRA', 'CE342567'),\n",
    "            ('ESP', 'XDA205856')]\n",
    "for company,_ in traveler_ids:\n",
    "    print(company)\n",
    "for passsport in sorted(traveler_ids):\n",
    "    print(passsport)\n",
    "    print(\"%s/%s\"  %passsport)"
   ]
  },
  {
   "cell_type": "code",
   "execution_count": 11,
   "metadata": {
    "collapsed": true
   },
   "outputs": [],
   "source": [
    "divmod(8,2)#Docstring: Return the tuple (x//y, x%y).  Invariant: div*y + mod == x.\n",
    "import os\n",
    "os.path.split?\n",
    "#Return tuple (head, tail) where tail is everything after the final slash.Either part may be empty."
   ]
  },
  {
   "cell_type": "code",
   "execution_count": 20,
   "metadata": {},
   "outputs": [
    {
     "name": "stdout",
     "output_type": "stream",
     "text": [
      "                   |   lat.    |   long.  \n",
      "   Mexico City     |  19.4333  | -99.1333 \n",
      " New York-Newark   |  40.8086  | -74.0204 \n",
      "    Sao Paulo      | -23.5478  | -46.6358 \n"
     ]
    }
   ],
   "source": [
    "metro_areas = [\n",
    "('Tokyo', 'JP', 36.933, (35.689722, 139.691667)), \n",
    "('Delhi NCR', 'IN', 21.935, (28.613889, 77.208889)),\n",
    "('Mexico City', 'MX', 20.142, (19.433333, -99.133333)),\n",
    "('New York-Newark', 'US', 20.104, (40.808611, -74.020386)),\n",
    "('Sao Paulo', 'BR', 19.649, (-23.547778, -46.635833))]\n",
    "\n",
    "print('{:^18} | {:^9} | {:^9}'.format('', 'lat.', 'long.'))\n",
    "fmt='{:^18} | {:^9.4f} | {:^9.4f}'\n",
    "for name, cc, pop, (latitude, longitude) in metro_areas: \n",
    "    if longitude <= 0: \n",
    "        print(fmt.format(name, latitude, longitude))"
   ]
  },
  {
   "cell_type": "code",
   "execution_count": 15,
   "metadata": {},
   "outputs": [
    {
     "name": "stdout",
     "output_type": "stream",
     "text": [
      "[5, 6, 7, 8, 9, 5, 6, 7, 8, 9] [5, 6, 7, 8, 9, 5, 6, 7, 8, 9]\n",
      "(1, 3, 2, 5, 1, 3, 2, 5) (1, 3, 2, 5, 1, 3, 2, 5, 1, 3, 2, 5)\n",
      "error\n"
     ]
    }
   ],
   "source": [
    "a = (1,3,2,5)\n",
    "b = [5,6,7,8,9]\n",
    "print(b*2,2*b)\n",
    "print(a*2,3*a)\n",
    "try:\n",
    "    assert a*2!=2*a,'error'\n",
    "except AssertionError as e:\n",
    "    print(e)\n"
   ]
  },
  {
   "cell_type": "code",
   "execution_count": 19,
   "metadata": {},
   "outputs": [
    {
     "name": "stdout",
     "output_type": "stream",
     "text": [
      "range(0, 3) [0, 1, 2]\n"
     ]
    }
   ],
   "source": [
    "a = [0,1,2,3,4,5]\n",
    "print(range(3),a[:3])\n",
    "assert a[:3]==list(range(3))"
   ]
  },
  {
   "cell_type": "code",
   "execution_count": 28,
   "metadata": {},
   "outputs": [
    {
     "name": "stdout",
     "output_type": "stream",
     "text": [
      "[0, 1, 2]\n",
      "[[], [], []] -------------- [[], [], []]\n"
     ]
    }
   ],
   "source": [
    "a=[0,1,2,3,4,5]\n",
    "print(a[slice(0,3)])\n",
    "my_list = [[]]*3\n",
    "my_list1 = 3*[[]]\n",
    "print(my_list,'--------------',my_list1)"
   ]
  },
  {
   "cell_type": "code",
   "execution_count": 33,
   "metadata": {},
   "outputs": [
    {
     "name": "stdout",
     "output_type": "stream",
     "text": [
      "[['_', '_', 3], ['_', '_', 3], ['_', '_', 3]]\n",
      "[['_', '_', '_'], ['_', '_', 4], ['_', '_', '_']]\n",
      "[['_', '_', '_'], ['_', '_', 1], ['_', '_', '_']]\n"
     ]
    }
   ],
   "source": [
    "row = ['_'] *3\n",
    "board = []\n",
    "for i in range(3):\n",
    "    board.append(row)\n",
    "board[1][2]=3\n",
    "print(board)\n",
    "board = []\n",
    "for i in range(3):\n",
    "    row = ['_']*3\n",
    "    board.append(row)\n",
    "board[1][2]=4\n",
    "print(board)\n",
    "\n",
    "board = [['_'] *3 for i in range(3)]\n",
    "board[1][2]=1\n",
    "print(board)\n"
   ]
  },
  {
   "cell_type": "code",
   "execution_count": 40,
   "metadata": {},
   "outputs": [
    {
     "name": "stdout",
     "output_type": "stream",
     "text": [
      "['raspberry', 'banana', 'grade', 'apple']\n",
      "['grade', 'apple', 'banana', 'raspberry']\n",
      "['apple', 'banana', 'grade', 'raspberry']\n"
     ]
    }
   ],
   "source": [
    "fruits = ['grade','raspberry','apple','banana']\n",
    "print(sorted(fruits,key=len,reverse=True))\n",
    "#会产生一个新的list\n",
    "print(sorted(fruits,key=len))\n",
    "fruits.sort()\n",
    "print(fruits)\n"
   ]
  },
  {
   "cell_type": "code",
   "execution_count": 1,
   "metadata": {},
   "outputs": [
    {
     "name": "stdout",
     "output_type": "stream",
     "text": [
      "DEMO: bisect\n",
      "haystack ->  1  4  5  6  8 12 15 20 21 23 23 26 29 30\n",
      "31 @ 14  | | | | | | | | | | | | | |31\n",
      "30 @ 14  | | | | | | | | | | | | | |30\n",
      "29 @ 13  | | | | | | | | | | | | |29\n",
      "23 @ 11  | | | | | | | | | | |23\n",
      "22 @  9  | | | | | | | | |22\n",
      "10 @  5  | | | | |10\n",
      " 8 @  5  | | | | |8 \n",
      " 5 @  3  | | |5 \n",
      " 2 @  1  |2 \n",
      " 1 @  1  |1 \n",
      " 0 @  0 0 \n"
     ]
    }
   ],
   "source": [
    "import bisect\n",
    "import sys\n",
    "\n",
    "# bisect.bisect?\n",
    "# bisect.bisect_left?\n",
    "# bisect.bisect_right?\n",
    "\n",
    "HAYSTACK = [1, 4, 5, 6, 8, 12, 15, 20, 21, 23, 23, 26, 29, 30]\n",
    "NEEDLES = [0, 1, 2, 5, 8, 10, 22, 23, 29, 30, 31]\n",
    "ROW_FMT = '{0:2d} @ {1:2d} {2}{0:<2d}'\n",
    "def demo(bisect_fn):\n",
    "    for needle in reversed(NEEDLES):\n",
    "        position = bisect_fn(HAYSTACK, needle)\n",
    "        offset = position * ' |'\n",
    "        print(ROW_FMT.format(needle, position, offset))\n",
    "if __name__ == '__main__':\n",
    "    if sys.argv[-1] == 'left':\n",
    "        bisect_fn = bisect.bisect_left\n",
    "    else:\n",
    "        bisect_fn = bisect.bisect\n",
    "    print('DEMO:', bisect_fn.__name__)\n",
    "    print('haystack ->', ' '.join('%2d' % n for n in HAYSTACK))\n",
    "    demo(bisect_fn)"
   ]
  },
  {
   "cell_type": "code",
   "execution_count": 13,
   "metadata": {},
   "outputs": [
    {
     "name": "stdout",
     "output_type": "stream",
     "text": [
      "---------->insort<------------\n",
      " 4 -> [4]\n",
      " 4 -> [4]\n",
      " 4 -> [4]\n",
      "10 -> [4, 10]\n",
      "10 -> [4, 10]\n",
      "10 -> [4, 10]\n",
      " 3 -> [3, 4, 10]\n",
      " 3 -> [3, 4, 10]\n",
      " 3 -> [3, 4, 10]\n",
      " 0 -> [0, 3, 4, 10]\n",
      " 0 -> [0, 3, 4, 10]\n",
      " 0 -> [0, 3, 4, 10]\n",
      " 5 -> [0, 3, 4, 5, 10]\n",
      " 5 -> [0, 3, 4, 5, 10]\n",
      " 5 -> [0, 3, 4, 5, 10]\n",
      "11 -> [0, 3, 4, 5, 10, 11]\n",
      "11 -> [0, 3, 4, 5, 10, 11]\n",
      "11 -> [0, 3, 4, 5, 10, 11]\n",
      " 4 -> [0, 3, 4, 4, 5, 10, 11]\n",
      " 4 -> [0, 3, 4, 4, 5, 10, 11]\n",
      " 4 -> [0, 3, 4, 4, 5, 10, 11]\n"
     ]
    }
   ],
   "source": [
    "import random\n",
    "import bisect\n",
    "SIZE = 7\n",
    "print(\"---------->insort<------------\")\n",
    "my_list =[]\n",
    "my_list1 =[]\n",
    "my_list2 = []\n",
    "for i in range(SIZE):\n",
    "    item = random.randrange(0,SIZE*2)\n",
    "    bisect.insort(my_list,item)\n",
    "    bisect.insort_left(my_list1,item)\n",
    "    bisect.insort_right(my_list2,item)\n",
    "    print('%2d ->'%item,my_list)\n",
    "    print('%2d ->'%item,my_list1)\n",
    "    print('%2d ->'%item,my_list2)\n",
    "# print(\"---------->left insort<------------\")  \n",
    "# my_list =[]  \n",
    "# for i in range(SIZE):\n",
    "#     item = random.randrange(0,SIZE*2)\n",
    "#     bisect.insort(my_list,item)\n",
    "#     print('%2d ->'%item,my_list)\n",
    "# print(\"---------->right insort<------------\")\n",
    "# my_list =[]   \n",
    "# for i in range(SIZE):\n",
    "#     item = random.randrange(0,SIZE*2)\n",
    "#     bisect.insort(my_list,item)\n",
    "#     print('%2d ->'%item,my_list)\n",
    "    "
   ]
  },
  {
   "cell_type": "code",
   "execution_count": 20,
   "metadata": {},
   "outputs": [
    {
     "name": "stdout",
     "output_type": "stream",
     "text": [
      "0.9408612594591641\n",
      "0.9408612594591641\n"
     ]
    }
   ],
   "source": [
    "from array import array\n",
    "from random import random\n",
    "\n",
    "a = array('d',(random() for i in range(10**7)))\n",
    "print(a[-1])\n",
    "fq = open('array.bin','wb')\n",
    "a.tofile(fq)\n",
    "fq.close()\n",
    "fq = open('array.bin','rb')\n",
    "b = array('d')\n",
    "b.fromfile(fq,10**7)\n",
    "print(b[-1])\n",
    "assert b==a\n",
    "fq.close()"
   ]
  },
  {
   "cell_type": "code",
   "execution_count": 26,
   "metadata": {},
   "outputs": [
    {
     "name": "stdout",
     "output_type": "stream",
     "text": [
      "0.8986433720495802\n",
      "0.15655813292450027\n",
      "0.6553206521356414\n",
      "0.8300877059341463\n",
      "0.7861915841716095\n",
      "0.642759960194282\n",
      "0.44457740099952525\n",
      "0.3113740624712362\n",
      "0.6973048603131765\n",
      "0.2007321803327311\n",
      "<------------------------->\n",
      "1.0193348720655138e-08\n",
      "2.1448897857823113e-07\n",
      "3.4922155656147424e-07\n",
      "4.4310213209719507e-07\n",
      "5.869449142270611e-07\n",
      "8.13918643594036e-07\n",
      "8.688077739460454e-07\n",
      "9.122041497722222e-07\n",
      "1.0113780075649004e-06\n",
      "1.0555902244524518e-06\n"
     ]
    }
   ],
   "source": [
    "for i in range(10):\n",
    "    print(a[i])\n",
    "print(\"<------------------------->\")\n",
    "a = array(a.typecode,sorted(a))\n",
    "for i in range(10):\n",
    "    print(a[i])"
   ]
  },
  {
   "cell_type": "code",
   "execution_count": 32,
   "metadata": {},
   "outputs": [
    {
     "name": "stdout",
     "output_type": "stream",
     "text": [
      "5\n",
      "0\n",
      "[254, 255, 255, 255, 0, 0, 1, 0, 2, 0]\n",
      "array('h', [-2, -1, 1024, 1, 2])\n"
     ]
    }
   ],
   "source": [
    "numbers = array('h',[-2,-1,0,1,2])\n",
    "menv = memoryview(numbers)\n",
    "print(len(menv))\n",
    "print(menv[2])\n",
    "menv.cast?\n",
    "menv_oct = menv.cast('B')\n",
    "print(menv_oct.tolist())\n",
    "menv_oct[5]=4\n",
    "print(numbers)\n"
   ]
  },
  {
   "cell_type": "code",
   "execution_count": 58,
   "metadata": {},
   "outputs": [
    {
     "name": "stdout",
     "output_type": "stream",
     "text": [
      "[ 0  1  2  3  4  5  6  7  8  9 10 11]\n",
      "<class 'numpy.ndarray'>\n",
      "(12,)\n",
      "[[ 0  1  2  3]\n",
      " [ 4  5  6  7]\n",
      " [ 8  9 10 11]]\n",
      "==========\n",
      "[4 5 6 7]\n",
      "6\n",
      "[1 5 9]\n"
     ]
    },
    {
     "data": {
      "text/plain": [
       "array([[ 0,  4,  8],\n",
       "       [ 1,  5,  9],\n",
       "       [ 2,  6, 10],\n",
       "       [ 3,  7, 11]])"
      ]
     },
     "execution_count": 58,
     "metadata": {},
     "output_type": "execute_result"
    }
   ],
   "source": [
    "import numpy\n",
    "a = numpy.arange(12)\n",
    "print(a)\n",
    "print(type(a))\n",
    "print(a.shape)\n",
    "a.shape=3,4\n",
    "print(a)\n",
    "print(\"==========\")\n",
    "print(a[1])\n",
    "print(a[1][2])\n",
    "print(a[:,1])\n",
    "a.transpose()\n",
    "#矩阵倒置"
   ]
  },
  {
   "cell_type": "code",
   "execution_count": 64,
   "metadata": {
    "collapsed": true
   },
   "outputs": [],
   "source": [
    "#coding:utf-8\n",
    "from array import array\n",
    "from random import random\n",
    "a = array('f',(random() for i in range(10**7)))\n",
    "fq = open('array1.txt','wb')\n",
    "a.tofile(fq)"
   ]
  },
  {
   "cell_type": "code",
   "execution_count": 78,
   "metadata": {},
   "outputs": [
    {
     "name": "stdout",
     "output_type": "stream",
     "text": [
      "deque([0, 1, 2, 3, 4, 5, 6, 7, 8, 9], maxlen=10)\n",
      "deque([7, 8, 9, 0, 1, 2, 3, 4, 5, 6], maxlen=10)\n",
      "deque([1, 2, 3, 4, 5, 6, 7, 8, 9, 0], maxlen=10)\n",
      "deque([5, 6, 7, 8, 9, 0, 1, 2, 3, 4], maxlen=10)\n",
      "deque([[1, 2, 3], 5, 6, 7, 8, 9, 0, 1, 2, 3], maxlen=10)\n",
      "deque([5, 6, 7, 8, 9, 0, 1, 2, 3, [2, 3, 4]], maxlen=10)\n",
      "deque([8, 9, 0, 1, 2, 3, [2, 3, 4], 1, 2, 3], maxlen=10)\n",
      "deque([3, 2, 1, 8, 9, 0, 1, 2, 3, [2, 3, 4]], maxlen=10)\n"
     ]
    }
   ],
   "source": [
    "from collections import deque\n",
    "d = deque(range(10),maxlen=10)\n",
    "print(d)\n",
    "d.rotate(3)\n",
    "print(d)\n",
    "d.rotate(-4)\n",
    "print(d)\n",
    "d.rotate(-4)\n",
    "print(d)\n",
    "d.appendleft([1,2,3])\n",
    "print(d)\n",
    "d.append([2,3,4])\n",
    "print(d)\n",
    "d.extend([1,2,3])\n",
    "print(d)\n",
    "d.extendleft([1,2,3])\n",
    "print(d)\n"
   ]
  },
  {
   "cell_type": "markdown",
   "metadata": {},
   "source": [
    "Tuples in Python play two roles: as records with unnamed fields and as immutable lists"
   ]
  },
  {
   "cell_type": "code",
   "execution_count": 81,
   "metadata": {},
   "outputs": [
    {
     "data": {
      "text/plain": [
       "[1, 2, '3', '4', 5]"
      ]
     },
     "execution_count": 81,
     "metadata": {},
     "output_type": "execute_result"
    }
   ],
   "source": [
    "l = [1,2,'3',5,'4']\n",
    "try:\n",
    "    sorted(l)\n",
    "except TypeError:\n",
    "    pass \n",
    "    #TypeError: unorderable types: str() < int()\n",
    "sorted(l,key=int)"
   ]
  },
  {
   "cell_type": "code",
   "execution_count": 93,
   "metadata": {},
   "outputs": [
    {
     "name": "stdout",
     "output_type": "stream",
     "text": [
      "True\n",
      "-2725224101759650258\n",
      "399569904\n",
      "-4138728974339688815\n"
     ]
    },
    {
     "ename": "TypeError",
     "evalue": "unhashable type: 'list'",
     "output_type": "error",
     "traceback": [
      "\u001b[0;31m---------------------------------------------------------------------------\u001b[0m",
      "\u001b[0;31mTypeError\u001b[0m                                 Traceback (most recent call last)",
      "\u001b[0;32m<ipython-input-93-9347b5d3a1d9>\u001b[0m in \u001b[0;36m<module>\u001b[0;34m()\u001b[0m\n\u001b[1;32m     12\u001b[0m \u001b[1;31m#TypeError: unhashable type: 'list'\u001b[0m\u001b[1;33m\u001b[0m\u001b[1;33m\u001b[0m\u001b[0m\n\u001b[1;32m     13\u001b[0m \u001b[0mt1\u001b[0m \u001b[1;33m=\u001b[0m  \u001b[1;33m(\u001b[0m\u001b[1;36m1\u001b[0m\u001b[1;33m,\u001b[0m\u001b[1;36m2\u001b[0m\u001b[1;33m,\u001b[0m\u001b[1;33m[\u001b[0m\u001b[1;36m3\u001b[0m\u001b[1;33m,\u001b[0m\u001b[1;36m4\u001b[0m\u001b[1;33m]\u001b[0m\u001b[1;33m)\u001b[0m\u001b[1;33m\u001b[0m\u001b[0m\n\u001b[0;32m---> 14\u001b[0;31m \u001b[0mprint\u001b[0m\u001b[1;33m(\u001b[0m\u001b[0mhash\u001b[0m\u001b[1;33m(\u001b[0m\u001b[0mt1\u001b[0m\u001b[1;33m)\u001b[0m\u001b[1;33m)\u001b[0m\u001b[1;33m\u001b[0m\u001b[0m\n\u001b[0m",
      "\u001b[0;31mTypeError\u001b[0m: unhashable type: 'list'"
     ]
    }
   ],
   "source": [
    "from collections import abc\n",
    "my_dict = dict()\n",
    "print(isinstance(my_dict,abc.Mapping))\n",
    "\n",
    "tt = (1,2,(3,4))\n",
    "print(hash(tt))\n",
    "print(id(tt))\n",
    "tf = (1,2,frozenset([3,4]))\n",
    "print(hash(tf))\n",
    "# t1 = [1,2,(3,4)]\n",
    "# print(hash(t1))\n",
    "#TypeError: unhashable type: 'list'\n",
    "t1 =  (1,2,[3,4])\n",
    "print(hash(t1))\n"
   ]
  },
  {
   "cell_type": "code",
   "execution_count": 97,
   "metadata": {},
   "outputs": [
    {
     "name": "stdout",
     "output_type": "stream",
     "text": [
      "True\n"
     ]
    }
   ],
   "source": [
    "a = dict(a=1,b=2,c=3,d=4)\n",
    "b = dict(zip(['a','b','c','d'],[1,2,3,4]))\n",
    "c = dict({'a':1,'b':2,'c':3,'d':4})\n",
    "d = dict([('a',1),('b',2),('c',3),('d',4)])\n",
    "e = {'a':1,'b':2,'c':3,'d':4}\n",
    "print(a==b==c==d==e)"
   ]
  },
  {
   "cell_type": "code",
   "execution_count": 15,
   "metadata": {},
   "outputs": [
    {
     "name": "stdout",
     "output_type": "stream",
     "text": [
      "{'5': [12, 19, 24, 36, 61, 69, 71], '6': [3, 11, 30, 58, 75, 99], '1': [1, 23, 37, 39, 43, 46, 53, 56, 57, 64, 66, 68, 72, 74, 82, 92, 94, 98], '7': [31, 33, 35, 44, 78, 86], '3': [4, 6, 28, 38], '8': [22, 32, 34, 49, 60, 65, 80, 91, 95], '9': [0, 10, 13, 15, 16, 18, 25, 27, 29, 59, 77, 90], '4': [9, 17, 21, 40, 42, 51, 62, 67, 70, 76, 96], '10': [8, 14, 41, 45, 47, 52, 55, 73, 83, 84, 87], '2': [2, 5, 7, 20, 26, 48, 50, 54, 63, 79, 81, 85, 88, 89, 93, 97]}\n",
      "{'5': [0, 14, 18, 19, 24, 39, 41, 50, 70, 81, 89], '7': [4, 7, 20, 21, 28, 32, 58, 80, 87], '1': [9, 25, 35, 37, 48, 51, 55, 57, 62, 65, 71, 79], '6': [11, 22, 36, 38, 42, 45, 88, 92, 96, 98], '3': [2, 27, 33, 43, 47, 59, 68, 72, 74, 75, 82], '8': [3, 31, 34, 44, 52, 63, 67, 69, 86, 91, 95], '9': [6, 8, 13, 23, 53, 60, 61, 64, 66, 77, 90], '4': [16, 26, 30, 46, 85, 93, 99], '10': [5, 12, 17, 29, 49, 56, 76, 78], '2': [1, 10, 15, 40, 54, 73, 83, 84, 94, 97]}\n",
      "defaultdict(<class 'list'>, {'7': [3, 16, 17, 18, 23, 27, 42, 75, 79, 88, 93, 95], '5': [12, 14, 25, 51, 52, 71, 82, 83, 99], '1': [2, 5, 6, 10, 11, 32, 34, 45, 56, 58, 65, 84], '6': [21, 48, 54, 62, 78, 92], '3': [8, 26, 30, 35, 38, 49, 59, 67, 74, 90], '8': [20, 36, 41, 43, 64, 81, 87, 96], '9': [9, 24, 28, 37, 39, 47, 53, 55, 68, 89, 97], '4': [0, 1, 7, 13, 19, 29, 33, 40, 46, 60, 69, 72, 77, 85], '10': [22, 57, 61, 63, 70, 80, 86, 91], '2': [4, 15, 31, 44, 50, 66, 73, 76, 94, 98]})\n"
     ]
    }
   ],
   "source": [
    "import random\n",
    "data_dict = {}\n",
    "\n",
    "for i in range(100):\n",
    "    data_dict.setdefault(str(random.randint(1,10)),[]).append(i)\n",
    "print(data_dict)\n",
    "data_dict = {}\n",
    "for i in range(100):\n",
    "    key = str(random.randint(1,10))\n",
    "    if key not in data_dict:\n",
    "        data_dict[key]=[]\n",
    "    data_dict[key].append(i)\n",
    "print(data_dict)\n",
    "\n",
    "from collections import defaultdict\n",
    "data_dict = defaultdict(list)\n",
    "for i in range(100):\n",
    "    key = random.randint(1,10)\n",
    "    data_dict[str(key)].append(i)\n",
    "print(data_dict)"
   ]
  },
  {
   "cell_type": "code",
   "execution_count": 28,
   "metadata": {},
   "outputs": [
    {
     "name": "stdout",
     "output_type": "stream",
     "text": [
      "two\n",
      "three\n",
      "True\n",
      "False\n"
     ]
    }
   ],
   "source": [
    "class StrKeyDict(dict):\n",
    "    def __missing__(self,key):\n",
    "        if isinstance(key,str):\n",
    "            raise KeyError(key)\n",
    "        return self[str(key)]\n",
    "    \n",
    "    def get(self,key,default=None):\n",
    "        try:\n",
    "            return self[key]\n",
    "        except KeyError:\n",
    "            return default\n",
    "    def __contains__(self,key):\n",
    "        return key in self.keys() or str(key) in self.keys()\n",
    "\n",
    "d = StrKeyDict([('2','two'),('3','three')])\n",
    "print(d['2'])\n",
    "# print(d[3])\n",
    "print(d.get(3))\n",
    "# print(d.get(3))\n",
    "print(2 in d)\n",
    "print(1 in d )\n",
    "        "
   ]
  },
  {
   "cell_type": "code",
   "execution_count": 32,
   "metadata": {},
   "outputs": [
    {
     "name": "stdout",
     "output_type": "stream",
     "text": [
      "a\n",
      "a\n",
      "True\n"
     ]
    }
   ],
   "source": [
    "from collections import UserDict\n",
    "class StrKeyDict(UserDict):\n",
    "    def __missing__(self,key):\n",
    "        if isinstance(key,str):\n",
    "            raise KeyError(key)\n",
    "        else:\n",
    "            return self[str(key)]\n",
    "        \n",
    "    def __setitem__(self,key,item):\n",
    "        self.data[str(key)] = item\n",
    "        \n",
    "    def __contain__(self,key):\n",
    "        return str(key) in self.data\n",
    "    \n",
    "s = StrKeyDict()\n",
    "s['1']='a'\n",
    "print(s['1'])\n",
    "print(s[1])\n",
    "print('1' in s)\n",
    "            \n",
    "    "
   ]
  },
  {
   "cell_type": "code",
   "execution_count": 34,
   "metadata": {},
   "outputs": [
    {
     "name": "stdout",
     "output_type": "stream",
     "text": [
      "{'a': 1}\n",
      "1\n",
      "2\n"
     ]
    }
   ],
   "source": [
    "from types import MappingProxyType\n",
    "d = {'a':1}\n",
    "d_proxy = MappingProxyType(d)\n",
    "print(d_proxy)\n",
    "print(d_proxy['a'])\n",
    "# print(d_proxy['b'])\n",
    "d.setdefault('b',2)\n",
    "print(d_proxy['b'])"
   ]
  },
  {
   "cell_type": "code",
   "execution_count": 35,
   "metadata": {},
   "outputs": [
    {
     "name": "stdout",
     "output_type": "stream",
     "text": [
      "{'spam', 'eggs'}\n",
      "['spam', 'eggs']\n"
     ]
    }
   ],
   "source": [
    "l = ['spam', 'spam', 'eggs', 'spam']\n",
    "print(set(l))\n",
    "print(list(set(l)))"
   ]
  },
  {
   "cell_type": "code",
   "execution_count": 38,
   "metadata": {},
   "outputs": [
    {
     "name": "stdout",
     "output_type": "stream",
     "text": [
      "  1           0 LOAD_CONST               0 (1)\n",
      "              3 BUILD_SET                1\n",
      "              6 RETURN_VALUE\n",
      "  1           0 LOAD_NAME                0 (set)\n",
      "              3 LOAD_CONST               0 (1)\n",
      "              6 CALL_FUNCTION            1 (1 positional, 0 keyword pair)\n",
      "              9 RETURN_VALUE\n"
     ]
    }
   ],
   "source": [
    "from dis import dis\n",
    "dis('{1}')\n",
    "dis('set(1)')"
   ]
  },
  {
   "cell_type": "code",
   "execution_count": 43,
   "metadata": {
    "collapsed": true
   },
   "outputs": [],
   "source": [
    "fs = frozenset(range(10))\n",
    "for i in fs:\n",
    "#     print(i,)\n",
    "    pass\n",
    "s = set(range(10))\n",
    "for i in s:\n",
    "#     print(i,)\n",
    "    pass"
   ]
  },
  {
   "cell_type": "code",
   "execution_count": 47,
   "metadata": {},
   "outputs": [
    {
     "data": {
      "text/plain": [
       "{' ',\n",
       " '!',\n",
       " '\"',\n",
       " '&',\n",
       " \"'\",\n",
       " '(',\n",
       " ')',\n",
       " '*',\n",
       " ',',\n",
       " '-',\n",
       " '.',\n",
       " '/',\n",
       " '0',\n",
       " '1',\n",
       " '2',\n",
       " '3',\n",
       " '4',\n",
       " '5',\n",
       " '6',\n",
       " '7',\n",
       " '8',\n",
       " '9',\n",
       " ':',\n",
       " ';',\n",
       " '?',\n",
       " '@',\n",
       " 'A',\n",
       " 'B',\n",
       " 'C',\n",
       " 'D',\n",
       " 'E',\n",
       " 'F',\n",
       " 'G',\n",
       " 'H',\n",
       " 'I',\n",
       " 'J',\n",
       " 'K',\n",
       " 'L',\n",
       " 'M',\n",
       " 'N',\n",
       " 'O',\n",
       " 'P',\n",
       " 'Q',\n",
       " 'R',\n",
       " 'S',\n",
       " 'T',\n",
       " 'U',\n",
       " 'V',\n",
       " 'W',\n",
       " 'X',\n",
       " 'Y',\n",
       " 'Z',\n",
       " '[',\n",
       " '\\\\',\n",
       " ']',\n",
       " '^',\n",
       " '_',\n",
       " '`',\n",
       " 'a',\n",
       " 'b',\n",
       " 'c',\n",
       " 'd',\n",
       " 'e',\n",
       " 'f',\n",
       " 'g',\n",
       " 'h',\n",
       " 'i',\n",
       " 'j',\n",
       " 'k',\n",
       " 'l',\n",
       " 'm',\n",
       " 'n',\n",
       " 'o',\n",
       " 'p',\n",
       " 'q',\n",
       " 'r',\n",
       " 's',\n",
       " 't',\n",
       " 'u',\n",
       " 'v',\n",
       " 'w',\n",
       " 'x',\n",
       " 'y',\n",
       " 'z',\n",
       " '{',\n",
       " '|',\n",
       " '}',\n",
       " '~',\n",
       " '\\x7f',\n",
       " '\\x80',\n",
       " '\\x81',\n",
       " '\\x82',\n",
       " '\\x83',\n",
       " '\\x84',\n",
       " '\\x85',\n",
       " '\\x86',\n",
       " '\\x87',\n",
       " '\\x88',\n",
       " '\\x89',\n",
       " '\\x8a',\n",
       " '\\x8b',\n",
       " '\\x8c',\n",
       " '\\x8d',\n",
       " '\\x8e',\n",
       " '\\x8f',\n",
       " '\\x90',\n",
       " '\\x91',\n",
       " '\\x92',\n",
       " '\\x93',\n",
       " '\\x94',\n",
       " '\\x95',\n",
       " '\\x96',\n",
       " '\\x97',\n",
       " '\\x98',\n",
       " '\\x99',\n",
       " '\\x9a',\n",
       " '\\x9b',\n",
       " '\\x9c',\n",
       " '\\x9d',\n",
       " '\\x9e',\n",
       " '\\x9f',\n",
       " '\\xa0',\n",
       " '¡',\n",
       " '¦',\n",
       " '¨',\n",
       " 'ª',\n",
       " '«',\n",
       " '\\xad',\n",
       " '¯',\n",
       " '²',\n",
       " '³',\n",
       " '´',\n",
       " '·',\n",
       " '¸',\n",
       " '¹',\n",
       " 'º',\n",
       " '»',\n",
       " '¼',\n",
       " '½',\n",
       " '¾',\n",
       " '¿',\n",
       " 'À',\n",
       " 'Á',\n",
       " 'Â',\n",
       " 'Ã',\n",
       " 'Ä',\n",
       " 'Å',\n",
       " 'Æ',\n",
       " 'Ç',\n",
       " 'È',\n",
       " 'É',\n",
       " 'Ê',\n",
       " 'Ë',\n",
       " 'Ì',\n",
       " 'Í',\n",
       " 'Î',\n",
       " 'Ï',\n",
       " 'Ð',\n",
       " 'Ñ',\n",
       " 'Ò',\n",
       " 'Ó',\n",
       " 'Ô',\n",
       " 'Õ',\n",
       " 'Ö',\n",
       " 'Ø',\n",
       " 'Ù',\n",
       " 'Ú',\n",
       " 'Û',\n",
       " 'Ü',\n",
       " 'Ý',\n",
       " 'Þ',\n",
       " 'ß',\n",
       " 'à',\n",
       " 'á',\n",
       " 'â',\n",
       " 'ã',\n",
       " 'ä',\n",
       " 'å',\n",
       " 'æ',\n",
       " 'ç',\n",
       " 'è',\n",
       " 'é',\n",
       " 'ê',\n",
       " 'ë',\n",
       " 'ì',\n",
       " 'í',\n",
       " 'î',\n",
       " 'ï',\n",
       " 'ð',\n",
       " 'ñ',\n",
       " 'ò',\n",
       " 'ó',\n",
       " 'ô',\n",
       " 'õ',\n",
       " 'ö',\n",
       " 'ø',\n",
       " 'ù',\n",
       " 'ú',\n",
       " 'û',\n",
       " 'ü',\n",
       " 'ý',\n",
       " 'þ',\n",
       " 'ÿ'}"
      ]
     },
     "execution_count": 47,
     "metadata": {},
     "output_type": "execute_result"
    }
   ],
   "source": [
    "from unicodedata import name \n",
    "{chr(i) for i in range(32, 256) if 'SIGN' not in name(chr(i),'')}"
   ]
  },
  {
   "cell_type": "code",
   "execution_count": 49,
   "metadata": {},
   "outputs": [
    {
     "data": {
      "text/plain": [
       "True"
      ]
     },
     "execution_count": 49,
     "metadata": {},
     "output_type": "execute_result"
    }
   ],
   "source": [
    "1==1.0\n",
    "hash(1)==hash(1.0)"
   ]
  },
  {
   "cell_type": "code",
   "execution_count": 4,
   "metadata": {},
   "outputs": [
    {
     "name": "stdout",
     "output_type": "stream",
     "text": [
      "d1: dict_keys([880, 1, 86, 55, 7, 234, 91, 92, 62, 81])\n",
      "d2: dict_keys([880, 1, 91, 86, 81, 55, 234, 7, 92, 62])\n",
      "d3: dict_keys([880, 81, 1, 86, 55, 7, 234, 91, 92, 62])\n"
     ]
    }
   ],
   "source": [
    "DIAL_CODES = [\n",
    "    (86, 'China'),\n",
    "    (91, 'India'),\n",
    "    (1, 'United States'),\n",
    "    (62, 'Indonesia'),\n",
    "    (55, 'Brazil'),\n",
    "    (92, 'Pakistan'),\n",
    "    (880, 'Bangladesh'),\n",
    "    (234, 'Nigeria'),\n",
    "    (7, 'Russia'),\n",
    "    (81, 'Japan'),\n",
    "]\n",
    "d1 = dict(DIAL_CODES)\n",
    "print(\"d1:\",d1.keys())\n",
    "d2 = dict(sorted(DIAL_CODES))\n",
    "print(\"d2:\",d2.keys())\n",
    "d3 =dict(sorted(DIAL_CODES,key=lambda k:k[1]))\n",
    "print(\"d3:\",d3.keys())\n",
    "assert d1==d2 and d2==d3"
   ]
  },
  {
   "cell_type": "code",
   "execution_count": 23,
   "metadata": {},
   "outputs": [
    {
     "name": "stdout",
     "output_type": "stream",
     "text": [
      "<_io.TextIOWrapper name='cafe.txt' mode='w' encoding='utf-8'>\n",
      "5\n",
      "b'caf\\xc3\\xa9'\n",
      "<_io.TextIOWrapper name='cafe.txt' mode='r' encoding='cp936'>\n",
      "cp936\n",
      "<_io.TextIOWrapper name='cafe.txt' mode='r' encoding='utf-8'>\n",
      "<_io.BufferedReader name='cafe.txt'>\n"
     ]
    }
   ],
   "source": [
    "\n",
    "f = open('cafe.txt', 'w', encoding=\"utf-8\")\n",
    "print(f)\n",
    "f.write('café')\n",
    "f.close()\n",
    "\n",
    "import os \n",
    "print(os.stat('cafe.txt').st_size)\n",
    "#os.stat reports that the file holds 5 bytes; UTF-8 encodes 'é' as two bytes, 0xc3 and 0xa9.\n",
    "a = 'café'\n",
    "print(a.encode('utf-8'))\n",
    "f1 = open('cafe.txt', 'r')\n",
    "print(f1)\n",
    "print(f1.encoding)\n",
    "f1.close()\n",
    "# print(chardet.detect(a)['encoding'])\n",
    "f2 = open('cafe.txt', 'r', encoding='utf-8')\n",
    "print(f2)\n",
    "f2.close()\n",
    "\n",
    "f3 = open('cafe.txt', 'rb')\n",
    "print(f3)\n",
    "f3.close()"
   ]
  },
  {
   "cell_type": "code",
   "execution_count": 7,
   "metadata": {},
   "outputs": [
    {
     "name": "stdout",
     "output_type": "stream",
     "text": [
      "<code object f at 0x00000000048A61E0, file \"<ipython-input-7-640b4fed29a4>\", line 1>\n",
      "('zxc',)\n",
      "('name',)\n",
      "1\n",
      "(name='zxc')\n",
      "(name='zxc')\n",
      "<class 'inspect._empty'>\n",
      "POSITIONAL_OR_KEYWORD : name = zxc\n"
     ]
    }
   ],
   "source": [
    "def f(name='zxc'):\n",
    "    if name:\n",
    "        return \"Hello, {}\".format(name)\n",
    "    else:\n",
    "        return \"Hello, strange\"\n",
    "    \n",
    "print(f.__code__)\n",
    "print(f.__defaults__)\n",
    "print(f.__code__.co_varnames)\n",
    "print(f.__code__.co_argcount)\n",
    "\n",
    "from inspect import signature\n",
    "sig = signature(f)\n",
    "print(sig)\n",
    "print(str(sig))\n",
    "print(sig.return_annotation)\n",
    "for name, para in sig.parameters.items():\n",
    "    print(para.kind, \":\", name, '=', para.default)"
   ]
  },
  {
   "cell_type": "code",
   "execution_count": 2,
   "metadata": {},
   "outputs": [
    {
     "name": "stdout",
     "output_type": "stream",
     "text": [
      "<br/ >\n",
      "<p>hello</p>\n",
      "<p>hello</p>\n",
      "<p>world</p>\n",
      "<p id=33>hello</p>\n",
      "<p class=ok>hello</p>\n",
      "<p class=ok>world</p>\n",
      "<img content=testing/ >\n"
     ]
    },
    {
     "data": {
      "text/plain": [
       "'<img class=framed src=sunset.jpg title=Sunset Boulevard/ >'"
      ]
     },
     "execution_count": 2,
     "metadata": {},
     "output_type": "execute_result"
    }
   ],
   "source": [
    "def tag(name, *contents, cls=None, **attrs):\n",
    "    if cls is not None:\n",
    "        attrs['class']=cls\n",
    "    if attrs:\n",
    "        attrs_str = \"\".join(\" {}={}\".format(name, attr)\n",
    "                         for name, attr in sorted(attrs.items()))\n",
    "    else:\n",
    "        attrs_str = \"\"\n",
    "#     attrs_str=attrs_str[1:]\n",
    "    if contents:\n",
    "         return \"\\n\".join(['<{name}{attrs_str}>{content}</{name}>'.format(\n",
    "                         name=name, attrs_str=attrs_str, content=content)\n",
    "                         for content in contents])\n",
    "    else:\n",
    "        return \"<{name}{attrs_str} />\".format(name=name, attrs_str=attrs_str)\n",
    "                 \n",
    "print(tag('br'))\n",
    "print(tag('p', 'hello'))\n",
    "print(tag('p', 'hello', 'world'))\n",
    "print(tag('p', 'hello', id=33))\n",
    "print(tag('p', 'hello', 'world', cls=\"ok\"))\n",
    "print(tag(content='testing', name='img'))\n",
    "my_tag = {'name': 'img', 'title': 'Sunset Boulevard', 'src': 'sunset.jpg', 'cls': 'framed'}\n",
    "tag(**my_tag)"
   ]
  },
  {
   "cell_type": "code",
   "execution_count": 20,
   "metadata": {},
   "outputs": [
    {
     "name": "stdout",
     "output_type": "stream",
     "text": [
      " cls=\"framed\" name=\"img\" src=\"sunset.jpg\" title=\"Sunset Boulevard\"\n",
      " cls=\"framed\" name=\"img\" src=\"sunset.jpg\" title=\"Sunset Boulevard\"\n"
     ]
    },
    {
     "data": {
      "text/plain": [
       "[' cls=\"framed\"',\n",
       " ' name=\"img\"',\n",
       " ' src=\"sunset.jpg\"',\n",
       " ' title=\"Sunset Boulevard\"']"
      ]
     },
     "execution_count": 20,
     "metadata": {},
     "output_type": "execute_result"
    }
   ],
   "source": [
    "my_tag = {'name': 'img', 'title': 'Sunset Boulevard', 'src': 'sunset.jpg', 'cls': 'framed'}\n",
    "print(\"\".join(' {}=\"{}\"'.format(name, attr)\n",
    "       for name, attr in sorted(my_tag.items())))\n",
    "print(''.join(' %s=\"%s\"' % (attr, value)\n",
    "        for attr, value\n",
    "        in sorted(my_tag.items())))\n",
    "[' {}=\"{}\"'.format(name, attr) for name, attr in sorted(my_tag.items())]"
   ]
  },
  {
   "cell_type": "code",
   "execution_count": 9,
   "metadata": {},
   "outputs": [
    {
     "name": "stdout",
     "output_type": "stream",
     "text": [
      "1=2,2,2=2,2,3=2,2,4=2,2,5=2,2\n"
     ]
    }
   ],
   "source": [
    "a_list = [1, 2, 3, 4, 5]\n",
    "b = 2\n",
    "print(\",\".join([\"{a}={b},{b}\".format(a=a, b=b) for a in a_list]))\n"
   ]
  },
  {
   "cell_type": "code",
   "execution_count": 3,
   "metadata": {},
   "outputs": [
    {
     "data": {
      "text/plain": [
       "{}"
      ]
     },
     "execution_count": 3,
     "metadata": {},
     "output_type": "execute_result"
    }
   ],
   "source": [
    "tag.__annotations__"
   ]
  },
  {
   "cell_type": "code",
   "execution_count": 7,
   "metadata": {},
   "outputs": [
    {
     "name": "stdout",
     "output_type": "stream",
     "text": [
      "('Sao Paulo', 'BR', 19.649, (-23.547778, -46.635833))\n",
      "('New York-Newark', 'US', 20.104, (40.808611, -74.020386))\n",
      "('Mexico City', 'MX', 20.142, (19.433333, -99.133333))\n",
      "('Delhi NCR', 'IN', 21.935, (28.613889, 77.208889))\n",
      "('Tokyo', 'JP', 36.933, (35.689722, 139.691667))\n",
      "----------------------------------------\n",
      "('JP', 'Tokyo')\n",
      "('IN', 'Delhi NCR')\n",
      "('MX', 'Mexico City')\n",
      "('US', 'New York-Newark')\n",
      "('BR', 'Sao Paulo')\n"
     ]
    }
   ],
   "source": [
    "from operator import itemgetter\n",
    "\n",
    "metro_data = [\n",
    "('Tokyo', 'JP', 36.933, (35.689722, 139.691667)),\n",
    "('Delhi NCR', 'IN', 21.935, (28.613889, 77.208889)),\n",
    "('Mexico City', 'MX', 20.142, (19.433333, -99.133333)),\n",
    "('New York-Newark', 'US', 20.104, (40.808611, -74.020386)),\n",
    "('Sao Paulo', 'BR', 19.649, (-23.547778, -46.635833)),\n",
    "]\n",
    "\n",
    "for city in sorted(metro_data, key=itemgetter(2)):\n",
    "    print(city)\n",
    "print('-'*40)\n",
    "city_name = itemgetter(1, 0)\n",
    "for city in metro_data:\n",
    "    print(city_name(city))"
   ]
  },
  {
   "cell_type": "code",
   "execution_count": 14,
   "metadata": {},
   "outputs": [
    {
     "name": "stdout",
     "output_type": "stream",
     "text": [
      "[Meterpolis(name='Tokyo', cc='JP', pop=36.933, coord=LatLog(lat=35.689722, log=139.691667)),\n",
      " Meterpolis(name='Delhi NCR', cc='IN', pop=21.935, coord=LatLog(lat=28.613889, log=77.208889)),\n",
      " Meterpolis(name='Mexico City', cc='MX', pop=20.142, coord=LatLog(lat=19.433333, log=-99.133333)),\n",
      " Meterpolis(name='New York-Newark', cc='US', pop=20.104, coord=LatLog(lat=40.808611, log=-74.020386)),\n",
      " Meterpolis(name='Sao Paulo', cc='BR', pop=19.649, coord=LatLog(lat=-23.547778, log=-46.635833))]\n",
      "35.689722\n",
      "('Sao Paulo', -23.547778)\n",
      "('Mexico City', 19.433333)\n",
      "('Delhi NCR', 28.613889)\n",
      "('Tokyo', 35.689722)\n",
      "('New York-Newark', 40.808611)\n"
     ]
    }
   ],
   "source": [
    "from collections import namedtuple\n",
    "from operator import attrgetter\n",
    "from pprint import pprint\n",
    "\n",
    "LatLong = namedtuple(\"LatLog\", \"lat log\")\n",
    "Meterpolis = namedtuple(\"Meterpolis\", \"name, cc, pop, coord\")\n",
    "metro_areas = [Meterpolis(name, cc, pop, LatLong(lat, log))\n",
    "              for name, cc, pop, (lat, log) in metro_data]\n",
    "pprint(metro_areas)\n",
    "print(metro_areas[0].coord.lat)\n",
    "name_lat = attrgetter('name', 'coord.lat')\n",
    "for city in sorted(metro_areas, key=attrgetter(\"coord.lat\")):\n",
    "    print(name_lat(city))"
   ]
  },
  {
   "cell_type": "code",
   "execution_count": 6,
   "metadata": {},
   "outputs": [
    {
     "name": "stdout",
     "output_type": "stream",
     "text": [
      "HELLO, WORLD\n",
      "2017 5 8\n"
     ]
    }
   ],
   "source": [
    "from operator import iadd\n",
    "\n",
    "from operator import methodcaller\n",
    "a_str = \"hello, world\"\n",
    "upper_funtion = methodcaller('upper')\n",
    "print(upper_funtion(a_str))\n",
    "b_str = \"2017-5-8\"\n",
    "replace_function = methodcaller(\"replace\", \"-\", \" \")\n",
    "print(replace_function(b_str))"
   ]
  },
  {
   "cell_type": "code",
   "execution_count": 7,
   "metadata": {},
   "outputs": [
    {
     "name": "stdout",
     "output_type": "stream",
     "text": [
      "21\n",
      "[3, 6, 9, 12, 15, 18, 21, 24, 27]\n"
     ]
    }
   ],
   "source": [
    "from operator import mul\n",
    "from functools import partial\n",
    "triple = partial(mul, 3)\n",
    "print(triple(7))\n",
    "print(list(map(triple, range(1, 10))))\n"
   ]
  },
  {
   "cell_type": "code",
   "execution_count": 9,
   "metadata": {},
   "outputs": [
    {
     "name": "stdout",
     "output_type": "stream",
     "text": [
      "False\n",
      "True\n"
     ]
    }
   ],
   "source": [
    "from functools import partial\n",
    "from unicodedata import normalize\n",
    "\n",
    "nfc = partial(normalize, \"NFC\")\n",
    "s1 = \"café\"\n",
    "s2 = \"cafe\\u0301\"\n",
    "print(s1 == s2)\n",
    "print(nfc(s1) == nfc(s2))\n"
   ]
  },
  {
   "cell_type": "code",
   "execution_count": 16,
   "metadata": {},
   "outputs": [
    {
     "name": "stdout",
     "output_type": "stream",
     "text": [
      "functools.partial(<function tag at 0x0000000004BE2F28>, 'img', cls='test1')\n",
      "<img class=test1 src=11.jpg />\n",
      "('img',)\n",
      "<function tag at 0x0000000004BE2F28>\n",
      "{'cls': 'test1'}\n"
     ]
    }
   ],
   "source": [
    "from functools import partial\n",
    "def tag(name, *contents, cls=None, **attrs):\n",
    "    if cls is not None:\n",
    "        attrs['class']=cls\n",
    "    if attrs:\n",
    "        attrs_str = \"\".join(\" {}={}\".format(name, attr)\n",
    "                         for name, attr in sorted(attrs.items()))\n",
    "    else:\n",
    "        attrs_str = \"\"\n",
    "#     attrs_str=attrs_str[1:]\n",
    "    if contents:\n",
    "         return \"\\n\".join(['<{name}{attrs_str}>{content}</{name}>'.format(\n",
    "                         name=name, attrs_str=attrs_str, content=content)\n",
    "                         for content in contents])\n",
    "    else:\n",
    "        return \"<{name}{attrs_str} />\".format(name=name, attrs_str=attrs_str)\n",
    "    \n",
    "picture = partial(tag, 'img', cls=\"test1\")\n",
    "print(picture)\n",
    "print(picture(src=\"11.jpg\"))\n",
    "print(picture.args)\n",
    "print(picture.func)\n",
    "print(picture.keywords)"
   ]
  },
  {
   "cell_type": "code",
   "execution_count": 17,
   "metadata": {
    "collapsed": true
   },
   "outputs": [],
   "source": [
    "from functools import partialmethod\n",
    "partialmethod?"
   ]
  },
  {
   "cell_type": "markdown",
   "metadata": {
    "collapsed": true
   },
   "source": [
    "# Design patterns with first-class functions"
   ]
  },
  {
   "cell_type": "code",
   "execution_count": 8,
   "metadata": {},
   "outputs": [
    {
     "name": "stdout",
     "output_type": "stream",
     "text": [
      "<Order total: 42.00 due 42.00>\n",
      "<Order total: 30.00 due 28.50>\n",
      "<Order total: 10.00 due 9.30>\n",
      "<Order total: 42.00 due 42.00>\n"
     ]
    }
   ],
   "source": [
    "from abc import ABC, abstractmethod\n",
    "from collections import namedtuple\n",
    "\n",
    "\n",
    "Customer = namedtuple('Customer', 'name fidelity')\n",
    "class LineItem():\n",
    "    def __init__(self, product, quantity, price):\n",
    "        self.product = product\n",
    "        self.quantity = quantity\n",
    "        self.price = price\n",
    "    def total(self):\n",
    "        return self.price * self.quantity\n",
    "    \n",
    "\n",
    "class Order():\n",
    "    \n",
    "    def __init__(self, customer, cart, promotion=None):\n",
    "        self.customer = customer\n",
    "        self.cart = cart\n",
    "        self.promotion = promotion\n",
    "    \n",
    "    def total(self):\n",
    "        if not hasattr(self, \"__total\"):\n",
    "            self.__total = sum(item.total() for item in self.cart)\n",
    "        return self.__total\n",
    "    \n",
    "    def due(self):\n",
    "        if self.promotion is None:\n",
    "            discount = 0\n",
    "        else:\n",
    "            discount = self.promotion.discount(self)\n",
    "        return self.total() - discount\n",
    "\n",
    "    def __repr__(self):\n",
    "        fmt = \"<Order total: {:.2f} due {:.2f}>\"\n",
    "        return fmt.format(self.total(), self.due())\n",
    "\n",
    "class Promotion(ABC):\n",
    "    \n",
    "    @abstractmethod\n",
    "    def discount(self, order):\n",
    "        \"\"\"Return discount as a positive dollar amount\"\"\"\n",
    "        \n",
    "class FidelityPromo(Promotion):\n",
    "    \"\"\"5% discount for customers with 1000 or more fidelity points\"\"\"\n",
    "    \n",
    "    def discount(self, order):\n",
    "        return order.total() * .05 if order.customer.fidelity >= 100 else 0\n",
    "\n",
    "class BulkItemPromo(Promotion):\n",
    "    \"\"\"10% discount for each LineItem with 20 or more units\"\"\"\n",
    "    \n",
    "    def discount(self, order):\n",
    "        discount = 0\n",
    "        for item in order.cart:\n",
    "            if item.quantity >= 20:\n",
    "                discount += item.total() * .1\n",
    "        return discount\n",
    "    \n",
    "class LargeOrderPromo(Promotion):\n",
    "    \"\"\"7% discount for orders with 10 or more distinct items\"\"\"\n",
    "    \n",
    "    def discount(self, order):\n",
    "        distinct_items = {item.product for item in order.cart}\n",
    "        if len(distinct_items) >= 10:\n",
    "            return order.total() *.07\n",
    "        return 0\n",
    "\n",
    "\n",
    "joe = Customer('John Doe', 0)\n",
    "ann = Customer('Ann Smith', 1100)\n",
    "cart = [LineItem('banana', 4, .5),\n",
    "        LineItem('apple', 10, 1.5),\n",
    "        LineItem('watermellon', 5, 5.0)]\n",
    "print(Order(joe, cart, FidelityPromo()))\n",
    "banana_cart = [LineItem('banana', 30, .5),\n",
    "               LineItem('apple', 10, 1.5)]\n",
    "print(Order(joe, banana_cart, BulkItemPromo()))\n",
    "long_order = [LineItem(str(item_code), 1, 1.0)\n",
    "              for item_code in range(10)]\n",
    "print(Order(joe, long_order, LargeOrderPromo()))\n",
    "print(Order(joe, cart, LargeOrderPromo()))"
   ]
  },
  {
   "cell_type": "code",
   "execution_count": 31,
   "metadata": {},
   "outputs": [
    {
     "name": "stdout",
     "output_type": "stream",
     "text": [
      "<Order total: 42.00 due 42.00>\n",
      "<Order total: 30.00 due 28.50>\n",
      "<Order total: 10.00 due 9.30>\n",
      "<Order total: 42.00 due 42.00>\n",
      "----------------------------------------\n",
      "<Order total: 10.00 due 9.30>\n",
      "<Order total: 30.00 due 28.50>\n",
      "<Order total: 42.00 due 39.90>\n",
      "----------------------------------------\n",
      "[<function bulk_item_promo at 0x0000000004C9B048>, <function fide_item_promo at 0x0000000004CC8D90>, <function large_order_promo at 0x0000000004C9B1E0>]\n",
      "<Order total: 10.00 due 9.30>\n",
      "<Order total: 30.00 due 28.50>\n",
      "<Order total: 42.00 due 39.90>\n"
     ]
    },
    {
     "ename": "NameError",
     "evalue": "name 'promotions' is not defined",
     "output_type": "error",
     "traceback": [
      "\u001b[1;31m---------------------------------------------------------------------------\u001b[0m",
      "\u001b[1;31mNameError\u001b[0m                                 Traceback (most recent call last)",
      "\u001b[1;32m<ipython-input-31-084c40d38821>\u001b[0m in \u001b[0;36m<module>\u001b[1;34m()\u001b[0m\n\u001b[0;32m    129\u001b[0m \u001b[1;33m\u001b[0m\u001b[0m\n\u001b[0;32m    130\u001b[0m promos = [func for name, func in\n\u001b[1;32m--> 131\u001b[1;33m           inspect.getmembers(promotions, inspect.isfunction)]\n\u001b[0m\u001b[0;32m    132\u001b[0m \u001b[1;33m\u001b[0m\u001b[0m\n\u001b[0;32m    133\u001b[0m \u001b[0mprint\u001b[0m\u001b[1;33m(\u001b[0m\u001b[0mpromos\u001b[0m\u001b[1;33m)\u001b[0m\u001b[1;33m\u001b[0m\u001b[0m\n",
      "\u001b[1;31mNameError\u001b[0m: name 'promotions' is not defined"
     ]
    }
   ],
   "source": [
    "from abc import ABC, abstractmethod\n",
    "from collections import namedtuple\n",
    "\n",
    "import inspect\n",
    "\n",
    "\n",
    "Customer = namedtuple('Customer', 'name fidelity')\n",
    "class LineItem():\n",
    "    def __init__(self, product, quantity, price):\n",
    "        self.product = product\n",
    "        self.quantity = quantity\n",
    "        self.price = price\n",
    "    def total(self):\n",
    "        return self.price * self.quantity\n",
    "    \n",
    "\n",
    "class Order():\n",
    "    \n",
    "    def __init__(self, customer, cart, promotion=None):\n",
    "        self.customer = customer\n",
    "        self.cart = cart\n",
    "        self.promotion = promotion\n",
    "    \n",
    "    def total(self):\n",
    "        if not hasattr(self, \"__total\"):\n",
    "            self.__total = sum(item.total() for item in self.cart)\n",
    "        return self.__total\n",
    "    \n",
    "    def due(self):\n",
    "        if self.promotion is None:\n",
    "            discount = 0\n",
    "        else:\n",
    "            discount = self.promotion(self)\n",
    "        return self.total() - discount\n",
    "\n",
    "    def __repr__(self):\n",
    "        fmt = \"<Order total: {:.2f} due {:.2f}>\"\n",
    "        return fmt.format(self.total(), self.due())\n",
    "\n",
    "class Promotion(ABC):\n",
    "    \n",
    "    @abstractmethod\n",
    "    def discount(self, order):\n",
    "        \"\"\"Return discount as a positive dollar amount\"\"\"\n",
    "        \n",
    "class FidelityPromo(Promotion):\n",
    "    \"\"\"5% discount for customers with 1000 or more fidelity points\"\"\"\n",
    "    \n",
    "    def discount(self, order):\n",
    "        return order.total() * .05 if order.customer.fidelity >= 100 else 0\n",
    "\n",
    "class BulkItemPromo(Promotion):\n",
    "    \"\"\"10% discount for each LineItem with 20 or more units\"\"\"\n",
    "    \n",
    "    def discount(self, order):\n",
    "        discount = 0\n",
    "        for item in order.cart:\n",
    "            if item.quantity >= 20:\n",
    "                discount += item.total() * .1\n",
    "        return discount\n",
    "    \n",
    "class LargeOrderPromo(Promotion):\n",
    "    \"\"\"7% discount for orders with 10 or more distinct items\"\"\"\n",
    "    \n",
    "    def discount(self, order):\n",
    "        distinct_items = {item.product for item in order.cart}\n",
    "        if len(distinct_items) >= 10:\n",
    "            return order.total() *.07\n",
    "        return 0\n",
    "\n",
    "\n",
    "def  fide_item_promo(order):\n",
    "    \"\"\"5% discount for customers with 1000 or more fidelity points\"\"\"\n",
    "    \n",
    "    return order.total() * .05 if order.customer.fidelity >= 100 else 0\n",
    "\n",
    "\n",
    "def bulk_item_promo(order):\n",
    "    \"\"\"10% discount for each LineItem with 20 or more units\"\"\"\n",
    "    \n",
    "    discount = 0\n",
    "    for item in order.cart:\n",
    "        if item.quantity >= 20:\n",
    "            discount += item.total() * .1\n",
    "    return discount\n",
    "\n",
    "    \n",
    "def large_order_promo(order):\n",
    "    \"\"\"7% discount for orders with 10 or more distinct items\"\"\"\n",
    "\n",
    "    distinct_items = {item.product for item in order.cart}\n",
    "    if len(distinct_items) >= 10:\n",
    "        return order.total() *.07\n",
    "    return 0\n",
    "\n",
    "\n",
    "joe = Customer('John Doe', 0)\n",
    "ann = Customer('Ann Smith', 1100)\n",
    "cart = [LineItem('banana', 4, .5),\n",
    "        LineItem('apple', 10, 1.5),\n",
    "        LineItem('watermellon', 5, 5.0)]\n",
    "print(Order(joe, cart, fide_item_promo))\n",
    "banana_cart = [LineItem('banana', 30, .5),\n",
    "               LineItem('apple', 10, 1.5)]\n",
    "print(Order(joe, banana_cart, bulk_item_promo))\n",
    "long_order = [LineItem(str(item_code), 1, 1.0)\n",
    "              for item_code in range(10)]\n",
    "print(Order(joe, long_order, large_order_promo))\n",
    "print(Order(joe, cart, large_order_promo))\n",
    "print(\"-\"*40)\n",
    "\n",
    "promo_list = [fide_item_promo, bulk_item_promo, large_order_promo]\n",
    "\n",
    "def best_promo(order):\n",
    "    return max(promo(order) for promo in promo_list)\n",
    "print(Order(joe, long_order, best_promo))\n",
    "print(Order(joe, banana_cart, best_promo))\n",
    "print(Order(ann, cart, best_promo))\n",
    "print(\"-\"*40)\n",
    "# promos = [globals()[name] if name.endswith(\"_promo\") and name!=\"bese_promo\" \n",
    "#           for name in globals()]\n",
    "promos = [globals()[name] for name in globals()\n",
    "          if name!=\"best_promo\" and name.endswith(\"_promo\")]\n",
    "print(promos)\n",
    "print(Order(joe, long_order, best_promo))\n",
    "print(Order(joe, banana_cart, best_promo))\n",
    "print(Order(ann, cart, best_promo))\n",
    "\n",
    "\n",
    "promos = [func for name, func in\n",
    "          inspect.getmembers(promotions, inspect.isfunction)]\n",
    "\n",
    "print(promos)\n",
    "print(Order(joe, long_order, best_promo))\n",
    "print(Order(joe, banana_cart, best_promo))\n",
    "print(Order(ann, cart, best_promo))\n"
   ]
  },
  {
   "cell_type": "code",
   "execution_count": 3,
   "metadata": {},
   "outputs": [
    {
     "name": "stdout",
     "output_type": "stream",
     "text": [
      "registr funciton <function func1 at 0x00000000048CD730>\n",
      "registr funciton <function func2 at 0x00000000048CD6A8>\n",
      "registry-> [<function func1 at 0x00000000048CD730>, <function func2 at 0x00000000048CD6A8>]\n",
      "<function func1 at 0x00000000048CD730>\n",
      "<function func2 at 0x00000000048CD6A8>\n",
      "<function func3 at 0x00000000048CD620>\n"
     ]
    }
   ],
   "source": [
    "registry = []\n",
    "\n",
    "def registr(func):\n",
    "    print(\"registr funciton\", func)\n",
    "    registry.append(func)\n",
    "    return func\n",
    "\n",
    "@registr\n",
    "def func1():\n",
    "    print(\"running func1\")\n",
    "    \n",
    "@registr\n",
    "def func2():\n",
    "    print(\"running func2\")\n",
    "    \n",
    "    \n",
    "def func3():\n",
    "    print(\"running fun3\")\n",
    "\n",
    "    \n",
    "if __name__ == \"__main__\":\n",
    "    print(\"registry->\", registry)\n",
    "    print(func1)\n",
    "    print(func2)\n",
    "    print(func3)\n",
    "    "
   ]
  },
  {
   "cell_type": "code",
   "execution_count": 10,
   "metadata": {},
   "outputs": [
    {
     "name": "stdout",
     "output_type": "stream",
     "text": [
      "[<function fide_item_promo at 0x0000000004A40400>, <function bulk_item_promo at 0x00000000049FA400>, <function large_order_promo at 0x00000000049FAF28>]\n",
      "<Order total: 10.00 due 9.30>\n",
      "<Order total: 30.00 due 28.50>\n",
      "<Order total: 42.00 due 39.90>\n"
     ]
    }
   ],
   "source": [
    "from abc import ABC, abstractmethod\n",
    "from collections import namedtuple\n",
    "\n",
    "import inspect\n",
    "\n",
    "\n",
    "Customer = namedtuple('Customer', 'name fidelity')\n",
    "class LineItem():\n",
    "    def __init__(self, product, quantity, price):\n",
    "        self.product = product\n",
    "        self.quantity = quantity\n",
    "        self.price = price\n",
    "    def total(self):\n",
    "        return self.price * self.quantity\n",
    "    \n",
    "\n",
    "class Order():\n",
    "    \n",
    "    def __init__(self, customer, cart, promotion=None):\n",
    "        self.customer = customer\n",
    "        self.cart = cart\n",
    "        self.promotion = promotion\n",
    "    \n",
    "    def total(self):\n",
    "        if not hasattr(self, \"__total\"):\n",
    "            self.__total = sum(item.total() for item in self.cart)\n",
    "        return self.__total\n",
    "    \n",
    "    def due(self):\n",
    "        if self.promotion is None:\n",
    "            discount = 0\n",
    "        else:\n",
    "            discount = self.promotion(self)\n",
    "        return self.total() - discount\n",
    "\n",
    "    def __repr__(self):\n",
    "        fmt = \"<Order total: {:.2f} due {:.2f}>\"\n",
    "        return fmt.format(self.total(), self.due())\n",
    "\n",
    "    \n",
    "class Promotion(ABC):\n",
    "    \n",
    "    @abstractmethod\n",
    "    def discount(self, order):\n",
    "        \"\"\"Return discount as a positive dollar amount\"\"\"\n",
    "        \n",
    "\n",
    "class FidelityPromo(Promotion):\n",
    "    \"\"\"5% discount for customers with 1000 or more fidelity points\"\"\"\n",
    "    \n",
    "    def discount(self, order):\n",
    "        return order.total() * .05 if order.customer.fidelity >= 100 else 0\n",
    "\n",
    "class BulkItemPromo(Promotion):\n",
    "    \"\"\"10% discount for each LineItem with 20 or more units\"\"\"\n",
    "    \n",
    "    def discount(self, order):\n",
    "        discount = 0\n",
    "        for item in order.cart:\n",
    "            if item.quantity >= 20:\n",
    "                discount += item.total() * .1\n",
    "        return discount\n",
    "    \n",
    "class LargeOrderPromo(Promotion):\n",
    "    \"\"\"7% discount for orders with 10 or more distinct items\"\"\"\n",
    "    \n",
    "    def discount(self, order):\n",
    "        distinct_items = {item.product for item in order.cart}\n",
    "        if len(distinct_items) >= 10:\n",
    "            return order.total() *.07\n",
    "        return 0\n",
    "\n",
    "\n",
    "promos = []\n",
    "\n",
    "def promotion(promo_func):\n",
    "    promos.append(promo_func)\n",
    "    return promo_func\n",
    "\n",
    "\n",
    "@promotion\n",
    "def  fide_item_promo(order):\n",
    "    \"\"\"5% discount for customers with 1000 or more fidelity points\"\"\"\n",
    "    \n",
    "    return order.total() * .05 if order.customer.fidelity >= 100 else 0\n",
    "\n",
    "\n",
    "@promotion\n",
    "def bulk_item_promo(order):\n",
    "    \"\"\"10% discount for each LineItem with 20 or more units\"\"\"\n",
    "    \n",
    "    discount = 0\n",
    "    for item in order.cart:\n",
    "        if item.quantity >= 20:\n",
    "            discount += item.total() * .1\n",
    "    return discount\n",
    "\n",
    "\n",
    "@promotion\n",
    "def large_order_promo(order):\n",
    "    \"\"\"7% discount for orders with 10 or more distinct items\"\"\"\n",
    "\n",
    "    distinct_items = {item.product for item in order.cart}\n",
    "    if len(distinct_items) >= 10:\n",
    "        return order.total() *.07\n",
    "    return 0\n",
    "\n",
    "\n",
    "def best_promo(order):\n",
    "    return max(promo(order) for promo in promos)\n",
    "\n",
    "joe = Customer('John Doe', 0)\n",
    "ann = Customer('Ann Smith', 1100)\n",
    "cart = [LineItem('banana', 4, .5),\n",
    "        LineItem('apple', 10, 1.5),\n",
    "        LineItem('watermellon', 5, 5.0)]\n",
    "long_order = [LineItem(str(item_code), 1, 1.0)\n",
    "              for item_code in range(10)]\n",
    "banana_cart = [LineItem('banana', 30, .5),\n",
    "               LineItem('apple', 10, 1.5)]\n",
    "print(promos)\n",
    "print(Order(joe, long_order, best_promo))\n",
    "print(Order(joe, banana_cart, best_promo))\n",
    "print(Order(ann, cart, best_promo))"
   ]
  },
  {
   "cell_type": "code",
   "execution_count": 19,
   "metadata": {},
   "outputs": [
    {
     "name": "stdout",
     "output_type": "stream",
     "text": [
      "3\n",
      "6\n"
     ]
    }
   ],
   "source": [
    "b = 6 \n",
    "a = 3\n",
    "def f(a):\n",
    "    global b\n",
    "#     b = 9 \n",
    "#     nonlocal b\n",
    "    print(a)\n",
    "    print(b)\n",
    "    \n",
    "\n",
    "f(a)"
   ]
  },
  {
   "cell_type": "code",
   "execution_count": 1,
   "metadata": {
    "collapsed": true
   },
   "outputs": [],
   "source": [
    "from dis import dis"
   ]
  },
  {
   "cell_type": "code",
   "execution_count": 16,
   "metadata": {},
   "outputs": [
    {
     "name": "stdout",
     "output_type": "stream",
     "text": [
      "True\n",
      "10.0\n",
      "10.5\n",
      "11.0\n"
     ]
    },
    {
     "ename": "AttributeError",
     "evalue": "'Total' object has no attribute '__code__'",
     "output_type": "error",
     "traceback": [
      "\u001b[1;31m---------------------------------------------------------------------------\u001b[0m",
      "\u001b[1;31mAttributeError\u001b[0m                            Traceback (most recent call last)",
      "\u001b[1;32m<ipython-input-16-35611e658d5e>\u001b[0m in \u001b[0;36m<module>\u001b[1;34m()\u001b[0m\n\u001b[0;32m     11\u001b[0m \u001b[0mprint\u001b[0m\u001b[1;33m(\u001b[0m\u001b[0mt\u001b[0m\u001b[1;33m(\u001b[0m\u001b[1;36m11\u001b[0m\u001b[1;33m)\u001b[0m\u001b[1;33m)\u001b[0m\u001b[1;33m\u001b[0m\u001b[0m\n\u001b[0;32m     12\u001b[0m \u001b[0mprint\u001b[0m\u001b[1;33m(\u001b[0m\u001b[0mt\u001b[0m\u001b[1;33m(\u001b[0m\u001b[1;36m12\u001b[0m\u001b[1;33m)\u001b[0m\u001b[1;33m)\u001b[0m\u001b[1;33m\u001b[0m\u001b[0m\n\u001b[1;32m---> 13\u001b[1;33m \u001b[0mprint\u001b[0m\u001b[1;33m(\u001b[0m\u001b[0mt\u001b[0m\u001b[1;33m.\u001b[0m\u001b[0m__code__\u001b[0m\u001b[1;33m.\u001b[0m\u001b[0mco_freevars\u001b[0m\u001b[1;33m)\u001b[0m\u001b[1;33m\u001b[0m\u001b[0m\n\u001b[0m",
      "\u001b[1;31mAttributeError\u001b[0m: 'Total' object has no attribute '__code__'"
     ]
    }
   ],
   "source": [
    "class Total(object):\n",
    "    def __init__(self):\n",
    "        self.series = []\n",
    "    def __call__(self, number):\n",
    "        self.series.append(number)\n",
    "        total = sum(self.series)\n",
    "        return total/len(self.series)\n",
    "t = Total()\n",
    "print(callable(t))\n",
    "print(t(10))\n",
    "print(t(11))\n",
    "print(t(12))\n",
    "print(t.__code__.co_freevars)"
   ]
  },
  {
   "cell_type": "code",
   "execution_count": 18,
   "metadata": {},
   "outputs": [
    {
     "name": "stdout",
     "output_type": "stream",
     "text": [
      "True\n",
      "10.0\n",
      "10.5\n",
      "11.0\n",
      "('new_value', 'total')\n",
      "('series',)\n",
      "(<cell at 0x0000000004882D98: list object at 0x0000000004972BC8>,)\n",
      "[10, 11, 12]\n"
     ]
    }
   ],
   "source": [
    "def make_average():\n",
    "    series = []\n",
    "    \n",
    "    def average(new_value):\n",
    "        series.append(new_value)\n",
    "        total = sum(series)\n",
    "        return total/len(series)\n",
    "    \n",
    "    return average\n",
    "\n",
    "avg = make_average()\n",
    "print(callable(avg))\n",
    "print(avg(10))\n",
    "print(avg(11))\n",
    "print(avg(12))\n",
    "print(avg.__code__.co_varnames)\n",
    "print(avg.__code__.co_freevars)\n",
    "print(avg.__closure__)\n",
    "print(avg.__closure__[0].cell_contents)"
   ]
  },
  {
   "cell_type": "code",
   "execution_count": 25,
   "metadata": {},
   "outputs": [
    {
     "name": "stdout",
     "output_type": "stream",
     "text": [
      "10.0\n",
      "10.5\n",
      "11.0\n"
     ]
    }
   ],
   "source": [
    "def make_average():\n",
    "    count = 0\n",
    "    total = 0 \n",
    "    \n",
    "    def average(new_value):\n",
    "        \"\"\"使用不可变类型，需要声明\"\"\"\n",
    "#         UnboundLocalError                         \n",
    "#         Traceback (most recent call last)\n",
    "        nonlocal count, total\n",
    "        count += 1\n",
    "        total += new_value\n",
    "        return total/count\n",
    "    return average\n",
    "\n",
    "\n",
    "avg = make_average()\n",
    "print(avg(10))\n",
    "print(avg(11))\n",
    "print(avg(12))\n"
   ]
  },
  {
   "cell_type": "code",
   "execution_count": 33,
   "metadata": {},
   "outputs": [
    {
     "name": "stdout",
     "output_type": "stream",
     "text": [
      "[0.99989105s] sleep(1) -> None\n",
      "None\n",
      "[0.00000079s] factorial(1) -> 1\n",
      "[0.00008013s] factorial(2) -> 2\n",
      "[0.00014250s] factorial(3) -> 6\n",
      "[0.00020447s] factorial(4) -> 24\n",
      "[0.00272166s] factorial(5) -> 120\n",
      "[0.00372941s] factorial(6) -> 720\n",
      "[0.00381112s] factorial(7) -> 5040\n",
      "[0.00387151s] factorial(8) -> 40320\n",
      "[0.00504149s] factorial(9) -> 362880\n",
      "[0.00507741s] factorial(10) -> 3628800\n",
      "3628800\n"
     ]
    }
   ],
   "source": [
    "import time\n",
    "\n",
    "def clock(func):\n",
    "    def clockd(*args):\n",
    "        start = time.perf_counter()\n",
    "        result = func(*args)\n",
    "        cost = time.perf_counter() - start\n",
    "        arg_str = \", \".join(repr(arg) for arg in args)\n",
    "        name = func.__name__\n",
    "        print(\"[%0.8fs] %s(%s) -> %r\" %(cost, name, arg_str, result))\n",
    "        return result \n",
    "    return clockd\n",
    "\n",
    "\n",
    "@clock\n",
    "def sleep(n):\n",
    "    time.sleep(n)\n",
    "\n",
    "@clock\n",
    "def factorial(n):\n",
    "     return 1 if n < 2 else n*factorial(n-1)\n",
    "    \n",
    "print(sleep(1))\n",
    "print(factorial(10))\n",
    "    "
   ]
  },
  {
   "cell_type": "code",
   "execution_count": 38,
   "metadata": {},
   "outputs": [
    {
     "name": "stdout",
     "output_type": "stream",
     "text": [
      "[0.99982474s] sleep(1) -> None\n",
      "None\n",
      "[0.00000079s] factorial(1) -> 1\n",
      "[0.00005684s] factorial(2) -> 2\n",
      "[0.00013145s] factorial(3) -> 6\n",
      "[0.00018987s] factorial(4) -> 24\n",
      "[0.00024750s] factorial(5) -> 120\n",
      "[0.00029723s] factorial(6) -> 720\n",
      "[0.00033039s] factorial(7) -> 5040\n",
      "[0.00036394s] factorial(8) -> 40320\n",
      "[0.00039512s] factorial(9) -> 362880\n",
      "[0.00045512s] factorial(10) -> 3628800\n",
      "3628800\n"
     ]
    }
   ],
   "source": [
    "import time\n",
    "import functools\n",
    "\n",
    "\n",
    "def clock(func):\n",
    "    @functools.wraps(func)\n",
    "    def clockd(*args, **kwargs):\n",
    "        start = time.perf_counter()\n",
    "        result = func(*args)\n",
    "        cost = time.perf_counter() - start\n",
    "        name = func.__name__\n",
    "        arg_lst = []\n",
    "        if args:\n",
    "            arg_lst.append(\", \".join(repr(arg) for arg in args))\n",
    "        if kwargs:\n",
    "            pairs = [\"%s=%r\" %(k, w) for k, w in sorted(kwargs.items())]\n",
    "            arg_lst.append(\", \".join(pairs))\n",
    "        arg_str = \", \".join(arg_lst)\n",
    "        print(\"[%0.8fs] %s(%s) -> %r\" %(cost, name, arg_str, result))\n",
    "        return result \n",
    "    return clockd\n",
    "\n",
    "\n",
    "@clock\n",
    "def sleep(n):\n",
    "    time.sleep(n)\n",
    "\n",
    "@clock\n",
    "def factorial(n):\n",
    "     return 1 if n < 2 else n*factorial(n-1)\n",
    "    \n",
    "print(sleep(1))\n",
    "print(factorial(10))\n",
    "    "
   ]
  },
  {
   "cell_type": "code",
   "execution_count": 41,
   "metadata": {},
   "outputs": [
    {
     "name": "stdout",
     "output_type": "stream",
     "text": [
      "[0.00000079s] fibonacci(2) -> 1\n",
      "[0.00000118s] fibonacci(1) -> 1\n",
      "[0.00035091s] fibonacci(3) -> 2\n",
      "[0.00000079s] fibonacci(2) -> 1\n",
      "[0.00046026s] fibonacci(4) -> 3\n",
      "[0.00000079s] fibonacci(2) -> 1\n",
      "[0.00000118s] fibonacci(1) -> 1\n",
      "[0.00012473s] fibonacci(3) -> 2\n",
      "[0.00069828s] fibonacci(5) -> 5\n",
      "[0.00000079s] fibonacci(2) -> 1\n",
      "[0.00000079s] fibonacci(1) -> 1\n",
      "[0.00010737s] fibonacci(3) -> 2\n",
      "[0.00000079s] fibonacci(2) -> 1\n",
      "[0.00023052s] fibonacci(4) -> 3\n",
      "[0.00104169s] fibonacci(6) -> 8\n"
     ]
    },
    {
     "data": {
      "text/plain": [
       "8"
      ]
     },
     "execution_count": 41,
     "metadata": {},
     "output_type": "execute_result"
    }
   ],
   "source": [
    "@clock\n",
    "def fibonacci(n):\n",
    "    if n<=2:\n",
    "        return 1 \n",
    "    return fibonacci(n-1) + fibonacci(n-2)\n",
    "\n",
    "fibonacci(6)"
   ]
  },
  {
   "cell_type": "code",
   "execution_count": 3,
   "metadata": {},
   "outputs": [
    {
     "name": "stdout",
     "output_type": "stream",
     "text": [
      "[0.00000079s] fibonacci(2) -> 1\n",
      "[0.00000118s] fibonacci(1) -> 1\n",
      "[0.00073814s] fibonacci(3) -> 2\n",
      "[0.00077249s] fibonacci(4) -> 3\n",
      "[0.00080446s] fibonacci(5) -> 5\n",
      "[0.00083722s] fibonacci(6) -> 8\n"
     ]
    },
    {
     "data": {
      "text/plain": [
       "8"
      ]
     },
     "execution_count": 3,
     "metadata": {},
     "output_type": "execute_result"
    }
   ],
   "source": [
    "import time\n",
    "import functools\n",
    "\n",
    "def clock(func):\n",
    "    @functools.wraps(func)\n",
    "    def clockd(*args, **kwargs):\n",
    "        start = time.perf_counter()\n",
    "        result = func(*args)\n",
    "        cost = time.perf_counter() - start\n",
    "        name = func.__name__\n",
    "        arg_lst = []\n",
    "        if args:\n",
    "            arg_lst.append(\", \".join(repr(arg) for arg in args))\n",
    "        if kwargs:\n",
    "            pairs = [\"%s=%r\" %(k, w) for k, w in sorted(kwargs.items())]\n",
    "            arg_lst.append(\", \".join(pairs))\n",
    "        arg_str = \", \".join(arg_lst)\n",
    "        print(\"[%0.8fs] %s(%s) -> %r\" %(cost, name, arg_str, result))\n",
    "        return result \n",
    "    return clockd\n",
    "\n",
    "\n",
    "@functools.lru_cache()\n",
    "@clock\n",
    "def fibonacci(n):\n",
    "    if n<=2:\n",
    "        return 1 \n",
    "    return fibonacci(n-1) + fibonacci(n-2)\n",
    "\n",
    "fibonacci(6)\n"
   ]
  },
  {
   "cell_type": "code",
   "execution_count": 8,
   "metadata": {},
   "outputs": [
    {
     "name": "stdout",
     "output_type": "stream",
     "text": [
      "<pre>{1, 2, 3}</per>\n",
      "<pre>&lt;built-in function abs&gt;</per>\n",
      "<pre>&#x27;Heimlich &amp; Co.\\n- a game&#x27;</per>\n",
      "<pre>42</per>\n",
      "<pre>[&#x27;alpha&#x27;, 66, {1, 2, 3}]</per>\n",
      "<pre>[&#x27;alpha&#x27;, 66, {1, 2, 3}]</per>\n",
      "<pre>[1, 2, 3]</per>\n"
     ]
    }
   ],
   "source": [
    "import html\n",
    "\n",
    "\n",
    "def htmlize(obj):\n",
    "    content = html.escape(repr(obj))\n",
    "    return \"<pre>{}</per>\".format(content)\n",
    "\n",
    "print(htmlize({1,2,3}))\n",
    "print(htmlize(abs))\n",
    "print(htmlize(\"Heimlich & Co.\\n- a game\"))\n",
    "print(htmlize(42))\n",
    "print(htmlize(['alpha', 66, {1, 2, 3}]))\n",
    "print(htmlize([1, 2, 3]))"
   ]
  },
  {
   "cell_type": "code",
   "execution_count": 12,
   "metadata": {},
   "outputs": [
    {
     "name": "stdout",
     "output_type": "stream",
     "text": [
      "<pre>{1, 2, 3}</pre>\n",
      "<pre>&lt;built-in function abs&gt;</pre>\n",
      "<p>Heimlich &amp; Co.<br>\n",
      "- a game</p>\n",
      "<pre>42 (0x2a)</pre>\n",
      "<ul>\n",
      "<li><p>alpha</p><li>\n",
      "</li><pre>66 (0x42)</pre><li>\n",
      "</li><pre>{1, 2, 3}</pre></li>\n",
      "</ul>\n",
      "<ul>\n",
      "<li><pre>1 (0x1)</pre><li>\n",
      "</li><pre>2 (0x2)</pre><li>\n",
      "</li><pre>3 (0x3)</pre></li>\n",
      "</ul>\n"
     ]
    }
   ],
   "source": [
    "from functools import singledispatch\n",
    "from collections import abc\n",
    "import numbers\n",
    "import html\n",
    "\n",
    "\n",
    "@singledispatch\n",
    "def htmlize(obj):\n",
    "    content = html.escape(repr(obj))\n",
    "    return \"<pre>{}</pre>\".format(content)\n",
    "\n",
    "\n",
    "@htmlize.register(str)\n",
    "def _(text):\n",
    "    content = html.escape(text).replace('\\n', '<br>\\n')\n",
    "    return \"<p>{0}</p>\".format(content)\n",
    "\n",
    "@htmlize.register(numbers.Integral)\n",
    "def _(n):\n",
    "    return \"<pre>{0} (0x{0:x})</pre>\".format(n)\n",
    "\n",
    "@htmlize.register(tuple)\n",
    "@htmlize.register(abc.MutableSequence)\n",
    "def _(seq):\n",
    "    inner = \"<li>\\n</li>\".join(htmlize(item) for item in seq)\n",
    "    return \"<ul>\\n<li>\" + inner + \"</li>\\n</ul>\"\n",
    "\n",
    "print(htmlize({1,2,3}))\n",
    "print(htmlize(abs))\n",
    "print(htmlize(\"Heimlich & Co.\\n- a game\"))\n",
    "print(htmlize(42))\n",
    "print(htmlize(['alpha', 66, {1, 2, 3}]))\n",
    "print(htmlize([1, 2, 3]))\n"
   ]
  },
  {
   "cell_type": "code",
   "execution_count": 4,
   "metadata": {},
   "outputs": [
    {
     "name": "stdout",
     "output_type": "stream",
     "text": [
      "register function <function f1 at 0x00000000048DD840>\n",
      "running main\n",
      "registrey [<function f1 at 0x00000000048DD840>]\n"
     ]
    }
   ],
   "source": [
    "registey = []\n",
    "\n",
    "def register(func):\n",
    "    print(\"register function {}\".format(func))\n",
    "    registey.append(func)\n",
    "    return func\n",
    "\n",
    "@register\n",
    "def f1():\n",
    "    print(\"register f1\")\n",
    "    \n",
    "print(\"running main\")\n",
    "print(\"registrey\", registey)\n",
    "# f1()"
   ]
  },
  {
   "cell_type": "code",
   "execution_count": 11,
   "metadata": {},
   "outputs": [
    {
     "name": "stdout",
     "output_type": "stream",
     "text": [
      "running register(active=False)->decorate(<function f1 at 0x00000000048D06A8>)\n",
      "running register(active=True)->decorate(<function f2 at 0x00000000048D08C8>)\n",
      "{<function f2 at 0x00000000048D08C8>}\n",
      "******************************\n",
      "running register(active=True)->decorate(<function f3 at 0x00000000048D0378>)\n"
     ]
    },
    {
     "data": {
      "text/plain": [
       "<function __main__.f3>"
      ]
     },
     "execution_count": 11,
     "metadata": {},
     "output_type": "execute_result"
    }
   ],
   "source": [
    "registry = set()\n",
    "\n",
    "def register(active=True):\n",
    "    def decorate(func):\n",
    "        print(\"running register(active={})->decorate({})\".format(active, func))\n",
    "        if active:\n",
    "            registry.add(func)\n",
    "        else:\n",
    "            registry.discard(func)\n",
    "        return func\n",
    "    return decorate\n",
    "\n",
    "@register(active=False)\n",
    "def f1():\n",
    "    print(\"running f1()\")\n",
    "\n",
    "@register()\n",
    "def f2():\n",
    "    print(\"running f2()\")\n",
    "    \n",
    "def f3():\n",
    "    print(\"running f3()\")\n",
    "    \n",
    "\n",
    "print(registry)\n",
    "print(\"*\"*30)\n",
    "register()(f3)"
   ]
  },
  {
   "cell_type": "code",
   "execution_count": 1,
   "metadata": {},
   "outputs": [
    {
     "name": "stdout",
     "output_type": "stream",
     "text": [
      "True\n",
      "76359240 76359240\n",
      "76359240 76359240\n",
      "{'born': 1832, 'name': 'Charles L. Dodgson', 'balance': 950}\n",
      "True\n",
      "76358984 76359240\n",
      "False\n"
     ]
    }
   ],
   "source": [
    "charles = {'name': 'Charles L. Dodgson', 'born': 1832}\n",
    "lewis = charles\n",
    "print(lewis is charles)\n",
    "print(id(charles), id(lewis))\n",
    "lewis['balance']=950\n",
    "print(id(charles), id(lewis))\n",
    "print(charles)\n",
    "alex = {'name': 'Charles L. Dodgson', 'born': 1832, 'balance': 950}\n",
    "print(alex  == charles) # == 只比较值\n",
    "print(id(alex), id(charles)) \n",
    "print(alex is charles) # is 比较值和idzhi"
   ]
  },
  {
   "cell_type": "code",
   "execution_count": 1,
   "metadata": {},
   "outputs": [
    {
     "name": "stdout",
     "output_type": "stream",
     "text": [
      "True\n",
      "75295112\n",
      "75295112\n",
      "False\n"
     ]
    }
   ],
   "source": [
    "t1 = (1, 2, [3, 4])\n",
    "t2 = (1, 2, [3, 4])\n",
    "print(t1 == t2)\n",
    "print(id(t1[-1]))\n",
    "t1[-1].append(5)\n",
    "print(id(t1[-1]))\n",
    "print(t1 == t2)"
   ]
  },
  {
   "cell_type": "code",
   "execution_count": 2,
   "metadata": {},
   "outputs": [
    {
     "name": "stdout",
     "output_type": "stream",
     "text": [
      "True\n",
      "True\n",
      "75254152 75254152\n"
     ]
    }
   ],
   "source": [
    "l1 = [1, 2, 3]\n",
    "l2 = l1\n",
    "print(l1 == l2)\n",
    "print(l1 is l2)\n",
    "print(id(l1), id(l2))"
   ]
  },
  {
   "cell_type": "code",
   "execution_count": 5,
   "metadata": {},
   "outputs": [
    {
     "name": "stdout",
     "output_type": "stream",
     "text": [
      "True\n",
      "False\n",
      "76316488 76362760\n",
      "--------------------------------------------------\n",
      "True\n",
      "False\n",
      "76323656 76315592\n"
     ]
    }
   ],
   "source": [
    "l1 = [1, 2, 3]\n",
    "l2 = list(l1)\n",
    "print(l1 == l2)\n",
    "print(l1 is l2)\n",
    "print(id(l1), id(l2))\n",
    "print(\"-\"*50)\n",
    "\n",
    "l1 = [1, 2, 3]\n",
    "l2 = l1[:]\n",
    "print(l1 == l2)\n",
    "print(l1 is l2)\n",
    "print(id(l1), id(l2))"
   ]
  },
  {
   "cell_type": "code",
   "execution_count": 7,
   "metadata": {},
   "outputs": [
    {
     "name": "stdout",
     "output_type": "stream",
     "text": [
      "l1: [1, [3, 2], (5, 6, 7), 8]\n",
      "l2: [1, [3, 2], (5, 6, 7)]\n",
      "l1: [1, [3, 2, 44, 33, 22], (5, 6, 7), 8]\n",
      "l2: [1, [3, 2, 44, 33, 22], (5, 6, 7, 9, 10, 11)]\n"
     ]
    }
   ],
   "source": [
    "l1 = [1, [4, 3, 2], (5, 6, 7)]\n",
    "l2 = list(l1)\n",
    "l1.append(8)\n",
    "l1[1].remove(4)\n",
    "print('l1:', l1)\n",
    "print('l2:', l2)\n",
    "l2[1] += [44, 33, 22]\n",
    "l2[2] += (9, 10, 11)\n",
    "print('l1:', l1)\n",
    "print('l2:', l2)\n",
    "# 下述两点是对于列表中嵌套的类型的\n",
    "# 不可变类型 复制出来之后添加在l2中，l1是没有的\n",
    "# 可以变形 复制出来是共享数据的"
   ]
  },
  {
   "cell_type": "code",
   "execution_count": 10,
   "metadata": {},
   "outputs": [
    {
     "name": "stdout",
     "output_type": "stream",
     "text": [
      "l1: [1, [3, 2], (5, 6, 7), 8]\n",
      "l2: [1, [3, 2], (5, 6, 7)]\n",
      "l1: [1, [3, 2, 44, 33, 22], (5, 6, 7), 8]\n",
      "l2: [1, [3, 2, 44, 33, 22], (5, 6, 7, 9, 10, 11)]\n",
      "--------------------------------------------------\n",
      "l1: [1, [3, 2], (5, 6, 7), 8]\n",
      "l2: [1, [4, 3, 2], (5, 6, 7)]\n",
      "l1: [1, [3, 2], (5, 6, 7), 8]\n",
      "l2: [1, [4, 3, 2, 44, 33, 22], (5, 6, 7, 9, 10, 11)]\n"
     ]
    }
   ],
   "source": [
    "from copy import copy, deepcopy\n",
    "l1 = [1, [4, 3, 2], (5, 6, 7)]\n",
    "l2 = copy(l1)\n",
    "l1.append(8)\n",
    "l1[1].remove(4)\n",
    "print('l1:', l1)\n",
    "print('l2:', l2)\n",
    "l2[1] += [44, 33, 22]\n",
    "l2[2] += (9, 10, 11)\n",
    "print('l1:', l1)\n",
    "print('l2:', l2)\n",
    "\n",
    "print(\"-\"*50)\n",
    "\n",
    "l1 = [1, [4, 3, 2], (5, 6, 7)]\n",
    "l2 = deepcopy(l1)\n",
    "l1.append(8)\n",
    "l1[1].remove(4)\n",
    "print('l1:', l1)\n",
    "print('l2:', l2)\n",
    "l2[1] += [44, 33, 22]\n",
    "l2[2] += (9, 10, 11)\n",
    "print('l1:', l1)\n",
    "print('l2:', l2)\n",
    "# 深拷贝时，对可变类型是直接拷贝出来一份（新的内存空间），不可变类型还是指向相同的内存空间，\n",
    "# 但是当不可变类型进行修改时，会重新开辟出一个内存空间，进行操作\n"
   ]
  },
  {
   "cell_type": "code",
   "execution_count": 12,
   "metadata": {},
   "outputs": [
    {
     "name": "stdout",
     "output_type": "stream",
     "text": [
      "77671280 77671224 76181400\n",
      "['Bbb', 'Ccc', 'Ddd']\n",
      "77664072 77664072 77664008\n",
      "['Aaa', 'Bbb', 'Ccc', 'Ddd']\n"
     ]
    }
   ],
   "source": [
    "from copy import copy, deepcopy\n",
    "\n",
    "\n",
    "class Bus(object):\n",
    "    def __init__(self, passengers=None):\n",
    "        if passengers is None:\n",
    "            self.passengers = []\n",
    "        else:\n",
    "            self.passengers = passengers\n",
    "            \n",
    "    def pick(self, name):\n",
    "        self.passengers.append(name)\n",
    "        \n",
    "    def drop(self, name):\n",
    "        self.passengers.remove(name)\n",
    "        \n",
    "b1 = Bus([\"Aaa\", \"Bbb\", \"Ccc\", \"Ddd\"])\n",
    "b2 = copy(b1)\n",
    "b3 = deepcopy(b1)\n",
    "print(id(b1), id(b2), id(b3))\n",
    "b1.drop(\"Aaa\")\n",
    "print(b2.passengers)\n",
    "print(id(b1.passengers), id(b2.passengers), id(b3.passengers))\n",
    "\n",
    "print(b3.passengers)"
   ]
  },
  {
   "cell_type": "code",
   "execution_count": 2,
   "metadata": {},
   "outputs": [
    {
     "name": "stdout",
     "output_type": "stream",
     "text": [
      "[10, 20, [[...], 30]]\n",
      "[[10, 20, [...]], 30]\n",
      "[10, 20, [[...], 30]]\n"
     ]
    }
   ],
   "source": [
    "from copy import deepcopy\n",
    "\n",
    "\n",
    "a = [10, 20]\n",
    "b = [a, 30]\n",
    "a.append(b)\n",
    "print(a)\n",
    "print(b)\n",
    "c = deepcopy(a)\n",
    "print(c)"
   ]
  },
  {
   "cell_type": "code",
   "execution_count": 12,
   "metadata": {},
   "outputs": [
    {
     "name": "stdout",
     "output_type": "stream",
     "text": [
      "['Aaa', 'Bbb', 'Ccc']\n",
      "['Bbb', 'Ccc', 'Ddd']\n",
      "['Eee']\n",
      "['Fff']\n",
      "['Eee']\n",
      "False\n",
      "['__class__', '__delattr__', '__dict__', '__dir__', '__doc__', '__eq__', '__format__', '__ge__', '__getattribute__', '__gt__', '__hash__', '__init__', '__le__', '__lt__', '__module__', '__ne__', '__new__', '__reduce__', '__reduce_ex__', '__repr__', '__setattr__', '__sizeof__', '__str__', '__subclasshook__', '__weakref__', 'drop', 'pick']\n",
      "(None,)\n"
     ]
    }
   ],
   "source": [
    "class Bus(object):\n",
    "    def __init__(self, passengers=None):\n",
    "        if passengers is None:\n",
    "            self.passengers = []\n",
    "        else:\n",
    "            self.passengers = list(passengers)\n",
    "        \n",
    "    def drop(self, name):\n",
    "        self.passengers.remove(name)\n",
    "        \n",
    "    def pick(self, name):\n",
    "        self.passengers.append(name)\n",
    "        \n",
    "b1 = Bus([\"Aaa\", \"Bbb\", \"Ccc\"])\n",
    "print(b1.passengers)\n",
    "b1.pick(\"Ddd\")\n",
    "b1.drop(\"Aaa\")\n",
    "print(b1.passengers)\n",
    "b2 = Bus()\n",
    "b2.pick(\"Eee\")\n",
    "print(b2.passengers)\n",
    "b3 = Bus()\n",
    "b3.pick(\"Fff\")\n",
    "print(b3.passengers)\n",
    "print(b2.passengers)\n",
    "print(b2.passengers is b3.passengers)\n",
    "\n",
    "\n",
    "print(dir(Bus))\n",
    "print(Bus.__init__.__defaults__)"
   ]
  },
  {
   "cell_type": "code",
   "execution_count": 24,
   "metadata": {},
   "outputs": [
    {
     "name": "stdout",
     "output_type": "stream",
     "text": [
      "Over the function\n",
      "False\n"
     ]
    }
   ],
   "source": [
    "import weakref\n",
    "s1 = {1, 2, 3}\n",
    "s2 = s1\n",
    "def bye():\n",
    "    print(\"Over the function\")\n",
    "    \n",
    "ender = weakref.finalize(s1, bye)\n",
    "# print(ender.alive)\n",
    "del s1\n",
    "# print(ender.alive)\n",
    "# print(s2)\n",
    "s2 = \"spam\"\n",
    "print(ender.alive)\n"
   ]
  },
  {
   "cell_type": "code",
   "execution_count": 30,
   "metadata": {},
   "outputs": [
    {
     "name": "stdout",
     "output_type": "stream",
     "text": [
      "{0, 1}\n",
      "False\n",
      "None\n",
      "True\n"
     ]
    }
   ],
   "source": [
    "import weakref\n",
    "a_set = {0, 1}\n",
    "wref = weakref.ref(a_set)\n",
    "print(wref())\n",
    "print(wref() is None)\n",
    "a_set = {2, 3, 4}\n",
    "print(wref())\n",
    "print(wref() is None)"
   ]
  },
  {
   "cell_type": "code",
   "execution_count": 36,
   "metadata": {},
   "outputs": [
    {
     "name": "stdout",
     "output_type": "stream",
     "text": [
      "['Aaa', 'Bbb', 'Ccc']\n",
      "['Ccc']\n",
      "Cheese('Ccc')\n",
      "[]\n"
     ]
    }
   ],
   "source": [
    "class Cheese:\n",
    "    def __init__(self, kind):\n",
    "        self.kind = kind\n",
    "        \n",
    "    def __repr__(self):\n",
    "        return \"Cheese(%r)\" %self.kind\n",
    "    \n",
    "\n",
    "import weakref\n",
    "stock = weakref.WeakValueDictionary()\n",
    "catalog = [Cheese(\"Aaa\"), Cheese(\"Bbb\"), Cheese(\"Ccc\")]\n",
    "for cheese in catalog:\n",
    "    stock[cheese.kind] = cheese\n",
    "\n",
    "print(sorted(stock.keys()))\n",
    "del catalog\n",
    "print(sorted(stock.keys()))\n",
    "print(cheese)\n",
    "del cheese\n",
    "print(sorted(stock.keys()))\n",
    "        "
   ]
  },
  {
   "cell_type": "code",
   "execution_count": 15,
   "metadata": {},
   "outputs": [
    {
     "data": {
      "text/plain": [
       "False"
      ]
     },
     "execution_count": 15,
     "metadata": {},
     "output_type": "execute_result"
    },
    {
     "data": {
      "text/plain": [
       "False"
      ]
     },
     "execution_count": 15,
     "metadata": {},
     "output_type": "execute_result"
    },
    {
     "data": {
      "text/plain": [
       "True"
      ]
     },
     "execution_count": 15,
     "metadata": {},
     "output_type": "execute_result"
    },
    {
     "data": {
      "text/plain": [
       "False"
      ]
     },
     "execution_count": 15,
     "metadata": {},
     "output_type": "execute_result"
    },
    {
     "data": {
      "text/plain": [
       "True"
      ]
     },
     "execution_count": 15,
     "metadata": {},
     "output_type": "execute_result"
    },
    {
     "data": {
      "text/plain": [
       "True"
      ]
     },
     "execution_count": 15,
     "metadata": {},
     "output_type": "execute_result"
    },
    {
     "data": {
      "text/plain": [
       "False"
      ]
     },
     "execution_count": 15,
     "metadata": {},
     "output_type": "execute_result"
    },
    {
     "data": {
      "text/plain": [
       "True"
      ]
     },
     "execution_count": 15,
     "metadata": {},
     "output_type": "execute_result"
    },
    {
     "data": {
      "text/plain": [
       "True"
      ]
     },
     "execution_count": 15,
     "metadata": {},
     "output_type": "execute_result"
    },
    {
     "data": {
      "text/plain": [
       "False"
      ]
     },
     "execution_count": 15,
     "metadata": {},
     "output_type": "execute_result"
    }
   ],
   "source": [
    "from IPython.core.interactiveshell import InteractiveShell\n",
    "InteractiveShell.ast_node_interactivity = \"all\"\n",
    "\n",
    "l1 = [1, 2, 3]\n",
    "l2 = list(l1)\n",
    "l2 is l1\n",
    "s1 = {1, 2, 3}\n",
    "s2 = set(s1)\n",
    "s2 is s1\n",
    "t1 = (1, 2, 3)\n",
    "t2 = tuple(t1)\n",
    "t1 is t2\n",
    "d1 = {\"a\": 1}\n",
    "d2 = dict(d1)\n",
    "d2 is d1\n",
    "t3 = t1[:]\n",
    "t2 is t3 and t1 is t3\n",
    "\n",
    "s1 = \"abc\"\n",
    "s2 = str(s1)\n",
    "s2 is s1\n",
    "\n",
    "# 不可变类型，拷贝时还是指向同样的对象\n",
    "# str, bytes and frozenset\n",
    "\n",
    "\n",
    "t1 = (1, 2, 3)\n",
    "t2 = (1, 2, 3)\n",
    "t1 is t2\n",
    "\n",
    "s1 = \"abc\"\n",
    "s2 = \"abc\"\n",
    "s1 is s2\n",
    "\n",
    "\n",
    "\n",
    "t3 = frozenset([1, 2, 3])\n",
    "t4 = frozenset.copy(t3)\n",
    "t3 is t4\n",
    "\n",
    "t5 = frozenset([1, 2, 3])\n",
    "t6 = frozenset([1, 2, 3])\n",
    "t5 is t6\n"
   ]
  },
  {
   "cell_type": "code",
   "execution_count": 6,
   "metadata": {},
   "outputs": [
    {
     "name": "stdout",
     "output_type": "stream",
     "text": [
      " "
     ]
    }
   ],
   "source": [
    "import time\n",
    "%prun time.sleep(1)"
   ]
  },
  {
   "cell_type": "markdown",
   "metadata": {
    "collapsed": true
   },
   "source": [
    "# Pythonic object"
   ]
  },
  {
   "cell_type": "code",
   "execution_count": 14,
   "metadata": {},
   "outputs": [
    {
     "name": "stdout",
     "output_type": "stream",
     "text": [
      "3 4\n",
      "3 4\n",
      "(3, 4)\n",
      "Vector2d(3,4)\n",
      "(3, 4)\n",
      "b'd\\x00\\x00\\x00\\x00\\x00\\x00\\x08@\\x00\\x00\\x00\\x00\\x00\\x00\\x10@'\n",
      "5.0\n",
      "True False\n"
     ]
    }
   ],
   "source": [
    "from array import array\n",
    "import math\n",
    "\n",
    "\n",
    "class Vector2d():\n",
    "    typecode = \"d\"\n",
    "    def __init__(self, x, y):\n",
    "        self.x = x\n",
    "        self.y = y\n",
    "    \n",
    "    def __str__(self):\n",
    "        return str(tuple(self))\n",
    "\n",
    "    def __repr__(self):\n",
    "        class_name = type(self).__name__\n",
    "        return \"{}({!r},{!r})\".format(class_name, *self)\n",
    "    \n",
    "    def __iter__(self):\n",
    "        return (i for i in (self.x, self.y))\n",
    "    \n",
    "    def __abs__(self):\n",
    "        return math.hypot(self.x, self.y)\n",
    "\n",
    "    def __eq__(self, other):\n",
    "        return tuple(self) == tuple(other)\n",
    "    \n",
    "    def __bool__(self):\n",
    "        return bool(abs(self))\n",
    "    \n",
    "    def __bytes__(self):\n",
    "        return (bytes([ord(self.typecode)])+\n",
    "                bytes(array(self.typecode, self)))\n",
    "    \n",
    "#     def __bytes__(self):\n",
    "#         return (bytes([ord(self.typecode)]) +\n",
    "#                 bytes(array(self.typecode, self)))\n",
    "\n",
    "v1 = Vector2d(3, 4)\n",
    "print(v1.x, v1.y)\n",
    "x, y = v1\n",
    "print(x,y)\n",
    "print(v1)\n",
    "print(repr(v1))\n",
    "v1_clone = eval(repr(v1))\n",
    "print(v1)\n",
    "octets = bytes(v1)\n",
    "print(octets)\n",
    "print(abs(v1))\n",
    "print(bool(v1), bool(Vector2d(0, 0)))\n"
   ]
  },
  {
   "cell_type": "code",
   "execution_count": 18,
   "metadata": {},
   "outputs": [
    {
     "name": "stdout",
     "output_type": "stream",
     "text": [
      "(3, 4)\n"
     ]
    }
   ],
   "source": [
    "from array import array\n",
    "import math\n",
    "\n",
    "\n",
    "class Vector2d():\n",
    "    typecode = \"d\"\n",
    "    def __init__(self, x, y):\n",
    "        self.x = x\n",
    "        self.y = y\n",
    "    \n",
    "    def __str__(self):\n",
    "        return str(tuple(self))\n",
    "\n",
    "    def __repr__(self):\n",
    "        class_name = type(self).__name__\n",
    "        return \"{}({!r},{!r})\".format(class_name, *self)\n",
    "    \n",
    "    def __iter__(self):\n",
    "        return (i for i in (self.x, self.y))\n",
    "    \n",
    "    def __abs__(self):\n",
    "        return math.hypot(self.x, self.y)\n",
    "\n",
    "    def __eq__(self, other):\n",
    "        return tuple(self) == tuple(other)\n",
    "    \n",
    "    def __bool__(self):\n",
    "        return bool(abs(self))\n",
    "    \n",
    "    def __bytes__(self):\n",
    "        return (bytes([ord(self.typecode)])+\n",
    "                bytes(array(self.typecode, self)))\n",
    "    \n",
    "    @classmethod\n",
    "    def frombytes(cls, octests):\n",
    "        typecode = chr(octests[0])\n",
    "        memv = memoryview(octests[1:]).cast(typecode)\n",
    "        return cls(*memv)\n",
    "    \n",
    "# v1 = Vector2d(3, 4)\n",
    "# print(v1.x, v1.y)\n",
    "# x, y = v1\n",
    "# print(x,y)\n",
    "# print(v1)\n",
    "# print(repr(v1))\n",
    "# v1_clone = eval(repr(v1))\n",
    "# print(v1)\n",
    "# octets = bytes(v1)\n",
    "# print(octets)\n",
    "# print(abs(v1))\n",
    "# print(bool(v1), bool(Vector2d(0, 0)))\n",
    "v1 = Vector2d(3, 4)\n",
    "print(format(v1))  # __str__\n",
    "try:\n",
    "    print(format(v1, \"%.3f\"))\n",
    "except TypeError:\n",
    "    pass\n",
    "# TypeError: non-empty format string passed to object.__format__\n",
    "# 需要具体实现这个方法"
   ]
  },
  {
   "cell_type": "code",
   "execution_count": 3,
   "metadata": {},
   "outputs": [
    {
     "name": "stdout",
     "output_type": "stream",
     "text": [
      "(<class '__main__.Demo'>,)\n",
      "(<class '__main__.Demo'>, 'test')\n",
      "()\n",
      "('test',)\n"
     ]
    }
   ],
   "source": [
    "class Demo:\n",
    "    @classmethod\n",
    "    def classfunc(*args):\n",
    "        return args\n",
    "        \n",
    "    @staticmethod\n",
    "    def staticfunc(*args):\n",
    "        return args\n",
    "    \n",
    "print(Demo.classfunc())\n",
    "print(Demo.classfunc(\"test\"))\n",
    "print(Demo.staticfunc())\n",
    "print(Demo.staticfunc(\"test\"))\n"
   ]
  },
  {
   "cell_type": "code",
   "execution_count": 5,
   "metadata": {},
   "outputs": [
    {
     "name": "stdout",
     "output_type": "stream",
     "text": [
      "0.4115226337448559\n",
      "0.4115\n",
      "1 BRL = 0.41 USD\n"
     ]
    }
   ],
   "source": [
    "brl = 1/2.43\n",
    "print(brl)\n",
    "print(format(brl, \"0.4f\"))\n",
    "print(\"1 BRL = {rate:0.2f} USD\".format(rate=brl))"
   ]
  },
  {
   "cell_type": "code",
   "execution_count": 13,
   "metadata": {},
   "outputs": [
    {
     "name": "stdout",
     "output_type": "stream",
     "text": [
      "2017-05-25  15:57:49\n",
      "It's now 03:57 PM\n"
     ]
    }
   ],
   "source": [
    "from datetime import datetime\n",
    "now = datetime.now()\n",
    "print(format(now, \"%Y-%m-%d  %H:%M:%S\"))\n",
    "print(\"It's now {:%I:%M %p}\".format(now))"
   ]
  },
  {
   "cell_type": "code",
   "execution_count": 20,
   "metadata": {},
   "outputs": [
    {
     "name": "stdout",
     "output_type": "stream",
     "text": [
      "(3, 4)\n",
      "(3.00, 4.00)\n",
      "(3.000e+00, 4.000e+00)\n"
     ]
    }
   ],
   "source": [
    "from array import array\n",
    "import math\n",
    "\n",
    "\n",
    "class Vector2d():\n",
    "    typecode = \"d\"\n",
    "    def __init__(self, x, y):\n",
    "        self.x = x\n",
    "        self.y = y\n",
    "    \n",
    "    def __str__(self):\n",
    "        return str(tuple(self))\n",
    "\n",
    "    def __repr__(self):\n",
    "        class_name = type(self).__name__\n",
    "        return \"{}({!r},{!r})\".format(class_name, *self)\n",
    "    \n",
    "    def __iter__(self):\n",
    "        return (i for i in (self.x, self.y))\n",
    "    \n",
    "    def __abs__(self):\n",
    "        return math.hypot(self.x, self.y)\n",
    "\n",
    "    def __eq__(self, other):\n",
    "        return tuple(self) == tuple(other)\n",
    "    \n",
    "    def __bool__(self):\n",
    "        return bool(abs(self))\n",
    "    \n",
    "    def __bytes__(self):\n",
    "        return (bytes([ord(self.typecode)])+\n",
    "                bytes(array(self.typecode, self)))\n",
    "    \n",
    "    def __format__(self, fmt_spec=\"\"):\n",
    "        components = (format(c, fmt_spec) for c in self)\n",
    "#         print((components))\n",
    "        return \"({}, {})\".format(*components)\n",
    "\n",
    "v = Vector2d(3, 4)\n",
    "print(format(v))\n",
    "print(format(v, '.2f'))\n",
    "print(format(v, \".3e\"))"
   ]
  },
  {
   "cell_type": "code",
   "execution_count": 29,
   "metadata": {},
   "outputs": [
    {
     "name": "stdout",
     "output_type": "stream",
     "text": [
      "<3, 4>\n",
      "<3.00, 4.00>\n",
      "<3.000e+00, 4.000e+00>\n",
      "(3.00, 4.00)\n",
      "(3.000e+00, 4.000e+00)\n",
      "<1, 1>\n",
      "<1.000e+00, 1.000e+00>\n"
     ]
    }
   ],
   "source": [
    "from array import array\n",
    "import math\n",
    "\n",
    "\n",
    "class Vector2d():\n",
    "    typecode = \"d\"\n",
    "    def __init__(self, x, y):\n",
    "        self.x = x\n",
    "        self.y = y\n",
    "    \n",
    "    def __str__(self):\n",
    "        return str(tuple(self))\n",
    "\n",
    "    def __repr__(self):\n",
    "        class_name = type(self).__name__\n",
    "        return \"{}({!r},{!r})\".format(class_name, *self)\n",
    "    \n",
    "    def __iter__(self):\n",
    "        return (i for i in (self.x, self.y))\n",
    "    \n",
    "    def __abs__(self):\n",
    "        return math.hypot(self.x, self.y)\n",
    "\n",
    "    def __eq__(self, other):\n",
    "        return tuple(self) == tuple(other)\n",
    "    \n",
    "    def __bool__(self):\n",
    "        return bool(abs(self))\n",
    "    \n",
    "    def __bytes__(self):\n",
    "        return (bytes([ord(self.typecode)])+\n",
    "                bytes(array(self.typecode, self)))\n",
    "    \n",
    "    def angle(self):\n",
    "        return math.atan2(self.y, self.x)\n",
    "    \n",
    "    def __format__(self, fmt_spec=\"\"):\n",
    "        if fmt_spec.endswith('p'):\n",
    "            fmt_spec = fmt_spec[:-1]\n",
    "            coords = (abs(self), self.angle)\n",
    "            outer_fmt = \"<{}, {}>\"\n",
    "        else:\n",
    "            coords = self\n",
    "            outer_fmt = \"({}, {})\"\n",
    "        components = (format(c, fmt_spec) for c in self)\n",
    "        return outer_fmt.format(*components)\n",
    "            \n",
    "\n",
    "v = Vector2d(3, 4)\n",
    "print(format(v, 'p'))\n",
    "print(format(v, '.2fp'))\n",
    "print(format(v, \".3ep\"))\n",
    "print(format(v, '.2f'))\n",
    "print(format(v, \".3e\"))\n",
    "print(format(Vector2d(1, 1), 'p'))\n",
    "print(format(Vector2d(1, 1), '.3ep'))"
   ]
  },
  {
   "cell_type": "code",
   "execution_count": 4,
   "metadata": {},
   "outputs": [
    {
     "name": "stdout",
     "output_type": "stream",
     "text": [
      "7 384307168202284039\n",
      "{Vector2d(3.1, 4.2), Vector2d(3, 4)}\n",
      "{'_Vector2d__x': 4, '_Vector2d__y': 5}\n"
     ]
    },
    {
     "ename": "AttributeError",
     "evalue": "can't set attribute",
     "output_type": "error",
     "traceback": [
      "\u001b[1;31m---------------------------------------------------------------------------\u001b[0m",
      "\u001b[1;31mAttributeError\u001b[0m                            Traceback (most recent call last)",
      "\u001b[1;32m<ipython-input-4-cb44d73d9787>\u001b[0m in \u001b[0;36m<module>\u001b[1;34m()\u001b[0m\n\u001b[0;32m     71\u001b[0m \u001b[0mv3\u001b[0m\u001b[1;33m.\u001b[0m\u001b[0m_Vector2d__x\u001b[0m \u001b[1;33m=\u001b[0m \u001b[1;36m5\u001b[0m\u001b[1;33m\u001b[0m\u001b[0m\n\u001b[0;32m     72\u001b[0m \u001b[0mv3\u001b[0m\u001b[1;33m.\u001b[0m\u001b[0m_Vector2d__y\u001b[0m \u001b[1;33m=\u001b[0m \u001b[1;36m4\u001b[0m\u001b[1;33m\u001b[0m\u001b[0m\n\u001b[1;32m---> 73\u001b[1;33m \u001b[0mv3\u001b[0m\u001b[1;33m.\u001b[0m\u001b[0mx\u001b[0m \u001b[1;33m=\u001b[0m \u001b[1;36m8\u001b[0m\u001b[1;33m\u001b[0m\u001b[0m\n\u001b[0m\u001b[0;32m     74\u001b[0m \u001b[0mprint\u001b[0m\u001b[1;33m(\u001b[0m\u001b[0mv3\u001b[0m\u001b[1;33m.\u001b[0m\u001b[0m__dict__\u001b[0m\u001b[1;33m)\u001b[0m\u001b[1;33m\u001b[0m\u001b[0m\n",
      "\u001b[1;31mAttributeError\u001b[0m: can't set attribute"
     ]
    }
   ],
   "source": [
    "class Vector2d:\n",
    "    typecode='d'\n",
    "    \n",
    "    def __init__(self, x, y):\n",
    "        self.__x = x\n",
    "        self.__y = y\n",
    "    \n",
    "    @property\n",
    "    def x(self):\n",
    "        return self.__x\n",
    "    \n",
    "    @property\n",
    "    def y(self):\n",
    "        return self.__y\n",
    "    \n",
    "    def __iter__(self):\n",
    "        return (i for i in (self.__x, self.__y))\n",
    "    \n",
    "    def __hash__(self):\n",
    "        return hash(self.__x) ^ hash(self.__y)\n",
    "    \n",
    "    def __repr__(self):\n",
    "        class_name = type(self).__name__\n",
    "        return \"{}({!r}, {!r})\".format(class_name, *self)\n",
    "    \n",
    "    def __str__(self):\n",
    "        return str(tuple(self))\n",
    "    \n",
    "    def __bytes__(self):\n",
    "        return (bytes([ord(self.typecode)])+\n",
    "                bytes(array(self.typecode), self))\n",
    "\n",
    "    def __eq__(self, other):\n",
    "        return tuple(self)==tuple(other)\n",
    "    \n",
    "    def __hash__(self):\n",
    "        return hash(self.x)^hash(self.y)\n",
    "    \n",
    "    def __abs__(self):\n",
    "        return math.hypot(self.x, self.y)\n",
    "    \n",
    "    def __bool__(self):\n",
    "        return bool(abs(self))\n",
    "    \n",
    "    def angle(self):\n",
    "        return math.atan2(self.y, self.x)\n",
    "    \n",
    "    def __format__(self, fmt_spec=\"\"):\n",
    "        if fmt_spec.endswith('p'):\n",
    "            fmt_spec = fmt_spec[:-1]\n",
    "            coords = (abs(self), self.angle)\n",
    "            outer_fmt = \"<{}, {}>\"\n",
    "        else:\n",
    "            coords = self\n",
    "            outer_fmt = \"({}, {})\"\n",
    "        components = (format(c, fmt_spec) for c in self)\n",
    "        return outer_fmt.format(*components)\n",
    "    \n",
    "    @classmethod\n",
    "    def frombytes(cls, octets):\n",
    "        typecode = chr(octets[0])\n",
    "        memv = memoryview(octets[1:]).cast(typecode)\n",
    "        return cls(*memv)\n",
    "        \n",
    "v1 = Vector2d(3, 4)\n",
    "v2 = Vector2d(3.1, 4.2)\n",
    "print(hash(v1), hash(v2))\n",
    "print(set([v1, v2]))\n",
    "v3 = Vector2d(4, 5)\n",
    "print(v3.__dict__)\n",
    "v3._Vector2d__x = 5\n",
    "v3._Vector2d__y = 4\n",
    "print(v3.__dict__)"
   ]
  },
  {
   "cell_type": "code",
   "execution_count": 5,
   "metadata": {},
   "outputs": [
    {
     "name": "stdout",
     "output_type": "stream",
     "text": [
      "7 384307168202284039\n",
      "{Vector2d(3.1, 4.2), Vector2d(3, 4)}\n",
      "{'_Vector2d__y': 5, '_Vector2d__x': 4}\n",
      "{'_Vector2d__y': 4, '_Vector2d__x': 5}\n"
     ]
    },
    {
     "ename": "TypeError",
     "evalue": "bytes() argument 2 must be str, not Vector2d",
     "output_type": "error",
     "traceback": [
      "\u001b[1;31m---------------------------------------------------------------------------\u001b[0m",
      "\u001b[1;31mTypeError\u001b[0m                                 Traceback (most recent call last)",
      "\u001b[1;32m<ipython-input-5-b1da01d8c979>\u001b[0m in \u001b[0;36m<module>\u001b[1;34m()\u001b[0m\n\u001b[0;32m     77\u001b[0m \u001b[0mprint\u001b[0m\u001b[1;33m(\u001b[0m\u001b[0mv3\u001b[0m\u001b[1;33m.\u001b[0m\u001b[0m__dict__\u001b[0m\u001b[1;33m)\u001b[0m\u001b[1;33m\u001b[0m\u001b[0m\n\u001b[0;32m     78\u001b[0m \u001b[1;33m\u001b[0m\u001b[0m\n\u001b[1;32m---> 79\u001b[1;33m \u001b[0mdumped\u001b[0m \u001b[1;33m=\u001b[0m \u001b[0mbytes\u001b[0m\u001b[1;33m(\u001b[0m\u001b[0mv2\u001b[0m\u001b[1;33m)\u001b[0m\u001b[1;33m\u001b[0m\u001b[0m\n\u001b[0m\u001b[0;32m     80\u001b[0m \u001b[0mprint\u001b[0m\u001b[1;33m(\u001b[0m\u001b[0mdumped\u001b[0m\u001b[1;33m)\u001b[0m\u001b[1;33m\u001b[0m\u001b[0m\n\u001b[0;32m     81\u001b[0m \u001b[0mprint\u001b[0m\u001b[1;33m(\u001b[0m\u001b[0mlen\u001b[0m\u001b[1;33m(\u001b[0m\u001b[0mdumped\u001b[0m\u001b[1;33m)\u001b[0m\u001b[1;33m)\u001b[0m\u001b[1;33m\u001b[0m\u001b[0m\n",
      "\u001b[1;32m<ipython-input-5-b1da01d8c979>\u001b[0m in \u001b[0;36m__bytes__\u001b[1;34m(self)\u001b[0m\n\u001b[0;32m     33\u001b[0m     \u001b[1;32mdef\u001b[0m \u001b[0m__bytes__\u001b[0m\u001b[1;33m(\u001b[0m\u001b[0mself\u001b[0m\u001b[1;33m)\u001b[0m\u001b[1;33m:\u001b[0m\u001b[1;33m\u001b[0m\u001b[0m\n\u001b[0;32m     34\u001b[0m         return (bytes([ord(self.typecode)])+\n\u001b[1;32m---> 35\u001b[1;33m                 bytes(array(self.typecode), self))\n\u001b[0m\u001b[0;32m     36\u001b[0m \u001b[1;33m\u001b[0m\u001b[0m\n\u001b[0;32m     37\u001b[0m     \u001b[1;32mdef\u001b[0m \u001b[0m__eq__\u001b[0m\u001b[1;33m(\u001b[0m\u001b[0mself\u001b[0m\u001b[1;33m,\u001b[0m \u001b[0mother\u001b[0m\u001b[1;33m)\u001b[0m\u001b[1;33m:\u001b[0m\u001b[1;33m\u001b[0m\u001b[0m\n",
      "\u001b[1;31mTypeError\u001b[0m: bytes() argument 2 must be str, not Vector2d"
     ]
    }
   ],
   "source": [
    "from array import array\n",
    "import math\n",
    "\n",
    "class Vector2d:\n",
    "    __sloct__ = (\"__x\", \"__y\")\n",
    "    typecode='d'\n",
    "    \n",
    "    def __init__(self, x, y):\n",
    "        self.__x = x\n",
    "        self.__y = y\n",
    "    \n",
    "    @property\n",
    "    def x(self):\n",
    "        return self.__x\n",
    "    \n",
    "    @property\n",
    "    def y(self):\n",
    "        return self.__y\n",
    "    \n",
    "    def __iter__(self):\n",
    "        return (i for i in (self.__x, self.__y))\n",
    "    \n",
    "    def __hash__(self):\n",
    "        return hash(self.__x) ^ hash(self.__y)\n",
    "    \n",
    "    def __repr__(self):\n",
    "        class_name = type(self).__name__\n",
    "        return \"{}({!r}, {!r})\".format(class_name, *self)\n",
    "    \n",
    "    def __str__(self):\n",
    "        return str(tuple(self))\n",
    "    \n",
    "    def __bytes__(self):\n",
    "        return (bytes([ord(self.typecode)])+\n",
    "                bytes(array(self.typecode, self)))\n",
    "\n",
    "    def __eq__(self, other):\n",
    "        return tuple(self)==tuple(other)\n",
    "    \n",
    "    def __hash__(self):\n",
    "        return hash(self.x)^hash(self.y)\n",
    "    \n",
    "    def __abs__(self):\n",
    "        return math.hypot(self.x, self.y)\n",
    "    \n",
    "    def __bool__(self):\n",
    "        return bool(abs(self))\n",
    "    \n",
    "    def angle(self):\n",
    "        return math.atan2(self.y, self.x)\n",
    "    \n",
    "    def __format__(self, fmt_spec=\"\"):\n",
    "        if fmt_spec.endswith('p'):\n",
    "            fmt_spec = fmt_spec[:-1]\n",
    "            coords = (abs(self), self.angle)\n",
    "            outer_fmt = \"<{}, {}>\"\n",
    "        else:\n",
    "            coords = self\n",
    "            outer_fmt = \"({}, {})\"\n",
    "        components = (format(c, fmt_spec) for c in self)\n",
    "        return outer_fmt.format(*components)\n",
    "    \n",
    "    @classmethod\n",
    "    def frombytes(cls, octets):\n",
    "        typecode = chr(octets[0])\n",
    "        memv = memoryview(octets[1:]).cast(typecode)\n",
    "        return cls(*memv)\n",
    "        \n",
    "v1 = Vector2d(3, 4)\n",
    "v2 = Vector2d(3.1, 4.2)\n",
    "print(hash(v1), hash(v2))\n",
    "print(set([v1, v2]))\n",
    "v3 = Vector2d(4, 5)\n",
    "print(v3.__dict__)\n",
    "v3._Vector2d__x = 5\n",
    "v3._Vector2d__y = 4\n",
    "print(v3.__dict__)\n",
    "\n",
    "\n"
   ]
  },
  {
   "cell_type": "code",
   "execution_count": 13,
   "metadata": {},
   "outputs": [
    {
     "name": "stdout",
     "output_type": "stream",
     "text": [
      "b'd\\x9a\\x99\\x99\\x99\\x99\\x99\\xf1?\\x9a\\x99\\x99\\x99\\x99\\x99\\x01@'\n",
      "17\n",
      "b'f\\xcd\\xcc\\x8c?\\xcd\\xcc\\x0c@'\n",
      "9\n",
      "d\n",
      "f\n"
     ]
    }
   ],
   "source": [
    "from array import array\n",
    "import math\n",
    "\n",
    "class Vector2d:\n",
    "    __sloct__ = (\"__x\", \"__y\")\n",
    "    typecode='d'\n",
    "    \n",
    "    def __init__(self, x, y):\n",
    "        self.__x = x\n",
    "        self.__y = y\n",
    "    \n",
    "    @property\n",
    "    def x(self):\n",
    "        return self.__x\n",
    "    \n",
    "    @property\n",
    "    def y(self):\n",
    "        return self.__y\n",
    "    \n",
    "    def __iter__(self):\n",
    "        return (i for i in (self.__x, self.__y))\n",
    "    \n",
    "    def __hash__(self):\n",
    "        return hash(self.__x) ^ hash(self.__y)\n",
    "    \n",
    "    def __repr__(self):\n",
    "        class_name = type(self).__name__\n",
    "        return \"{}({!r}, {!r})\".format(class_name, *self)\n",
    "    \n",
    "    def __str__(self):\n",
    "        return str(tuple(self))\n",
    "    \n",
    "    def __bytes__(self):\n",
    "        return (bytes([ord(self.typecode)])+\n",
    "                bytes(array(self.typecode, self)))\n",
    "\n",
    "    def __eq__(self, other):\n",
    "        return tuple(self)==tuple(other)\n",
    "    \n",
    "    def __hash__(self):\n",
    "        return hash(self.x)^hash(self.y)\n",
    "    \n",
    "    def __abs__(self):\n",
    "        return math.hypot(self.x, self.y)\n",
    "    \n",
    "    def __bool__(self):\n",
    "        return bool(abs(self))\n",
    "    \n",
    "    def angle(self):\n",
    "        return math.atan2(self.y, self.x)\n",
    "    \n",
    "    def __format__(self, fmt_spec=\"\"):\n",
    "        if fmt_spec.endswith('p'):\n",
    "            fmt_spec = fmt_spec[:-1]\n",
    "            coords = (abs(self), self.angle)\n",
    "            outer_fmt = \"<{}, {}>\"\n",
    "        else:\n",
    "            coords = self\n",
    "            outer_fmt = \"({}, {})\"\n",
    "        components = (format(c, fmt_spec) for c in self)\n",
    "        return outer_fmt.format(*components)\n",
    "    \n",
    "    @classmethod\n",
    "    def frombytes(cls, octets):\n",
    "        typecode = chr(octets[0])\n",
    "        memv = memoryview(octets[1:]).cast(typecode)\n",
    "        return cls(*memv)\n",
    "\n",
    "v1 = Vector2d(1.1, 2.2)\n",
    "dumped = bytes(v1)\n",
    "print(dumped)\n",
    "print(len(dumped))\n",
    "v1.typecode = 'f'\n",
    "dumped = bytes(v1)\n",
    "print(dumped)\n",
    "print(len(dumped))\n",
    "print(Vector2d.typecode)\n",
    "print(v1.typecode)"
   ]
  },
  {
   "cell_type": "code",
   "execution_count": 19,
   "metadata": {},
   "outputs": [
    {
     "name": "stdout",
     "output_type": "stream",
     "text": [
      "(0.09090909090909091, 0.037037037037037035)\n",
      "b'f\\x8c.\\xba=&\\xb4\\x17='\n",
      "9\n"
     ]
    }
   ],
   "source": [
    "from array import array\n",
    "import math\n",
    "\n",
    "class Vector2d:\n",
    "    __sloct__ = (\"__x\", \"__y\")\n",
    "    typecode='d'\n",
    "    \n",
    "    def __init__(self, x, y):\n",
    "        self.__x = x\n",
    "        self.__y = y\n",
    "    \n",
    "    @property\n",
    "    def x(self):\n",
    "        return self.__x\n",
    "    \n",
    "    @property\n",
    "    def y(self):\n",
    "        return self.__y\n",
    "    \n",
    "    def __iter__(self):\n",
    "        return (i for i in (self.__x, self.__y))\n",
    "    \n",
    "    def __hash__(self):\n",
    "        return hash(self.__x) ^ hash(self.__y)\n",
    "    \n",
    "    def __repr__(self):\n",
    "        class_name = type(self).__name__\n",
    "        return \"{}({!r}, {!r})\".format(class_name, *self)\n",
    "    \n",
    "    def __str__(self):\n",
    "        return str(tuple(self))\n",
    "    \n",
    "    def __bytes__(self):\n",
    "        return (bytes([ord(self.typecode)])+\n",
    "                bytes(array(self.typecode, self)))\n",
    "\n",
    "    def __eq__(self, other):\n",
    "        return tuple(self)==tuple(other)\n",
    "    \n",
    "    def __hash__(self):\n",
    "        return hash(self.x)^hash(self.y)\n",
    "    \n",
    "    def __abs__(self):\n",
    "        return math.hypot(self.x, self.y)\n",
    "    \n",
    "    def __bool__(self):\n",
    "        return bool(abs(self))\n",
    "    \n",
    "    def angle(self):\n",
    "        return math.atan2(self.y, self.x)\n",
    "    \n",
    "    def __format__(self, fmt_spec=\"\"):\n",
    "        if fmt_spec.endswith('p'):\n",
    "            fmt_spec = fmt_spec[:-1]\n",
    "            coords = (abs(self), self.angle)\n",
    "            outer_fmt = \"<{}, {}>\"\n",
    "        else:\n",
    "            coords = self\n",
    "            outer_fmt = \"({}, {})\"\n",
    "        components = (format(c, fmt_spec) for c in self)\n",
    "        return outer_fmt.format(*components)\n",
    "    \n",
    "    @classmethod\n",
    "    def frombytes(cls, octets):\n",
    "        typecode = chr(octets[0])\n",
    "        memv = memoryview(octets[1:]).cast(typecode)\n",
    "        return cls(*memv)\n",
    "\n",
    "    \n",
    "class ShortVector2d(Vector2d):\n",
    "    typecode = \"f\"\n",
    "    \n",
    "sv = ShortVector2d(1/11, 1/27)\n",
    "print(sv)\n",
    "print(bytes(sv))\n",
    "print(len(bytes(sv)))"
   ]
  },
  {
   "cell_type": "code",
   "execution_count": 30,
   "metadata": {},
   "outputs": [
    {
     "name": "stdout",
     "output_type": "stream",
     "text": [
      "Test\n",
      "Test\n",
      "TestSon\n",
      "TestSon\n"
     ]
    }
   ],
   "source": [
    "class Test(object):\n",
    "    def __repr__(self):\n",
    "        print(type(self).__name__)\n",
    "        return self.__class__.__name__\n",
    "t = Test()\n",
    "print(repr(t))\n",
    "\n",
    "class TestSon(Test):\n",
    "    pass\n",
    "\n",
    "ts = TestSon()\n",
    "print(str(ts))"
   ]
  },
  {
   "cell_type": "code",
   "execution_count": 5,
   "metadata": {},
   "outputs": [
    {
     "name": "stdout",
     "output_type": "stream",
     "text": [
      "(0.0, 1.0, 2.0, 3.0, 4.0)\n",
      "0.0\n",
      "1.0\n",
      "0.0\n",
      "(0.0, 1.0, 2.0, 3.0, 4.0)\n"
     ]
    }
   ],
   "source": [
    "from array import array\n",
    "import reprlib\n",
    "import math\n",
    "import numbers\n",
    "from operator import xor\n",
    "from functools import reduce\n",
    "\n",
    "class Vector:\n",
    "    typecode = \"d\"\n",
    "    shortcut_names = \"xyzt\"\n",
    "    \n",
    "    def __init__(self, components):\n",
    "        self._components = array(self.typecode, components)\n",
    "        \n",
    "    def __iter__(self):\n",
    "        return iter(self._components)\n",
    "    \n",
    "    def __abs__(self):\n",
    "        return math.sqrt(sum(x*x for x in self))\n",
    "    \n",
    "    def __bool__(self):\n",
    "        return bool(abs(self))\n",
    "    \n",
    "#     def __eq__(self, other):\n",
    "#         return tuple(self) == tuple(other)\n",
    "#     def __eq__(self, other):\n",
    "#         if len(self) != len(other):\n",
    "#             return False\n",
    "#         for a,b in zip(self, other):\n",
    "#             if a != b:\n",
    "#                 return False\n",
    "#         return True\n",
    "    def __eq__(self, other):\n",
    "        return len(self) == len(other) and all(a==b for a,b in zip(self, other))\n",
    "    \n",
    "    def __repr__(self):\n",
    "        components = reprlib.repr(self._components)\n",
    "        components = components[components.find('['):-1]\n",
    "        return \"Vector({})\".format(components)\n",
    "    \n",
    "    def __str__(self):\n",
    "        return str(tuple(self))\n",
    "    \n",
    "    def __bytes__(self):\n",
    "        return (bytes([ord(self.typecode)])+\n",
    "                bytes(self._components))\n",
    "    \n",
    "    def __len__(self):\n",
    "        return len(self._components)\n",
    "    \n",
    "    def __hash__(self):\n",
    "        hashs = (hash(x) for x in self._components)\n",
    "        return reduce(xor, hashs, 0)\n",
    "        \n",
    "    \n",
    "#     def __getitem__(self, index):\n",
    "#         return self._components[index]\n",
    "    def __getitem__(self, index):\n",
    "        cls = type(self)\n",
    "        if isinstance(index, slice):\n",
    "#             return self._components[index]\n",
    "#             print(cls(self._components))\n",
    "#             print(self._components)\n",
    "            return cls(self._components[index])\n",
    "\n",
    "        elif isinstance(index, numbers.Integral):\n",
    "            return self._components[index]\n",
    "        else:\n",
    "            msg = \"{cls.__name__} indices must be integers\"\n",
    "            raise TypeError(msg.format(cls=cls))\n",
    "            \n",
    "    def __getattr__(self, name):\n",
    "        cls = type(self)\n",
    "        if len(name) == 1:\n",
    "            pos = cls.shortcut_names.find(name)\n",
    "            if 0 <= pos < len(cls.shortcut_names):\n",
    "                return self._components[pos]\n",
    "        msg = \"{.__name__!r} object has no attribute {!r}\" \n",
    "        raise AttributeError(msg.format(cls, name))\n",
    "        \n",
    "    def __setattr__(self, name, value):\n",
    "        cls = type(self)\n",
    "        if len(name) == 1:\n",
    "            if name in cls.shortcut_names:\n",
    "                error = \"readonly attribute {attr_name!r}\"\n",
    "            elif name.islower():\n",
    "                error = \"can't set attribute 'a' to 'z' in {cls_name!r}\"\n",
    "            else:\n",
    "                error = \"\"\n",
    "            if error:\n",
    "                msg = error.format(cls_name = cls.__name__, attr_name = name)\n",
    "                raise AttributeError(msg)\n",
    "        super().__setattr__(name, value)\n",
    "        \n",
    "    @classmethod\n",
    "    def frombytes(self, octets):\n",
    "        typecode = chr(octets[0])\n",
    "        memv = memoryview(octets[1:]).cast(typecode)\n",
    "        return cls(memv)\n",
    "    \n",
    "# print(Vector([3.1, 4.2]))\n",
    "# print(Vector((3, 4, 5)))\n",
    "# print(Vector(range(10)))\n",
    "# v1 = Vector([1, 2, 3])\n",
    "# print(len(v1))\n",
    "# print(v1[1])\n",
    "# print(v1[1:3])\n",
    "\n",
    "# print(\"-\"*50)\n",
    "# print(v1[1:3])\n",
    "# print(v1[1.2])\n",
    "v = Vector(range(5))\n",
    "print(v)\n",
    "print(v.x)\n",
    "print(v.y)\n",
    "# v.x = 10\n",
    "# AttributeError: readonly attribute 'x'\n",
    "print(v.x)\n",
    "print(v)\n",
    "# print(v.o)\n",
    "# AttributeError: 'Vector' object has no attribute 'o'"
   ]
  },
  {
   "cell_type": "code",
   "execution_count": 21,
   "metadata": {},
   "outputs": [
    {
     "name": "stdout",
     "output_type": "stream",
     "text": [
      "[Card(rank='A', suit='bbb'), Card(rank='5', suit='bbb'), Card(rank='9', suit='ccc'), Card(rank='B', suit='ccc'), Card(rank='D', suit='ddd')]\n"
     ]
    }
   ],
   "source": [
    "from collections import namedtuple\n",
    "from random import shuffle\n",
    "Card = namedtuple(\"Card\", [\"rank\", \"suit\"])\n",
    "\n",
    "class FrenchDeck:\n",
    "    \n",
    "    ranks = [str(i) for i in range(2, 11)] + list(\"ABCD\")\n",
    "    suits = \"aaa bbb ccc ddd\".split()\n",
    "    \n",
    "    def __init__(self):\n",
    "        self._cards = [Card(rank, suit) for suit in self.suits\n",
    "                                       for rank in self.ranks]\n",
    "    \n",
    "    def __len__(self):\n",
    "        return len(self._cards)\n",
    "    \n",
    "    def __getitem__(self, name):\n",
    "        return self._cards[name]\n",
    "    \n",
    "#     def __setitem__(self, name, value):\n",
    "#         self._cards[name] = value\n",
    "    \n",
    "deck = FrenchDeck()\n",
    "try:\n",
    "    shuffle(deck)\n",
    "except TypeError as e:\n",
    "    print(e)\n",
    "# TypeError: 'FrenchDeck' object does not support item assignment\n",
    "\n",
    "# 或者使用在FrenchDeck中写__setitem__方法\n",
    "def set_card(deck, position, card):\n",
    "    deck._cards[position] = card\n",
    "\n",
    "FrenchDeck.__setitem__ = set_card\n",
    "shuffle(deck)\n",
    "print(deck[:5])"
   ]
  },
  {
   "cell_type": "code",
   "execution_count": 15,
   "metadata": {
    "collapsed": true
   },
   "outputs": [],
   "source": [
    "from collections import namedtuple\n",
    "from pprint import pprint\n",
    "Card = namedtuple(\"Card\", [\"rank\", \"suit\"])\n",
    "ranks = [str(i) for i in range(2, 11)] + list(\"ABCD\")\n",
    "suits = \"aaa bbb ccc ddd\".split()\n",
    "_card1 = [Card(rank, suit) for rank in ranks\n",
    "                           for suit in suits]\n",
    "_card2 = [Card(rank, suit) for suit in suits\n",
    "                           for rank in ranks]\n",
    "\n",
    "# _card1将rank作为不变的，suit是变化的\n",
    "# _card2将suit作为不变的，rank是变化的\n",
    "# pprint(_card1)\n",
    "# print( _card1 == _card2)\n",
    "# print(len(_card1))\n",
    "# print(\"-\"*60)\n",
    "# pprint(_card2)\n",
    "# print(len(_card2))"
   ]
  },
  {
   "cell_type": "code",
   "execution_count": 18,
   "metadata": {},
   "outputs": [
    {
     "name": "stdout",
     "output_type": "stream",
     "text": [
      "1\n",
      "slice(1, 2, None)\n",
      "slice(1, 7, 2)\n",
      "(slice(1, 3, None), slice(4, 6, None))\n"
     ]
    }
   ],
   "source": [
    "class MySeq:\n",
    "    def __getitem__(self, index):\n",
    "        return index\n",
    "\n",
    "ms = MySeq()\n",
    "print(ms[1])\n",
    "print(ms[1:2])\n",
    "print(ms[1:7:2])\n",
    "print(ms[1:3, 4:6])"
   ]
  },
  {
   "cell_type": "code",
   "execution_count": 2,
   "metadata": {},
   "outputs": [
    {
     "name": "stdout",
     "output_type": "stream",
     "text": [
      "120\n",
      "120\n",
      "1\n"
     ]
    },
    {
     "data": {
      "text/plain": [
       "1"
      ]
     },
     "execution_count": 2,
     "metadata": {},
     "output_type": "execute_result"
    }
   ],
   "source": [
    "from functools import reduce\n",
    "from operator import xor\n",
    "print(1*2*3*4*5)\n",
    "print(reduce(lambda a,b:a*b, range(1,6)))\n",
    "\n",
    "n = 0\n",
    "for i in range(1, 6):\n",
    "    n ^= i\n",
    "print(n)\n",
    "reduce(lambda a,b:a^b, range(1,6))\n",
    "reduce(xor, range(6))"
   ]
  },
  {
   "cell_type": "code",
   "execution_count": 1,
   "metadata": {},
   "outputs": [
    {
     "name": "stdout",
     "output_type": "stream",
     "text": [
      "<zip object at 0x000000000494F348>\n",
      "[(0, 'A'), (1, 'B'), (2, 'C')]\n",
      "[(0, 'A', 1.0), (1, 'B', 2.0), (2, 'C', 3.0)]\n",
      "[(0, 'A', 1.0), (1, 'B', 2.0), (2, 'C', 3.0), (1, 1, 4.0)]\n"
     ]
    }
   ],
   "source": [
    "print(zip(range(3), \"ABC\"))\n",
    "print(list(zip(range(3), \"ABC\")))\n",
    "print(list(zip(range(3), \"ABC\", [1.0, 2.0, 3.0, 4.0])))\n",
    "from itertools import zip_longest\n",
    "print(list(zip_longest(range(3), \"ABC\", [1.0, 2.0, 3.0, 4.0], fillvalue=1)))"
   ]
  },
  {
   "cell_type": "code",
   "execution_count": 10,
   "metadata": {},
   "outputs": [
    {
     "name": "stdout",
     "output_type": "stream",
     "text": [
      "<1.4142135623730951, 0.7853981633974483>\n"
     ]
    }
   ],
   "source": [
    "from array import array\n",
    "import reprlib\n",
    "import math\n",
    "import numbers\n",
    "from operator import xor\n",
    "from functools import reduce\n",
    "import itertools\n",
    "\n",
    "class Vector:\n",
    "    typecode = \"d\"\n",
    "    shortcut_names = \"xyzt\"\n",
    "    \n",
    "    def __init__(self, components):\n",
    "        self._components = array(self.typecode, components)\n",
    "        \n",
    "    def __iter__(self):\n",
    "        return iter(self._components)\n",
    "    \n",
    "    def __abs__(self):\n",
    "        return math.sqrt(sum(x*x for x in self))\n",
    "    \n",
    "    def __bool__(self):\n",
    "        return bool(abs(self))\n",
    "    \n",
    "#     def __eq__(self, other):\n",
    "#         return tuple(self) == tuple(other)\n",
    "#     def __eq__(self, other):\n",
    "#         if len(self) != len(other):\n",
    "#             return False\n",
    "#         for a,b in zip(self, other):\n",
    "#             if a != b:\n",
    "#                 return False\n",
    "#         return True\n",
    "    def __eq__(self, other):\n",
    "        return len(self) == len(other) and all(a==b for a,b in zip(self, other))\n",
    "    \n",
    "    def __repr__(self):\n",
    "        components = reprlib.repr(self._components)\n",
    "        components = components[components.find('['):-1]\n",
    "        return \"Vector({})\".format(components)\n",
    "    \n",
    "    def __str__(self):\n",
    "        return str(tuple(self))\n",
    "    \n",
    "    def __bytes__(self):\n",
    "        return (bytes([ord(self.typecode)])+\n",
    "                bytes(self._components))\n",
    "    \n",
    "    def __len__(self):\n",
    "        return len(self._components)\n",
    "    \n",
    "    def __hash__(self):\n",
    "        hashs = (hash(x) for x in self._components)\n",
    "        return reduce(xor, hashs, 0)\n",
    "        \n",
    "    \n",
    "    def __getitem__(self, index):\n",
    "        cls = type(self)\n",
    "        if isinstance(index, slice):\n",
    "            return cls(self._components[index])\n",
    "        elif isinstance(index, numbers.Integral):\n",
    "            return self._components[index]\n",
    "        else:\n",
    "            msg = \"{cls.__name__} indices must be integers\"\n",
    "            raise TypeError(msg.format(cls=cls))\n",
    "            \n",
    "    def __getattr__(self, name):\n",
    "        cls = type(self)\n",
    "        if len(name) == 1:\n",
    "            pos = cls.shortcut_names.find(name)\n",
    "            if 0 <= pos < len(cls.shortcut_names):\n",
    "                return self._components[pos]\n",
    "        msg = \"{.__name__!r} object has no attribute {!r}\" \n",
    "        raise AttributeError(msg.format(cls, name))\n",
    "        \n",
    "    def __setattr__(self, name, value):\n",
    "        cls = type(self)\n",
    "        if len(name) == 1:\n",
    "            if name in cls.shortcut_names:\n",
    "                error = \"readonly attribute {attr_name!r}\"\n",
    "            elif name.islower():\n",
    "                error = \"can't set attribute 'a' to 'z' in {cls_name!r}\"\n",
    "            else:\n",
    "                error = \"\"\n",
    "            if error:\n",
    "                msg = error.format(cls_name = cls.__name__, attr_name = name)\n",
    "                raise AttributeError(msg)\n",
    "        super().__setattr__(name, value)\n",
    "        \n",
    "    def angle(self, n):\n",
    "        r = math.sqrt(sum(x * x for x in self[n:]))\n",
    "        a = math.atan2(r, self[n-1])\n",
    "        if (n == len(self) -1 ) and (self[-1] < 0):\n",
    "            return math.pi *2 -a \n",
    "        else:\n",
    "            return a\n",
    "        \n",
    "    def angles(self):\n",
    "        return (self.angle(n) for n in range(1, len(self)))\n",
    "    \n",
    "    def __format__(self, fmt_spec=\"\"):\n",
    "        if fmt_spec.endswith(\"h\"):\n",
    "            fmt_spec = fmt_spec[:-1]\n",
    "            coords = itertools.chain([abs(self)],\n",
    "                                     self.angles())\n",
    "    \n",
    "            outer_fmt = \"<{}>\"\n",
    "        else:\n",
    "            coords = self\n",
    "            outer_fmt = \"({})\"\n",
    "        components = (format(c, fmt_spec) for c in coords)\n",
    "        return outer_fmt.format(\", \".join(components))\n",
    "        \n",
    "    @classmethod\n",
    "    def frombytes(self, octets):\n",
    "        typecode = chr(octets[0])\n",
    "        memv = memoryview(octets[1:]).cast(typecode)\n",
    "        return cls(memv)\n",
    "    \n",
    "print(format(Vector([1, 1]), 'h'))"
   ]
  },
  {
   "cell_type": "code",
   "execution_count": 16,
   "metadata": {},
   "outputs": [
    {
     "name": "stdout",
     "output_type": "stream",
     "text": [
      "Card(rank='D', suit='ddd')\n"
     ]
    }
   ],
   "source": [
    "from collections import namedtuple, MutableSequence\n",
    "from random import shuffle\n",
    "from pprint import pprint\n",
    "Card = namedtuple(\"Card\", [\"rank\", \"suit\"])\n",
    "\n",
    "class FrenchDeck2(MutableSequence):\n",
    "    \n",
    "    ranks = [str(i) for i in range(2, 11)] + list(\"ABCD\")\n",
    "    suits = \"aaa bbb ccc ddd\".split()\n",
    "    \n",
    "    def __init__(self):\n",
    "        self._cards = [Card(rank, suit) for suit in self.suits\n",
    "                                       for rank in self.ranks]\n",
    "    \n",
    "    def __len__(self):\n",
    "        return len(self._cards)\n",
    "    \n",
    "    def __getitem__(self, name):\n",
    "        return self._cards[name]\n",
    "    \n",
    "    def __setitem__(self, name, value):\n",
    "        self._cards[name] = value\n",
    "        \n",
    "    def __delitem__(self, position):\n",
    "        del self._cards[position]\n",
    "        \n",
    "    def insert(self, position, value):\n",
    "        self._cards.insert(position, value)\n",
    "        \n",
    "fd2 = FrenchDeck2()\n",
    "# pprint(fd2._cards)\n",
    "pprint(fd2._cards.pop())\n",
    "fd2._cards.reverse()\n",
    "# pprint(fd2._cards)\n",
    "fd2._cards.extend([Card(rank='D', suit='ddd'), Card(rank='D', suit='ddd')])\n",
    "# pprint(fd2._cards)\n",
    "# pop append reverse extend remove __iadd__ 是继承于MutableSequence的\n"
   ]
  },
  {
   "cell_type": "code",
   "execution_count": 1,
   "metadata": {
    "collapsed": true
   },
   "outputs": [],
   "source": [
    "import abc\n",
    "import random\n",
    "\n",
    "# python3.4 -- python2 usage\n",
    "class Tombola3(metaclass=abc.ABCMeta):\n",
    "    pass\n",
    "\n",
    "# python2 \n",
    "class Tombola2(object):\n",
    "    __metaclass__ = abc.ABCMeta\n",
    "\n",
    "\n",
    "# python3 usage\n",
    "class Tombola(abc.ABC):\n",
    "    @abc.abstractmethod\n",
    "    def load(self, iterable):\n",
    "        \"\"\"Add items from an iterable.\"\"\"\n",
    "    \n",
    "    @abc.abstractmethod\n",
    "    def pick(self):\n",
    "        \"\"\"Remove item at random, returning it.\n",
    "        This method should raise `LookupError` when the instance is empty.\n",
    "        \"\"\"\n",
    "        \n",
    "    def loaded(self):\n",
    "        \"\"\"Return `True` if there's at least 1 item, `False` otherwise.\"\"\"\n",
    "        return bool(self.inspect())\n",
    "    \n",
    "    def inspect(self):\n",
    "        \"\"\"Return a sorted tuple with the items currently inside.\"\"\"\n",
    "        items = []\n",
    "        while True:\n",
    "            try:\n",
    "                items.append(self.pick())\n",
    "            except LookupError:\n",
    "                break\n",
    "        self.load(items)\n",
    "        return tuple(sorted(items))\n",
    "\n",
    "    \n",
    "class BingoCase(Tombola):\n",
    "    def __init__(self, items):\n",
    "        self._randomzier = random.SystemRandom()\n",
    "        self._items = []\n",
    "        self.load(items)\n",
    "        \n",
    "    def load(self, items):\n",
    "        self._items.extend(items)\n",
    "        self._randomzier.shuffle(self._items)\n",
    "        \n",
    "    def pick(self):\n",
    "        try:\n",
    "            return self._items.pop()\n",
    "        except IndexError:\n",
    "            raise LookupError(\"pick from empty BingoCase\")\n",
    "    \n",
    "    def __call__(self):\n",
    "        return self.pick()\n",
    "\n",
    "    \n",
    "class LotteryBlower(Tombola):\n",
    "    \n",
    "    def __init__(self, iterable):\n",
    "        self._balls = list(iterable)\n",
    "        \n",
    "    def load(self, iterable):\n",
    "        self._balls.extend(iterable)\n",
    "        \n",
    "    def pick(self):\n",
    "        try:\n",
    "            position = random.randrange(len(self._balls))\n",
    "        except ValueError:\n",
    "            raise LookupError(\"pick from empty LotteryBlower\")\n",
    "        return self._balls.pop(position)\n",
    "    \n",
    "    def loaded(self):\n",
    "        return bool(self._balls)\n",
    "    \n",
    "    def inspect(self):\n",
    "        return tuple(sorted(self._balls))\n",
    "    \n",
    "    \n",
    "    \n"
   ]
  },
  {
   "cell_type": "code",
   "execution_count": 24,
   "metadata": {},
   "outputs": [
    {
     "data": {
      "text/plain": [
       "13"
      ]
     },
     "execution_count": 24,
     "metadata": {},
     "output_type": "execute_result"
    }
   ],
   "source": [
    "class Fake(Tombola):\n",
    "    def pick(self):\n",
    "        return 13\n",
    "    \n",
    "    def load(self, iterable):\n",
    "        return 22\n",
    "    \n",
    "f = Fake()\n",
    "f.pick()\n",
    "# TypeError: Can't instantiate abstract class Fake with abstract methods load"
   ]
  },
  {
   "cell_type": "code",
   "execution_count": 4,
   "metadata": {},
   "outputs": [
    {
     "name": "stdout",
     "output_type": "stream",
     "text": [
      "True\n",
      "True\n",
      "(<class '__main__.TombolaList'>, <class 'list'>, <class 'object'>)\n"
     ]
    }
   ],
   "source": [
    "from random import randrange\n",
    "\n",
    "@Tombola.register\n",
    "class TombolaList(list):\n",
    "    \n",
    "    def pick(self):\n",
    "        if self:\n",
    "            position = randrange(len(self))\n",
    "            return self.pop(position)\n",
    "        else:\n",
    "            LookupError(\"pop from emtpy TombolaList\")\n",
    "    \n",
    "    load = list.extend\n",
    "    \n",
    "    def loaded(self):\n",
    "        return bool(self)\n",
    "    \n",
    "    def inspect(self):\n",
    "        return tuple(sorted(self))\n",
    "    \n",
    "print(issubclass(TombolaList, Tombola))\n",
    "t = TombolaList(range(100))\n",
    "print(isinstance(t, Tombola))\n",
    "print(TombolaList.__mro__)"
   ]
  },
  {
   "cell_type": "code",
   "execution_count": 8,
   "metadata": {},
   "outputs": [
    {
     "name": "stdout",
     "output_type": "stream",
     "text": [
      "True\n",
      "True\n"
     ]
    }
   ],
   "source": [
    "class Struggle:\n",
    "    def __len__(self): return 23\n",
    "    \n",
    "from collections import abc\n",
    "\n",
    "print(issubclass(Struggle, abc.Sized))\n",
    "print(isinstance(Struggle(), abc.Sized))\n"
   ]
  },
  {
   "cell_type": "code",
   "execution_count": 6,
   "metadata": {},
   "outputs": [
    {
     "name": "stdout",
     "output_type": "stream",
     "text": [
      "{'one': 1, 'two': 2}\n",
      "{'one': 1, 'two': 2, 'three': [3, 3]}\n",
      "{'one': 1, 'four': 4, 'two': 2, 'three': [3, 3]}\n"
     ]
    }
   ],
   "source": [
    "class DoppelDict(dict):\n",
    "    def __setitem__(self, key, value):\n",
    "        super().__setitem__(key, [value]*2)\n",
    "\n",
    "d = DoppelDict(one=1, two=2)\n",
    "print(d)\n",
    "d['three'] = 3\n",
    "print(d)\n",
    "d.update(four=4)\n",
    "print(d)"
   ]
  },
  {
   "cell_type": "code",
   "execution_count": 9,
   "metadata": {},
   "outputs": [
    {
     "name": "stdout",
     "output_type": "stream",
     "text": [
      "42\n",
      "1\n"
     ]
    }
   ],
   "source": [
    "class AnswerDict(dict):\n",
    "    def __getitem__(self, key):\n",
    "        return 42\n",
    "    \n",
    "ad = AnswerDict(one=1)\n",
    "print(ad['one'])\n",
    "d = {}\n",
    "d.update(one=1)\n",
    "print(d['one'])"
   ]
  },
  {
   "cell_type": "code",
   "execution_count": 15,
   "metadata": {},
   "outputs": [
    {
     "name": "stdout",
     "output_type": "stream",
     "text": [
      "{'one': [1, 1], 'two': [2, 2]}\n",
      "{'one': [1, 1], 'two': [2, 2], 'three': [3, 3]}\n",
      "42\n",
      "2\n",
      "42\n"
     ]
    }
   ],
   "source": [
    "from collections import UserDict\n",
    "\n",
    "\n",
    "class DoppelDict2(UserDict):\n",
    "    def __setitem__(self, key, value):\n",
    "        super().__setitem__(key, [value]*2)\n",
    "\n",
    "dd2 = DoppelDict2(one=1, two=2)\n",
    "print(dd2)\n",
    "dd2.update(three=3)\n",
    "print(dd2)\n",
    "\n",
    "\n",
    "class AnswerDict2(UserDict):\n",
    "    def __getitem__(self, key):\n",
    "        return 42\n",
    "\n",
    "ad2 = AnswerDict2(one=1)\n",
    "print(ad2['one'])\n",
    "d = {}\n",
    "d.update(two=2)\n",
    "print(d['two'])\n",
    "d.update(ad2)\n",
    "print(d['one'])"
   ]
  },
  {
   "cell_type": "markdown",
   "metadata": {},
   "source": [
    "# Multiple inheritance and method resolution order"
   ]
  },
  {
   "cell_type": "code",
   "execution_count": 3,
   "metadata": {},
   "outputs": [
    {
     "name": "stdout",
     "output_type": "stream",
     "text": [
      "(<class '__main__.D'>, <class '__main__.B'>, <class '__main__.C'>, <class '__main__.A'>, <class 'object'>)\n",
      "pong: <__main__.D object at 0x000001F4E55BE9E8>\n",
      "PONG: <__main__.D object at 0x000001F4E55BE9E8>\n"
     ]
    }
   ],
   "source": [
    "class A:\n",
    "    def ping(self):\n",
    "        print('ping:', self)\n",
    "    \n",
    "class B(A):\n",
    "    def pong(self):\n",
    "        print(\"pong:\", self)\n",
    "\n",
    "class C(A):\n",
    "    def pong(self):\n",
    "        print(\"PONG:\", self)\n",
    "    \n",
    "class D(B, C):\n",
    "    def ping(self):\n",
    "        super().ping()\n",
    "        print(\"post-ping:\", self)\n",
    "    \n",
    "    def pingpong(self):\n",
    "        self.ping()\n",
    "        super().ping()\n",
    "        self.pong()\n",
    "        super().pong()\n",
    "        C.pong(self)\n",
    "        \n",
    "d = D()\n",
    "print(D.__mro__)\n",
    "d.pong()\n",
    "C.pong(d)"
   ]
  },
  {
   "cell_type": "code",
   "execution_count": 10,
   "metadata": {},
   "outputs": [
    {
     "name": "stdout",
     "output_type": "stream",
     "text": [
      "D , B , C , A , object\n"
     ]
    }
   ],
   "source": [
    "def print_mro(cls):\n",
    "    return \" , \".join(c.__name__ for c in cls.__mro__)\n",
    "\n",
    "print(print_mro(D))\n"
   ]
  },
  {
   "cell_type": "code",
   "execution_count": 15,
   "metadata": {},
   "outputs": [
    {
     "name": "stdout",
     "output_type": "stream",
     "text": [
      "Text , Widget , BaseWidget , Misc , Pack , Place , Grid , XView , YView , object\n",
      "--------------------------------------------------\n",
      "Toplevel , BaseWidget , Misc , Wm , object\n",
      "Widget , BaseWidget , Misc , Pack , Place , Grid , object\n",
      "Button , Widget , BaseWidget , Misc , Pack , Place , Grid , object\n",
      "Text , Widget , BaseWidget , Misc , Pack , Place , Grid , XView , YView , object\n",
      "Entry , Widget , BaseWidget , Misc , Pack , Place , Grid , XView , object\n"
     ]
    }
   ],
   "source": [
    "import tkinter\n",
    "print(print_mro(tkinter.Text))\n",
    "print(\"-\"*50)\n",
    "print(print_mro(tkinter.Toplevel))\n",
    "print(print_mro(tkinter.Widget))\n",
    "print(print_mro(tkinter.Button))\n",
    "print(print_mro(tkinter.Text))\n",
    "print(print_mro(tkinter.Entry))\n"
   ]
  },
  {
   "cell_type": "markdown",
   "metadata": {},
   "source": [
    "# Operator overloading: doing it right"
   ]
  },
  {
   "cell_type": "code",
   "execution_count": 13,
   "metadata": {},
   "outputs": [
    {
     "name": "stdout",
     "output_type": "stream",
     "text": [
      "(-1.0, -1.0)\n",
      "(1.0, 1.0)\n"
     ]
    }
   ],
   "source": [
    "from array import array\n",
    "import reprlib\n",
    "import math\n",
    "import numbers\n",
    "from operator import xor\n",
    "from functools import reduce\n",
    "import itertools\n",
    "\n",
    "class Vector:\n",
    "    typecode = \"d\"\n",
    "    shortcut_names = \"xyzt\"\n",
    "    \n",
    "    def __init__(self, components):\n",
    "        self._components = array(self.typecode, components)\n",
    "        \n",
    "    def __iter__(self):\n",
    "        return iter(self._components)\n",
    "    \n",
    "    def __abs__(self):\n",
    "        return math.sqrt(sum(x*x for x in self))\n",
    "    \n",
    "    def __neg__(self):\n",
    "        return Vector(-x for x in self)\n",
    "    \n",
    "    def __pos__(self):\n",
    "        return Vector(self)\n",
    "    \n",
    "    def __bool__(self):\n",
    "        return bool(abs(self))\n",
    "    \n",
    "#     def __eq__(self, other):\n",
    "#         return tuple(self) == tuple(other)\n",
    "#     def __eq__(self, other):\n",
    "#         if len(self) != len(other):\n",
    "#             return False\n",
    "#         for a,b in zip(self, other):\n",
    "#             if a != b:\n",
    "#                 return False\n",
    "#         return True\n",
    "    def __eq__(self, other):\n",
    "        return len(self) == len(other) and all(a==b for a,b in zip(self, other))\n",
    "    \n",
    "    def __repr__(self):\n",
    "        components = reprlib.repr(self._components)\n",
    "        components = components[components.find('['):-1]\n",
    "        return \"Vector({})\".format(components)\n",
    "    \n",
    "    def __str__(self):\n",
    "        return str(tuple(self))\n",
    "    \n",
    "    def __bytes__(self):\n",
    "        return (bytes([ord(self.typecode)])+\n",
    "                bytes(self._components))\n",
    "    \n",
    "    def __len__(self):\n",
    "        return len(self._components)\n",
    "    \n",
    "    def __hash__(self):\n",
    "        hashs = (hash(x) for x in self._components)\n",
    "        return reduce(xor, hashs, 0)\n",
    "        \n",
    "    \n",
    "    def __getitem__(self, index):\n",
    "        cls = type(self)\n",
    "        if isinstance(index, slice):\n",
    "            return cls(self._components[index])\n",
    "        elif isinstance(index, numbers.Integral):\n",
    "            return self._components[index]\n",
    "        else:\n",
    "            msg = \"{cls.__name__} indices must be integers\"\n",
    "            raise TypeError(msg.format(cls=cls))\n",
    "            \n",
    "    def __getattr__(self, name):\n",
    "        cls = type(self)\n",
    "        if len(name) == 1:\n",
    "            pos = cls.shortcut_names.find(name)\n",
    "            if 0 <= pos < len(cls.shortcut_names):\n",
    "                return self._components[pos]\n",
    "        msg = \"{.__name__!r} object has no attribute {!r}\" \n",
    "        raise AttributeError(msg.format(cls, name))\n",
    "        \n",
    "    def __setattr__(self, name, value):\n",
    "        cls = type(self)\n",
    "        if len(name) == 1:\n",
    "            if name in cls.shortcut_names:\n",
    "                error = \"readonly attribute {attr_name!r}\"\n",
    "            elif name.islower():\n",
    "                error = \"can't set attribute 'a' to 'z' in {cls_name!r}\"\n",
    "            else:\n",
    "                error = \"\"\n",
    "            if error:\n",
    "                msg = error.format(cls_name = cls.__name__, attr_name = name)\n",
    "                raise AttributeError(msg)\n",
    "        super().__setattr__(name, value)\n",
    "        \n",
    "    def angle(self, n):\n",
    "        r = math.sqrt(sum(x * x for x in self[n:]))\n",
    "        a = math.atan2(r, self[n-1])\n",
    "        if (n == len(self) -1 ) and (self[-1] < 0):\n",
    "            return math.pi *2 -a \n",
    "        else:\n",
    "            return a\n",
    "        \n",
    "    def angles(self):\n",
    "        return (self.angle(n) for n in range(1, len(self)))\n",
    "    \n",
    "    def __format__(self, fmt_spec=\"\"):\n",
    "        if fmt_spec.endswith(\"h\"):\n",
    "            fmt_spec = fmt_spec[:-1]\n",
    "            coords = itertools.chain([abs(self)],\n",
    "                                     self.angles())\n",
    "    \n",
    "            outer_fmt = \"<{}>\"\n",
    "        else:\n",
    "            coords = self\n",
    "            outer_fmt = \"({})\"\n",
    "        components = (format(c, fmt_spec) for c in coords)\n",
    "        return outer_fmt.format(\", \".join(components))\n",
    "        \n",
    "    @classmethod\n",
    "    def frombytes(self, octets):\n",
    "        typecode = chr(octets[0])\n",
    "        memv = memoryview(octets[1:]).cast(typecode)\n",
    "        return cls(memv)\n",
    "    \n",
    "#     def __abs__(self):\n",
    "#         return math.sqrt(sum(x * x for x in self))\n",
    "    \n",
    "    def print_self(self):\n",
    "        print(type(self))\n",
    "        return self\n",
    "    \n",
    "v = Vector([1, 1])\n",
    "print(-v)\n",
    "print(+v)\n"
   ]
  },
  {
   "cell_type": "code",
   "execution_count": 17,
   "metadata": {},
   "outputs": [
    {
     "name": "stdout",
     "output_type": "stream",
     "text": [
      "0.3333333333\n",
      "True\n",
      "0.3333333333\n",
      "False\n",
      "0.33333\n"
     ]
    }
   ],
   "source": [
    "import decimal\n",
    "ctx = decimal.getcontext()\n",
    "ctx.prec = 10\n",
    "one_third = decimal.Decimal('1') / decimal.Decimal('3')\n",
    "print(one_third)\n",
    "print(one_third == +one_third)\n",
    "ctx.prec = 5\n",
    "print(one_third)\n",
    "print(one_third == +one_third)\n",
    "print(+one_third)"
   ]
  },
  {
   "cell_type": "code",
   "execution_count": 19,
   "metadata": {},
   "outputs": [
    {
     "name": "stdout",
     "output_type": "stream",
     "text": [
      "Counter({'a': 3, 'b': 2, 'c': 2, 'd': 1})\n",
      "Counter({'b': 2, 'c': 2})\n"
     ]
    }
   ],
   "source": [
    "from collections import Counter\n",
    "ct = Counter('aaabbccd')\n",
    "print(ct)\n",
    "ct['a'] = 0\n",
    "ct['d'] = -4\n",
    "print(+ct)"
   ]
  },
  {
   "cell_type": "code",
   "execution_count": 18,
   "metadata": {},
   "outputs": [
    {
     "name": "stdout",
     "output_type": "stream",
     "text": [
      "(5.0, 7.0, 3.0)\n",
      "(9.0, 11.0)\n",
      "(11.0, 22.0, 33.0)\n",
      "(10.0, 20.0, 30.0)\n",
      "(10.0, 20.0, 30.0)\n",
      "(1.0, 2.0, 3.0)\n",
      "(0.3333333333333333, 0.6666666666666666, 1.0)\n",
      "6.0\n",
      "6.0\n",
      "True\n",
      "False\n"
     ]
    }
   ],
   "source": [
    "from array import array\n",
    "import reprlib\n",
    "import math\n",
    "import numbers\n",
    "from operator import xor\n",
    "from functools import reduce\n",
    "import itertools\n",
    "\n",
    "class Vector:\n",
    "    typecode = \"d\"\n",
    "    shortcut_names = \"xyzt\"\n",
    "    \n",
    "    def __init__(self, components):\n",
    "        self._components = array(self.typecode, components)\n",
    "        \n",
    "    def __iter__(self):\n",
    "        return iter(self._components)\n",
    "    \n",
    "    def __abs__(self):\n",
    "        return math.sqrt(sum(x*x for x in self))\n",
    "    \n",
    "    def __neg__(self):\n",
    "        return Vector(-x for x in self)\n",
    "    \n",
    "    def __pos__(self):\n",
    "        return Vector(self)\n",
    "    \n",
    "    def __bool__(self):\n",
    "        return bool(abs(self))\n",
    "    \n",
    "#     def __eq__(self, other):\n",
    "#         return tuple(self) == tuple(other)\n",
    "#     def __eq__(self, other):\n",
    "#         if len(self) != len(other):\n",
    "#             return False\n",
    "#         for a,b in zip(self, other):\n",
    "#             if a != b:\n",
    "#                 return False\n",
    "#         return True\n",
    "    def __eq__(self, other):\n",
    "        if isinstance(other, Vector):\n",
    "            return len(self) == len(other) and all(a==b for a,b in zip(self, other))\n",
    "        else:\n",
    "            return NotImplemented\n",
    "        \n",
    "    def __add__(self, other):\n",
    "        try:\n",
    "            together = itertools.zip_longest(self, other, fillvalue=0.0)\n",
    "            return Vector(a + b for a, b in together)\n",
    "        except TypeError:\n",
    "            return NotImplemented\n",
    "            \n",
    "    def __radd__(self, other):\n",
    "#         together = itertools.zip_longest(self, other, fillvalue=0.0)\n",
    "#         return Vector(a + b for a, b in together)\n",
    "        return self + other\n",
    "\n",
    "    def __mul__(self, num):\n",
    "        if isinstance(num ,numbers.Real):\n",
    "            return Vector(n * num for n in self)\n",
    "        else:\n",
    "            return NotImplemented\n",
    "        \n",
    "    def __rmul__(self, num):\n",
    "        return self * num\n",
    "    \n",
    "    def __matmul__(self, other):\n",
    "        try:\n",
    "            return sum(a * b for a, b in zip(self, other))\n",
    "        except TypeError:\n",
    "            return NotImplemented\n",
    "        \n",
    "    def __rmatmul__(self, other):\n",
    "        return self @ other\n",
    "\n",
    "    def __repr__(self):\n",
    "        components = reprlib.repr(self._components)\n",
    "        components = components[components.find('['):-1]\n",
    "        return \"Vector({})\".format(components)\n",
    "    \n",
    "    def __str__(self):\n",
    "        return str(tuple(self))\n",
    "    \n",
    "    def __bytes__(self):\n",
    "        return (bytes([ord(self.typecode)])+\n",
    "                bytes(self._components))\n",
    "    \n",
    "    def __len__(self):\n",
    "        return len(self._components)\n",
    "    \n",
    "    def __hash__(self):\n",
    "        hashs = (hash(x) for x in self._components)\n",
    "        return reduce(xor, hashs, 0)\n",
    "        \n",
    "    \n",
    "    def __getitem__(self, index):\n",
    "        cls = type(self)\n",
    "        if isinstance(index, slice):\n",
    "            return cls(self._components[index])\n",
    "        elif isinstance(index, numbers.Integral):\n",
    "            return self._components[index]\n",
    "        else:\n",
    "            msg = \"{cls.__name__} indices must be integers\"\n",
    "            raise TypeError(msg.format(cls=cls))\n",
    "            \n",
    "    def __getattr__(self, name):\n",
    "        cls = type(self)\n",
    "        if len(name) == 1:\n",
    "            pos = cls.shortcut_names.find(name)\n",
    "            if 0 <= pos < len(cls.shortcut_names):\n",
    "                return self._components[pos]\n",
    "        msg = \"{.__name__!r} object has no attribute {!r}\" \n",
    "        raise AttributeError(msg.format(cls, name))\n",
    "        \n",
    "    def __setattr__(self, name, value):\n",
    "        cls = type(self)\n",
    "        if len(name) == 1:\n",
    "            if name in cls.shortcut_names:\n",
    "                error = \"readonly attribute {attr_name!r}\"\n",
    "            elif name.islower():\n",
    "                error = \"can't set attribute 'a' to 'z' in {cls_name!r}\"\n",
    "            else:\n",
    "                error = \"\"\n",
    "            if error:\n",
    "                msg = error.format(cls_name = cls.__name__, attr_name = name)\n",
    "                raise AttributeError(msg)\n",
    "        super().__setattr__(name, value)\n",
    "        \n",
    "    def angle(self, n):\n",
    "        r = math.sqrt(sum(x * x for x in self[n:]))\n",
    "        a = math.atan2(r, self[n-1])\n",
    "        if (n == len(self) -1 ) and (self[-1] < 0):\n",
    "            return math.pi *2 -a \n",
    "        else:\n",
    "            return a\n",
    "        \n",
    "    def angles(self):\n",
    "        return (self.angle(n) for n in range(1, len(self)))\n",
    "    \n",
    "    def __format__(self, fmt_spec=\"\"):\n",
    "        if fmt_spec.endswith(\"h\"):\n",
    "            fmt_spec = fmt_spec[:-1]\n",
    "            coords = itertools.chain([abs(self)],\n",
    "                                     self.angles())\n",
    "    \n",
    "            outer_fmt = \"<{}>\"\n",
    "        else:\n",
    "            coords = self\n",
    "            outer_fmt = \"({})\"\n",
    "        components = (format(c, fmt_spec) for c in coords)\n",
    "        return outer_fmt.format(\", \".join(components))\n",
    "        \n",
    "    @classmethod\n",
    "    def frombytes(self, octets):\n",
    "        typecode = chr(octets[0])\n",
    "        memv = memoryview(octets[1:]).cast(typecode)\n",
    "        return cls(memv)\n",
    "    \n",
    "#     def __abs__(self):\n",
    "#         return math.sqrt(sum(x * x for x in self))\n",
    "    \n",
    "    def print_self(self):\n",
    "        print(type(self))\n",
    "        return self\n",
    "    \n",
    "v1 = Vector([1, 2, 3])\n",
    "v2 = Vector([4, 5])\n",
    "v3 = Vector([5, 6])\n",
    "print(v1 + v2)\n",
    "print(v2 + v3)\n",
    "print(v1 + (10, 20, 30))\n",
    "# print((10, 20, 30) + v1)\n",
    "# TypeError: can only concatenate tuple (not \"Vector\") to tuple\n",
    "# print(Vector(1, 2) + v1)\n",
    "\n",
    "\n",
    "print(10 * v1)\n",
    "print(v1 * 10)\n",
    "print(v1 * True)\n",
    "from fractions import Fraction\n",
    "print(v1 * Fraction(1, 3))\n",
    "\n",
    "\n",
    "print(v1 @ [1, 1, 1] )\n",
    "print([1, 1, 1] @ v1)\n",
    "\n",
    "va = Vector([1.0, 2.0, 3.0])\n",
    "vb = Vector(range(1, 4))\n",
    "print(va == vb)\n",
    "\n",
    "print(va == (1, 2, 3))"
   ]
  },
  {
   "cell_type": "code",
   "execution_count": 2,
   "metadata": {
    "collapsed": true
   },
   "outputs": [],
   "source": [
    "import itertools\n",
    "import abc\n",
    "import random\n",
    "\n",
    "\n",
    "# python3 usage\n",
    "class Tombola(abc.ABC):\n",
    "    @abc.abstractmethod\n",
    "    def load(self, iterable):\n",
    "        \"\"\"Add items from an iterable.\"\"\"\n",
    "    \n",
    "    @abc.abstractmethod\n",
    "    def pick(self):\n",
    "        \"\"\"Remove item at random, returning it.\n",
    "        This method should raise `LookupError` when the instance is empty.\n",
    "        \"\"\"\n",
    "        \n",
    "    def loaded(self):\n",
    "        \"\"\"Return `True` if there's at least 1 item, `False` otherwise.\"\"\"\n",
    "        return bool(self.inspect())\n",
    "    \n",
    "    def inspect(self):\n",
    "        \"\"\"Return a sorted tuple with the items currently inside.\"\"\"\n",
    "        items = []\n",
    "        while True:\n",
    "            try:\n",
    "                items.append(self.pick())\n",
    "            except LookupError:\n",
    "                break\n",
    "        self.load(items)\n",
    "        return tuple(sorted(items))\n",
    "\n",
    "    \n",
    "class BingoCase(Tombola):\n",
    "    def __init__(self, items):\n",
    "        self._randomzier = random.SystemRandom()\n",
    "        self._items = []\n",
    "        self.load(items)\n",
    "        \n",
    "    def load(self, items):\n",
    "        self._items.extend(items)\n",
    "        self._randomzier.shuffle(self._items)\n",
    "        \n",
    "    def pick(self):\n",
    "        try:\n",
    "            return self._items.pop()\n",
    "        except IndexError:\n",
    "            raise LookupError(\"pick from empty BingoCase\")\n",
    "    \n",
    "    def __call__(self):\n",
    "        return self.pick()\n",
    "\n",
    "\n",
    "class AddableBingoCage(BingoCase):\n",
    "    def __add__(self, other):\n",
    "        if isinstance(other, Tombola):\n",
    "            return AddableBingoCage(self.inspect() + other.inspect())\n",
    "        else:\n",
    "            return NotImplemented\n",
    "    \n",
    "    def __iadd__(self, other):\n",
    "        if isinstance(other, Tombola):\n",
    "            other_iterable = other.inspect()\n",
    "        else:\n",
    "            try:\n",
    "                other_iterable = iter(other)\n",
    "            except TypeError:\n",
    "                self_cls = type(self).__name__\n",
    "                msg = \"right operand in += must be {!r} or an iterable\"\n",
    "                raise TypeError(msg.format(self_cls))\n",
    "        self.load(other_iterable)\n",
    "        return self\n",
    "    "
   ]
  },
  {
   "cell_type": "markdown",
   "metadata": {
    "collapsed": true
   },
   "source": [
    "# Iterables, iterators and generators"
   ]
  },
  {
   "cell_type": "code",
   "execution_count": 14,
   "metadata": {},
   "outputs": [
    {
     "name": "stdout",
     "output_type": "stream",
     "text": [
      "The\n",
      "time\n",
      "has\n",
      "come\n",
      "the\n",
      "Walrus\n",
      "said\n",
      "------------------------------------------------------------\n",
      "The\n",
      "True\n",
      "True\n"
     ]
    }
   ],
   "source": [
    "import re\n",
    "import reprlib\n",
    "\n",
    "RE_WORD = re.compile('\\w+')\n",
    "\n",
    "class Sentence:\n",
    "    def __init__(self, text):\n",
    "        self.text = text\n",
    "        self.words = RE_WORD.findall(text)\n",
    "    \n",
    "    def __getitem__(self, index):\n",
    "        return self.words[index]\n",
    "    \n",
    "    def __len__(self):\n",
    "        return len(self.words)\n",
    "    \n",
    "    def __repr__(self):\n",
    "        return \"Sentence(%s)\" % reprlib.repr(self.text)\n",
    "    \n",
    "s = Sentence('\"The time has come,\" the Walrus said,')\n",
    "for word in s:\n",
    "    print(word)\n",
    "print(\"---\"*20)\n",
    "print(s[0])\n",
    "\n",
    "\n",
    "from collections import abc\n",
    "class Foo:\n",
    "    def __iter__(self):\n",
    "        pass\n",
    "print(issubclass(Foo, abc.Iterable))\n",
    "f = Foo()\n",
    "print(isinstance(f, abc.Iterable))\n",
    "# print(issubclass(Sentence, abc.Iterable))\n",
    "# print(issubclass(s, abc.Iterable))\n"
   ]
  },
  {
   "cell_type": "code",
   "execution_count": 18,
   "metadata": {},
   "outputs": [
    {
     "name": "stdout",
     "output_type": "stream",
     "text": [
      "A\n",
      "B\n",
      "C\n",
      "A\n",
      "B\n",
      "C\n"
     ]
    }
   ],
   "source": [
    "s = 'ABC'\n",
    "for char in s:\n",
    "    print(char)\n",
    "    \n",
    "it = iter(s)\n",
    "while True:\n",
    "    try:\n",
    "        print(next(it))\n",
    "    except StopIteration:\n",
    "        del it\n",
    "        break\n",
    "        "
   ]
  },
  {
   "cell_type": "code",
   "execution_count": 1,
   "metadata": {
    "collapsed": true
   },
   "outputs": [],
   "source": [
    "import re\n",
    "import reprlib\n",
    "\n",
    "RE_WORD = re.compile('/w+')\n",
    "class Sentence:\n",
    "    def __init__(self, text):\n",
    "        self.text = text\n",
    "        self.words = RE_WORD.findall(self.text)\n",
    "        \n",
    "    def __iter__(self):\n",
    "        return SentenceIteror(self.words)\n",
    "    \n",
    "    def __repr__(self):\n",
    "        return \"Sentence(%s)\" % reprlib.repr(self.text)\n",
    "    \n",
    "\n",
    "class SentenceIteror:\n",
    "    def __init__(self, words):\n",
    "        self.words = words\n",
    "        self.index = 0\n",
    "        \n",
    "    def __next__(self):\n",
    "        try:\n",
    "            word = self.words[self.index]\n",
    "        except IndexError:\n",
    "            raise StopIteration()\n",
    "        self.index += 1\n",
    "        return word\n",
    "        \n",
    "    def __iter__(self):\n",
    "        return self\n",
    "    \n",
    "    \n",
    "\n",
    "# s = SentenceIteror('\"The time has come,\" the Walrus said,')\n",
    "# for word in s:\n",
    "#     print(word)\n",
    "    \n",
    "# s = Sentence('\"The time has come,\" the Walrus said,')\n",
    "# for word in s:\n",
    "#     print(word)\n"
   ]
  },
  {
   "cell_type": "code",
   "execution_count": 9,
   "metadata": {},
   "outputs": [
    {
     "name": "stdout",
     "output_type": "stream",
     "text": [
      "qeqeqwe\n"
     ]
    }
   ],
   "source": [
    "import re\n",
    "import reprlib\n",
    "\n",
    "RE_WORD = re.compile('/w+')\n",
    "\n",
    "class Sentence:\n",
    "    def __init__(self, text):\n",
    "        self.text = text\n",
    "        self.words = RE_WORD.findall(text)\n",
    "        \n",
    "    def __repr__(self):\n",
    "        return \"Sentence(%s)\" % reprlib.repr(self.text)\n",
    "    \n",
    "    def __iter__(self):\n",
    "        for word in self.words:\n",
    "            yield word\n",
    "        return \n",
    "    \n",
    "s = Sentence('\"The time has come,\" the Walrus said,')\n",
    "for word in s:\n",
    "    print(word)\n",
    "else:\n",
    "    print(\"qeqeqwe\")"
   ]
  },
  {
   "cell_type": "code",
   "execution_count": 10,
   "metadata": {},
   "outputs": [
    {
     "name": "stdout",
     "output_type": "stream",
     "text": [
      "1\n"
     ]
    }
   ],
   "source": [
    "def gen_123():\n",
    "    yield 1\n",
    "    yield 2\n",
    "    yield 3\n",
    "    \n",
    "g = gen_123()\n",
    "print(next(g))"
   ]
  },
  {
   "cell_type": "code",
   "execution_count": 23,
   "metadata": {},
   "outputs": [
    {
     "name": "stdout",
     "output_type": "stream",
     "text": [
      "start\n",
      "--> A\n",
      "continue\n",
      "--> B\n",
      "end\n",
      "--> C\n",
      "----------------------------------------\n",
      "start\n",
      "continue\n",
      "end\n",
      "<class 'list'>\n",
      "['AAA', 'BBB', 'CCC']\n",
      "----------------------------------------\n",
      "--> AAA\n",
      "--> BBB\n",
      "--> CCC\n",
      "----------------------------------------\n",
      "<class 'generator'>\n",
      "start\n",
      "AAA\n",
      "continue\n",
      "BBB\n",
      "end\n",
      "CCC\n"
     ]
    }
   ],
   "source": [
    "def gen_AB():\n",
    "    print(\"start\")\n",
    "    yield  'A'\n",
    "    print(\"continue\")\n",
    "    yield 'B'\n",
    "    print(\"end\")\n",
    "    yield 'C'\n",
    "    \n",
    "for c in gen_AB():\n",
    "    print('-->', c)\n",
    "print(\"-\"*40)\n",
    "res1 = [x*3 for x in gen_AB()]\n",
    "print(type(res1))\n",
    "print(res1)\n",
    "print(\"-\"*40)\n",
    "for i in res1:\n",
    "    print(\"-->\", i)\n",
    "print(\"-\"*40)\n",
    "res2 = (x*3 for x in gen_AB())\n",
    "print(type(res2))\n",
    "for i in res2:\n",
    "    print(i)"
   ]
  },
  {
   "cell_type": "code",
   "execution_count": 15,
   "metadata": {
    "collapsed": true
   },
   "outputs": [],
   "source": [
    "import re\n",
    "import reprlib\n",
    "\n",
    "RE_WORD = re.compile('\\w+')\n",
    "\n",
    "\n",
    "class Sentence:\n",
    "    def __init__(self, text):\n",
    "        self.text = text\n",
    "        \n",
    "    def __repr__(self):\n",
    "        return \"Sentence(%s)\" % reprlib.repr(self.text)\n",
    "    \n",
    "    def __iter__(self):\n",
    "        for match in RE_WORD.finditer(self.text):\n",
    "            yield match.group()\n",
    "            \n",
    "            \n"
   ]
  },
  {
   "cell_type": "code",
   "execution_count": 5,
   "metadata": {},
   "outputs": [
    {
     "name": "stdout",
     "output_type": "stream",
     "text": [
      "[0, 1, 2]\n",
      "[1.0, 1.5, 2.0, 2.5, 3.0, 3.5, 4.0, 4.5, 5.0, 5.5, 6.0, 6.5, 7.0, 7.5, 8.0, 8.5, 9.0, 9.5]\n",
      "[Fraction(0, 1), Fraction(1, 3), Fraction(2, 3)]\n",
      "[Decimal('0'), Decimal('0.1'), Decimal('0.2'), Decimal('0.3'), Decimal('0.4'), Decimal('0.5'), Decimal('0.6'), Decimal('0.7'), Decimal('0.8'), Decimal('0.9')]\n"
     ]
    }
   ],
   "source": [
    "class ArithmeticProgression:\n",
    "    def __init__(self, begin, step, end=None):\n",
    "        self.begin = begin \n",
    "        self.step = step\n",
    "        self.end = end\n",
    "        \n",
    "    def __iter__(self):\n",
    "        forever = self.end is None\n",
    "        result = type(self.begin + self.step)(self.begin)\n",
    "        index = 0\n",
    "        while forever or result < self.end:\n",
    "            yield result\n",
    "            index += 1\n",
    "            result = self.begin + self.step * index\n",
    "            \n",
    "ap = ArithmeticProgression(0, 1, 3)\n",
    "print(list(ap))\n",
    "\n",
    "ap = ArithmeticProgression(1, .5 ,10)\n",
    "print(list(ap))\n",
    "\n",
    "from fractions import Fraction\n",
    "ap = ArithmeticProgression(0, Fraction(1, 3), 1)\n",
    "print(list(ap))\n",
    "\n",
    "from decimal import Decimal\n",
    "ap = ArithmeticProgression(0, Decimal('.1'), 1)\n",
    "print(list(ap))"
   ]
  },
  {
   "cell_type": "code",
   "execution_count": 11,
   "metadata": {},
   "outputs": [
    {
     "name": "stdout",
     "output_type": "stream",
     "text": [
      "[0, 1, 2]\n",
      "[1.0, 1.5, 2.0, 2.5]\n",
      "[Fraction(0, 1), Fraction(1, 3), Fraction(2, 3)]\n",
      "[Decimal('0'), Decimal('0.1'), Decimal('0.2')]\n"
     ]
    }
   ],
   "source": [
    "def aritprog_gen(begin, step, end=None):\n",
    "    forever = end is None\n",
    "    result = type(begin + step)(begin)\n",
    "    index = 0\n",
    "    while forever or result < end:\n",
    "        yield result\n",
    "        index += 1\n",
    "        result = begin + index * step\n",
    "\n",
    "ag = aritprog_gen(0, 1, 3)\n",
    "print(list(ag))\n",
    "\n",
    "ag = aritprog_gen(1, .5 ,3)\n",
    "print(list(ag))\n",
    "\n",
    "from fractions import Fraction\n",
    "ag = aritprog_gen(0, Fraction(1, 3), 1)\n",
    "print(list(ag))\n",
    "\n",
    "from decimal import Decimal\n",
    "ag = aritprog_gen(0, Decimal('.1'), .3)\n",
    "print(list(ag))"
   ]
  },
  {
   "cell_type": "code",
   "execution_count": 3,
   "metadata": {},
   "outputs": [
    {
     "name": "stdout",
     "output_type": "stream",
     "text": [
      "1\n",
      "1.5\n",
      "2.0\n",
      "[1, 1.5, 2.0, 2.5]\n"
     ]
    }
   ],
   "source": [
    "from itertools import count\n",
    "gen = count(1, .5)\n",
    "print(next(gen))\n",
    "print(next(gen))\n",
    "print(next(gen))\n",
    "\n",
    "from itertools import takewhile\n",
    "gen = takewhile(lambda n: n<3, count(1, .5))\n",
    "print(list(gen))\n",
    "\n",
    "\n",
    "def aritprog_gen(start, step, end=None):\n",
    "    first = type(start + step)(start)\n",
    "    gen = count(first， step)\n",
    "    if end is not None:\n",
    "        return takewhile(lambda n: n<end, gen)\n",
    "    return gen"
   ]
  },
  {
   "cell_type": "code",
   "execution_count": 12,
   "metadata": {},
   "outputs": [
    {
     "name": "stdout",
     "output_type": "stream",
     "text": [
      "['A', 'a', 'a']\n",
      "['r', 'd', 'v', 'r', 'k']\n",
      "['r', 'd', 'v', 'a', 'r', 'k']\n",
      "['A', 'a']\n",
      "['A', 'r', 'v', 'r']\n",
      "['A', 'a', 'r', 'd']\n",
      "['a', 'v']\n"
     ]
    }
   ],
   "source": [
    "def vowel(c):\n",
    "    return c.lower() in 'aeiou'\n",
    "\n",
    "print(list(filter(vowel, 'Aardvark')))\n",
    "import itertools\n",
    "print(list(itertools.filterfalse(vowel, 'Aardvark')))\n",
    "print(list(itertools.dropwhile(vowel, 'Aardvark')))\n",
    "print(list(itertools.takewhile(vowel, 'Aardvark')))\n",
    "print(list(itertools.compress('Aardvark', (1,0,1,0,1,0,1,0))))\n",
    "print(list(itertools.islice('Aardvark', 4)))\n",
    "print(list(itertools.islice('Aardvark', 1, 7 ,3)))"
   ]
  },
  {
   "cell_type": "code",
   "execution_count": 25,
   "metadata": {},
   "outputs": [
    {
     "name": "stdout",
     "output_type": "stream",
     "text": [
      "[5, 9, 11, 19, 26, 32, 35, 35, 44, 45]\n",
      "[5, 4, 2, 2, 2, 2, 2, 0, 0, 0]\n",
      "[5, 5, 5, 8, 8, 8, 8, 8, 9, 9]\n",
      "[5, 9, 11, 19, 26, 32, 35, 35, 44, 45]\n",
      "[5, 20, 40, 320, 2240, 13440, 40320, 0, 0, 0]\n",
      "[1, 2, 6, 24, 120, 720, 5040, 40320, 362880, 3628800]\n",
      "[(1, 'a'), (2, 'b'), (3, 'c'), (4, 'd'), (5, 'e')]\n",
      "[1, 4, 9, 16, 25, 36, 49, 64, 81]\n",
      "[0, 4, 16]\n",
      "[(0, 2), (1, 4), (2, 8)]\n",
      "['a', 'bb', 'ccc', 'dddd', 'eeeee']\n",
      "[5.0, 4.5, 3.6666666666666665, 4.75, 5.2, 5.333333333333333, 5.0, 4.375, 4.888888888888889, 4.5]\n"
     ]
    }
   ],
   "source": [
    "import itertools\n",
    "import operator\n",
    "sample = [5, 4, 2, 8, 7, 6, 3, 0, 9, 1]\n",
    "print(list(itertools.accumulate(sample)))\n",
    "print(list(itertools.accumulate(sample, min)))\n",
    "print(list(itertools.accumulate(sample, max)))\n",
    "print(list(itertools.accumulate(sample, operator.add)))\n",
    "print(list(itertools.accumulate(sample, operator.mul)))\n",
    "print(list(itertools.accumulate(range(1, 11), operator.mul)))\n",
    "\n",
    "print(list(enumerate('abcde', 1)))\n",
    "print(list(map(operator.mul, range(1,10), range(1, 10))))\n",
    "print(list(map(operator.mul, range(10), [2, 4, 8])))\n",
    "print(list(map(lambda x,y: (x, y), range(10), [2, 4, 8])))\n",
    "print(list(itertools.starmap(operator.mul, enumerate('abcde', 1))))\n",
    "print(list(itertools.starmap(lambda a,b: b/a, enumerate(itertools.accumulate(sample), 1))))"
   ]
  },
  {
   "cell_type": "code",
   "execution_count": 32,
   "metadata": {},
   "outputs": [
    {
     "name": "stdout",
     "output_type": "stream",
     "text": [
      "['A', 'B', 'C', 0, 1]\n",
      "[(0, 'A'), (1, 'B'), (2, 'C')]\n",
      "[0, 'A', 1, 'B', 2, 'C']\n",
      "[('a', 0), ('b', 1), ('c', 2)]\n",
      "[('a', 0, 10), ('b', 1, 20), ('c', 2, 30)]\n",
      "[('a', 0), ('b', 1), ('c', 2), (None, 3), (None, 4)]\n",
      "[('a', 0), ('b', 1), ('c', 2), ('?', 3), ('?', 4)]\n"
     ]
    }
   ],
   "source": [
    "print(list(itertools.chain('ABC', range(2))))\n",
    "print(list(itertools.chain(enumerate('ABC'))))\n",
    "print(list(itertools.chain.from_iterable(enumerate('ABC'))))\n",
    "print(list(zip('abc', range(4))))\n",
    "print(list(zip('abc', range(4), [10, 20, 30, 40])))\n",
    "print(list(itertools.zip_longest('abc', range(5))))\n",
    "print(list(itertools.zip_longest('abc', range(5), fillvalue='?')))\n"
   ]
  },
  {
   "cell_type": "code",
   "execution_count": 39,
   "metadata": {},
   "outputs": [
    {
     "name": "stdout",
     "output_type": "stream",
     "text": [
      "[('a', 0), ('a', 1), ('b', 0), ('b', 1), ('c', 0), ('c', 1)]\n",
      "[('A', 'spades'), ('A', 'hearts'), ('A', 'diamonds'), ('A', 'clubs'), ('K', 'spades'), ('K', 'hearts'), ('K', 'diamonds'), ('K', 'clubs')]\n",
      "[('A',), ('B',), ('C',)]\n",
      "[('A', 'A'), ('A', 'B'), ('A', 'C'), ('B', 'A'), ('B', 'B'), ('B', 'C'), ('C', 'A'), ('C', 'B'), ('C', 'C')]\n",
      "[(0, 0, 0), (0, 0, 1), (0, 1, 0), (0, 1, 1), (1, 0, 0), (1, 0, 1), (1, 1, 0), (1, 1, 1)]\n",
      "[('A', 0, 'A', 0),\n",
      " ('A', 0, 'A', 1),\n",
      " ('A', 0, 'B', 0),\n",
      " ('A', 0, 'B', 1),\n",
      " ('A', 0, 'C', 0),\n",
      " ('A', 0, 'C', 1),\n",
      " ('A', 1, 'A', 0),\n",
      " ('A', 1, 'A', 1),\n",
      " ('A', 1, 'B', 0),\n",
      " ('A', 1, 'B', 1),\n",
      " ('A', 1, 'C', 0),\n",
      " ('A', 1, 'C', 1),\n",
      " ('B', 0, 'A', 0),\n",
      " ('B', 0, 'A', 1),\n",
      " ('B', 0, 'B', 0),\n",
      " ('B', 0, 'B', 1),\n",
      " ('B', 0, 'C', 0),\n",
      " ('B', 0, 'C', 1),\n",
      " ('B', 1, 'A', 0),\n",
      " ('B', 1, 'A', 1),\n",
      " ('B', 1, 'B', 0),\n",
      " ('B', 1, 'B', 1),\n",
      " ('B', 1, 'C', 0),\n",
      " ('B', 1, 'C', 1),\n",
      " ('C', 0, 'A', 0),\n",
      " ('C', 0, 'A', 1),\n",
      " ('C', 0, 'B', 0),\n",
      " ('C', 0, 'B', 1),\n",
      " ('C', 0, 'C', 0),\n",
      " ('C', 0, 'C', 1),\n",
      " ('C', 1, 'A', 0),\n",
      " ('C', 1, 'A', 1),\n",
      " ('C', 1, 'B', 0),\n",
      " ('C', 1, 'B', 1),\n",
      " ('C', 1, 'C', 0),\n",
      " ('C', 1, 'C', 1)]\n"
     ]
    }
   ],
   "source": [
    "print(list(itertools.product('abc', range(2))))\n",
    "suits = 'spades hearts diamonds clubs'.split()\n",
    "print(list(itertools.product('AK', suits)))\n",
    "print(list(itertools.product('ABC')))\n",
    "print(list(itertools.product('ABC', repeat=2)))\n",
    "print(list(itertools.product(range(2), repeat=3)))\n",
    "rows = itertools.product('ABC', range(2), repeat=2)\n",
    "from pprint import pprint\n",
    "pprint(list(rows))"
   ]
  },
  {
   "cell_type": "code",
   "execution_count": 4,
   "metadata": {},
   "outputs": [
    {
     "name": "stdout",
     "output_type": "stream",
     "text": [
      "0 1 2\n",
      "[1, 1.3, 1.6, 1.9000000000000001]\n",
      "A\n",
      "['B', 'C', 'A', 'B', 'C', 'A', 'B']\n",
      "7 7\n",
      "[8, 8, 8, 8, 8]\n",
      "[0, 4, 8, 12, 16, 20, 24, 28, 32, 36, 40]\n"
     ]
    }
   ],
   "source": [
    "import itertools\n",
    "import operator\n",
    "ct = itertools.count()\n",
    "print(next(ct), next(ct), next(ct))\n",
    "print(list(itertools.islice(itertools.count(1, .3), 4)))\n",
    "cy = itertools.cycle('ABC')\n",
    "print(next(cy))\n",
    "print(list(itertools.islice(cy, 7)))\n",
    "rp = itertools.repeat(7)\n",
    "print(next(rp), next(rp))\n",
    "print(list(itertools.repeat(8, 5)))\n",
    "print(list(map(operator.mul, range(11), itertools.repeat(4))))\n"
   ]
  },
  {
   "cell_type": "code",
   "execution_count": 16,
   "metadata": {},
   "outputs": [
    {
     "name": "stdout",
     "output_type": "stream",
     "text": [
      "[('A', 'B'), ('A', 'C'), ('B', 'C')]\n",
      "[('A', 'A'), ('A', 'B'), ('A', 'C'), ('B', 'B'), ('B', 'C'), ('C', 'C')]\n",
      "[('A', 'B'), ('A', 'C'), ('B', 'A'), ('B', 'C'), ('C', 'A'), ('C', 'B')]\n",
      "[('A', 'A'), ('A', 'B'), ('A', 'C'), ('B', 'A'), ('B', 'B'), ('B', 'C'), ('C', 'A'), ('C', 'B'), ('C', 'C')]\n",
      "[('L', <itertools._grouper object at 0x000002D2FD5F4F28>), ('A', <itertools._grouper object at 0x000002D2FD5F4F60>), ('G', <itertools._grouper object at 0x000002D2FD5F4F98>)]\n",
      "L -> ['L', 'L', 'L']\n",
      "A -> ['A', 'A', 'A']\n",
      "G -> ['G', 'G', 'G', 'G']\n",
      "3 -> ['rat', 'bat']\n",
      "4 -> ['duck', 'bear', 'lion']\n",
      "5 -> ['eagle', 'shark']\n",
      "7 -> ['giraffe', 'dolphin']\n",
      "7 -> ['dolphin', 'giraffe']\n",
      "5 -> ['shark', 'eagle']\n",
      "4 -> ['lion', 'bear', 'duck']\n",
      "3 -> ['bat', 'rat']\n"
     ]
    }
   ],
   "source": [
    "print(list(itertools.combinations('ABC', 2)))\n",
    "print(list(itertools.combinations_with_replacement(\"ABC\", 2)))\n",
    "print(list(itertools.permutations(\"ABC\", 2)))\n",
    "print(list(itertools.product(\"ABC\", repeat=2)))\n",
    "\n",
    "print(list(itertools.groupby(\"LLLAAAAGGGG\")))\n",
    "for char, group in itertools.groupby(\"LLLAAAGGGG\"):\n",
    "    print(char,'->', list(group))\n",
    "    \n",
    "animals = [\n",
    "    'duck', 'eagle', 'rat', 'giraffe', 'bear',\n",
    "    'bat', 'dolphin', 'shark', 'lion'\n",
    "]\n",
    "animals.sort(key=len)\n",
    "for length, group in itertools.groupby(animals, len):\n",
    "    print(length, \"->\", list(group))\n",
    "    \n",
    "for length, group in itertools.groupby(reversed(animals), len):\n",
    "    print(length, \"->\", list(group))\n"
   ]
  },
  {
   "cell_type": "code",
   "execution_count": 20,
   "metadata": {},
   "outputs": [
    {
     "name": "stdout",
     "output_type": "stream",
     "text": [
      "[<itertools._tee object at 0x000002D2FD5D0DC8>, <itertools._tee object at 0x000002D2FC4760C8>]\n",
      "A\n",
      "A\n",
      "B\n",
      "['B', 'C']\n",
      "['C']\n",
      "[('A', 'A'), ('B', 'B'), ('C', 'C')]\n"
     ]
    }
   ],
   "source": [
    "print(list(itertools.tee(\"ABC\")))\n",
    "g1, g2 = itertools.tee(\"ABC\")\n",
    "print(next(g1))\n",
    "print(next(g2))\n",
    "print(next(g2))\n",
    "print(list(g1))\n",
    "print(list(g2))\n",
    "print(list(zip(*itertools.tee(\"ABC\"))))"
   ]
  },
  {
   "cell_type": "code",
   "execution_count": 27,
   "metadata": {},
   "outputs": [
    {
     "name": "stdout",
     "output_type": "stream",
     "text": [
      "['A', 'B', 'C', 1, 2, 3, 4]\n",
      "['A', 'B', 'C', 1, 2, 3, 4]\n",
      "['A', 'B', 'C', 1, 2, 3, 4]\n"
     ]
    }
   ],
   "source": [
    "def chain(*iterables):\n",
    "    for items in iterables:\n",
    "        for item in items:\n",
    "            yield item\n",
    "print(list(chain(\"ABC\", range(1, 5))))\n",
    "\n",
    "\n",
    "def chain_from(*iterables):\n",
    "    for items in iterables:\n",
    "        yield from iterables\n",
    "print(list(chain(\"ABC\", range(1, 5))))\n",
    "print(list(chain(\"ABC\", tuple(range(1, 5)))))"
   ]
  },
  {
   "cell_type": "code",
   "execution_count": 35,
   "metadata": {},
   "outputs": [
    {
     "name": "stdout",
     "output_type": "stream",
     "text": [
      "True\n",
      "True\n",
      "False\n",
      "False\n",
      "True\n",
      "False\n",
      "True\n",
      "8\n",
      "True\n"
     ]
    }
   ],
   "source": [
    "print(any([1, 2, 3]))\n",
    "print(any([1, 0 ,3]))\n",
    "print(any([0, 0, 0]))\n",
    "print(any([]))\n",
    "print(all([1, 1, 1]))\n",
    "print(all([1, 0, 1]))\n",
    "\n",
    "g = (n for n in [0, 0.0, 7, 8])\n",
    "print(any(g))\n",
    "print(next(g))\n",
    "print(all(g))\n",
    "# print(next(g))"
   ]
  },
  {
   "cell_type": "code",
   "execution_count": null,
   "metadata": {
    "collapsed": true
   },
   "outputs": [],
   "source": [
    "from random import randint\n",
    "\n",
    "def d6():\n",
    "    return randint(1, 6)\n",
    "\n",
    "d6_iter = iter(d6, 3)\n",
    "print(type(d6_iter))\n",
    "for item in d6_iter:\n",
    "    print(item)\n",
    "# 只有一次值\n",
    "for item in d6_iter:\n",
    "    print(item)\n",
    "\n",
    "# 相同原理：读取文件直到碰到空行或者到文件的结尾\n",
    "with open(\"pingan.xml\", 'rb') as f:\n",
    "    for item in iter(f.readline, \" \"):\n",
    "        pass"
   ]
  },
  {
   "cell_type": "code",
   "execution_count": null,
   "metadata": {
    "collapsed": true
   },
   "outputs": [],
   "source": [
    "def f():\n",
    "    def do_yield(n):\n",
    "        yield n\n",
    "    x = 0\n",
    "    while True:\n",
    "        x += 1\n",
    "        yield from do_yield(x)\n",
    "        \n",
    "print(list(f()))"
   ]
  },
  {
   "cell_type": "code",
   "execution_count": 5,
   "metadata": {},
   "outputs": [
    {
     "name": "stdout",
     "output_type": "stream",
     "text": [
      "True\n",
      "False\n"
     ]
    }
   ],
   "source": [
    "from collections import abc\n",
    "a = enumerate(\"ABC\")\n",
    "print(isinstance(a, abc.Iterable))\n",
    "\n",
    "import types\n",
    "e = enumerate(\"ABC\")\n",
    "print(isinstance(e, types.GeneratorType))"
   ]
  },
  {
   "cell_type": "code",
   "execution_count": 1,
   "metadata": {
    "collapsed": true
   },
   "outputs": [],
   "source": [
    "class Fib:\n",
    "    def __iter__(self):\n",
    "        return Fibator()\n",
    "    \n",
    "class Fibator:\n",
    "    def __init__(self):\n",
    "        self.a = 0\n",
    "        self.b = 1\n",
    "        \n",
    "    def __next__(self):\n",
    "        self.a, self.b = self.b, self.a + self.b\n",
    "        return self.a\n",
    "    \n",
    "    def __iter__(self):\n",
    "        return self\n",
    "    \n",
    "def fibonacci():\n",
    "    a, b = 0, 1\n",
    "    while True:\n",
    "        yield a\n",
    "        a, b = b, a + b\n",
    "\n",
    "        "
   ]
  },
  {
   "cell_type": "code",
   "execution_count": 17,
   "metadata": {},
   "outputs": [
    {
     "name": "stdout",
     "output_type": "stream",
     "text": [
      "Alice, Kitty and Snowdro\n",
      "JABBERWOCKY\n",
      ">8987B18C99100000x0 ta tcejbo ssalGgnikooL.__niam__<\n",
      "True\n",
      "JABBERWOCKY\n",
      "YKCOWREBBAJ\n"
     ]
    }
   ],
   "source": [
    "class LookingGlass:\n",
    "    def __enter__(self):\n",
    "        import sys\n",
    "        self.original_write = sys.stdout.write\n",
    "        sys.stdout.write = self.reverse_write\n",
    "        return \"JABBERWOCKY\"\n",
    "        \n",
    "    def reverse_write(self, text):\n",
    "        self.original_write(text[::-1])\n",
    "    \n",
    "    def __exit__(self, exc_type, exc_value, traceback):\n",
    "        import sys\n",
    "        sys.stdout.write = self.original_write\n",
    "        if exc_type is ZeroDivisionError:\n",
    "            print(\"Please DO NOT divide by zero!\")\n",
    "            return True\n",
    "        \n",
    "with LookingGlass() as what:\n",
    "    print(\"Alice, Kitty and Snowdro\")\n",
    "    print(what)\n",
    "\n",
    "manager = LookingGlass()\n",
    "print(manager)\n",
    "monster = manager.__enter__()\n",
    "print(monster == \"JABBERWOCKY\")\n",
    "# monster == 'JABBERWOCKY'\n",
    "print(monster)\n",
    "manager.__exit__(0, 0, 0)\n",
    "print(monster)"
   ]
  },
  {
   "cell_type": "code",
   "execution_count": 20,
   "metadata": {},
   "outputs": [
    {
     "name": "stdout",
     "output_type": "stream",
     "text": [
      "Alice, Kitty and Snowdro\n",
      "JABBERWOCKY\n"
     ]
    }
   ],
   "source": [
    "from contextlib import contextmanager\n",
    "\n",
    "\n",
    "@contextmanager\n",
    "def lookingmanager():\n",
    "    import sys\n",
    "    original_data = sys.stdout.write\n",
    "    \n",
    "    def reversed_data(text):\n",
    "        original_data(text[::-1])\n",
    "        \n",
    "    sys.stdout.write = reversed_data\n",
    "    yield \"JABBERWOCKY\"\n",
    "    sys.stdout.write = original_data\n",
    "\n",
    "with lookingmanager() as what:\n",
    "    print(\"Alice, Kitty and Snowdro\")\n",
    "    print(what)"
   ]
  },
  {
   "cell_type": "code",
   "execution_count": 1,
   "metadata": {},
   "outputs": [
    {
     "name": "stdout",
     "output_type": "stream",
     "text": [
      "ordwonS dna yttiK ,ecilA\n",
      "YKCOWREBBAJ\n"
     ]
    }
   ],
   "source": [
    "from contextlib import contextmanager\n",
    "\n",
    "\n",
    "@contextmanager\n",
    "def lookingmanager():\n",
    "    import sys\n",
    "    original_data = sys.stdout.write\n",
    "    \n",
    "    def reversed_data(text):\n",
    "        original_data(text[::-1])\n",
    "        \n",
    "    sys.stdout.write = reversed_data\n",
    "    msg = \"\"\n",
    "    try:\n",
    "        yield \"JABBERWOCKY\"\n",
    "    except ZeroDivisionError:\n",
    "        msg = \"Please DO NOT divide by zero!\"\n",
    "    finally:\n",
    "        sys.stdout.write = original_data\n",
    "        if msg:\n",
    "            print(msg)\n",
    "            \n",
    "\n",
    "with lookingmanager() as what:\n",
    "    print(\"Alice, Kitty and Snowdro\")\n",
    "    print(what)"
   ]
  },
  {
   "cell_type": "markdown",
   "metadata": {},
   "source": [
    "# coroutine"
   ]
  },
  {
   "cell_type": "code",
   "execution_count": 1,
   "metadata": {},
   "outputs": [
    {
     "name": "stdout",
     "output_type": "stream",
     "text": [
      "<class 'generator'>\n",
      "-> coroutine started\n",
      "-> coroutine received 111\n"
     ]
    },
    {
     "ename": "StopIteration",
     "evalue": "",
     "output_type": "error",
     "traceback": [
      "\u001b[1;31m---------------------------------------------------------------------------\u001b[0m",
      "\u001b[1;31mStopIteration\u001b[0m                             Traceback (most recent call last)",
      "\u001b[1;32m<ipython-input-1-df82d37460d7>\u001b[0m in \u001b[0;36m<module>\u001b[1;34m()\u001b[0m\n\u001b[0;32m      7\u001b[0m \u001b[0mprint\u001b[0m\u001b[1;33m(\u001b[0m\u001b[0mtype\u001b[0m\u001b[1;33m(\u001b[0m\u001b[0ms\u001b[0m\u001b[1;33m)\u001b[0m\u001b[1;33m)\u001b[0m\u001b[1;33m\u001b[0m\u001b[0m\n\u001b[0;32m      8\u001b[0m \u001b[0mnext\u001b[0m\u001b[1;33m(\u001b[0m\u001b[0ms\u001b[0m\u001b[1;33m)\u001b[0m\u001b[1;33m\u001b[0m\u001b[0m\n\u001b[1;32m----> 9\u001b[1;33m \u001b[0ms\u001b[0m\u001b[1;33m.\u001b[0m\u001b[0msend\u001b[0m\u001b[1;33m(\u001b[0m\u001b[1;36m111\u001b[0m\u001b[1;33m)\u001b[0m\u001b[1;33m\u001b[0m\u001b[0m\n\u001b[0m",
      "\u001b[1;31mStopIteration\u001b[0m: "
     ]
    }
   ],
   "source": [
    "def simple_cororutine():\n",
    "    print('-> coroutine started')\n",
    "    x = yield\n",
    "    print(\"-> coroutine received {}\".format(x))\n",
    "\n",
    "s = simple_cororutine()\n",
    "print(type(s))\n",
    "next(s)\n",
    "s.send(111)"
   ]
  },
  {
   "cell_type": "code",
   "execution_count": 17,
   "metadata": {},
   "outputs": [
    {
     "name": "stdout",
     "output_type": "stream",
     "text": [
      "GEN_CREATED\n",
      "-> Started：a=  42\n",
      "42\n",
      "-> Received: b= 53\n",
      "95\n",
      "GEN_SUSPENDED\n",
      "-> Received: c= 64\n"
     ]
    },
    {
     "ename": "StopIteration",
     "evalue": "",
     "output_type": "error",
     "traceback": [
      "\u001b[1;31m---------------------------------------------------------------------------\u001b[0m",
      "\u001b[1;31mStopIteration\u001b[0m                             Traceback (most recent call last)",
      "\u001b[1;32m<ipython-input-17-3b6c4a1d6141>\u001b[0m in \u001b[0;36m<module>\u001b[1;34m()\u001b[0m\n\u001b[0;32m     12\u001b[0m \u001b[0mprint\u001b[0m\u001b[1;33m(\u001b[0m\u001b[0ms\u001b[0m\u001b[1;33m.\u001b[0m\u001b[0msend\u001b[0m\u001b[1;33m(\u001b[0m\u001b[1;36m53\u001b[0m\u001b[1;33m)\u001b[0m\u001b[1;33m)\u001b[0m\u001b[1;33m\u001b[0m\u001b[0m\n\u001b[0;32m     13\u001b[0m \u001b[0mprint\u001b[0m\u001b[1;33m(\u001b[0m\u001b[0mgetgeneratorstate\u001b[0m\u001b[1;33m(\u001b[0m\u001b[0ms\u001b[0m\u001b[1;33m)\u001b[0m\u001b[1;33m)\u001b[0m\u001b[1;33m\u001b[0m\u001b[0m\n\u001b[1;32m---> 14\u001b[1;33m \u001b[0mprint\u001b[0m\u001b[1;33m(\u001b[0m\u001b[0ms\u001b[0m\u001b[1;33m.\u001b[0m\u001b[0msend\u001b[0m\u001b[1;33m(\u001b[0m\u001b[1;36m64\u001b[0m\u001b[1;33m)\u001b[0m\u001b[1;33m)\u001b[0m\u001b[1;33m\u001b[0m\u001b[0m\n\u001b[0m\u001b[0;32m     15\u001b[0m \u001b[0mprint\u001b[0m\u001b[1;33m(\u001b[0m\u001b[0mgetgeneratorstate\u001b[0m\u001b[1;33m(\u001b[0m\u001b[0ms\u001b[0m\u001b[1;33m)\u001b[0m\u001b[1;33m)\u001b[0m\u001b[1;33m\u001b[0m\u001b[0m\n\u001b[0;32m     16\u001b[0m \u001b[1;32mtry\u001b[0m\u001b[1;33m:\u001b[0m\u001b[1;33m\u001b[0m\u001b[0m\n",
      "\u001b[1;31mStopIteration\u001b[0m: "
     ]
    }
   ],
   "source": [
    "def simple_coro(a):\n",
    "    print(\"-> Started：a= \", a)\n",
    "    b = yield a\n",
    "    print(\"-> Received: b=\", b)\n",
    "    c = yield a+b\n",
    "    print(\"-> Received: c=\", c)\n",
    "    \n",
    "from inspect import getgeneratorstate\n",
    "s = simple_coro(42)\n",
    "print(getgeneratorstate(s))\n",
    "print(next(s))\n",
    "print(s.send(53))\n",
    "print(getgeneratorstate(s))\n",
    "print(s.send(64))\n",
    "print(getgeneratorstate(s))\n",
    "try:\n",
    "    pass \n",
    "except StopIteration as e:\n",
    "    pass\n",
    "\n"
   ]
  },
  {
   "cell_type": "code",
   "execution_count": 16,
   "metadata": {},
   "outputs": [
    {
     "name": "stdout",
     "output_type": "stream",
     "text": [
      "item: 10\n",
      "1\n",
      "item: 20\n",
      "1\n",
      "item: None\n",
      "15.0\n"
     ]
    }
   ],
   "source": [
    "def averager():\n",
    "    total = 0.0\n",
    "    count = 0\n",
    "    average = None\n",
    "    while True:\n",
    "        item = yield 1\n",
    "        print(\"item: {}\".format(item))\n",
    "        if not item:\n",
    "            break\n",
    "        total += item\n",
    "        count += 1\n",
    "        average = total / count \n",
    "    return average\n",
    "    \n",
    "a = averager()\n",
    "next(a)\n",
    "print(a.send(10))\n",
    "print(a.send(20))\n",
    "try:\n",
    "    a.send(None)\n",
    "except StopIteration as e:\n",
    "    print(e.value)\n",
    "\n",
    "    "
   ]
  },
  {
   "cell_type": "code",
   "execution_count": 18,
   "metadata": {},
   "outputs": [
    {
     "name": "stdout",
     "output_type": "stream",
     "text": [
      "15.0\n",
      "None\n"
     ]
    }
   ],
   "source": [
    "def averager():\n",
    "    total = .0\n",
    "    count = 0\n",
    "    avg = None\n",
    "    while True:\n",
    "        term = yield avg\n",
    "        total += term\n",
    "        count += 1\n",
    "        avg = total / count\n",
    "a = averager()\n",
    "a.send(None)\n",
    "a.send(10)\n",
    "result = a.send(20)\n",
    "print(result)\n",
    "print(a.close())"
   ]
  },
  {
   "cell_type": "code",
   "execution_count": 22,
   "metadata": {},
   "outputs": [
    {
     "data": {
      "text/plain": [
       "15.0"
      ]
     },
     "execution_count": 22,
     "metadata": {},
     "output_type": "execute_result"
    }
   ],
   "source": [
    "from functools import wraps\n",
    "\n",
    "def coroutine(func):\n",
    "    @wraps(func)\n",
    "    def primer(*args, **kwargs):\n",
    "        gen = func(*args, **kwargs)\n",
    "        next(gen)\n",
    "        return gen\n",
    "    return primer\n",
    "\n",
    "a = coroutine(averager)()\n",
    "a.send(10)\n",
    "a.send(20)"
   ]
  },
  {
   "cell_type": "code",
   "execution_count": 33,
   "metadata": {},
   "outputs": [
    {
     "name": "stdout",
     "output_type": "stream",
     "text": [
      "-> corotine start\n",
      "-> Corotine received: 10\n",
      "-> Corotine received: 20\n",
      "-> Corotine received: 30\n",
      "-> Corotine end\n",
      "GEN_CLOSED\n"
     ]
    },
    {
     "ename": "StopIteration",
     "evalue": "",
     "output_type": "error",
     "traceback": [
      "\u001b[1;31m---------------------------------------------------------------------------\u001b[0m",
      "\u001b[1;31mStopIteration\u001b[0m                             Traceback (most recent call last)",
      "\u001b[1;32m<ipython-input-33-a85ade1c0272>\u001b[0m in \u001b[0;36m<module>\u001b[1;34m()\u001b[0m\n\u001b[0;32m     26\u001b[0m \u001b[1;32mfrom\u001b[0m \u001b[0minspect\u001b[0m \u001b[1;32mimport\u001b[0m \u001b[0mgetgeneratorstate\u001b[0m\u001b[1;33m\u001b[0m\u001b[0m\n\u001b[0;32m     27\u001b[0m \u001b[0mprint\u001b[0m\u001b[1;33m(\u001b[0m\u001b[0mgetgeneratorstate\u001b[0m\u001b[1;33m(\u001b[0m\u001b[0mgen\u001b[0m\u001b[1;33m)\u001b[0m\u001b[1;33m)\u001b[0m\u001b[1;33m\u001b[0m\u001b[0m\n\u001b[1;32m---> 28\u001b[1;33m \u001b[0mgen\u001b[0m\u001b[1;33m.\u001b[0m\u001b[0msend\u001b[0m\u001b[1;33m(\u001b[0m\u001b[1;36m10\u001b[0m\u001b[1;33m)\u001b[0m\u001b[1;33m\u001b[0m\u001b[0m\n\u001b[0m",
      "\u001b[1;31mStopIteration\u001b[0m: "
     ]
    }
   ],
   "source": [
    "class DemoException(Exception):\n",
    "    \"\"\"An Exception type for the demoexception\"\"\"\n",
    "    \n",
    "def demo_exc_handing():\n",
    "    print(\"-> corotine start\")\n",
    "    try:\n",
    "        while True:\n",
    "            try:\n",
    "                x = yield\n",
    "            except DemoException:\n",
    "                print(\"DemoEcxeption handle. Corotinuing\")\n",
    "            else:\n",
    "                print(\"-> Corotine received: {!r}\".format(x))\n",
    "        raise RuntimeError(\"This line should never run\")\n",
    "        # 这个不会被运行\n",
    "    finally:\n",
    "        print(\"-> Corotine end\")\n",
    "    \n",
    "gen = demo_exc_handing()\n",
    "next(gen)\n",
    "gen.send(10)\n",
    "gen.send(20)\n",
    "gen.send(30)\n",
    "gen.close()\n",
    "# 协城会停止\n",
    "from inspect import getgeneratorstate\n",
    "print(getgeneratorstate(gen))\n",
    "gen.send(10)\n"
   ]
  },
  {
   "cell_type": "code",
   "execution_count": 34,
   "metadata": {},
   "outputs": [
    {
     "name": "stdout",
     "output_type": "stream",
     "text": [
      "-> corotine start\n",
      "-> Corotine received: 10\n",
      "-> Corotine received: 20\n",
      "-> Corotine received: 30\n",
      "DemoEcxeption handle. Corotinuing\n",
      "GEN_SUSPENDED\n",
      "-> Corotine received: 40\n"
     ]
    }
   ],
   "source": [
    "gen = demo_exc_handing()\n",
    "next(gen)\n",
    "gen.send(10)\n",
    "gen.send(20)\n",
    "gen.send(30)\n",
    "gen.throw(DemoException)\n",
    "# 处理完异常，会被挂起\n",
    "from inspect import getgeneratorstate\n",
    "print(getgeneratorstate(gen))\n",
    "gen.send(40)"
   ]
  },
  {
   "cell_type": "code",
   "execution_count": 36,
   "metadata": {},
   "outputs": [
    {
     "name": "stdout",
     "output_type": "stream",
     "text": [
      "-> corotine start\n",
      "-> Corotine received: 10\n",
      "-> Corotine received: 20\n",
      "-> Corotine received: 30\n",
      "-> Corotine end\n"
     ]
    },
    {
     "ename": "ZeroDivisionError",
     "evalue": "",
     "output_type": "error",
     "traceback": [
      "\u001b[1;31m---------------------------------------------------------------------------\u001b[0m",
      "\u001b[1;31mZeroDivisionError\u001b[0m                         Traceback (most recent call last)",
      "\u001b[1;32m<ipython-input-36-ff4fe9ae9a35>\u001b[0m in \u001b[0;36m<module>\u001b[1;34m()\u001b[0m\n\u001b[0;32m      4\u001b[0m \u001b[0mgen\u001b[0m\u001b[1;33m.\u001b[0m\u001b[0msend\u001b[0m\u001b[1;33m(\u001b[0m\u001b[1;36m20\u001b[0m\u001b[1;33m)\u001b[0m\u001b[1;33m\u001b[0m\u001b[0m\n\u001b[0;32m      5\u001b[0m \u001b[0mgen\u001b[0m\u001b[1;33m.\u001b[0m\u001b[0msend\u001b[0m\u001b[1;33m(\u001b[0m\u001b[1;36m30\u001b[0m\u001b[1;33m)\u001b[0m\u001b[1;33m\u001b[0m\u001b[0m\n\u001b[1;32m----> 6\u001b[1;33m \u001b[0mgen\u001b[0m\u001b[1;33m.\u001b[0m\u001b[0mthrow\u001b[0m\u001b[1;33m(\u001b[0m\u001b[0mZeroDivisionError\u001b[0m\u001b[1;33m)\u001b[0m\u001b[1;33m\u001b[0m\u001b[0m\n\u001b[0m\u001b[0;32m      7\u001b[0m \u001b[1;31m# 没有拦截ZeroDivisionError，会往上传\u001b[0m\u001b[1;33m\u001b[0m\u001b[1;33m\u001b[0m\u001b[0m\n\u001b[0;32m      8\u001b[0m \u001b[1;32mfrom\u001b[0m \u001b[0minspect\u001b[0m \u001b[1;32mimport\u001b[0m \u001b[0mgetgeneratorstate\u001b[0m\u001b[1;33m\u001b[0m\u001b[0m\n",
      "\u001b[1;32m<ipython-input-33-a85ade1c0272>\u001b[0m in \u001b[0;36mdemo_exc_handing\u001b[1;34m()\u001b[0m\n\u001b[0;32m      7\u001b[0m         \u001b[1;32mwhile\u001b[0m \u001b[1;32mTrue\u001b[0m\u001b[1;33m:\u001b[0m\u001b[1;33m\u001b[0m\u001b[0m\n\u001b[0;32m      8\u001b[0m             \u001b[1;32mtry\u001b[0m\u001b[1;33m:\u001b[0m\u001b[1;33m\u001b[0m\u001b[0m\n\u001b[1;32m----> 9\u001b[1;33m                 \u001b[0mx\u001b[0m \u001b[1;33m=\u001b[0m \u001b[1;32myield\u001b[0m\u001b[1;33m\u001b[0m\u001b[0m\n\u001b[0m\u001b[0;32m     10\u001b[0m             \u001b[1;32mexcept\u001b[0m \u001b[0mDemoException\u001b[0m\u001b[1;33m:\u001b[0m\u001b[1;33m\u001b[0m\u001b[0m\n\u001b[0;32m     11\u001b[0m                 \u001b[0mprint\u001b[0m\u001b[1;33m(\u001b[0m\u001b[1;34m\"DemoEcxeption handle. Corotinuing\"\u001b[0m\u001b[1;33m)\u001b[0m\u001b[1;33m\u001b[0m\u001b[0m\n",
      "\u001b[1;31mZeroDivisionError\u001b[0m: "
     ]
    }
   ],
   "source": [
    "gen = demo_exc_handing()\n",
    "next(gen)\n",
    "gen.send(10)\n",
    "gen.send(20)\n",
    "gen.send(30)\n",
    "gen.throw(ZeroDivisionError)\n",
    "# 没有拦截ZeroDivisionError，会往上传\n",
    "from inspect import getgeneratorstate\n",
    "print(getgeneratorstate(gen))\n",
    "# gen.send(40)"
   ]
  },
  {
   "cell_type": "code",
   "execution_count": 41,
   "metadata": {},
   "outputs": [
    {
     "name": "stdout",
     "output_type": "stream",
     "text": [
      "Result(count=2, average=15.0)\n"
     ]
    }
   ],
   "source": [
    "from collections import namedtuple\n",
    "\n",
    "Result = namedtuple(\"Result\", \"count average\")\n",
    "\n",
    "def averager_tuple():\n",
    "    total = .0\n",
    "    count = 0\n",
    "    average = None\n",
    "    while True:\n",
    "        term = yield\n",
    "        if not term:\n",
    "            break\n",
    "        total += term\n",
    "        count += 1\n",
    "        average = total / count\n",
    "    return Result(count, average)\n",
    "\n",
    "gen = averager_tuple()\n",
    "gen.send(None)\n",
    "gen.send(10)\n",
    "gen.send(20)\n",
    "try:\n",
    "    gen.send(None)\n",
    "except StopIteration as e:\n",
    "    print(e.value)\n"
   ]
  },
  {
   "cell_type": "code",
   "execution_count": 46,
   "metadata": {},
   "outputs": [
    {
     "name": "stdout",
     "output_type": "stream",
     "text": [
      "['A', 'B', 1, 2]\n",
      "['A', 'B', 1, 2]\n"
     ]
    }
   ],
   "source": [
    "def gen():\n",
    "    for c in \"AB\":\n",
    "        yield c\n",
    "    for c in range(1, 3):\n",
    "        yield c\n",
    "        \n",
    "print(list(gen()))\n",
    "\n",
    "def gen():\n",
    "    yield from \"AB\"\n",
    "    yield from range(1, 3)\n",
    "print(list(gen()))"
   ]
  },
  {
   "cell_type": "code",
   "execution_count": 50,
   "metadata": {},
   "outputs": [
    {
     "name": "stdout",
     "output_type": "stream",
     "text": [
      "['ABC', range(1, 4)]\n"
     ]
    }
   ],
   "source": [
    "def chain(*iterables):\n",
    "#     yield from iterables\n",
    "    for it in iterables:\n",
    "        yield it\n",
    "    \n",
    "s = \"ABC\"\n",
    "t = range(1, 4)\n",
    "print(list(chain(s, t)))\n",
    "    "
   ]
  },
  {
   "cell_type": "code",
   "execution_count": 1,
   "metadata": {},
   "outputs": [
    {
     "name": "stdout",
     "output_type": "stream",
     "text": [
      " 9 boys  averaging 40.42kg\n",
      " 9 boys  averaging 1.39m\n",
      "10 girls averaging 42.04kg\n",
      "10 girls averaging 1.43m\n"
     ]
    }
   ],
   "source": [
    "from collections import namedtuple\n",
    "Result = namedtuple(\"Result\", \"counter average\")\n",
    "def averager():\n",
    "    total = .0\n",
    "    count = 0\n",
    "    average = None\n",
    "    while True:\n",
    "        term = yield\n",
    "        if not term:\n",
    "            break\n",
    "        total += term\n",
    "        count += 1\n",
    "        average = total / count\n",
    "    return Result(count, average)\n",
    "\n",
    "\n",
    "def grouper(results, key):\n",
    "    while True:\n",
    "        results[key] = yield from averager()\n",
    "        \n",
    "\n",
    "def main(data):\n",
    "    results = {}\n",
    "    for key, values in data.items():\n",
    "        group = grouper(results, key)\n",
    "        next(group)\n",
    "        for value in values:\n",
    "            group.send(value)\n",
    "        group.send(None)\n",
    "        \n",
    "    report(results)\n",
    "        \n",
    "        \n",
    "def report(results):\n",
    "    for key, result in sorted(results.items()):\n",
    "        group, unit = key.split(';')\n",
    "        print('{:2} {:5} averaging {:.2f}{}'.format(result.counter, group, result.average, unit))\n",
    "\n",
    "        \n",
    "data = {\n",
    "    'girls;kg':\n",
    "    [40.9, 38.5, 44.3, 42.2, 45.2, 41.7, 44.5, 38.0, 40.6, 44.5],\n",
    "    'girls;m':\n",
    "    [1.6, 1.51, 1.4, 1.3, 1.41, 1.39, 1.33, 1.46, 1.45, 1.43],\n",
    "    'boys;kg':\n",
    "    [39.0, 40.8, 43.2, 40.8, 43.1, 38.6, 41.4, 40.6, 36.3],\n",
    "    'boys;m':\n",
    "    [1.38, 1.5, 1.32, 1.25, 1.37, 1.48, 1.25, 1.49, 1.46]\n",
    "}\n",
    "# data = {'girls;kg':[40.9, 38.5, 44.3, 42.2, 45.2, 41.7, 44.5, 38.0, 40.6, 44.5],\n",
    "#         'girls;m': [1.6, 1.51, 1.4, 1.3, 1.41, 1.39, 1.33, 1.46, 1.45, 1.43],\n",
    "#         'boys;kg': [39.0, 40.8, 43.2, 40.8, 43.1, 38.6, 41.4, 40.6, 36.3],\n",
    "#         'boys;m': [1.38, 1.5, 1.32, 1.25, 1.37, 1.48, 1.25, 1.49, 1.46],}\n",
    "main(data)"
   ]
  },
  {
   "cell_type": "code",
   "execution_count": 1,
   "metadata": {},
   "outputs": [
    {
     "name": "stdout",
     "output_type": "stream",
     "text": [
      "14 0 pick up passenger\n",
      "9.1\n"
     ]
    }
   ],
   "source": [
    "from queue import PriorityQueue\n",
    "from collections import namedtuple\n",
    "\n",
    "Event = namedtuple(\"Event\", \"time proc action\")\n",
    "\n",
    "\n",
    "e1 = Event(time=14, proc=0, action='pick up passenger')\n",
    "e2 = Event(time=11, proc=1, action='pick up passenger')\n",
    "ti, pr, ac = e1\n",
    "print(ti, pr, ac)\n",
    "events = PriorityQueue()\n",
    "e1 = 10\n",
    "e2 = 9.1\n",
    "events.put(e1)\n",
    "events.put(e2)\n",
    "print(events.get())\n",
    "# 优先级队列，会进行逐个属性的比较"
   ]
  },
  {
   "cell_type": "markdown",
   "metadata": {},
   "source": [
    "# Concurrency with futures"
   ]
  },
  {
   "cell_type": "code",
   "execution_count": 9,
   "metadata": {},
   "outputs": [
    {
     "name": "stdout",
     "output_type": "stream",
     "text": [
      "BD BR CD CN DE EG ET FR ID IN IR JP MX NG PH PK RU TR US VN \n",
      "20 flags downloaded  in 14.77\n"
     ]
    }
   ],
   "source": [
    "import os\n",
    "import time\n",
    "import sys\n",
    "\n",
    "import requests\n",
    "\n",
    "POP20_CC = ('CN IN US ID BR PK NG BD RU JP '\n",
    "            'MX PH VN ET EG DE IR TR CD FR').split()\n",
    "\n",
    "BASE_URL = 'http://flupy.org/data/flags'\n",
    "DEST_DIR = 'D:\\download'\n",
    "\n",
    "\n",
    "def save_flag(img, filename):\n",
    "    path = os.path.join(DEST_DIR, filename)\n",
    "    with open(path, \"wb\") as f:\n",
    "        f.write(img)\n",
    "        \n",
    "def get_flag(cc):\n",
    "    url = \"{}/{cc}/{cc}.gif\".format(BASE_URL, cc=cc.lower())\n",
    "    r = requests.get(url)\n",
    "    return r.content\n",
    "\n",
    "def download_many(cc_list):\n",
    "    for cc in sorted(cc_list):\n",
    "        image = get_flag(cc)\n",
    "        show(cc)\n",
    "        save_flag(image, cc.lower()+\".gif\")\n",
    "    return len(cc_list)\n",
    "\n",
    "def show(text):\n",
    "    print(text, end=' ')\n",
    "#     sys.stdout.flush()\n",
    "\n",
    "def main(download_many):\n",
    "    start = time.time()\n",
    "    count = download_many(POP20_CC)\n",
    "    cost = time.time() - start\n",
    "    msg = \"\\n{} flags downloaded  in {:.2f}\".format(count, cost)\n",
    "    print(msg)\n",
    "\n",
    "main(download_many)\n",
    "    "
   ]
  },
  {
   "cell_type": "code",
   "execution_count": 8,
   "metadata": {},
   "outputs": [
    {
     "name": "stdout",
     "output_type": "stream",
     "text": [
      "BR BDFRDEEGRUNGIDJPTRVN          ET PK CNCDMXIN    USPH  IR "
     ]
    },
    {
     "data": {
      "text/plain": [
       "20"
      ]
     },
     "execution_count": 8,
     "metadata": {},
     "output_type": "execute_result"
    }
   ],
   "source": [
    "from concurrent import futures\n",
    "import requests\n",
    "import os\n",
    "import sys\n",
    "\n",
    "\n",
    "MAX_WORKS = 20\n",
    "POP20_CC = ('CN IN US ID BR PK NG BD RU JP '\n",
    "            'MX PH VN ET EG DE IR TR CD FR').split()\n",
    "BASE_URL = 'http://flupy.org/data/flags'\n",
    "DEST_DIR = 'D:\\download'\n",
    "\n",
    "def get_flag(cc):\n",
    "    url = \"{}/{cc}/{cc}.gif\".format(BASE_URL, cc=cc.lower())\n",
    "    r = requests.get(url)\n",
    "    return r.content\n",
    "\n",
    "def show(text):\n",
    "    print(text, end=' ')\n",
    "    sys.stdout.flush()\n",
    "    \n",
    "def save_flag(img, filename):\n",
    "    path = os.path.join(DEST_DIR, filename)\n",
    "    with open(path, \"wb\") as f:\n",
    "        f.write(img)\n",
    "        \n",
    "def download_one(cc):\n",
    "    image = get_flag(cc)\n",
    "    show(cc)\n",
    "    save_flag(image, cc.lower() + '.gif')\n",
    "\n",
    "def download_many(cc_list):\n",
    "    workers = min(MAX_WORKS, len(cc_list))\n",
    "    with futures.ThreadPoolExecutor(workers) as executor:\n",
    "        res = executor.map(download_one, sorted(cc_list))\n",
    "    return len(list(res))\n",
    "\n",
    "download_many(POP20_CC)"
   ]
  },
  {
   "cell_type": "code",
   "execution_count": 1,
   "metadata": {},
   "outputs": [
    {
     "name": "stdout",
     "output_type": "stream",
     "text": [
      "['CN', 'IN', 'US', 'ID', 'BR']\n",
      "Scheduled for BR:<Future at 0x2594fff2ac8 state=running>\n",
      "Scheduled for CN:<Future at 0x2594ffff198 state=running>\n",
      "Scheduled for ID:<Future at 0x2594ffff710 state=running>\n",
      "Scheduled for IN:<Future at 0x2594ffffd30 state=pending>\n",
      "Scheduled for US:<Future at 0x2594ffffe48 state=pending>\n",
      "CN ID <Future at 0x2594ffff198 state=finished returned NoneType> result:None\n",
      "<Future at 0x2594ffff710 state=finished returned NoneType> result:None\n",
      "BR <Future at 0x2594fff2ac8 state=finished returned NoneType> result:None\n",
      "IN <Future at 0x2594ffffd30 state=finished returned NoneType> result:None\n",
      "US <Future at 0x2594ffffe48 state=finished returned NoneType> result:None\n"
     ]
    },
    {
     "data": {
      "text/plain": [
       "5"
      ]
     },
     "execution_count": 1,
     "metadata": {},
     "output_type": "execute_result"
    }
   ],
   "source": [
    "from concurrent import futures\n",
    "import requests\n",
    "import os\n",
    "import sys\n",
    "\n",
    "\n",
    "MAX_WORKS = 20\n",
    "POP20_CC = ('CN IN US ID BR PK NG BD RU JP '\n",
    "            'MX PH VN ET EG DE IR TR CD FR').split()\n",
    "BASE_URL = 'http://flupy.org/data/flags'\n",
    "DEST_DIR = 'D:\\download'\n",
    "\n",
    "def get_flag(cc):\n",
    "    url = \"{}/{cc}/{cc}.gif\".format(BASE_URL, cc=cc.lower())\n",
    "    r = requests.get(url)\n",
    "    return r.content\n",
    "\n",
    "def show(text):\n",
    "    print(text, end=' ')\n",
    "    sys.stdout.flush()\n",
    "    \n",
    "def save_flag(img, filename):\n",
    "    path = os.path.join(DEST_DIR, filename)\n",
    "    with open(path, \"wb\") as f:\n",
    "        f.write(img)\n",
    "        \n",
    "def download_one(cc):\n",
    "    image = get_flag(cc)\n",
    "    show(cc)\n",
    "    save_flag(image, cc.lower() + '.gif')\n",
    "\n",
    "def download_many(cc_list):\n",
    "    cc_list = cc_list[:5]\n",
    "    print(cc_list)\n",
    "    with futures.ThreadPoolExecutor(max_workers=3) as executor:\n",
    "        to_do = []\n",
    "        for cc in sorted(cc_list):\n",
    "            future = executor.submit(download_one, cc)\n",
    "            to_do.append(future)\n",
    "            msg = \"Scheduled for {}:{}\".format(cc, future)\n",
    "            print(msg)\n",
    "        \n",
    "        results = []\n",
    "        for future in futures.as_completed(to_do):\n",
    "            res = future.result()\n",
    "            msg = \"{} result:{!r}\"\n",
    "            print(msg.format(future, res))\n",
    "            results.append(res)\n",
    "            \n",
    "    return len(results)\n",
    "    \n",
    "\n",
    "download_many(POP20_CC)"
   ]
  },
  {
   "cell_type": "code",
   "execution_count": 3,
   "metadata": {},
   "outputs": [
    {
     "name": "stdout",
     "output_type": "stream",
     "text": [
      "[22:49:49] Script starting.\n",
      "loiter(0): doing nothing for 0s.\tloiter(1): doing nothing for 1s.\n",
      "\n",
      "[22:49:49]\t\tloiter(2): doing nothing for 2s.\n",
      "[22:49:49] result:   loiter(0):done.<generator object Executor.map.<locals>.result_iterator at 0x000002594FFEFF10>\n",
      "\n",
      "\t\t\tloiter(3): doing nothing for 3s.[22:49:49]\n",
      " Waiting for individual results\n",
      "[22:49:49] result 0:0\n",
      "[22:49:50] \tloiter(1):done.[22:49:50]\n",
      " \t\t\t\tloiter(4): doing nothing for 4s.result 1:10\n",
      "\n",
      "[22:49:51] [22:49:51]\t\tloiter(2):done. \n",
      "result 2:20\n",
      "[22:49:52] [22:49:52]\t\t\tloiter(3):done. \n",
      "result 3:30\n",
      "[22:49:54] [22:49:54]\t\t\t\tloiter(4):done. \n",
      "result 4:40\n"
     ]
    }
   ],
   "source": [
    "from time import strftime, sleep\n",
    "from concurrent import futures\n",
    "\n",
    "def display(*args):\n",
    "    print(strftime('[%H:%M:%S]'), end=\" \")\n",
    "    print(*args)\n",
    "    \n",
    "def loiter(n):\n",
    "    msg = \"{}loiter({}): doing nothing for {}s.\"\n",
    "    print(msg.format('\\t'*n, n, n))\n",
    "    sleep(n)\n",
    "    msg = \"{}loiter({}):done.\"\n",
    "    display(msg.format('\\t'*n, n))\n",
    "    return n*10\n",
    "\n",
    "def main():\n",
    "    display(\"Script starting.\")\n",
    "    executor = futures.ThreadPoolExecutor(max_workers=3)\n",
    "    results = executor.map(loiter, range(5))\n",
    "    display(\"result: \", results)\n",
    "    display(\"Waiting for individual results\")\n",
    "    for i, result in enumerate(results):\n",
    "        display(\"result {}:{}\".format(i, result))\n",
    "\n",
    "main()"
   ]
  },
  {
   "cell_type": "markdown",
   "metadata": {
    "collapsed": true
   },
   "source": [
    " # flags2_sequential.py\n"
   ]
  },
  {
   "cell_type": "code",
   "execution_count": 21,
   "metadata": {},
   "outputs": [
    {
     "name": "stdout",
     "output_type": "stream",
     "text": [
      "Searching for 20 flags: from CN to FR\n",
      "1 concurrent connection will be used.\n",
      "BD ok\n",
      "BR ok\n",
      "CD ok\n",
      "CN ok\n",
      "DE ok\n",
      "EG ok\n",
      "ET ok\n",
      "FR ok\n",
      "ID ok\n",
      "IN ok\n",
      "IR ok\n",
      "JP ok\n",
      "MX ok\n",
      "NG ok\n",
      "PH ok\n",
      "PK ok\n",
      "RU ok\n",
      "TR ok\n",
      "US ok\n",
      "VN ok\n",
      "--------------------\n",
      "20 flags downloaded.\n",
      "Elapsed time: 48.40s\n"
     ]
    }
   ],
   "source": [
    "import os\n",
    "import time\n",
    "from enum import Enum\n",
    "from collections import namedtuple, Counter\n",
    "\n",
    "import requests\n",
    "from concurrent import futures\n",
    "\n",
    "\n",
    "Result = namedtuple(\"Result\", \"status data\")\n",
    "HTTPStatus = Enum('Status', 'ok not_found error')\n",
    "\n",
    "POP20_CC = ('CN IN US ID BR PK NG BD RU JP '\n",
    "            'MX PH VN ET EG DE IR TR CD FR').split()\n",
    "BASE_URL = 'http://flupy.org/data/flags'\n",
    "DEST_DIR = r'D:\\download\\sequential'\n",
    "\n",
    "DEFAULT_CONCUR_REQ = 1\n",
    "MAX_CONCUR_REQ = 1\n",
    "\n",
    "\n",
    "def get_flag(base_url, cc):\n",
    "    url = \"{}/{cc}/{cc}.gif\".format(base_url, cc=cc.lower())\n",
    "    resp = requests.get(url)\n",
    "    if resp.status_code != 200:\n",
    "        resp.raise_for_status()\n",
    "    return resp.content\n",
    "\n",
    "def save_flag(img, filename):\n",
    "    path = os.path.join(DEST_DIR, filename)\n",
    "    with open(path, 'wb') as fp:\n",
    "        fp.write(img)\n",
    "\n",
    "def download_one(cc, base_url, verbose):\n",
    "    try:\n",
    "        image = get_flag(base_url, cc)\n",
    "    except requests.exceptions.HTTPError as exc:\n",
    "        res = exc.response\n",
    "        if res.status_code == 404:\n",
    "            status = HTTPStatus.not_found\n",
    "            msg = \"not found\"\n",
    "        else:\n",
    "            raise\n",
    "    else:                                                                         \n",
    "        save_flag(image, cc.lower()+'.gif')\n",
    "        status = HTTPStatus.ok\n",
    "        msg = \"ok\"\n",
    "    \n",
    "    if verbose:\n",
    "        print(cc, msg)\n",
    "    return Result(status, cc)\n",
    "\n",
    "def download_many(cc_list, base_url, verbose, max_req):\n",
    "    counter = Counter()  \n",
    "    cc_iter = sorted(cc_list)\n",
    "#     if not verbose:\n",
    "#         cc_iter = tqdm.tqdm(cc_iter) \n",
    "    for cc in cc_iter:  \n",
    "        try:\n",
    "            res = download_one(cc, base_url, verbose)  \n",
    "        except requests.exceptions.HTTPError as exc: \n",
    "            error_msg = 'HTTP error {res.status_code} - {res.reason}'\n",
    "            error_msg = error_msg.format(res=exc.response)\n",
    "        except requests.exceptions.ConnectionError as exc: \n",
    "            error_msg = 'Connection error'\n",
    "        else:  \n",
    "            error_msg = ''\n",
    "            status = res.status\n",
    "\n",
    "        if error_msg:\n",
    "            status = HTTPStatus.error  \n",
    "        counter[status] += 1 \n",
    "        if verbose and error_msg:\n",
    "            print('*** Error for {}: {}'.format(cc, error_msg))\n",
    "\n",
    "    return counter \n",
    "\n",
    "def initial_report(cc_list, actual_req):\n",
    "    if len(cc_list) <= 10:\n",
    "        cc_msg = ', '.join(cc_list)\n",
    "    else:\n",
    "        cc_msg = 'from {} to {}'.format(cc_list[0], cc_list[-1])\n",
    "    msg = 'Searching for {} flag{}: {}'\n",
    "    plural = 's' if len(cc_list) != 1 else ''\n",
    "    print(msg.format(len(cc_list), plural, cc_msg))\n",
    "    plural = 's' if actual_req != 1 else ''\n",
    "    msg = '{} concurrent connection{} will be used.'\n",
    "    print(msg.format(actual_req, plural))\n",
    "\n",
    "\n",
    "def final_report(cc_list, counter, start_time):\n",
    "    elapsed = time.time() - start_time\n",
    "    print('-' * 20)\n",
    "    msg = '{} flag{} downloaded.'\n",
    "    plural = 's' if counter[HTTPStatus.ok] != 1 else ''\n",
    "    print(msg.format(counter[HTTPStatus.ok], plural))\n",
    "    if counter[HTTPStatus.not_found]:\n",
    "        print(counter[HTTPStatus.not_found], 'not found.')\n",
    "    if counter[HTTPStatus.error]:\n",
    "        plural = 's' if counter[HTTPStatus.error] != 1 else ''\n",
    "        print('{} error{}.'.format(counter[HTTPStatus.error], plural))\n",
    "    print('Elapsed time: {:.2f}s'.format(elapsed))\n",
    "\n",
    "def main(download_many, default_concur_req, max_concur_req):\n",
    "    \n",
    "    actual_req = min(max_concur_req, len(POP20_CC))\n",
    "    initial_report(POP20_CC, actual_req)\n",
    "    t0 = time.time()\n",
    "    counter = download_many(POP20_CC, BASE_URL, True, actual_req)\n",
    "    assert sum(counter.values()) == len(POP20_CC), \\\n",
    "        'some downloads are unaccounted for'\n",
    "    final_report(POP20_CC, counter, t0)\n",
    "\n",
    "main(download_many, DEFAULT_CONCUR_REQ, MAX_CONCUR_REQ)\n"
   ]
  },
  {
   "cell_type": "markdown",
   "metadata": {},
   "source": [
    "# flags2_threadpool"
   ]
  },
  {
   "cell_type": "code",
   "execution_count": 19,
   "metadata": {},
   "outputs": [
    {
     "name": "stdout",
     "output_type": "stream",
     "text": [
      "Searching for 20 flags: from CN to FR\n",
      "20 concurrent connections will be used.\n",
      "DE ok\n",
      "ID ok\n",
      "TR ok\n",
      "FR ok\n",
      "VNCN  okok\n",
      "\n",
      "BD okBR\n",
      " ok\n",
      "MX ok\n",
      "PH ok\n",
      "CD ok\n",
      "NG ok\n",
      "PK ok\n",
      "JP ok\n",
      "RU ok\n",
      "US ok\n",
      "ET ok\n",
      "IR okIN\n",
      " ok\n",
      "EG ok\n",
      "--------------------\n",
      "20 flags downloaded.\n",
      "Elapsed time: 4.87s\n"
     ]
    }
   ],
   "source": [
    "import os\n",
    "import time\n",
    "from enum import Enum\n",
    "from collections import namedtuple, Counter\n",
    "\n",
    "import requests\n",
    "from concurrent import futures\n",
    "\n",
    "\n",
    "Result = namedtuple(\"Result\", \"status data\")\n",
    "HTTPStatus = Enum('Status', 'ok not_found error')\n",
    "\n",
    "POP20_CC = ('CN IN US ID BR PK NG BD RU JP '\n",
    "            'MX PH VN ET EG DE IR TR CD FR').split()\n",
    "BASE_URL = 'http://flupy.org/data/flags'\n",
    "DEST_DIR = r'D:\\download\\threadpool'\n",
    "\n",
    "DEFAULT_CONCUR_REQ = 30\n",
    "MAX_CONCUR_REQ = 1000\n",
    "\n",
    "\n",
    "def get_flag(base_url, cc):\n",
    "    url = \"{}/{cc}/{cc}.gif\".format(base_url, cc=cc.lower())\n",
    "    resp = requests.get(url)\n",
    "    if resp.status_code != 200:\n",
    "        resp.raise_for_status()\n",
    "    return resp.content\n",
    "\n",
    "def save_flag(img, filename):\n",
    "    path = os.path.join(DEST_DIR, filename)\n",
    "    with open(path, 'wb') as fp:\n",
    "        fp.write(img)\n",
    "\n",
    "def download_one(cc, base_url, verbose):\n",
    "    try:\n",
    "        image = get_flag(base_url, cc)\n",
    "    except requests.exceptions.HTTPError as exc:\n",
    "        res = exc.response\n",
    "        if res.status_code == 404:\n",
    "            status = HTTPStatus.not_found\n",
    "            msg = \"not found\"\n",
    "        else:\n",
    "            raise\n",
    "    else:                                                                         \n",
    "        save_flag(image, cc.lower()+'.gif')\n",
    "        status = HTTPStatus.ok\n",
    "        msg = \"ok\"\n",
    "    \n",
    "    if verbose:\n",
    "        print(cc, msg)\n",
    "    return Result(status, cc)\n",
    "\n",
    "def download_many(cc_list, base_url, verbose, concur_req):\n",
    "    counter = Counter()  \n",
    "    cc_iter = sorted(cc_list)  \n",
    "#     if not verbose:\n",
    "#         cc_iter = tqdm.tqdm(cc_iter) \n",
    "    with futures.ThreadPoolExecutor(max_workers=concur_req) as executor:\n",
    "        to_do_map = {}\n",
    "        for cc in sorted(cc_iter):  \n",
    "            future = executor.submit(download_one, cc,\n",
    "                                     base_url, verbose)\n",
    "            to_do_map[future] = cc\n",
    "        done_iter = futures.as_completed(to_do_map)\n",
    "        if not verbose:\n",
    "            pass\n",
    "        for future in done_iter:\n",
    "            try:\n",
    "                res = future.result()\n",
    "            except requests.exceptions.HTTPError as e:\n",
    "                error_msg = \"HTTP {e.status_code} - {e..reason}\"\n",
    "                error_msg = error_msg.format(e=e)\n",
    "            except requests.exceptions.ConnectionError as e:\n",
    "                error_msg = \"Connection error\"\n",
    "            else:\n",
    "                error_msg = \"\"\n",
    "                status = res.status\n",
    "            if error_msg:\n",
    "                status = HTTPStatus.error\n",
    "            counter[status] += 1\n",
    "            if verbose and error_msg:\n",
    "                cc = to_do_map[future]\n",
    "                print(\"*** Error for {}: {}\".format(cc, error_msg))\n",
    "    return counter\n",
    "\n",
    "def initial_report(cc_list, actual_req):\n",
    "    if len(cc_list) <= 10:\n",
    "        cc_msg = ', '.join(cc_list)\n",
    "    else:\n",
    "        cc_msg = 'from {} to {}'.format(cc_list[0], cc_list[-1])\n",
    "    msg = 'Searching for {} flag{}: {}'\n",
    "    plural = 's' if len(cc_list) != 1 else ''\n",
    "    print(msg.format(len(cc_list), plural, cc_msg))\n",
    "    plural = 's' if actual_req != 1 else ''\n",
    "    msg = '{} concurrent connection{} will be used.'\n",
    "    print(msg.format(actual_req, plural))\n",
    "\n",
    "\n",
    "def final_report(cc_list, counter, start_time):\n",
    "    elapsed = time.time() - start_time\n",
    "    print('-' * 20)\n",
    "    msg = '{} flag{} downloaded.'\n",
    "    plural = 's' if counter[HTTPStatus.ok] != 1 else ''\n",
    "    print(msg.format(counter[HTTPStatus.ok], plural))\n",
    "    if counter[HTTPStatus.not_found]:\n",
    "        print(counter[HTTPStatus.not_found], 'not found.')\n",
    "    if counter[HTTPStatus.error]:\n",
    "        plural = 's' if counter[HTTPStatus.error] != 1 else ''\n",
    "        print('{} error{}.'.format(counter[HTTPStatus.error], plural))\n",
    "    print('Elapsed time: {:.2f}s'.format(elapsed))\n",
    "\n",
    "def main(download_many, default_concur_req, max_concur_req):\n",
    "    \n",
    "    actual_req = min(max_concur_req, len(POP20_CC))\n",
    "    initial_report(POP20_CC, actual_req)\n",
    "    t0 = time.time()\n",
    "    counter = download_many(POP20_CC, BASE_URL, True, actual_req)\n",
    "    assert sum(counter.values()) == len(POP20_CC), \\\n",
    "        'some downloads are unaccounted for'\n",
    "    final_report(POP20_CC, counter, t0)\n",
    "\n",
    "main(download_many, DEFAULT_CONCUR_REQ, MAX_CONCUR_REQ)"
   ]
  },
  {
   "cell_type": "markdown",
   "metadata": {
    "collapsed": true
   },
   "source": [
    "#  Chapter 18. Concurrency with asyncio"
   ]
  },
  {
   "cell_type": "code",
   "execution_count": 2,
   "metadata": {},
   "outputs": [
    {
     "name": "stdout",
     "output_type": "stream",
     "text": [
      "spinner object:  <Thread(Thread-6, initial)>\n",
      "| thinki/ thinki- thinki        Result:  42\n"
     ]
    }
   ],
   "source": [
    "# spinner_threads.py\n",
    "\n",
    "import sys\n",
    "import time\n",
    "import threading\n",
    "import itertools\n",
    "\n",
    "class Signal:\n",
    "    go = True\n",
    "    \n",
    "def spin(msg, signal):\n",
    "    write, flush = sys.stdout.write, sys.stdout.flush\n",
    "    for char in itertools.cycle(\"|/-\\\\\"):\n",
    "        status = char + \" \" + msg\n",
    "        write(status)\n",
    "        flush()\n",
    "        write(\"\\x08\" * len(status))\n",
    "        time.sleep(1)\n",
    "        if not signal.go:\n",
    "            break\n",
    "    write(\" \" * len(status) + \"\\x08\" * len(status))\n",
    "    \n",
    "def slow_function():\n",
    "    time.sleep(3)\n",
    "    return 42\n",
    "\n",
    "def supervisor():\n",
    "    signal = Signal()\n",
    "    spinner = threading.Thread(target=spin, args=('thinking', signal))\n",
    "    print(\"spinner object: \", spinner)\n",
    "    spinner.start()\n",
    "    result = slow_function()\n",
    "    signal.go = False\n",
    "    spinner.join()\n",
    "    return result\n",
    "\n",
    "def main():\n",
    "    result = supervisor()\n",
    "    print(\"Result: \", result)\n",
    "main()\n",
    "\n",
    "# spinner object: | thinking <Thread(Thread-8, initial\n",
    "# / thinki- thinkiResult:  42\n",
    "\n",
    "# spinner object:  <Thread(Thread-9, initial)>\n",
    "# | thinki/ thinki- thinki        Result:  42\n"
   ]
  },
  {
   "cell_type": "code",
   "execution_count": 3,
   "metadata": {},
   "outputs": [
    {
     "name": "stdout",
     "output_type": "stream",
     "text": [
      "spinner object: <Task pending coro=<spin() running at <ipython-input-3-2d03782d8a8f>:5>>\n",
      "| thinking/ thinking- thinking          Answer: 42\n"
     ]
    }
   ],
   "source": [
    "# spinner_asyncio.py\n",
    "import sys\n",
    "import asyncio\n",
    "\n",
    "@asyncio.coroutine\n",
    "def spin(msg):\n",
    "    write, flush = sys.stdout.write, sys.stdout.flush\n",
    "    for char in itertools.cycle(\"|/-\\\\\"):\n",
    "        status = char + \" \" + msg\n",
    "        write(status)\n",
    "        flush()\n",
    "        write('\\x08' * len(status))\n",
    "        try:\n",
    "            yield from asyncio.sleep(1)\n",
    "        except asyncio.CancelledError:\n",
    "            break\n",
    "    write(\" \" * len(status) + '\\x08' * len(status))\n",
    "\n",
    "@asyncio.coroutine\n",
    "def slow_funciton():\n",
    "    yield from asyncio.sleep(3)\n",
    "    return 42\n",
    "\n",
    "@asyncio.coroutine\n",
    "def supervisor():\n",
    "    spinner = asyncio.async(spin(\"thinking!\"))\n",
    "    print(\"spinner object:\", spinner)\n",
    "    result = yield from slow_function()\n",
    "    spinner.cancel()\n",
    "    return result\n",
    "\n",
    "def main():\n",
    "    loop = asyncio.get_event_loop()\n",
    "    result = loop.run_until_complete(supervisor())\n",
    "    loop.close()\n",
    "    print(\"Answer:\", result)\n",
    "    \n",
    "if __name__ == '__main__':\n",
    "    main()\n",
    "    \n",
    "    "
   ]
  },
  {
   "cell_type": "code",
   "execution_count": null,
   "metadata": {},
   "outputs": [
    {
     "name": "stdout",
     "output_type": "stream",
     "text": [
      "JP TR NG IN DE CN BD ID VN MX PH PK FR BR RU IR CD US ET "
     ]
    }
   ],
   "source": [
    "import os\n",
    "import sys\n",
    "import asyncio\n",
    "import aiohttp\n",
    "import time\n",
    "\n",
    "POP20_CC = ('CN IN US ID BR PK NG BD RU JP '\n",
    "            'MX PH VN ET EG DE IR TR CD FR').split()\n",
    "BASE_URL = 'http://flupy.org/data/flags'\n",
    "DEST_DIR = r'D:\\download\\asynico'\n",
    "\n",
    "def show(text):  \n",
    "    print(text, end=\" \")\n",
    "    sys.stdout.flush()\n",
    "    \n",
    "@asyncio.coroutine\n",
    "def get_flag(cc):\n",
    "    url = \"{}/{cc}/{cc}.gif\".format(BASE_URL, cc=cc.lower())\n",
    "    resp = yield from aiohttp.request(\"GET\", url)\n",
    "    image = yield from resp.read()\n",
    "    return image\n",
    "\n",
    "def save_flag(img, filename):\n",
    "    path = os.path.join(DEST_DIR, filename)\n",
    "    with open(path, 'wb') as fp:\n",
    "        fp.write(img)\n",
    "        \n",
    "@asyncio.coroutine\n",
    "def download_one(cc):\n",
    "    image = yield from get_flag(cc)\n",
    "    show(cc)\n",
    "    save_flag(image, cc.lower() + \".gif\")\n",
    "    return cc\n",
    "\n",
    "def download_many(cc_list):\n",
    "    loop = asyncio.get_event_loop()\n",
    "    to_do = [download_one(cc) for cc in sorted(cc_list)]\n",
    "    wait_coro = asyncio.wait(to_do)\n",
    "    res, _ = loop.run_until_complete(wait_coro)\n",
    "    loop.close()\n",
    "    return len(res)\n",
    "    \n",
    "def main(download_many):  # <10>\n",
    "    t0 = time.time()\n",
    "    count = download_many(POP20_CC)\n",
    "    elapsed = time.time() - t0\n",
    "    msg = '\\n{} flags downloaded in {:.2f}s'\n",
    "    print(msg.format(count, elapsed))\n",
    "\n",
    "main(download_many)\n",
    "\n"
   ]
  },
  {
   "cell_type": "code",
   "execution_count": 5,
   "metadata": {},
   "outputs": [
    {
     "name": "stdout",
     "output_type": "stream",
     "text": [
      "Searching for 20 flags: from CN to FR\n",
      "20 concurrent connections will be used.\n",
      "--------------------\n",
      "20 flags downloaded.\n",
      "Elapsed time: 8.09s\n"
     ]
    }
   ],
   "source": [
    "import os\n",
    "import sys\n",
    "import asyncio\n",
    "import aiohttp\n",
    "from aiohttp import web\n",
    "import time\n",
    "from enum import Enum\n",
    "from collections import Counter, namedtuple\n",
    "\n",
    "Result = namedtuple(\"Result\", \"status data\")\n",
    "HTTPStatus = Enum('Status', 'ok not_found error')\n",
    "\n",
    "POP20_CC = ('CN IN US ID BR PK NG BD RU JP '\n",
    "            'MX PH VN ET EG DE IR TR CD FR').split()\n",
    "BASE_URL = 'http://flupy.org/data/flags'\n",
    "DEST_DIR = r'D:\\download\\coro'\n",
    "\n",
    "DEFAULT_CONCUR_REQ = 5\n",
    "MAX_CONCUR_REQ = 1000\n",
    "\n",
    "class FetchError(Exception):\n",
    "    def __init__(self, country_code):\n",
    "        self.country_code = country_code\n",
    "    \n",
    "def save_flag(img, filename):\n",
    "    path = os.path.join(DEST_DIR, filename)\n",
    "    with open(path, 'wb') as fp:\n",
    "        fp.write(img)\n",
    "\n",
    "@asyncio.coroutine\n",
    "def get_flag(base_url, cc):\n",
    "    url = \"{}/{cc}/{cc}.gif\".format(base_url, cc=cc.lower())\n",
    "    resp = yield from aiohttp.request(\"GET\", url)\n",
    "    if resp.status == 200:\n",
    "        image = yield from resp.read()\n",
    "        return image\n",
    "    elif resp.status == 404:\n",
    "        raise web.HTTPNotFound()\n",
    "    else:\n",
    "        raise aiohttp.HttpProcessingError(\n",
    "            code=resp.status, message=resp.reason,\n",
    "            headers=resp.headers)\n",
    "        \n",
    "@asyncio.coroutine\n",
    "def download_one(cc, base_url, semaphore, verbose):\n",
    "    try:\n",
    "        with (yield from semaphore):\n",
    "            image = yield from get_flag(base_url, cc)\n",
    "    except web.HTTPNotFound:\n",
    "        status = HTTPStatus.not_found\n",
    "    except Exception as ecx:\n",
    "        raise FetchError(cc) from exc\n",
    "    else:\n",
    "        save_flag(image, cc.lower()+'.gif')\n",
    "        status = HTTPStatus.ok\n",
    "        msg = \"OK\"\n",
    "    return Result(status, cc)\n",
    "\n",
    "@asyncio.coroutine\n",
    "def downloader_coro(cc_list, base_url, verbose, concur_req):\n",
    "    counter = Counter()\n",
    "    semaphore = asyncio.Semaphore(concur_req)\n",
    "    to_do = [download_one(cc, base_url, semaphore, verbose)\n",
    "             for cc in sorted(cc_list)]\n",
    "    to_do_iter = asyncio.as_completed(to_do)\n",
    "    for future in to_do_iter:\n",
    "        try:\n",
    "            res = yield from future\n",
    "        except FetchError as exc:\n",
    "            country_code = exc.country_code\n",
    "            try:\n",
    "                error_msg = ecx.__cause__.args[0]\n",
    "            except IndexError:\n",
    "                error_msg = exc.__cause__.__class__.__name__\n",
    "            if verbose and error_msg:\n",
    "                msg = \"*** Error for {}: {}\"\n",
    "                print(msg.format(country_code, error_msg))\n",
    "            status = HTTPStatus.error\n",
    "        else:\n",
    "            status = res.status\n",
    "        counter[status] += 1\n",
    "    return counter\n",
    "\n",
    "def download_many(cc_list, base_url, verbose, concur_req):\n",
    "    loop = asyncio.get_event_loop()\n",
    "    coro = downloader_coro(cc_list, base_url, verbose, concur_req)\n",
    "    counts = loop.run_until_complete(coro)\n",
    "    loop.close()\n",
    "    return counts\n",
    "\n",
    "def initial_report(cc_list, actual_req):\n",
    "    if len(cc_list) <= 10:\n",
    "        cc_msg = ', '.join(cc_list)\n",
    "    else:\n",
    "        cc_msg = 'from {} to {}'.format(cc_list[0], cc_list[-1])\n",
    "    msg = 'Searching for {} flag{}: {}'\n",
    "    plural = 's' if len(cc_list) != 1 else ''\n",
    "    print(msg.format(len(cc_list), plural, cc_msg))\n",
    "    plural = 's' if actual_req != 1 else ''\n",
    "    msg = '{} concurrent connection{} will be used.'\n",
    "    print(msg.format(actual_req, plural))\n",
    "\n",
    "\n",
    "def final_report(cc_list, counter, start_time):\n",
    "    elapsed = time.time() - start_time\n",
    "    print('-' * 20)\n",
    "    msg = '{} flag{} downloaded.'\n",
    "    plural = 's' if counter[HTTPStatus.ok] != 1 else ''\n",
    "    print(msg.format(counter[HTTPStatus.ok], plural))\n",
    "    if counter[HTTPStatus.not_found]:\n",
    "        print(counter[HTTPStatus.not_found], 'not found.')\n",
    "    if counter[HTTPStatus.error]:\n",
    "        plural = 's' if counter[HTTPStatus.error] != 1 else ''\n",
    "        print('{} error{}.'.format(counter[HTTPStatus.error], plural))\n",
    "    print('Elapsed time: {:.2f}s'.format(elapsed))\n",
    "\n",
    "def main(download_many, default_concur_req, max_concur_req):\n",
    "    \n",
    "    actual_req = min(max_concur_req, len(POP20_CC))\n",
    "    initial_report(POP20_CC, actual_req)\n",
    "    t0 = time.time()\n",
    "    counter = download_many(POP20_CC, BASE_URL, True, actual_req)\n",
    "    assert sum(counter.values()) == len(POP20_CC), \\\n",
    "        'some downloads are unaccounted for'\n",
    "    final_report(POP20_CC, counter, t0)\n",
    "    \n",
    "main(download_many, DEFAULT_CONCUR_REQ, MAX_CONCUR_REQ)\n"
   ]
  },
  {
   "cell_type": "code",
   "execution_count": 6,
   "metadata": {},
   "outputs": [
    {
     "name": "stdout",
     "output_type": "stream",
     "text": [
      "Searching for 20 flags: from CN to FR\n",
      "20 concurrent connections will be used.\n"
     ]
    },
    {
     "ename": "RuntimeError",
     "evalue": "Event loop is closed",
     "output_type": "error",
     "traceback": [
      "\u001b[1;31m---------------------------------------------------------------------------\u001b[0m",
      "\u001b[1;31mRuntimeError\u001b[0m                              Traceback (most recent call last)",
      "\u001b[1;32m<ipython-input-6-c2028c801336>\u001b[0m in \u001b[0;36m<module>\u001b[1;34m()\u001b[0m\n\u001b[0;32m    129\u001b[0m     \u001b[0mfinal_report\u001b[0m\u001b[1;33m(\u001b[0m\u001b[0mPOP20_CC\u001b[0m\u001b[1;33m,\u001b[0m \u001b[0mcounter\u001b[0m\u001b[1;33m,\u001b[0m \u001b[0mt0\u001b[0m\u001b[1;33m)\u001b[0m\u001b[1;33m\u001b[0m\u001b[0m\n\u001b[0;32m    130\u001b[0m \u001b[1;33m\u001b[0m\u001b[0m\n\u001b[1;32m--> 131\u001b[1;33m \u001b[0mmain\u001b[0m\u001b[1;33m(\u001b[0m\u001b[0mdownload_many\u001b[0m\u001b[1;33m,\u001b[0m \u001b[0mDEFAULT_CONCUR_REQ\u001b[0m\u001b[1;33m,\u001b[0m \u001b[0mMAX_CONCUR_REQ\u001b[0m\u001b[1;33m)\u001b[0m\u001b[1;33m\u001b[0m\u001b[0m\n\u001b[0m",
      "\u001b[1;32m<ipython-input-6-c2028c801336>\u001b[0m in \u001b[0;36mmain\u001b[1;34m(download_many, default_concur_req, max_concur_req)\u001b[0m\n\u001b[0;32m    125\u001b[0m     \u001b[0minitial_report\u001b[0m\u001b[1;33m(\u001b[0m\u001b[0mPOP20_CC\u001b[0m\u001b[1;33m,\u001b[0m \u001b[0mactual_req\u001b[0m\u001b[1;33m)\u001b[0m\u001b[1;33m\u001b[0m\u001b[0m\n\u001b[0;32m    126\u001b[0m     \u001b[0mt0\u001b[0m \u001b[1;33m=\u001b[0m \u001b[0mtime\u001b[0m\u001b[1;33m.\u001b[0m\u001b[0mtime\u001b[0m\u001b[1;33m(\u001b[0m\u001b[1;33m)\u001b[0m\u001b[1;33m\u001b[0m\u001b[0m\n\u001b[1;32m--> 127\u001b[1;33m     \u001b[0mcounter\u001b[0m \u001b[1;33m=\u001b[0m \u001b[0mdownload_many\u001b[0m\u001b[1;33m(\u001b[0m\u001b[0mPOP20_CC\u001b[0m\u001b[1;33m,\u001b[0m \u001b[0mBASE_URL\u001b[0m\u001b[1;33m,\u001b[0m \u001b[1;32mTrue\u001b[0m\u001b[1;33m,\u001b[0m \u001b[0mactual_req\u001b[0m\u001b[1;33m)\u001b[0m\u001b[1;33m\u001b[0m\u001b[0m\n\u001b[0m\u001b[0;32m    128\u001b[0m     \u001b[1;32massert\u001b[0m \u001b[0msum\u001b[0m\u001b[1;33m(\u001b[0m\u001b[0mcounter\u001b[0m\u001b[1;33m.\u001b[0m\u001b[0mvalues\u001b[0m\u001b[1;33m(\u001b[0m\u001b[1;33m)\u001b[0m\u001b[1;33m)\u001b[0m \u001b[1;33m==\u001b[0m \u001b[0mlen\u001b[0m\u001b[1;33m(\u001b[0m\u001b[0mPOP20_CC\u001b[0m\u001b[1;33m)\u001b[0m\u001b[1;33m,\u001b[0m         \u001b[1;34m'some downloads are unaccounted for'\u001b[0m\u001b[1;33m\u001b[0m\u001b[0m\n\u001b[0;32m    129\u001b[0m     \u001b[0mfinal_report\u001b[0m\u001b[1;33m(\u001b[0m\u001b[0mPOP20_CC\u001b[0m\u001b[1;33m,\u001b[0m \u001b[0mcounter\u001b[0m\u001b[1;33m,\u001b[0m \u001b[0mt0\u001b[0m\u001b[1;33m)\u001b[0m\u001b[1;33m\u001b[0m\u001b[0m\n",
      "\u001b[1;32m<ipython-input-6-c2028c801336>\u001b[0m in \u001b[0;36mdownload_many\u001b[1;34m(cc_list, base_url, verbose, concur_req)\u001b[0m\n\u001b[0;32m     88\u001b[0m     \u001b[0mloop\u001b[0m \u001b[1;33m=\u001b[0m \u001b[0masyncio\u001b[0m\u001b[1;33m.\u001b[0m\u001b[0mget_event_loop\u001b[0m\u001b[1;33m(\u001b[0m\u001b[1;33m)\u001b[0m\u001b[1;33m\u001b[0m\u001b[0m\n\u001b[0;32m     89\u001b[0m     \u001b[0mcoro\u001b[0m \u001b[1;33m=\u001b[0m \u001b[0mdownloader_coro\u001b[0m\u001b[1;33m(\u001b[0m\u001b[0mcc_list\u001b[0m\u001b[1;33m,\u001b[0m \u001b[0mbase_url\u001b[0m\u001b[1;33m,\u001b[0m \u001b[0mverbose\u001b[0m\u001b[1;33m,\u001b[0m \u001b[0mconcur_req\u001b[0m\u001b[1;33m)\u001b[0m\u001b[1;33m\u001b[0m\u001b[0m\n\u001b[1;32m---> 90\u001b[1;33m     \u001b[0mcounts\u001b[0m \u001b[1;33m=\u001b[0m \u001b[0mloop\u001b[0m\u001b[1;33m.\u001b[0m\u001b[0mrun_until_complete\u001b[0m\u001b[1;33m(\u001b[0m\u001b[0mcoro\u001b[0m\u001b[1;33m)\u001b[0m\u001b[1;33m\u001b[0m\u001b[0m\n\u001b[0m\u001b[0;32m     91\u001b[0m     \u001b[0mloop\u001b[0m\u001b[1;33m.\u001b[0m\u001b[0mclose\u001b[0m\u001b[1;33m(\u001b[0m\u001b[1;33m)\u001b[0m\u001b[1;33m\u001b[0m\u001b[0m\n\u001b[0;32m     92\u001b[0m     \u001b[1;32mif\u001b[0m \u001b[0mloop\u001b[0m\u001b[1;33m.\u001b[0m\u001b[0mis_closed\u001b[0m\u001b[1;33m(\u001b[0m\u001b[1;33m)\u001b[0m\u001b[1;33m:\u001b[0m\u001b[1;33m\u001b[0m\u001b[0m\n",
      "\u001b[1;32mD:\\Python35\\lib\\asyncio\\base_events.py\u001b[0m in \u001b[0;36mrun_until_complete\u001b[1;34m(self, future)\u001b[0m\n\u001b[0;32m    362\u001b[0m         \u001b[0mReturn\u001b[0m \u001b[0mthe\u001b[0m \u001b[0mFuture\u001b[0m\u001b[0;31m'\u001b[0m\u001b[0ms\u001b[0m \u001b[0mresult\u001b[0m\u001b[1;33m,\u001b[0m \u001b[1;32mor\u001b[0m \u001b[1;32mraise\u001b[0m \u001b[0mits\u001b[0m \u001b[0mexception\u001b[0m\u001b[1;33m.\u001b[0m\u001b[1;33m\u001b[0m\u001b[0m\n\u001b[0;32m    363\u001b[0m         \"\"\"\n\u001b[1;32m--> 364\u001b[1;33m         \u001b[0mself\u001b[0m\u001b[1;33m.\u001b[0m\u001b[0m_check_closed\u001b[0m\u001b[1;33m(\u001b[0m\u001b[1;33m)\u001b[0m\u001b[1;33m\u001b[0m\u001b[0m\n\u001b[0m\u001b[0;32m    365\u001b[0m \u001b[1;33m\u001b[0m\u001b[0m\n\u001b[0;32m    366\u001b[0m         \u001b[0mnew_task\u001b[0m \u001b[1;33m=\u001b[0m \u001b[1;32mnot\u001b[0m \u001b[0misinstance\u001b[0m\u001b[1;33m(\u001b[0m\u001b[0mfuture\u001b[0m\u001b[1;33m,\u001b[0m \u001b[0mfutures\u001b[0m\u001b[1;33m.\u001b[0m\u001b[0mFuture\u001b[0m\u001b[1;33m)\u001b[0m\u001b[1;33m\u001b[0m\u001b[0m\n",
      "\u001b[1;32mD:\\Python35\\lib\\asyncio\\base_events.py\u001b[0m in \u001b[0;36m_check_closed\u001b[1;34m(self)\u001b[0m\n\u001b[0;32m    332\u001b[0m     \u001b[1;32mdef\u001b[0m \u001b[0m_check_closed\u001b[0m\u001b[1;33m(\u001b[0m\u001b[0mself\u001b[0m\u001b[1;33m)\u001b[0m\u001b[1;33m:\u001b[0m\u001b[1;33m\u001b[0m\u001b[0m\n\u001b[0;32m    333\u001b[0m         \u001b[1;32mif\u001b[0m \u001b[0mself\u001b[0m\u001b[1;33m.\u001b[0m\u001b[0m_closed\u001b[0m\u001b[1;33m:\u001b[0m\u001b[1;33m\u001b[0m\u001b[0m\n\u001b[1;32m--> 334\u001b[1;33m             \u001b[1;32mraise\u001b[0m \u001b[0mRuntimeError\u001b[0m\u001b[1;33m(\u001b[0m\u001b[1;34m'Event loop is closed'\u001b[0m\u001b[1;33m)\u001b[0m\u001b[1;33m\u001b[0m\u001b[0m\n\u001b[0m\u001b[0;32m    335\u001b[0m \u001b[1;33m\u001b[0m\u001b[0m\n\u001b[0;32m    336\u001b[0m     \u001b[1;32mdef\u001b[0m \u001b[0mrun_forever\u001b[0m\u001b[1;33m(\u001b[0m\u001b[0mself\u001b[0m\u001b[1;33m)\u001b[0m\u001b[1;33m:\u001b[0m\u001b[1;33m\u001b[0m\u001b[0m\n",
      "\u001b[1;31mRuntimeError\u001b[0m: Event loop is closed"
     ]
    }
   ],
   "source": [
    "import os\n",
    "import sys\n",
    "import asyncio\n",
    "import aiohttp\n",
    "from aiohttp import web\n",
    "import time\n",
    "from enum import Enum\n",
    "from collections import Counter, namedtuple\n",
    "\n",
    "Result = namedtuple(\"Result\", \"status data\")\n",
    "HTTPStatus = Enum('Status', 'ok not_found error')\n",
    "\n",
    "POP20_CC = ('CN IN US ID BR PK NG BD RU JP '\n",
    "            'MX PH VN ET EG DE IR TR CD FR').split()\n",
    "BASE_URL = 'http://flupy.org/data/flags'\n",
    "DEST_DIR = r'D:\\download\\coro'\n",
    "\n",
    "DEFAULT_CONCUR_REQ = 5\n",
    "MAX_CONCUR_REQ = 1000\n",
    "\n",
    "class FetchError(Exception):\n",
    "    def __init__(self, country_code):\n",
    "        self.country_code = country_code\n",
    "    \n",
    "def save_flag(img, filename):\n",
    "    path = os.path.join(DEST_DIR, filename)\n",
    "    with open(path, 'wb') as fp:\n",
    "        fp.write(img)\n",
    "\n",
    "@asyncio.coroutine\n",
    "def get_flag(base_url, cc):\n",
    "    url = \"{}/{cc}/{cc}.gif\".format(base_url, cc=cc.lower())\n",
    "    resp = yield from aiohttp.request(\"GET\", url)\n",
    "    if resp.status == 200:\n",
    "        image = yield from resp.read()\n",
    "        return image\n",
    "    elif resp.status == 404:\n",
    "        raise web.HTTPNotFound()\n",
    "    else:\n",
    "        raise aiohttp.HttpProcessingError(\n",
    "            code=resp.status, message=resp.reason,\n",
    "            headers=resp.headers)\n",
    "        \n",
    "@asyncio.coroutine\n",
    "def download_one(cc, base_url, semaphore, verbose):\n",
    "    try:\n",
    "        with (yield from semaphore):\n",
    "            image = yield from get_flag(base_url, cc)\n",
    "    except web.HTTPNotFound:\n",
    "        status = HTTPStatus.not_found\n",
    "    except Exception as ecx:\n",
    "        raise FetchError(cc) from exc\n",
    "    else:\n",
    "#         save_flag(image, cc.lower()+'.gif')\n",
    "        loop = asyncio.get_event_loop()\n",
    "        loop.run_in_executor(None,\n",
    "                             save_flag, image, cc.lower() + '.gif')\n",
    "        status = HTTPStatus.ok\n",
    "        msg = \"OK\"\n",
    "    return Result(status, cc)\n",
    "\n",
    "@asyncio.coroutine\n",
    "def downloader_coro(cc_list, base_url, verbose, concur_req):\n",
    "    counter = Counter()\n",
    "    semaphore = asyncio.Semaphore(concur_req)\n",
    "    to_do = [download_one(cc, base_url, semaphore, verbose)\n",
    "             for cc in sorted(cc_list)]\n",
    "    to_do_iter = asyncio.as_completed(to_do)\n",
    "    for future in to_do_iter:\n",
    "        try:\n",
    "            res = yield from future\n",
    "        except FetchError as exc:\n",
    "            country_code = exc.country_code\n",
    "            try:\n",
    "                error_msg = ecx.__cause__.args[0]\n",
    "            except IndexError:\n",
    "                error_msg = exc.__cause__.__class__.__name__\n",
    "            if verbose and error_msg:\n",
    "                msg = \"*** Error for {}: {}\"\n",
    "                print(msg.format(country_code, error_msg))\n",
    "            status = HTTPStatus.error\n",
    "        else:\n",
    "            status = res.status\n",
    "        counter[status] += 1\n",
    "    return counter\n",
    "\n",
    "def download_many(cc_list, base_url, verbose, concur_req):\n",
    "    loop = asyncio.get_event_loop()\n",
    "    coro = downloader_coro(cc_list, base_url, verbose, concur_req)\n",
    "    counts = loop.run_until_complete(coro)\n",
    "    loop.close()\n",
    "    if loop.is_closed():\n",
    "        sys.exit(0)\n",
    "    return counts\n",
    "\n",
    "def initial_report(cc_list, actual_req):\n",
    "    if len(cc_list) <= 10:\n",
    "        cc_msg = ', '.join(cc_list)\n",
    "    else:\n",
    "        cc_msg = 'from {} to {}'.format(cc_list[0], cc_list[-1])\n",
    "    msg = 'Searching for {} flag{}: {}'\n",
    "    plural = 's' if len(cc_list) != 1 else ''\n",
    "    print(msg.format(len(cc_list), plural, cc_msg))\n",
    "    plural = 's' if actual_req != 1 else ''\n",
    "    msg = '{} concurrent connection{} will be used.'\n",
    "    print(msg.format(actual_req, plural))\n",
    "\n",
    "\n",
    "def final_report(cc_list, counter, start_time):\n",
    "    elapsed = time.time() - start_time\n",
    "    print('-' * 20)\n",
    "    msg = '{} flag{} downloaded.'\n",
    "    plural = 's' if counter[HTTPStatus.ok] != 1 else ''\n",
    "    print(msg.format(counter[HTTPStatus.ok], plural))\n",
    "    if counter[HTTPStatus.not_found]:\n",
    "        print(counter[HTTPStatus.not_found], 'not found.')\n",
    "    if counter[HTTPStatus.error]:\n",
    "        plural = 's' if counter[HTTPStatus.error] != 1 else ''\n",
    "        print('{} error{}.'.format(counter[HTTPStatus.error], plural))\n",
    "    print('Elapsed time: {:.2f}s'.format(elapsed))\n",
    "\n",
    "def main(download_many, default_concur_req, max_concur_req):\n",
    "    \n",
    "    actual_req = min(max_concur_req, len(POP20_CC))\n",
    "    initial_report(POP20_CC, actual_req)\n",
    "    t0 = time.time()\n",
    "    counter = download_many(POP20_CC, BASE_URL, True, actual_req)\n",
    "    assert sum(counter.values()) == len(POP20_CC), \\\n",
    "        'some downloads are unaccounted for'\n",
    "    final_report(POP20_CC, counter, t0)\n",
    "    \n",
    "main(download_many, DEFAULT_CONCUR_REQ, MAX_CONCUR_REQ)\n"
   ]
  },
  {
   "cell_type": "code",
   "execution_count": 7,
   "metadata": {},
   "outputs": [
    {
     "name": "stdout",
     "output_type": "stream",
     "text": [
      "Searching for 20 flags: from CN to FR\n",
      "20 concurrent connections will be used.\n"
     ]
    },
    {
     "ename": "RuntimeError",
     "evalue": "Event loop is closed",
     "output_type": "error",
     "traceback": [
      "\u001b[1;31m---------------------------------------------------------------------------\u001b[0m",
      "\u001b[1;31mRuntimeError\u001b[0m                              Traceback (most recent call last)",
      "\u001b[1;32m<ipython-input-7-a68abee9e6fa>\u001b[0m in \u001b[0;36m<module>\u001b[1;34m()\u001b[0m\n\u001b[0;32m    140\u001b[0m     \u001b[0mfinal_report\u001b[0m\u001b[1;33m(\u001b[0m\u001b[0mPOP20_CC\u001b[0m\u001b[1;33m,\u001b[0m \u001b[0mcounter\u001b[0m\u001b[1;33m,\u001b[0m \u001b[0mt0\u001b[0m\u001b[1;33m)\u001b[0m\u001b[1;33m\u001b[0m\u001b[0m\n\u001b[0;32m    141\u001b[0m \u001b[1;33m\u001b[0m\u001b[0m\n\u001b[1;32m--> 142\u001b[1;33m \u001b[0mmain\u001b[0m\u001b[1;33m(\u001b[0m\u001b[0mdownload_many\u001b[0m\u001b[1;33m,\u001b[0m \u001b[0mDEFAULT_CONCUR_REQ\u001b[0m\u001b[1;33m,\u001b[0m \u001b[0mMAX_CONCUR_REQ\u001b[0m\u001b[1;33m)\u001b[0m\u001b[1;33m\u001b[0m\u001b[0m\n\u001b[0m",
      "\u001b[1;32m<ipython-input-7-a68abee9e6fa>\u001b[0m in \u001b[0;36mmain\u001b[1;34m(download_many, default_concur_req, max_concur_req)\u001b[0m\n\u001b[0;32m    136\u001b[0m     \u001b[0minitial_report\u001b[0m\u001b[1;33m(\u001b[0m\u001b[0mPOP20_CC\u001b[0m\u001b[1;33m,\u001b[0m \u001b[0mactual_req\u001b[0m\u001b[1;33m)\u001b[0m\u001b[1;33m\u001b[0m\u001b[0m\n\u001b[0;32m    137\u001b[0m     \u001b[0mt0\u001b[0m \u001b[1;33m=\u001b[0m \u001b[0mtime\u001b[0m\u001b[1;33m.\u001b[0m\u001b[0mtime\u001b[0m\u001b[1;33m(\u001b[0m\u001b[1;33m)\u001b[0m\u001b[1;33m\u001b[0m\u001b[0m\n\u001b[1;32m--> 138\u001b[1;33m     \u001b[0mcounter\u001b[0m \u001b[1;33m=\u001b[0m \u001b[0mdownload_many\u001b[0m\u001b[1;33m(\u001b[0m\u001b[0mPOP20_CC\u001b[0m\u001b[1;33m,\u001b[0m \u001b[0mBASE_URL\u001b[0m\u001b[1;33m,\u001b[0m \u001b[1;32mTrue\u001b[0m\u001b[1;33m,\u001b[0m \u001b[0mactual_req\u001b[0m\u001b[1;33m)\u001b[0m\u001b[1;33m\u001b[0m\u001b[0m\n\u001b[0m\u001b[0;32m    139\u001b[0m     \u001b[1;32massert\u001b[0m \u001b[0msum\u001b[0m\u001b[1;33m(\u001b[0m\u001b[0mcounter\u001b[0m\u001b[1;33m.\u001b[0m\u001b[0mvalues\u001b[0m\u001b[1;33m(\u001b[0m\u001b[1;33m)\u001b[0m\u001b[1;33m)\u001b[0m \u001b[1;33m==\u001b[0m \u001b[0mlen\u001b[0m\u001b[1;33m(\u001b[0m\u001b[0mPOP20_CC\u001b[0m\u001b[1;33m)\u001b[0m\u001b[1;33m,\u001b[0m         \u001b[1;34m'some downloads are unaccounted for'\u001b[0m\u001b[1;33m\u001b[0m\u001b[0m\n\u001b[0;32m    140\u001b[0m     \u001b[0mfinal_report\u001b[0m\u001b[1;33m(\u001b[0m\u001b[0mPOP20_CC\u001b[0m\u001b[1;33m,\u001b[0m \u001b[0mcounter\u001b[0m\u001b[1;33m,\u001b[0m \u001b[0mt0\u001b[0m\u001b[1;33m)\u001b[0m\u001b[1;33m\u001b[0m\u001b[0m\n",
      "\u001b[1;32m<ipython-input-7-a68abee9e6fa>\u001b[0m in \u001b[0;36mdownload_many\u001b[1;34m(cc_list, base_url, verbose, concur_req)\u001b[0m\n\u001b[0;32m    101\u001b[0m     \u001b[0mloop\u001b[0m \u001b[1;33m=\u001b[0m \u001b[0masyncio\u001b[0m\u001b[1;33m.\u001b[0m\u001b[0mget_event_loop\u001b[0m\u001b[1;33m(\u001b[0m\u001b[1;33m)\u001b[0m\u001b[1;33m\u001b[0m\u001b[0m\n\u001b[0;32m    102\u001b[0m     \u001b[0mcoro\u001b[0m \u001b[1;33m=\u001b[0m \u001b[0mdownloader_coro\u001b[0m\u001b[1;33m(\u001b[0m\u001b[0mcc_list\u001b[0m\u001b[1;33m,\u001b[0m \u001b[0mbase_url\u001b[0m\u001b[1;33m,\u001b[0m \u001b[0mverbose\u001b[0m\u001b[1;33m,\u001b[0m \u001b[0mconcur_req\u001b[0m\u001b[1;33m)\u001b[0m\u001b[1;33m\u001b[0m\u001b[0m\n\u001b[1;32m--> 103\u001b[1;33m     \u001b[0mcounts\u001b[0m \u001b[1;33m=\u001b[0m \u001b[0mloop\u001b[0m\u001b[1;33m.\u001b[0m\u001b[0mrun_until_complete\u001b[0m\u001b[1;33m(\u001b[0m\u001b[0mcoro\u001b[0m\u001b[1;33m)\u001b[0m\u001b[1;33m\u001b[0m\u001b[0m\n\u001b[0m\u001b[0;32m    104\u001b[0m     \u001b[0mloop\u001b[0m\u001b[1;33m.\u001b[0m\u001b[0mclose\u001b[0m\u001b[1;33m(\u001b[0m\u001b[1;33m)\u001b[0m\u001b[1;33m\u001b[0m\u001b[0m\n\u001b[0;32m    105\u001b[0m     \u001b[1;32mreturn\u001b[0m \u001b[0mcounts\u001b[0m\u001b[1;33m\u001b[0m\u001b[0m\n",
      "\u001b[1;32mD:\\Python35\\lib\\asyncio\\base_events.py\u001b[0m in \u001b[0;36mrun_until_complete\u001b[1;34m(self, future)\u001b[0m\n\u001b[0;32m    362\u001b[0m         \u001b[0mReturn\u001b[0m \u001b[0mthe\u001b[0m \u001b[0mFuture\u001b[0m\u001b[0;31m'\u001b[0m\u001b[0ms\u001b[0m \u001b[0mresult\u001b[0m\u001b[1;33m,\u001b[0m \u001b[1;32mor\u001b[0m \u001b[1;32mraise\u001b[0m \u001b[0mits\u001b[0m \u001b[0mexception\u001b[0m\u001b[1;33m.\u001b[0m\u001b[1;33m\u001b[0m\u001b[0m\n\u001b[0;32m    363\u001b[0m         \"\"\"\n\u001b[1;32m--> 364\u001b[1;33m         \u001b[0mself\u001b[0m\u001b[1;33m.\u001b[0m\u001b[0m_check_closed\u001b[0m\u001b[1;33m(\u001b[0m\u001b[1;33m)\u001b[0m\u001b[1;33m\u001b[0m\u001b[0m\n\u001b[0m\u001b[0;32m    365\u001b[0m \u001b[1;33m\u001b[0m\u001b[0m\n\u001b[0;32m    366\u001b[0m         \u001b[0mnew_task\u001b[0m \u001b[1;33m=\u001b[0m \u001b[1;32mnot\u001b[0m \u001b[0misinstance\u001b[0m\u001b[1;33m(\u001b[0m\u001b[0mfuture\u001b[0m\u001b[1;33m,\u001b[0m \u001b[0mfutures\u001b[0m\u001b[1;33m.\u001b[0m\u001b[0mFuture\u001b[0m\u001b[1;33m)\u001b[0m\u001b[1;33m\u001b[0m\u001b[0m\n",
      "\u001b[1;32mD:\\Python35\\lib\\asyncio\\base_events.py\u001b[0m in \u001b[0;36m_check_closed\u001b[1;34m(self)\u001b[0m\n\u001b[0;32m    332\u001b[0m     \u001b[1;32mdef\u001b[0m \u001b[0m_check_closed\u001b[0m\u001b[1;33m(\u001b[0m\u001b[0mself\u001b[0m\u001b[1;33m)\u001b[0m\u001b[1;33m:\u001b[0m\u001b[1;33m\u001b[0m\u001b[0m\n\u001b[0;32m    333\u001b[0m         \u001b[1;32mif\u001b[0m \u001b[0mself\u001b[0m\u001b[1;33m.\u001b[0m\u001b[0m_closed\u001b[0m\u001b[1;33m:\u001b[0m\u001b[1;33m\u001b[0m\u001b[0m\n\u001b[1;32m--> 334\u001b[1;33m             \u001b[1;32mraise\u001b[0m \u001b[0mRuntimeError\u001b[0m\u001b[1;33m(\u001b[0m\u001b[1;34m'Event loop is closed'\u001b[0m\u001b[1;33m)\u001b[0m\u001b[1;33m\u001b[0m\u001b[0m\n\u001b[0m\u001b[0;32m    335\u001b[0m \u001b[1;33m\u001b[0m\u001b[0m\n\u001b[0;32m    336\u001b[0m     \u001b[1;32mdef\u001b[0m \u001b[0mrun_forever\u001b[0m\u001b[1;33m(\u001b[0m\u001b[0mself\u001b[0m\u001b[1;33m)\u001b[0m\u001b[1;33m:\u001b[0m\u001b[1;33m\u001b[0m\u001b[0m\n",
      "\u001b[1;31mRuntimeError\u001b[0m: Event loop is closed"
     ]
    }
   ],
   "source": [
    "import os\n",
    "import sys\n",
    "import asyncio\n",
    "import aiohttp\n",
    "from aiohttp import web\n",
    "import time\n",
    "from enum import Enum\n",
    "from collections import Counter, namedtuple\n",
    "\n",
    "Result = namedtuple(\"Result\", \"status data\")\n",
    "HTTPStatus = Enum('Status', 'ok not_found error')\n",
    "\n",
    "POP20_CC = ('CN IN US ID BR PK NG BD RU JP '\n",
    "            'MX PH VN ET EG DE IR TR CD FR').split()\n",
    "BASE_URL = 'http://flupy.org/data/flags'\n",
    "DEST_DIR = r'D:\\download\\name'\n",
    "\n",
    "DEFAULT_CONCUR_REQ = 5\n",
    "MAX_CONCUR_REQ = 1000\n",
    "\n",
    "class FetchError(Exception):\n",
    "    def __init__(self, country_code):\n",
    "        self.country_code = country_code\n",
    "    \n",
    "def save_flag(img, filename):\n",
    "    path = os.path.join(DEST_DIR, filename)\n",
    "    with open(path, 'wb') as fp:\n",
    "        fp.write(img)\n",
    "\n",
    "@asyncio.coroutine\n",
    "def http_get(url):\n",
    "    res = yield from aiohttp.request(\"GET\", url)\n",
    "    if res.status == 200:\n",
    "        ctype = res.headers.get(\"Content-type\", \"\").lower()\n",
    "        if \"json\" in ctype or url.endswith(\"json\"):\n",
    "            data = yield from res.json()\n",
    "        else: \n",
    "            data = yield from res.read()\n",
    "        return data\n",
    "    elif  res.status == 404:\n",
    "        raise web.HTTPNotFound()\n",
    "    else:\n",
    "        raise aiohttp.errors.HttpProcessingError(\n",
    "            code=res.status, message=res.reason,\n",
    "            headers=res.headers)\n",
    "  \n",
    "@asyncio.coroutine\n",
    "def get_flag(base_url, cc):\n",
    "    url = \"{}/{cc}/{cc}.gif\".format(base_url, cc=cc.lower())\n",
    "    return (yield from http_get(url))\n",
    "\n",
    "@asyncio.coroutine\n",
    "def get_country(base_url, cc):\n",
    "    url = \"{}/{cc}/metadata.json\".format(base_url, cc=cc.lower())\n",
    "    print(url)\n",
    "    data = yield from http_get(url)\n",
    "    return data[\"country\"]   \n",
    "\n",
    "@asyncio.coroutine\n",
    "def download_one(cc, base_url, semaphore, verbose):\n",
    "    try:\n",
    "        with (yield from semaphore):\n",
    "            image = yield from get_flag(base_url, cc)\n",
    "        with (yield from semaphore):\n",
    "            country = yield from get_country(base_url, cc)\n",
    "    except web.HTTPNotFound:\n",
    "        status = HTTPStatus.not_found\n",
    "        msg = \"not found\"\n",
    "    except Exception as exc:\n",
    "        raise FetchError(cc) from exc\n",
    "    else:\n",
    "#         save_flag(image, cc.lower()+'.gif')\n",
    "        country = country.replace(\" \", \"_\")\n",
    "        file_name = \"{}-{}.gif\".format(country, cc)\n",
    "        loop = asyncio.get_event_loop()\n",
    "        loop.run_in_executor(None,\n",
    "                             save_flag, image, file_name)\n",
    "        status = HTTPStatus.ok\n",
    "        msg = \"OK\"\n",
    "    return Result(status, cc)\n",
    "\n",
    "@asyncio.coroutine\n",
    "def downloader_coro(cc_list, base_url, verbose, concur_req):\n",
    "    counter = Counter()\n",
    "    semaphore = asyncio.Semaphore(concur_req)\n",
    "    to_do = [download_one(cc, base_url, semaphore, verbose)\n",
    "             for cc in sorted(cc_list)]\n",
    "    to_do_iter = asyncio.as_completed(to_do)\n",
    "    for future in to_do_iter:\n",
    "        try:\n",
    "            res = yield from future\n",
    "        except FetchError as exc:\n",
    "            country_code = exc.country_code\n",
    "            try:\n",
    "                error_msg = exc.__cause__.args[0]\n",
    "            except IndexError:\n",
    "                error_msg = exc.__cause__.__class__.__name__\n",
    "            if verbose and error_msg:\n",
    "                msg = \"*** Error for {}: {}\"\n",
    "                print(msg.format(country_code, error_msg))\n",
    "            status = HTTPStatus.error\n",
    "        else:\n",
    "            status = res.status\n",
    "        counter[status] += 1\n",
    "    return counter\n",
    "\n",
    "def download_many(cc_list, base_url, verbose, concur_req):\n",
    "    loop = asyncio.get_event_loop()\n",
    "    coro = downloader_coro(cc_list, base_url, verbose, concur_req)\n",
    "    counts = loop.run_until_complete(coro)\n",
    "    loop.close()\n",
    "    return counts\n",
    "\n",
    "def initial_report(cc_list, actual_req):\n",
    "    if len(cc_list) <= 10:\n",
    "        cc_msg = ', '.join(cc_list)\n",
    "    else:\n",
    "        cc_msg = 'from {} to {}'.format(cc_list[0], cc_list[-1])\n",
    "    msg = 'Searching for {} flag{}: {}'\n",
    "    plural = 's' if len(cc_list) != 1 else ''\n",
    "    print(msg.format(len(cc_list), plural, cc_msg))\n",
    "    plural = 's' if actual_req != 1 else ''\n",
    "    msg = '{} concurrent connection{} will be used.'\n",
    "    print(msg.format(actual_req, plural))\n",
    "\n",
    "\n",
    "def final_report(cc_list, counter, start_time):\n",
    "    elapsed = time.time() - start_time\n",
    "    print('-' * 20)\n",
    "    msg = '{} flag{} downloaded.'\n",
    "    plural = 's' if counter[HTTPStatus.ok] != 1 else ''\n",
    "    print(msg.format(counter[HTTPStatus.ok], plural))\n",
    "    if counter[HTTPStatus.not_found]:\n",
    "        print(counter[HTTPStatus.not_found], 'not found.')\n",
    "    if counter[HTTPStatus.error]:\n",
    "        plural = 's' if counter[HTTPStatus.error] != 1 else ''\n",
    "        print('{} error{}.'.format(counter[HTTPStatus.error], plural))\n",
    "    print('Elapsed time: {:.2f}s'.format(elapsed))\n",
    "\n",
    "def main(download_many, default_concur_req, max_concur_req):\n",
    "    \n",
    "    actual_req = min(max_concur_req, len(POP20_CC))\n",
    "    initial_report(POP20_CC, actual_req)\n",
    "    t0 = time.time()\n",
    "    counter = download_many(POP20_CC, BASE_URL, True, actual_req)\n",
    "    assert sum(counter.values()) == len(POP20_CC), \\\n",
    "        'some downloads are unaccounted for'\n",
    "    final_report(POP20_CC, counter, t0)\n",
    "\n",
    "if __name__ == \"__main__\":   \n",
    "    main(download_many, DEFAULT_CONCUR_REQ, MAX_CONCUR_REQ)\n",
    "\n"
   ]
  },
  {
   "cell_type": "markdown",
   "metadata": {},
   "source": [
    "# Metaprogramming"
   ]
  },
  {
   "cell_type": "code",
   "execution_count": 7,
   "metadata": {
    "collapsed": true
   },
   "outputs": [],
   "source": [
    "from urllib.request import urlopen\n",
    "import warnings\n",
    "import os\n",
    "import json\n",
    "URL = 'http://www.oreilly.com/pub/sc/osconfeed'\n",
    "JSON = 'osconfeed2.json'\n",
    "\n",
    "\n",
    "def load():\n",
    "    if not os.path.exists(JSON):\n",
    "        msg = 'downloading {} to {}'.format(URL, JSON)\n",
    "        warnings.warn(msg)\n",
    "        with urlopen(URL) as remote, open(JSON, 'wb') as local:\n",
    "            local.write(remote.read())\n",
    "    with open(JSON,encoding='utf-8') as fp:\n",
    "        return json.load(fp)\n"
   ]
  },
  {
   "cell_type": "code",
   "execution_count": 13,
   "metadata": {},
   "outputs": [
    {
     "name": "stdout",
     "output_type": "stream",
     "text": [
      "There *Will* Be Bugs\n",
      "[3471, 5199]\n"
     ]
    }
   ],
   "source": [
    "from collections import abc\n",
    "\n",
    "class FrozenJson:\n",
    "    def __init__(self, mapping):\n",
    "        self.__dict = dict(mapping)\n",
    "    \n",
    "    def __getattr__(self, name):\n",
    "        if hasattr(self.__dict, name):\n",
    "            return getattr(self.__dict, name)\n",
    "        else:\n",
    "            return FrozenJson.build(self.__dict[name])\n",
    "    \n",
    "    @classmethod\n",
    "    def build(cls, obj):\n",
    "        if isinstance(obj, abc.Mapping):\n",
    "            return cls(obj)\n",
    "        elif isinstance(obj, abc.MutableSequence):\n",
    "            return [cls.build(item) for item in obj]\n",
    "        else:\n",
    "            return obj\n",
    "\n",
    "raw_feed = load()\n",
    "feed = FrozenJson(raw_feed)\n",
    "print(feed.Schedule.events[40].name)\n",
    "print(feed.Schedule.events[40].speakers)\n"
   ]
  },
  {
   "cell_type": "code",
   "execution_count": 1,
   "metadata": {
    "collapsed": true
   },
   "outputs": [],
   "source": [
    "from collections import abc\n",
    "\n",
    "\n",
    "class FrozenJson2:\n",
    "    def __new__(cls, arg):\n",
    "        if isinstance(cls, abc.Mapping):\n",
    "            return cls(arg)\n",
    "        elif isinstance(cls, abc.MutableSequence):\n",
    "            return [cls(item) for item in arg]\n",
    "        else:\n",
    "            return arg\n",
    "        \n",
    "    def __init__(self, mapping):\n",
    "        self.__dict = {}\n",
    "        for key, item in mapping.items():\n",
    "            key += \"+\"\n",
    "            self.__dict[key] = item\n",
    "        \n",
    "    def __getattr__(self, name):\n",
    "        if hasattr(self.__dict, name):\n",
    "            return self.__dict[name]\n",
    "        else:\n",
    "            return FrozenJson2(self.__dict[name])\n",
    "    \n"
   ]
  },
  {
   "cell_type": "code",
   "execution_count": 8,
   "metadata": {},
   "outputs": [
    {
     "name": "stderr",
     "output_type": "stream",
     "text": [
      "D:\\Python35\\lib\\site-packages\\ipykernel\\__main__.py:26: UserWarning: loadingschedule1_db\n"
     ]
    },
    {
     "name": "stdout",
     "output_type": "stream",
     "text": [
      "venues\n",
      "venue\n",
      "speakers\n",
      "speaker\n",
      "events\n",
      "event\n",
      "conferences\n",
      "conference\n",
      "<class '__main__.Record'>\n",
      "Anna Martelli Ravenscroft annaraven\n"
     ]
    }
   ],
   "source": [
    "import warnings\n",
    "import shelve\n",
    "import json\n",
    "import os\n",
    "JSON = 'osconfeed2.json'\n",
    "DB_NAME = \"schedule1_db\"\n",
    "CONFERENCE = \"conference.1115\"\n",
    "\n",
    "def load():\n",
    "    if not os.path.exists(JSON):\n",
    "        msg = 'downloading {} to {}'.format(URL, JSON)\n",
    "        warnings.warn(msg)\n",
    "        with urlopen(URL) as remote, open(JSON, 'wb') as local:\n",
    "            local.write(remote.read())\n",
    "    with open(JSON,encoding='utf-8') as fp:\n",
    "        return json.load(fp)\n",
    "\n",
    "\n",
    "class Record(object):\n",
    "    def __init__(self, **kwargs):\n",
    "        self.__dict__.update(kwargs)\n",
    "        \n",
    "\n",
    "def load_db(db):\n",
    "    raw_data = load()\n",
    "    warnings.warn(\"loading\" + DB_NAME)\n",
    "    for collection, rec_list in raw_data['Schedule'].items():\n",
    "        print(collection)\n",
    "        recode_type = collection[:-1]\n",
    "        print(recode_type)\n",
    "        for record in rec_list:\n",
    "            key = \"{}.{}\".format(recode_type, record['serial'])\n",
    "            record['serial'] = key\n",
    "            db[key] = Record(**record)\n",
    "            \n",
    "db = shelve.open(DB_NAME)\n",
    "if CONFERENCE not in db:\n",
    "    load_db(db)\n",
    "speaker = db['speaker.3471']  \n",
    "print(type(speaker))\n",
    "print(speaker.name, speaker.twitter)\n",
    "db.close()\n"
   ]
  },
  {
   "cell_type": "code",
   "execution_count": 9,
   "metadata": {
    "collapsed": true
   },
   "outputs": [],
   "source": [
    "import warnings\n",
    "import inspect\n",
    "import shelve\n",
    "import json\n",
    "import os\n",
    "JSON = \"osconfeed2.json\"\n",
    "DB_NAME = \"schedule2_db\"\n",
    "CONFERENCE = \"conference.115\"\n",
    "\n",
    "\n",
    "def load():\n",
    "    if not os.path.exists(JSON):\n",
    "        msg = 'downloading {} to {}'.format(URL, JSON)\n",
    "        warnings.warn(msg)\n",
    "        with urlopen(URL) as remote, open(JSON, 'wb') as local:\n",
    "            local.write(remote.read())\n",
    "    with open(JSON,encoding='utf-8') as fp:\n",
    "        return json.load(fp)\n",
    "    \n",
    "    \n",
    "class Record:\n",
    "    def __init__(self, **kwargs):\n",
    "        self.__dict__.update(kwargs)\n",
    "        \n",
    "    def __eq__(self, other):\n",
    "        if isinstance(other, Record):\n",
    "            return self.__dict__ == other.__dict__\n",
    "        else:\n",
    "            return NotImplemented\n",
    "\n",
    "class MissingDatabaseError(RuntimeError):\n",
    "    \"\"\"Raised when a database is required but was not set\"\"\"\n",
    "    \n",
    "class DbRecord(Record):\n",
    "    __db = None\n",
    "    \n",
    "    @staticmethod\n",
    "    def set_db(db):\n",
    "        DbRecord.__db = db\n",
    "        \n",
    "    @staticmethod\n",
    "    def get_db(db):\n",
    "        return DbRecord.__db\n",
    "    \n",
    "    @classmethod\n",
    "    def fetch(cls, ident):\n",
    "        db = cls.get_db\n",
    "        try:\n",
    "            return db[ident]\n",
    "        except TypeError:\n",
    "            if db is None:\n",
    "                msg = \"database not set; call '{}.set_db(my_db\n",
    "                raise MissingDatabaseError(msg.format(cls.__name__))\n",
    "            else:\n",
    "                raise\n",
    "                \n",
    "    def __repr__(self):\n",
    "        if hasattr(self, 'serial'):\n",
    "            cls_name = self.__class__.__name__\n",
    "            return \"<{} serial={!r}>\".format(cls_name)\n",
    "        else:\n",
    "            return super().__repr__()\n",
    "        \n",
    "class Event(DbRecord):\n",
    "    @propertyr\n",
    "    def venve(self):\n",
    "        key = 'venue.{}'format(self.venve_serial)\n",
    "        return self.__class__.fetch(key)\n",
    "    \n",
    "    @property\n",
    "    def speakers(self):\n",
    "        if not hasattr(self, '_speaker_objs'):\n",
    "            spkr_serials = self.__dict__['speakers']\n",
    "            fetch = self.__class__.fetch\n",
    "            self._speaker_objs = [fetch('speaker.{}'.format(key))\n",
    "                                   for key in spkr_serials]\n",
    "        return self._speaker_objs\n",
    "    \n",
    "    def __repr__(self):\n",
    "        if hasattr(self, 'name'):\n",
    "            cls_name = self.__class__.__name__\n",
    "            return \"<{}{!r}>\".format(cls_name, self.name)\n",
    "        else:\n",
    "            return super().__repr__()\n",
    "\n",
    "def load_db(db):\n",
    "    raw_data = load()\n",
    "    warnings.warn('loading ' + DB_NAME)\n",
    "    for collection, rec_list in raw_data['Schedule'].items():\n",
    "        record_type = collection[:-1]\n",
    "        cls_name = record_type.capitalize()\n",
    "        cls = globals().get(cls_name, DbRecord)\n",
    "        if inspect.isclass(cls) and issubclass(cls, DbRecord):\n",
    "            factory = cls\n",
    "        else:\n",
    "            factory = DbRecord\n",
    "        for record in rec_list:\n",
    "            key = '{}.{}'.format(record_type, record['serial'])\n",
    "            record['serial'] = key\n",
    "            db[key] = factory(**record)\n",
    "            \n",
    "            \n",
    "\n",
    "            "
   ]
  },
  {
   "cell_type": "code",
   "execution_count": 2,
   "metadata": {},
   "outputs": [
    {
     "name": "stdout",
     "output_type": "stream",
     "text": [
      "69.5\n",
      "-139.0\n"
     ]
    }
   ],
   "source": [
    "class LineItem:\n",
    "    def __init__(self, description, weight, price):\n",
    "        self.description = description\n",
    "        self.weight = weight\n",
    "        self.price = price\n",
    "        \n",
    "    def subtotal(self):\n",
    "        return self.weight * self.price\n",
    "    \n",
    "raisins = LineItem(\"Golden raisins\", 10, 6.95)\n",
    "print(raisins.subtotal())\n",
    "raisins.weight = -20\n",
    "print(raisins.subtotal())\n"
   ]
  },
  {
   "cell_type": "code",
   "execution_count": 8,
   "metadata": {},
   "outputs": [
    {
     "name": "stdout",
     "output_type": "stream",
     "text": [
      "69.5\n"
     ]
    },
    {
     "ename": "ValueError",
     "evalue": "num must be > 0",
     "output_type": "error",
     "traceback": [
      "\u001b[1;31m---------------------------------------------------------------------------\u001b[0m",
      "\u001b[1;31mValueError\u001b[0m                                Traceback (most recent call last)",
      "\u001b[1;32m<ipython-input-8-ec76baa14710>\u001b[0m in \u001b[0;36m<module>\u001b[1;34m()\u001b[0m\n\u001b[0;32m     21\u001b[0m \u001b[0mraisins\u001b[0m \u001b[1;33m=\u001b[0m \u001b[0mLineItem\u001b[0m\u001b[1;33m(\u001b[0m\u001b[1;34m\"Golden raisins\"\u001b[0m\u001b[1;33m,\u001b[0m \u001b[1;36m10\u001b[0m\u001b[1;33m,\u001b[0m \u001b[1;36m6.95\u001b[0m\u001b[1;33m)\u001b[0m\u001b[1;33m\u001b[0m\u001b[0m\n\u001b[0;32m     22\u001b[0m \u001b[0mprint\u001b[0m\u001b[1;33m(\u001b[0m\u001b[0mraisins\u001b[0m\u001b[1;33m.\u001b[0m\u001b[0msubtotal\u001b[0m\u001b[1;33m(\u001b[0m\u001b[1;33m)\u001b[0m\u001b[1;33m)\u001b[0m\u001b[1;33m\u001b[0m\u001b[0m\n\u001b[1;32m---> 23\u001b[1;33m \u001b[0mraisins\u001b[0m\u001b[1;33m.\u001b[0m\u001b[0mweight\u001b[0m \u001b[1;33m=\u001b[0m \u001b[1;33m-\u001b[0m\u001b[1;36m20\u001b[0m\u001b[1;33m\u001b[0m\u001b[0m\n\u001b[0m\u001b[0;32m     24\u001b[0m \u001b[0mprint\u001b[0m\u001b[1;33m(\u001b[0m\u001b[0mraisins\u001b[0m\u001b[1;33m.\u001b[0m\u001b[0msubtotal\u001b[0m\u001b[1;33m(\u001b[0m\u001b[1;33m)\u001b[0m\u001b[1;33m)\u001b[0m\u001b[1;33m\u001b[0m\u001b[0m\n",
      "\u001b[1;32m<ipython-input-8-ec76baa14710>\u001b[0m in \u001b[0;36mweight\u001b[1;34m(self, num)\u001b[0m\n\u001b[0;32m     17\u001b[0m             \u001b[0mself\u001b[0m\u001b[1;33m.\u001b[0m\u001b[0m_weight\u001b[0m \u001b[1;33m=\u001b[0m \u001b[0mnum\u001b[0m\u001b[1;33m\u001b[0m\u001b[0m\n\u001b[0;32m     18\u001b[0m         \u001b[1;32melse\u001b[0m\u001b[1;33m:\u001b[0m\u001b[1;33m\u001b[0m\u001b[0m\n\u001b[1;32m---> 19\u001b[1;33m             \u001b[1;32mraise\u001b[0m \u001b[0mValueError\u001b[0m\u001b[1;33m(\u001b[0m\u001b[1;34m\"num must be > 0\"\u001b[0m\u001b[1;33m)\u001b[0m\u001b[1;33m\u001b[0m\u001b[0m\n\u001b[0m\u001b[0;32m     20\u001b[0m \u001b[1;33m\u001b[0m\u001b[0m\n\u001b[0;32m     21\u001b[0m \u001b[0mraisins\u001b[0m \u001b[1;33m=\u001b[0m \u001b[0mLineItem\u001b[0m\u001b[1;33m(\u001b[0m\u001b[1;34m\"Golden raisins\"\u001b[0m\u001b[1;33m,\u001b[0m \u001b[1;36m10\u001b[0m\u001b[1;33m,\u001b[0m \u001b[1;36m6.95\u001b[0m\u001b[1;33m)\u001b[0m\u001b[1;33m\u001b[0m\u001b[0m\n",
      "\u001b[1;31mValueError\u001b[0m: num must be > 0"
     ]
    }
   ],
   "source": [
    "class LineItem:\n",
    "    def __init__(self, description, weight, price):\n",
    "        self.description = description\n",
    "        self.weight = weight\n",
    "        self.price = price\n",
    "        \n",
    "    def subtotal(self):\n",
    "        return self.weight * self.price\n",
    "    \n",
    "    @property\n",
    "    def weight(self):\n",
    "        return self._weight\n",
    "    \n",
    "    @weight.setter\n",
    "    def weight(self, num):\n",
    "        if num > 0:\n",
    "            self._weight = num\n",
    "        else:\n",
    "            raise ValueError(\"num must be > 0\")\n",
    "            \n",
    "raisins = LineItem(\"Golden raisins\", 10, 6.95)\n",
    "print(raisins.subtotal())\n",
    "raisins.weight = -20\n",
    "print(raisins.subtotal())"
   ]
  },
  {
   "cell_type": "code",
   "execution_count": 10,
   "metadata": {},
   "outputs": [
    {
     "name": "stdout",
     "output_type": "stream",
     "text": [
      "69.5\n"
     ]
    },
    {
     "ename": "ValueError",
     "evalue": "num must be > 0",
     "output_type": "error",
     "traceback": [
      "\u001b[1;31m---------------------------------------------------------------------------\u001b[0m",
      "\u001b[1;31mValueError\u001b[0m                                Traceback (most recent call last)",
      "\u001b[1;32m<ipython-input-10-e342bfb0e6eb>\u001b[0m in \u001b[0;36m<module>\u001b[1;34m()\u001b[0m\n\u001b[0;32m     20\u001b[0m \u001b[0mraisins\u001b[0m \u001b[1;33m=\u001b[0m \u001b[0mLineItem\u001b[0m\u001b[1;33m(\u001b[0m\u001b[1;34m\"Golden raisins\"\u001b[0m\u001b[1;33m,\u001b[0m \u001b[1;36m10\u001b[0m\u001b[1;33m,\u001b[0m \u001b[1;36m6.95\u001b[0m\u001b[1;33m)\u001b[0m\u001b[1;33m\u001b[0m\u001b[0m\n\u001b[0;32m     21\u001b[0m \u001b[0mprint\u001b[0m\u001b[1;33m(\u001b[0m\u001b[0mraisins\u001b[0m\u001b[1;33m.\u001b[0m\u001b[0msubtotal\u001b[0m\u001b[1;33m(\u001b[0m\u001b[1;33m)\u001b[0m\u001b[1;33m)\u001b[0m\u001b[1;33m\u001b[0m\u001b[0m\n\u001b[1;32m---> 22\u001b[1;33m \u001b[0mraisins\u001b[0m\u001b[1;33m.\u001b[0m\u001b[0mweight\u001b[0m \u001b[1;33m=\u001b[0m \u001b[1;33m-\u001b[0m\u001b[1;36m20\u001b[0m\u001b[1;33m\u001b[0m\u001b[0m\n\u001b[0m\u001b[0;32m     23\u001b[0m \u001b[0mprint\u001b[0m\u001b[1;33m(\u001b[0m\u001b[0mraisins\u001b[0m\u001b[1;33m.\u001b[0m\u001b[0msubtotal\u001b[0m\u001b[1;33m(\u001b[0m\u001b[1;33m)\u001b[0m\u001b[1;33m)\u001b[0m\u001b[1;33m\u001b[0m\u001b[0m\n",
      "\u001b[1;32m<ipython-input-10-e342bfb0e6eb>\u001b[0m in \u001b[0;36mset_weight\u001b[1;34m(self, num)\u001b[0m\n\u001b[0;32m     15\u001b[0m             \u001b[0mself\u001b[0m\u001b[1;33m.\u001b[0m\u001b[0m_weight\u001b[0m \u001b[1;33m=\u001b[0m \u001b[0mnum\u001b[0m\u001b[1;33m\u001b[0m\u001b[0m\n\u001b[0;32m     16\u001b[0m         \u001b[1;32melse\u001b[0m\u001b[1;33m:\u001b[0m\u001b[1;33m\u001b[0m\u001b[0m\n\u001b[1;32m---> 17\u001b[1;33m             \u001b[1;32mraise\u001b[0m \u001b[0mValueError\u001b[0m\u001b[1;33m(\u001b[0m\u001b[1;34m\"num must be > 0\"\u001b[0m\u001b[1;33m)\u001b[0m\u001b[1;33m\u001b[0m\u001b[0m\n\u001b[0m\u001b[0;32m     18\u001b[0m     \u001b[0mweight\u001b[0m \u001b[1;33m=\u001b[0m \u001b[0mproperty\u001b[0m\u001b[1;33m(\u001b[0m\u001b[0mget_weight\u001b[0m\u001b[1;33m,\u001b[0m \u001b[0mset_weight\u001b[0m\u001b[1;33m)\u001b[0m\u001b[1;33m\u001b[0m\u001b[0m\n\u001b[0;32m     19\u001b[0m \u001b[1;33m\u001b[0m\u001b[0m\n",
      "\u001b[1;31mValueError\u001b[0m: num must be > 0"
     ]
    }
   ],
   "source": [
    "class LineItem:\n",
    "    def __init__(self, description, weight, price):\n",
    "        self.description = description\n",
    "        self.weight = weight\n",
    "        self.price = price\n",
    "        \n",
    "    def subtotal(self):\n",
    "        return self.weight * self.price\n",
    "    \n",
    "    def get_weight(self):\n",
    "        return self._weight\n",
    "    \n",
    "    def set_weight(self, num):\n",
    "        if num > 0:\n",
    "            self._weight = num\n",
    "        else:\n",
    "            raise ValueError(\"num must be > 0\")\n",
    "    weight = property(get_weight, set_weight)\n",
    "            \n",
    "raisins = LineItem(\"Golden raisins\", 10, 6.95)\n",
    "print(raisins.subtotal())\n",
    "raisins.weight = -20\n",
    "print(raisins.subtotal())"
   ]
  },
  {
   "cell_type": "code",
   "execution_count": 1,
   "metadata": {},
   "outputs": [
    {
     "name": "stdout",
     "output_type": "stream",
     "text": [
      "12\n"
     ]
    }
   ],
   "source": [
    "class Foo:\n",
    "    @property\n",
    "    def bar(self):\n",
    "        return self.__dict__['bar']\n",
    "    \n",
    "    @bar.setter\n",
    "    def bar(self, num):\n",
    "        self.__dict__['bar'] = num\n",
    "        \n",
    "f = Foo()\n",
    "f.bar =12 \n",
    "print(f.bar)\n"
   ]
  },
  {
   "cell_type": "code",
   "execution_count": 6,
   "metadata": {},
   "outputs": [
    {
     "name": "stdout",
     "output_type": "stream",
     "text": [
      "69.5\n"
     ]
    },
    {
     "ename": "ValueError",
     "evalue": "the value must be > 0",
     "output_type": "error",
     "traceback": [
      "\u001b[1;31m---------------------------------------------------------------------------\u001b[0m",
      "\u001b[1;31mValueError\u001b[0m                                Traceback (most recent call last)",
      "\u001b[1;32m<ipython-input-6-a60e57100f9e>\u001b[0m in \u001b[0;36m<module>\u001b[1;34m()\u001b[0m\n\u001b[0;32m     25\u001b[0m \u001b[0mraisins\u001b[0m \u001b[1;33m=\u001b[0m \u001b[0mListItem\u001b[0m\u001b[1;33m(\u001b[0m\u001b[1;34m\"Golden raisins\"\u001b[0m\u001b[1;33m,\u001b[0m \u001b[1;36m10\u001b[0m\u001b[1;33m,\u001b[0m \u001b[1;36m6.95\u001b[0m\u001b[1;33m)\u001b[0m\u001b[1;33m\u001b[0m\u001b[0m\n\u001b[0;32m     26\u001b[0m \u001b[0mprint\u001b[0m\u001b[1;33m(\u001b[0m\u001b[0mraisins\u001b[0m\u001b[1;33m.\u001b[0m\u001b[0msubtotal\u001b[0m\u001b[1;33m(\u001b[0m\u001b[1;33m)\u001b[0m\u001b[1;33m)\u001b[0m\u001b[1;33m\u001b[0m\u001b[0m\n\u001b[1;32m---> 27\u001b[1;33m \u001b[0mraisins\u001b[0m\u001b[1;33m.\u001b[0m\u001b[0mweight\u001b[0m \u001b[1;33m=\u001b[0m \u001b[1;33m-\u001b[0m\u001b[1;36m20\u001b[0m\u001b[1;33m\u001b[0m\u001b[0m\n\u001b[0m\u001b[0;32m     28\u001b[0m \u001b[0mprint\u001b[0m\u001b[1;33m(\u001b[0m\u001b[0mraisins\u001b[0m\u001b[1;33m.\u001b[0m\u001b[0msubtotal\u001b[0m\u001b[1;33m(\u001b[0m\u001b[1;33m)\u001b[0m\u001b[1;33m)\u001b[0m\u001b[1;33m\u001b[0m\u001b[0m\n\u001b[0;32m     29\u001b[0m \u001b[1;33m\u001b[0m\u001b[0m\n",
      "\u001b[1;32m<ipython-input-6-a60e57100f9e>\u001b[0m in \u001b[0;36mqty_setter\u001b[1;34m(instance, value)\u001b[0m\n\u001b[0;32m      7\u001b[0m             \u001b[0minstance\u001b[0m\u001b[1;33m.\u001b[0m\u001b[0m__dict__\u001b[0m\u001b[1;33m[\u001b[0m\u001b[0mstorage_name\u001b[0m\u001b[1;33m]\u001b[0m \u001b[1;33m=\u001b[0m \u001b[0mvalue\u001b[0m\u001b[1;33m\u001b[0m\u001b[0m\n\u001b[0;32m      8\u001b[0m         \u001b[1;32melse\u001b[0m\u001b[1;33m:\u001b[0m\u001b[1;33m\u001b[0m\u001b[0m\n\u001b[1;32m----> 9\u001b[1;33m             \u001b[1;32mraise\u001b[0m \u001b[0mValueError\u001b[0m\u001b[1;33m(\u001b[0m\u001b[1;34m\"the value must be > 0\"\u001b[0m\u001b[1;33m)\u001b[0m\u001b[1;33m\u001b[0m\u001b[0m\n\u001b[0m\u001b[0;32m     10\u001b[0m \u001b[1;33m\u001b[0m\u001b[0m\n\u001b[0;32m     11\u001b[0m     \u001b[1;32mreturn\u001b[0m \u001b[0mproperty\u001b[0m\u001b[1;33m(\u001b[0m\u001b[0mqty_getter\u001b[0m\u001b[1;33m,\u001b[0m \u001b[0mqty_setter\u001b[0m\u001b[1;33m)\u001b[0m\u001b[1;33m\u001b[0m\u001b[0m\n",
      "\u001b[1;31mValueError\u001b[0m: the value must be > 0"
     ]
    }
   ],
   "source": [
    "def quantity(storage_name):\n",
    "    def qty_getter(instance):\n",
    "        return instance.__dict__[storage_name]\n",
    "    \n",
    "    def qty_setter(instance, value):\n",
    "        if value > 0:\n",
    "            instance.__dict__[storage_name] = value\n",
    "        else:\n",
    "            raise ValueError(\"the value must be > 0\")\n",
    "            \n",
    "    return property(qty_getter, qty_setter)\n",
    "\n",
    "class ListItem:\n",
    "    weight = quantity('weight')\n",
    "    price = quantity('price')\n",
    "    \n",
    "    def __init__(self, description, weight, price):\n",
    "        self.description = description\n",
    "        self.weight = weight\n",
    "        self.price = price\n",
    "        \n",
    "    def subtotal(self):\n",
    "        return self.weight * self.price\n",
    "    \n",
    "raisins = ListItem(\"Golden raisins\", 10, 6.95)\n",
    "print(raisins.subtotal())\n",
    "raisins.weight = -20\n",
    "print(raisins.subtotal())\n",
    "    "
   ]
  },
  {
   "cell_type": "code",
   "execution_count": 1,
   "metadata": {},
   "outputs": [
    {
     "name": "stdout",
     "output_type": "stream",
     "text": [
      "next member is: \n",
      "an arm\n",
      "BLACK KNIGHT (loses an arm)\n",
      "-- 'Tis but a scratch.\n",
      "BLACK KNIGHT (loses an arm)\n",
      "-- 'Tis but a scratch.\n"
     ]
    }
   ],
   "source": [
    "class BlackKnight:\n",
    "    def __init__(self):\n",
    "        self.members = ['an arm', 'another arm',\n",
    "                        'a leg', 'another leg']\n",
    "        self.phrases = [\"'Tis but a scratch.\",\n",
    "                        \"It's just a flesh wound.\",\n",
    "                        \"I'm invincible!\",\n",
    "                        \"All right, we'll call it a draw.\"]\n",
    "    @property\n",
    "    def member(self):\n",
    "        print('next member is: ')\n",
    "        return self.members[0]\n",
    "    \n",
    "    @member.deleter\n",
    "    def member(self):\n",
    "        text = \"BLACK KNIGHT (loses {})\\n-- {}\"\n",
    "        print(text.format(self.members[0], self.phrases[0]))\n",
    "\n",
    "knight = BlackKnight()\n",
    "print(knight.member)\n",
    "del knight.member\n",
    "del knight.member\n",
    "    \n",
    "        "
   ]
  },
  {
   "cell_type": "markdown",
   "metadata": {},
   "source": [
    "# Attribute descriptors"
   ]
  },
  {
   "cell_type": "code",
   "execution_count": 4,
   "metadata": {},
   "outputs": [
    {
     "ename": "ValueError",
     "evalue": "The value must be > 0",
     "output_type": "error",
     "traceback": [
      "\u001b[1;31m---------------------------------------------------------------------------\u001b[0m",
      "\u001b[1;31mValueError\u001b[0m                                Traceback (most recent call last)",
      "\u001b[1;32m<ipython-input-4-a2b6db80eb2c>\u001b[0m in \u001b[0;36m<module>\u001b[1;34m()\u001b[0m\n\u001b[0;32m     21\u001b[0m         \u001b[1;32mreturn\u001b[0m \u001b[0mself\u001b[0m\u001b[1;33m.\u001b[0m\u001b[0mweight\u001b[0m \u001b[1;33m*\u001b[0m \u001b[0mself\u001b[0m\u001b[1;33m.\u001b[0m\u001b[0mprice\u001b[0m\u001b[1;33m\u001b[0m\u001b[0m\n\u001b[0;32m     22\u001b[0m \u001b[1;33m\u001b[0m\u001b[0m\n\u001b[1;32m---> 23\u001b[1;33m \u001b[0mtruffle\u001b[0m \u001b[1;33m=\u001b[0m \u001b[0mLineItem\u001b[0m\u001b[1;33m(\u001b[0m\u001b[1;34m'White truffle'\u001b[0m\u001b[1;33m,\u001b[0m \u001b[1;36m100\u001b[0m\u001b[1;33m,\u001b[0m \u001b[1;36m0\u001b[0m\u001b[1;33m)\u001b[0m\u001b[1;33m\u001b[0m\u001b[0m\n\u001b[0m",
      "\u001b[1;32m<ipython-input-4-a2b6db80eb2c>\u001b[0m in \u001b[0;36m__init__\u001b[1;34m(self, descriptors, weight, price)\u001b[0m\n\u001b[0;32m     16\u001b[0m         \u001b[0mself\u001b[0m\u001b[1;33m.\u001b[0m\u001b[0mdescriptors\u001b[0m \u001b[1;33m=\u001b[0m \u001b[0mdescriptors\u001b[0m\u001b[1;33m\u001b[0m\u001b[0m\n\u001b[0;32m     17\u001b[0m         \u001b[0mself\u001b[0m\u001b[1;33m.\u001b[0m\u001b[0mweight\u001b[0m \u001b[1;33m=\u001b[0m \u001b[0mweight\u001b[0m\u001b[1;33m\u001b[0m\u001b[0m\n\u001b[1;32m---> 18\u001b[1;33m         \u001b[0mself\u001b[0m\u001b[1;33m.\u001b[0m\u001b[0mprice\u001b[0m \u001b[1;33m=\u001b[0m \u001b[0mprice\u001b[0m\u001b[1;33m\u001b[0m\u001b[0m\n\u001b[0m\u001b[0;32m     19\u001b[0m \u001b[1;33m\u001b[0m\u001b[0m\n\u001b[0;32m     20\u001b[0m     \u001b[1;32mdef\u001b[0m \u001b[0msubtotal\u001b[0m\u001b[1;33m(\u001b[0m\u001b[0mself\u001b[0m\u001b[1;33m)\u001b[0m\u001b[1;33m:\u001b[0m\u001b[1;33m\u001b[0m\u001b[0m\n",
      "\u001b[1;32m<ipython-input-4-a2b6db80eb2c>\u001b[0m in \u001b[0;36m__set__\u001b[1;34m(self, instance, value)\u001b[0m\n\u001b[0;32m      7\u001b[0m             \u001b[0minstance\u001b[0m\u001b[1;33m.\u001b[0m\u001b[0m__dict__\u001b[0m\u001b[1;33m[\u001b[0m\u001b[0mself\u001b[0m\u001b[1;33m.\u001b[0m\u001b[0mstorage_name\u001b[0m\u001b[1;33m]\u001b[0m \u001b[1;33m=\u001b[0m \u001b[0mvalue\u001b[0m\u001b[1;33m\u001b[0m\u001b[0m\n\u001b[0;32m      8\u001b[0m         \u001b[1;32melse\u001b[0m\u001b[1;33m:\u001b[0m\u001b[1;33m\u001b[0m\u001b[0m\n\u001b[1;32m----> 9\u001b[1;33m             \u001b[1;32mraise\u001b[0m \u001b[0mValueError\u001b[0m\u001b[1;33m(\u001b[0m\u001b[1;34m\"The value must be > 0\"\u001b[0m\u001b[1;33m)\u001b[0m\u001b[1;33m\u001b[0m\u001b[0m\n\u001b[0m\u001b[0;32m     10\u001b[0m \u001b[1;33m\u001b[0m\u001b[0m\n\u001b[0;32m     11\u001b[0m \u001b[1;32mclass\u001b[0m \u001b[0mLineItem\u001b[0m\u001b[1;33m:\u001b[0m\u001b[1;33m\u001b[0m\u001b[0m\n",
      "\u001b[1;31mValueError\u001b[0m: The value must be > 0"
     ]
    }
   ],
   "source": [
    "class Quantity:\n",
    "    def __init__(self, storage_name):\n",
    "        self.storage_name = storage_name\n",
    "        \n",
    "    def __set__(self, instance, value):\n",
    "        if value > 0:\n",
    "            instance.__dict__[self.storage_name] = value\n",
    "        else:\n",
    "            raise ValueError(\"The value must be > 0\")\n",
    "    \n",
    "class LineItem:\n",
    "    weight = Quantity('weight')\n",
    "    price = Quantity('price')\n",
    "\n",
    "    def __init__(self, descriptors, weight, price):\n",
    "        self.descriptors = descriptors\n",
    "        self.weight = weight\n",
    "        self.price = price\n",
    "        \n",
    "    def subtotal(self):\n",
    "        return self.weight * self.price\n",
    "\n",
    "truffle = LineItem('White truffle', 100, 0)\n"
   ]
  },
  {
   "cell_type": "code",
   "execution_count": 24,
   "metadata": {},
   "outputs": [
    {
     "name": "stdout",
     "output_type": "stream",
     "text": [
      "<class '__main__.Quantity'>\n",
      "Quantity\n",
      "0\n",
      "{'storage_name': '_Quantity#0'}\n",
      "<class '__main__.Quantity'>\n",
      "Quantity\n",
      "1\n",
      "{'storage_name': '_Quantity#1'}\n",
      "<__main__.LineItem object at 0x0000025BB7EE37B8> _Quantity#0 <class '__main__.LineItem'>\n",
      "<__main__.LineItem object at 0x0000025BB7EE37B8> _Quantity#1 <class '__main__.LineItem'>\n",
      "100 10\n",
      "<__main__.LineItem object at 0x0000025BB7EE37B8> _Quantity#0 <class '__main__.LineItem'>\n",
      "<__main__.LineItem object at 0x0000025BB7EE37B8> _Quantity#1 <class '__main__.LineItem'>\n",
      "1000\n",
      "100\n",
      "10\n"
     ]
    }
   ],
   "source": [
    "class Quantity:\n",
    "    __counter = 0\n",
    "    def __init__(self):\n",
    "       \n",
    "        cls = self.__class__\n",
    "        print(cls)\n",
    "        perfix = cls.__name__\n",
    "        print(perfix)\n",
    "        index = cls.__counter\n",
    "        print(index)\n",
    "        self.storage_name = \"_{}#{}\".format(perfix, index)\n",
    "        cls.__counter += 1\n",
    "        print(self.__dict__)\n",
    "        \n",
    "    def __get__(self, instance, owner):\n",
    "        \n",
    "        print(instance, self.storage_name, owner)\n",
    "        return getattr(instance, self.storage_name)\n",
    "        \n",
    "    def __set__(self, instance, value):\n",
    "        if value > 0:\n",
    "            instance.__dict__[self.storage_name] = value\n",
    "        else:\n",
    "            raise ValueError(\"The value must be > 0\")\n",
    "    \n",
    "class LineItem:\n",
    "    weight = Quantity()\n",
    "    price = Quantity()\n",
    "\n",
    "    def __init__(self, descriptors, weight, price):\n",
    "        self.descriptors = descriptors\n",
    "        self.weight = weight\n",
    "        self.price = price\n",
    "        \n",
    "    def subtotal(self):\n",
    "        return self.weight * self.price\n",
    "\n",
    "truffle = LineItem('White truffle', 100, 10)\n",
    "print(truffle.weight, truffle.price)\n",
    "print(truffle.subtotal())\n",
    "\n",
    "print(getattr(truffle, '_Quantity#0'))\n",
    "print(getattr(truffle, \"_Quantity#1\"))"
   ]
  },
  {
   "cell_type": "code",
   "execution_count": 1,
   "metadata": {},
   "outputs": [
    {
     "name": "stdout",
     "output_type": "stream",
     "text": [
      "<__main__.Quantity object at 0x000001A63C1692E8>\n",
      "100 10\n",
      "1000\n",
      "100\n",
      "10\n"
     ]
    }
   ],
   "source": [
    "class Quantity:\n",
    "    __counter = 0\n",
    "    def __init__(self):\n",
    "        cls = self.__class__\n",
    "        perfix = cls.__name__\n",
    "        index = cls.__counter\n",
    "        self.storage_name = \"_{}#{}\".format(perfix, index)\n",
    "        cls.__counter += 1\n",
    "\n",
    "    def __get__(self, instance, owner):\n",
    "        if instance is None:\n",
    "            return self\n",
    "        return getattr(instance, self.storage_name)\n",
    "        \n",
    "    def __set__(self, instance, value):\n",
    "        if value > 0:\n",
    "            instance.__dict__[self.storage_name] = value\n",
    "        else:\n",
    "            raise ValueError(\"The value must be > 0\")\n",
    "    \n",
    "class LineItem:\n",
    "    weight = Quantity()\n",
    "    price = Quantity()\n",
    "\n",
    "    def __init__(self, descriptors, weight, price):\n",
    "        self.descriptors = descriptors\n",
    "        self.weight = weight\n",
    "        self.price = price\n",
    "        \n",
    "    def subtotal(self):\n",
    "        return self.weight * self.price\n",
    "print(LineItem.price)\n",
    "truffle = LineItem('White truffle', 100, 10)\n",
    "print(truffle.weight, truffle.price)\n",
    "print(truffle.subtotal())\n",
    "\n",
    "print(getattr(truffle, '_Quantity#0'))\n",
    "print(getattr(truffle, \"_Quantity#1\"))"
   ]
  },
  {
   "cell_type": "code",
   "execution_count": 6,
   "metadata": {},
   "outputs": [
    {
     "name": "stdout",
     "output_type": "stream",
     "text": [
      "1000\n"
     ]
    }
   ],
   "source": [
    "import abc\n",
    "class AutoStorage:\n",
    "    __counter = 0\n",
    "    \n",
    "    def __init__(self):\n",
    "        cls = self.__class__\n",
    "        prefix = cls.__name__\n",
    "        index = cls.__counter\n",
    "        self.storage_name = \"_{}#{}\".format(prefix, index)\n",
    "        cls.__counter += 1\n",
    "        \n",
    "    def __get__(self, instance, owner):\n",
    "        if instance is None:\n",
    "            return self\n",
    "        else:\n",
    "            return getattr(instance, self.storage_name)\n",
    "        \n",
    "    def __set__(self, instance, value):\n",
    "        setattr(instance, self.storage_name, value)\n",
    "        \n",
    "class Validated(abc.ABC, AutoStorage):\n",
    "    def __set__(self, instance, value):\n",
    "        value = self.validate(instance, value)\n",
    "        super().__set__(instance, value)\n",
    "    \n",
    "    @abc.abstractmethod\n",
    "    def validate(self, instance, value):\n",
    "        \"\"\"return validated value or raise ValueError\"\"\"\n",
    "        \n",
    "\n",
    "class Quantity(Validated):\n",
    "    def validate(self, instance, value):\n",
    "        if value < 0:\n",
    "            raise ValueError(\"value must be > 0\")\n",
    "        return value\n",
    "    \n",
    "\n",
    "class NonBlank(Validated):\n",
    "    def validate(self, instance, value):\n",
    "        value = value.strip()\n",
    "        if len(value) == 0:\n",
    "            raise ValueError(\"value cannot be empty or blank\")\n",
    "        return value\n",
    "    \n",
    "\n",
    "class LineItem:\n",
    "    description = NonBlank()\n",
    "    weight = Quantity()\n",
    "    price = Quantity()\n",
    "    \n",
    "    def __init__(self, description, weight, price):\n",
    "        self.description = description\n",
    "        self.weight = weight\n",
    "        self.price = price\n",
    "        \n",
    "    def subtotal(self):\n",
    "        return self.weight * self.price\n",
    "    \n",
    "l = LineItem(\"123123\", 100, 10)\n",
    "print(l.subtotal())\n",
    "        "
   ]
  },
  {
   "cell_type": "code",
   "execution_count": 2,
   "metadata": {},
   "outputs": [
    {
     "name": "stdout",
     "output_type": "stream",
     "text": [
      "Text('forward')\n",
      "Text('forward')\n",
      "<bound method Text.reverse of Text('forward')>\n",
      "<bound method Text.reverse of Text('forward')>\n",
      "<function Text.reverse at 0x000002060B06C6A8>\n",
      "<class 'function'> <class 'method'>\n",
      "True\n"
     ]
    }
   ],
   "source": [
    "from collections import UserString\n",
    "\n",
    "class Text(UserString):\n",
    "    \n",
    "    def __str__(self):\n",
    "        return repr(self)\n",
    "    \n",
    "    def __repr__(self):\n",
    "#         return \"Text({!r})\".format(self.data)\n",
    "        return 'Text({!r})'.format(self.data)\n",
    "    \n",
    "    def reverse(self):\n",
    "        return self[::-1]\n",
    "        \n",
    "word = Text('forward')\n",
    "print(word)\n",
    "print(word.reverse.__self__)\n",
    "print(word.reverse)\n",
    "print(Text.reverse.__get__(word))\n",
    "print(Text.reverse)\n",
    "print(type(Text.reverse),type(word.reverse))\n",
    "print(word.reverse.__func__ is Text.reverse)\n",
    "\n"
   ]
  },
  {
   "cell_type": "markdown",
   "metadata": {},
   "source": [
    "# CHAPTER 21 \n",
    "## <center>Class metaprogramming</center>\n"
   ]
  },
  {
   "cell_type": "code",
   "execution_count": 9,
   "metadata": {},
   "outputs": [
    {
     "name": "stdout",
     "output_type": "stream",
     "text": [
      "Dog(name='rex', weight=30, owner='Bob')\n",
      "Dog(name='rex', weight=30, owner='Bob')\n",
      "('name', 'weight', 'owner')\n"
     ]
    }
   ],
   "source": [
    "def record_factory(cls_name, field_names):\n",
    "    try:\n",
    "        field_names = field_names.replace(',', \" \").split()\n",
    "    except AttributeError:\n",
    "        pass\n",
    "    field_names = tuple(field_names)\n",
    "    \n",
    "    def __init__(self, *args, **kwargs):\n",
    "        attrs = dict(zip(self.__slots__, args))\n",
    "        attrs.update(kwargs)\n",
    "        for name, value in attrs.items():\n",
    "            setattr(self, name, value)\n",
    "            \n",
    "    def __iter__(self):\n",
    "        for name in self.__slots__:\n",
    "            yield getattr(self, name)\n",
    "        \n",
    "    def __repr__(self):\n",
    "        values = ', '.join('{}={!r}'.format(*i) for i\n",
    "                           in zip(self.__slots__, self))\n",
    "        return \"{}({})\".format(self.__class__.__name__, values)\n",
    "    \n",
    "    cls_attrs = dict(__slots__ = field_names,\n",
    "                     __init__ = __init__,\n",
    "                     __iter__ = __iter__,\n",
    "                     __repr__ = __repr__)\n",
    "    return type(cls_name, (object,), cls_attrs)\n",
    "\n",
    "Dog = record_factory('Dog', 'name weight owner')\n",
    "rex = Dog('rex', 30, 'Bob')\n",
    "print(rex)\n",
    "print(repr(rex))\n",
    "print(rex.__slots__)"
   ]
  },
  {
   "cell_type": "code",
   "execution_count": 19,
   "metadata": {},
   "outputs": [
    {
     "name": "stdout",
     "output_type": "stream",
     "text": [
      "['_NonBlank#description', '_Quantity#price', '_Quantity#weight']\n",
      "_NonBlank#description\n",
      "Golden raisins\n",
      "Golden raisins\n",
      "6.95\n"
     ]
    }
   ],
   "source": [
    "import abc\n",
    "class AutoStorage:\n",
    "    __counter = 0\n",
    "    \n",
    "    def __init__(self):\n",
    "        cls = self.__class__\n",
    "        prefix = cls.__name__\n",
    "        index = cls.__counter\n",
    "        self.storage_name = \"_{}#{}\".format(prefix, index)\n",
    "        cls.__counter += 1\n",
    "        \n",
    "    def __get__(self, instance, owner):\n",
    "        if instance is None:\n",
    "            return self\n",
    "        else:\n",
    "            return getattr(instance, self.storage_name)\n",
    "        \n",
    "    def __set__(self, instance, value):\n",
    "        setattr(instance, self.storage_name, value)\n",
    "        \n",
    "class Validated(abc.ABC, AutoStorage):\n",
    "    def __set__(self, instance, value):\n",
    "        value = self.validate(instance, value)\n",
    "        super().__set__(instance, value)\n",
    "    \n",
    "    @abc.abstractmethod\n",
    "    def validate(self, instance, value):\n",
    "        \"\"\"return validated value or raise ValueError\"\"\"\n",
    "        \n",
    "\n",
    "class Quantity(Validated):\n",
    "    def validate(self, instance, value):\n",
    "        if value < 0:\n",
    "            raise ValueError(\"value must be > 0\")\n",
    "        return value\n",
    "    \n",
    "\n",
    "class NonBlank(Validated):\n",
    "    def validate(self, instance, value):\n",
    "        value = value.strip()\n",
    "        if len(value) == 0:\n",
    "            raise ValueError(\"value cannot be empty or blank\")\n",
    "        return value\n",
    "    \n",
    "    \n",
    "def entity(cls):\n",
    "    for key, attr in cls.__dict__.items():\n",
    "        if isinstance(attr, Validated):\n",
    "            type_name = type(attr).__name__\n",
    "            attr.storage_name = \"_{}#{}\".format(type_name, key)\n",
    "    return cls\n",
    "\n",
    "    \n",
    "@entity \n",
    "class LineItem:\n",
    "    description = NonBlank()\n",
    "    weight = Quantity()\n",
    "    price = Quantity()\n",
    "    \n",
    "    def __init__(self, description, weight, price):\n",
    "        self.description = description\n",
    "        self.weight = weight \n",
    "        self.price = price\n",
    "        \n",
    "    def subtotal(self):\n",
    "        return self.weight * self.price\n",
    "    \n",
    "raisins = LineItem('Golden raisins', 10, 6.95)\n",
    "print(dir(raisins)[:3])\n",
    "print(LineItem.description.storage_name)\n",
    "print(raisins.description)\n",
    "print(getattr(raisins, \"_NonBlank#description\"))\n",
    "print(getattr(raisins, \"_Quantity#price\"))\n"
   ]
  },
  {
   "cell_type": "code",
   "execution_count": 5,
   "metadata": {},
   "outputs": [
    {
     "name": "stdout",
     "output_type": "stream",
     "text": [
      "100\n"
     ]
    }
   ],
   "source": [
    "import abc\n",
    "class AutoStorage:\n",
    "    __counter = 0\n",
    "    \n",
    "    def __init__(self):\n",
    "        cls = self.__class__\n",
    "        prefix = cls.__name__\n",
    "        index = cls.__counter\n",
    "        self.storage_name = \"_{}#{}\".format(prefix, index)\n",
    "        cls.__counter += 1\n",
    "        \n",
    "    def __get__(self, instance, owner):\n",
    "        if instance is None:\n",
    "            return self\n",
    "        else:\n",
    "            return getattr(instance, self.storage_name)\n",
    "        \n",
    "    def __set__(self, instance, value):\n",
    "        setattr(instance, self.storage_name, value)\n",
    "        \n",
    "        \n",
    "class Validated(abc.ABC, AutoStorage):\n",
    "    def __set__(self, instance, value):\n",
    "        value = self.validate(instance, value)\n",
    "        super().__set__(instance, value)\n",
    "    \n",
    "    @abc.abstractmethod\n",
    "    def validate(self, instance, value):\n",
    "        \"\"\"return validated value or raise ValueError\"\"\"\n",
    "\n",
    "class Quantity(Validated):\n",
    "    def validate(self, instance, value):\n",
    "        if value < 0:\n",
    "            raise ValueError(\"value must be > 0\")\n",
    "        return value\n",
    "    \n",
    "\n",
    "class NonBlank(Validated):\n",
    "    def validate(self, instance, value):\n",
    "        value = value.strip()\n",
    "        if len(value) == 0:\n",
    "            raise ValueError(\"value cannot be empty or blank\")\n",
    "        return value\n",
    "    \n",
    "class EntityMeta(type):\n",
    "    \"\"\"Metaclass for business entities with validated fields\"\"\"\n",
    "    \n",
    "    def __init__(cls, name, bases, attr_dict):\n",
    "        super().__init__(name, bases, attr_dict)\n",
    "        for key, attr in attr_dict.items():\n",
    "            if isinstance(attr, Validated):\n",
    "                type_name = type(attr).__name__\n",
    "                attr.storage_name = \"_{}#{}\".format(type_name, key)\n",
    "\n",
    "class Entity(metaclass=EntityMeta):\n",
    "    \"\"\"Business entity with validatad fields\"\"\"\n",
    "    \n",
    "\n",
    "class LineItem(Entity):\n",
    "    description = NonBlank()\n",
    "    weight = Quantity()\n",
    "    price = Quantity()\n",
    "    \n",
    "    def __init__(self, description, weight, price):\n",
    "        self.description = description\n",
    "        self.weight = weight\n",
    "        self.price = price\n",
    "        \n",
    "    def subtotal(self):\n",
    "        return self.weight * self.price\n",
    "    \n",
    "l = LineItem(\"111\", 10, 10)\n",
    "print(l.subtotal())\n",
    "# l1 = LineItem('111', 10, -1)\n",
    "# print(l1.subtotal())\n"
   ]
  },
  {
   "cell_type": "code",
   "execution_count": 13,
   "metadata": {},
   "outputs": [
    {
     "name": "stdout",
     "output_type": "stream",
     "text": [
      "100\n",
      "(<class '__main__.Entity'>,)\n",
      "['description', 'weight', 'price']\n"
     ]
    }
   ],
   "source": [
    "import abc\n",
    "import collections\n",
    "\n",
    "\n",
    "class AutoStorage:\n",
    "    __counter = 0\n",
    "    \n",
    "    def __init__(self):\n",
    "        cls = self.__class__\n",
    "        prefix = cls.__name__\n",
    "        index = cls.__counter\n",
    "        self.storage_name = \"_{}#{}\".format(prefix, index)\n",
    "        cls.__counter += 1\n",
    "        \n",
    "    def __get__(self, instance, owner):\n",
    "        if instance is None:\n",
    "            return self\n",
    "        else:\n",
    "            return getattr(instance, self.storage_name)\n",
    "        \n",
    "    def __set__(self, instance, value):\n",
    "        setattr(instance, self.storage_name, value)\n",
    "        \n",
    "        \n",
    "class Validated(abc.ABC, AutoStorage):\n",
    "    def __set__(self, instance, value):\n",
    "        value = self.validate(instance, value)\n",
    "        super().__set__(instance, value)\n",
    "    \n",
    "    @abc.abstractmethod\n",
    "    def validate(self, instance, value):\n",
    "        \"\"\"return validated value or raise ValueError\"\"\"\n",
    "\n",
    "class Quantity(Validated):\n",
    "    def validate(self, instance, value):\n",
    "        if value < 0:\n",
    "            raise ValueError(\"value must be > 0\")\n",
    "        return value\n",
    "    \n",
    "\n",
    "class NonBlank(Validated):\n",
    "    def validate(self, instance, value):\n",
    "        value = value.strip()\n",
    "        if len(value) == 0:\n",
    "            raise ValueError(\"value cannot be empty or blank\")\n",
    "        return value\n",
    "    \n",
    "class EntityMeta(type):\n",
    "    \"\"\"Metaclass for business entities with validated fields\"\"\"\n",
    "    @classmethod\n",
    "    def __prepare__(cls, name, bases):\n",
    "        return collections.OrderedDict()\n",
    "    \n",
    "    def __init__(cls, name, bases, attr_dict):\n",
    "        super().__init__(name, bases, attr_dict)\n",
    "        cls._field_names = []\n",
    "        for key, attr in attr_dict.items():\n",
    "            if isinstance(attr, Validated):\n",
    "                type_name = type(attr).__name__\n",
    "                attr.storage_name = \"_{}#{}\".format(type_name, key)\n",
    "                cls._field_names.append(key)\n",
    "                \n",
    "                \n",
    "class Entity(metaclass=EntityMeta):\n",
    "    \"\"\"Business entity with validatad fields\"\"\"\n",
    "    @classmethod\n",
    "    def field_names(cls):\n",
    "        print(cls.__bases__)\n",
    "        for name in cls._field_names:\n",
    "            yield name\n",
    "\n",
    "class LineItem(Entity):\n",
    "    description = NonBlank()\n",
    "    weight = Quantity()\n",
    "    price = Quantity()\n",
    "    \n",
    "    def __init__(self, description, weight, price):\n",
    "        self.description = description\n",
    "        self.weight = weight\n",
    "        self.price = price\n",
    "        \n",
    "    def subtotal(self):\n",
    "        return self.weight * self.price\n",
    "    \n",
    "l = LineItem(\"111\", 10, 10)\n",
    "print(l.subtotal())\n",
    "print(list(l.field_names()))\n",
    "# l1 = LineItem('111', 10, -1)\n",
    "# print(l1.subtotal())\n"
   ]
  }
 ],
 "metadata": {
  "kernelspec": {
   "display_name": "Python 3",
   "language": "python",
   "name": "python3"
  },
  "language_info": {
   "codemirror_mode": {
    "name": "ipython",
    "version": 3
   },
   "file_extension": ".py",
   "mimetype": "text/x-python",
   "name": "python",
   "nbconvert_exporter": "python",
   "pygments_lexer": "ipython3",
   "version": "3.5.2"
  }
 },
 "nbformat": 4,
 "nbformat_minor": 1
}
