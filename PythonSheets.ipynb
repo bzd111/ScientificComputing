{
 "cells": [
  {
   "cell_type": "code",
   "execution_count": 3,
   "metadata": {
    "collapsed": false,
    "deletable": true,
    "editable": true
   },
   "outputs": [
    {
     "name": "stdout",
     "output_type": "stream",
     "text": [
      "Procude x is:2.1182830289691656\n",
      "Procude x is:3.8519121980261186Consumer x is:2.1182830289691656\n",
      "\n",
      "Procude x is:0.1546162092728337Consumer x is:3.8519121980261186\n",
      "\n",
      "Procude x is:3.575116812685927Consumer x is:0.1546162092728337\n",
      "\n",
      "Procude x is:4.248819603551394Consumer x is:3.575116812685927\n",
      "\n",
      "Procude x is:4.8163672047940445Consumer x is:4.248819603551394\n",
      "\n",
      "Procude x is:2.9692107017705127Consumer x is:4.8163672047940445\n",
      "\n",
      "Procude x is:2.860782921515537Consumer x is:2.9692107017705127\n",
      "\n",
      "Procude x is:0.5740322896659444Consumer x is:2.860782921515537\n",
      "\n",
      "Procude x is:2.399950331505088Consumer x is:0.5740322896659444\n",
      "\n",
      "Consumer x is:2.399950331505088\n"
     ]
    }
   ],
   "source": [
    "from threading import Thread\n",
    "from queue import Queue\n",
    "from random import random\n",
    "\n",
    "def Produce(queue):\n",
    "    \n",
    "    for _ in range(10):\n",
    "        put_x = random()*5\n",
    "        print(\"Procude x is:%s\" %put_x)\n",
    "        queue.put(put_x)\n",
    "\n",
    "def Consumer(queue):\n",
    "    while True:\n",
    "        get_x = queue.get()\n",
    "        print(\"Consumer x is:%s\" % get_x)\n",
    "        queue.task_done()\n",
    "q = Queue()\n",
    "t1 = Thread(target=Produce,args=(q,))\n",
    "t2 = Thread(target=Consumer,args=(q,))\n",
    "t1.start()\n",
    "t2.start()\n",
    "\n"
   ]
  },
  {
   "cell_type": "code",
   "execution_count": 12,
   "metadata": {
    "collapsed": false,
    "deletable": true,
    "editable": true
   },
   "outputs": [
    {
     "name": "stdout",
     "output_type": "stream",
     "text": [
      "1\n",
      "2\n",
      "3\n",
      "5\n",
      "8\n",
      "13\n",
      "21\n",
      "34\n",
      "55\n"
     ]
    }
   ],
   "source": [
    "def fib(n):\n",
    "    if n < 2:\n",
    "        return 1\n",
    "    return fib(n-1)+fib(n-2)\n",
    "\n",
    "for i in range(1,10):\n",
    "    \n",
    "    print(fib(i))"
   ]
  },
  {
   "cell_type": "code",
   "execution_count": null,
   "metadata": {
    "collapsed": false,
    "deletable": true,
    "editable": true
   },
   "outputs": [],
   "source": [
    "from threading import Condition,Thread\n",
    "import threading\n",
    "def Produce(con):\n",
    "    t1 = threading.currentThread()\n",
    "    with con:\n",
    "        print(\"{}:Resource is available is Produce\".format(t1.name))\n",
    "        con.notifyAll()\n",
    "        \n",
    "def Consumer(con):\n",
    "    t1 = threading.currentThread()\n",
    "    with con:\n",
    "        con.wait()\n",
    "        print('{}: Resource is available to consumer'.format(t1.name))\n",
    "con = Condition()\n",
    "t1 = Thread(name='r1',target=Produce,args=(con,))\n",
    "t2 = Thread(name='c1',target=Consumer,args=(con,))\n",
    "t3 = Thread(name='c2',target=Consumer,args=(con,))\n",
    "if __name__==\"__main__\":\n",
    "    t3.start();t2.start();t1.start()"
   ]
  },
  {
   "cell_type": "code",
   "execution_count": null,
   "metadata": {
    "collapsed": true,
    "deletable": true,
    "editable": true
   },
   "outputs": [],
   "source": [
    "import time\n",
    "import threading\n",
    "def consumer(cond):\n",
    "    t = threading.currentThread()\n",
    "    with cond:\n",
    "        cond.wait()  # wait()方法创建了一个名为waiter的锁，并且设置锁的状态为locked。这个waiter锁用于线程间的通讯\n",
    "        print '{}: Resource is available to consumer'.format(t.name)\n",
    "def producer(cond):\n",
    "    t = threading.currentThread()\n",
    "    with cond:\n",
    "        print '{}: Making resource available'.format(t.name)\n",
    "        cond.notifyAll()  # 释放waiter锁，唤醒消费者\n",
    "condition = threading.Condition()\n",
    "c1 = threading.Thread(name='c1', target=consumer, args=(condition,))\n",
    "c2 = threading.Thread(name='c2', target=consumer, args=(condition,))\n",
    "p = threading.Thread(name='p', target=producer, args=(condition,))\n",
    "c1.start()\n",
    "time.sleep(1)\n",
    "c2.start()\n",
    "time.sleep(1)\n",
    "p.start()"
   ]
  },
  {
   "cell_type": "code",
   "execution_count": null,
   "metadata": {
    "collapsed": false,
    "deletable": true,
    "editable": true
   },
   "outputs": [],
   "source": [
    "from multiprocessing import Pool\n",
    "import time\n",
    "\n",
    "def fib(n):\n",
    "    if n<=2:\n",
    "        return 1 \n",
    "    return fib(n-1)+fib(n-2)\n",
    "\n",
    "def decrote(func):\n",
    "     \n",
    "    def warp(*args,**kward):\n",
    "        start = time.time()\n",
    "        func(*args,**kward)\n",
    "        end = time.time()\n",
    "        print(\"Cost Time:{}\".format(end-start))\n",
    "    return warp\n",
    "\n",
    "@decrote\n",
    "def func1():\n",
    "    pool = Pool(5)\n",
    "    pool.map(fib,[10]*5)\n",
    "    \n",
    "def not_use_pool():\n",
    "    map(fib,[10]*5)\n",
    "func1()\n",
    "not_use_pool()\n"
   ]
  },
  {
   "cell_type": "code",
   "execution_count": 1,
   "metadata": {
    "collapsed": true,
    "deletable": true,
    "editable": true
   },
   "outputs": [],
   "source": [
    "from multiprocessing import Pipe,Process\n",
    "\n",
    "def deal(f,x):\n",
    "    def fun():\n",
    "        Pipe.send(f(x))\n",
    "        Pipe.close()\n",
    "    return fun\n",
    "def Process_cro(f,X):\n",
    "    pipe = [Pipe for x in X]\n",
    "    proc = [Process()]"
   ]
  },
  {
   "cell_type": "code",
   "execution_count": 11,
   "metadata": {
    "collapsed": false,
    "deletable": true,
    "editable": true
   },
   "outputs": [
    {
     "name": "stdout",
     "output_type": "stream",
     "text": [
      "1 acquire the lock \n",
      "2 acquire the lock \n",
      "3 acquire the lock 2 release the lock1 release the lock\n",
      "\n",
      "\n",
      "3 release the lock\n"
     ]
    }
   ],
   "source": [
    "# from t import Event ,Thread\n",
    "from threading import Event,Thread\n",
    "even = Event()\n",
    "def func1(tid):\n",
    "\n",
    "    print(\"%s acquire the lock \" %tid)\n",
    "    even.wait()\n",
    "    print(\"%s release the lock\" %tid)\n",
    "\n",
    "t1 = Thread(target=func1,args=(1,))\n",
    "t2 = Thread(target=func1,args=(2,))\n",
    "t3 = Thread(target=func1,args=(3,))\n",
    "t1.start()\n",
    "t2.start()\n",
    "t3.start()\n",
    "even.set()"
   ]
  },
  {
   "cell_type": "code",
   "execution_count": null,
   "metadata": {
    "collapsed": false,
    "deletable": true,
    "editable": true
   },
   "outputs": [],
   "source": [
    "from threading import Condition,Thread\n",
    "import threading\n",
    "def Produce(con):\n",
    "    t1 = threading.currentThread()\n",
    "    with con:\n",
    "        print(\"{}:Resource is available is Produce\".format(t1.name))\n",
    "        con.notifyAll()\n",
    "        \n",
    "def Consumer(con):\n",
    "    t1 = threading.currentThread()\n",
    "    with con:\n",
    "        con.wait()\n",
    "        print('{}: Resource is available to consumer'.format(t1.name))\n",
    "con = Condition()\n",
    "t1 = Thread(name='r1',target=Produce,args=(con,))\n",
    "t2 = Thread(name='c1',target=Consumer,args=(con,))\n",
    "t3 = Thread(name='c2',target=Consumer,args=(con,))\n",
    "if __name__==\"__main__\":\n",
    "    t3.start();t2.start();t1.start()"
   ]
  },
  {
   "cell_type": "code",
   "execution_count": null,
   "metadata": {
    "collapsed": true,
    "deletable": true,
    "editable": true
   },
   "outputs": [],
   "source": [
    "import time\n",
    "import threading\n",
    "def consumer(cond):\n",
    "    t = threading.currentThread()\n",
    "    with cond:\n",
    "        cond.wait()  # wait()方法创建了一个名为waiter的锁，并且设置锁的状态为locked。这个waiter锁用于线程间的通讯\n",
    "        print '{}: Resource is available to consumer'.format(t.name)\n",
    "def producer(cond):\n",
    "    t = threading.currentThread()\n",
    "    with cond:\n",
    "        print '{}: Making resource available'.format(t.name)\n",
    "        cond.notifyAll()  # 释放waiter锁，唤醒消费者\n",
    "condition = threading.Condition()\n",
    "c1 = threading.Thread(name='c1', target=consumer, args=(condition,))\n",
    "c2 = threading.Thread(name='c2', target=consumer, args=(condition,))\n",
    "p = threading.Thread(name='p', target=producer, args=(condition,))\n",
    "c1.start()\n",
    "time.sleep(1)\n",
    "c2.start()\n",
    "time.sleep(1)\n",
    "p.start()"
   ]
  },
  {
   "cell_type": "code",
   "execution_count": 4,
   "metadata": {
    "collapsed": false,
    "deletable": true,
    "editable": true
   },
   "outputs": [
    {
     "name": "stdout",
     "output_type": "stream",
     "text": [
      "0\n",
      "2\n",
      "4\n"
     ]
    },
    {
     "ename": "StopIteration",
     "evalue": "",
     "output_type": "error",
     "traceback": [
      "\u001b[0;31m---------------------------------------------------------------------------\u001b[0m",
      "\u001b[0;31mStopIteration\u001b[0m                             Traceback (most recent call last)",
      "\u001b[0;32m<ipython-input-4-2c3b046fec9f>\u001b[0m in \u001b[0;36m<module>\u001b[0;34m()\u001b[0m\n\u001b[1;32m      8\u001b[0m \u001b[0mprint\u001b[0m\u001b[0;34m(\u001b[0m\u001b[0mnext\u001b[0m\u001b[0;34m(\u001b[0m\u001b[0mr\u001b[0m\u001b[0;34m)\u001b[0m\u001b[0;34m)\u001b[0m\u001b[0;34m\u001b[0m\u001b[0m\n\u001b[1;32m      9\u001b[0m \u001b[0mprint\u001b[0m\u001b[0;34m(\u001b[0m\u001b[0mnext\u001b[0m\u001b[0;34m(\u001b[0m\u001b[0mr\u001b[0m\u001b[0;34m)\u001b[0m\u001b[0;34m)\u001b[0m\u001b[0;34m\u001b[0m\u001b[0m\n\u001b[0;32m---> 10\u001b[0;31m \u001b[0mprint\u001b[0m\u001b[0;34m(\u001b[0m\u001b[0mnext\u001b[0m\u001b[0;34m(\u001b[0m\u001b[0mr\u001b[0m\u001b[0;34m)\u001b[0m\u001b[0;34m)\u001b[0m\u001b[0;34m\u001b[0m\u001b[0m\n\u001b[0m\u001b[1;32m     11\u001b[0m \u001b[0mprint\u001b[0m\u001b[0;34m(\u001b[0m\u001b[0mnext\u001b[0m\u001b[0;34m(\u001b[0m\u001b[0mr\u001b[0m\u001b[0;34m)\u001b[0m\u001b[0;34m)\u001b[0m\u001b[0;34m\u001b[0m\u001b[0m\n\u001b[1;32m     12\u001b[0m \u001b[0;34m\u001b[0m\u001b[0m\n",
      "\u001b[0;31mStopIteration\u001b[0m: "
     ]
    }
   ],
   "source": [
    "def retunr_yeild():\n",
    "    for i in range(5):\n",
    "        if not i%2:\n",
    "            yield i\n",
    "        \n",
    "r = retunr_yeild()\n",
    "print(next(r))\n",
    "print(next(r))\n",
    "print(next(r))\n",
    "print(next(r))\n",
    "print(next(r))\n",
    "\n",
    "\n",
    "\n"
   ]
  },
  {
   "cell_type": "code",
   "execution_count": 20,
   "metadata": {
    "collapsed": false,
    "deletable": true,
    "editable": true
   },
   "outputs": [
    {
     "name": "stdout",
     "output_type": "stream",
     "text": [
      "7  54  37  4  29  94  14  64  11  40  \n",
      "40  11  64  14  94  29  4  37  54  7  "
     ]
    }
   ],
   "source": [
    "from __future__ import print_function\n",
    "from random import randint\n",
    "\n",
    "class Count(object):\n",
    "    def __init__(self,n):\n",
    "        self.n = n \n",
    "    def __iter__(self):\n",
    "        n = 0\n",
    "        while n<len(self.n):\n",
    "            yield self.n[n]\n",
    "            n = n +1 \n",
    "    def __reversed__(self):\n",
    "        n = len(self.n)\n",
    "        while n>0:\n",
    "            yield self.n[n-1]\n",
    "            n = n-1 \n",
    "            \n",
    "            \n",
    "c = Count([randint(1,100) for _ in range(10)])\n",
    "for i in c:\n",
    "    print(i,end='  ')\n",
    "print(\"\")\n",
    "for i in reversed(c):\n",
    "    print(i,end='  ')"
   ]
  },
  {
   "cell_type": "code",
   "execution_count": 24,
   "metadata": {
    "collapsed": false,
    "deletable": true,
    "editable": true
   },
   "outputs": [
    {
     "name": "stdout",
     "output_type": "stream",
     "text": [
      "received message:Hello Wolrd\n",
      "Over\n"
     ]
    }
   ],
   "source": [
    "def deal():\n",
    "    message = yield \n",
    "    print(\"received message:{}\".format(message))\n",
    "    \n",
    "try:\n",
    "    a = deal()\n",
    "#     next(a)\n",
    "    a.send(None)\n",
    "    a.send(\"Hello Wolrd\")\n",
    "except StopIteration:\n",
    "    print(\"Over\")"
   ]
  },
  {
   "cell_type": "code",
   "execution_count": 37,
   "metadata": {
    "collapsed": false,
    "deletable": true,
    "editable": true
   },
   "outputs": [
    {
     "name": "stdout",
     "output_type": "stream",
     "text": [
      "5678\n",
      "raise value error\n",
      "over\n",
      "------------------\n",
      "5678\n",
      "raise value error\n",
      "over1\n"
     ]
    }
   ],
   "source": [
    "def return_yield():\n",
    "    try:\n",
    "        yield 5678\n",
    "    except ValueError:\n",
    "        print(\"raise value error\")\n",
    "    \n",
    "a = return_yield()\n",
    "try:\n",
    "    print(next(a)) \n",
    "    a.throw(ValueError)\n",
    "except StopIteration:\n",
    "    print(\"over\")\n",
    "    \n",
    "def from_yield():\n",
    "    yield from return_yield()\n",
    "print(\"------------------\")\n",
    "a =from_yield()\n",
    "try:\n",
    "    print(next(a))\n",
    "\n",
    "#     next(a)\n",
    "    a.throw(ValueError)\n",
    "except StopIteration:\n",
    "    print(\"over1\")"
   ]
  },
  {
   "cell_type": "code",
   "execution_count": 47,
   "metadata": {
    "collapsed": false,
    "deletable": true,
    "editable": true
   },
   "outputs": [
    {
     "name": "stdout",
     "output_type": "stream",
     "text": [
      "GEN_CREATED\n",
      "0\n",
      "1\n",
      "GEN_SUSPENDED\n",
      "2\n",
      "3\n",
      "4\n",
      "GEN_CLOSED\n",
      "-----------------------\n",
      "GEN_CREATED\n",
      "0\n",
      "1\n",
      "GEN_SUSPENDED\n",
      "GEN_CLOSED\n"
     ]
    }
   ],
   "source": [
    "import inspect\n",
    "def return_yeild():\n",
    "    yield from range(5)\n",
    "def yield_from():\n",
    "    yield from return_yeild()\n",
    "\n",
    "a = yield_from()\n",
    "print(inspect.getgeneratorstate(a))\n",
    "try:\n",
    "    print(next(a))\n",
    "    print(next(a))\n",
    "    print(inspect.getgeneratorstate(a))\n",
    "    print(next(a))\n",
    "    print(next(a))\n",
    "    print(next(a))\n",
    "    print(next(a))\n",
    "except StopIteration:\n",
    "    print(inspect.getgeneratorstate(a))\n",
    "print('-----------------------')\n",
    "a = yield_from()\n",
    "print(inspect.getgeneratorstate(a))\n",
    "print(next(a))\n",
    "print(next(a))\n",
    "print(inspect.getgeneratorstate(a))\n",
    "a.close()\n",
    "print(inspect.getgeneratorstate(a))"
   ]
  },
  {
   "cell_type": "code",
   "execution_count": 50,
   "metadata": {
    "collapsed": false,
    "deletable": true,
    "editable": true
   },
   "outputs": [
    {
     "name": "stdout",
     "output_type": "stream",
     "text": [
      "4.5\n"
     ]
    }
   ],
   "source": [
    "def sum_and_aver():\n",
    "    total = 0\n",
    "    num = 0\n",
    "    aver = 0\n",
    "    while True:\n",
    "        val = yield \n",
    "        if not val:\n",
    "            break\n",
    "        total += val \n",
    "        num += 1 \n",
    "        aver = total/1.0/num \n",
    "    return aver \n",
    "\n",
    "a = sum_and_aver()\n",
    "a.send(None)\n",
    "a.send(5)\n",
    "a.send(4)\n",
    "try:\n",
    "    a.send(None)\n",
    "except StopIteration as e:\n",
    "    print(e.value)\n",
    "    \n",
    "    "
   ]
  },
  {
   "cell_type": "code",
   "execution_count": 54,
   "metadata": {
    "collapsed": false,
    "deletable": true,
    "editable": true
   },
   "outputs": [
    {
     "name": "stdout",
     "output_type": "stream",
     "text": [
      "[0, 1, 2, 3, 4]\n",
      "1223\n"
     ]
    }
   ],
   "source": [
    "def return_yield():\n",
    "    yield list(range(5))\n",
    "\n",
    "def yield_from():\n",
    "    yield from return_yield()\n",
    "    return 1223\n",
    "a = yield_from()\n",
    "try:\n",
    "    print(next(a))\n",
    "    print(next(a))d\n",
    "except StopIteration as e:\n",
    "    print(e.value)\n",
    "    \n"
   ]
  },
  {
   "cell_type": "code",
   "execution_count": 58,
   "metadata": {
    "collapsed": false,
    "deletable": true,
    "editable": true
   },
   "outputs": [
    {
     "name": "stdout",
     "output_type": "stream",
     "text": [
      "['a', 'b', '1', '2', '3']\n",
      "['a', 'b', '1', '2', '3']\n"
     ]
    }
   ],
   "source": [
    "def chain1():\n",
    "    for i in \"ab\":\n",
    "        yield i \n",
    "    for i in \"123\":\n",
    "        yield i \n",
    "a = list(chain1())\n",
    "print(a)\n",
    "\n",
    "def chain2():\n",
    "    yield from \"ab\"\n",
    "    yield from \"123\"\n",
    "a = list(chain2())\n",
    "print(a)"
   ]
  },
  {
   "cell_type": "code",
   "execution_count": null,
   "metadata": {
    "collapsed": false,
    "deletable": true,
    "editable": true
   },
   "outputs": [],
   "source": [
    "import inspect\n",
    "\n",
    "\n",
    "def fun(n):\n",
    "    for i in range(1,n):\n",
    "        yield i\n",
    "\n",
    "\n",
    "EXP = fun(30)\n",
    "print(inspect.isgenerator(EXP))\n",
    "\n",
    "\n",
    "def deal_gen():\n",
    "    # _i = iter(EXP)\n",
    "    _i = EXP\n",
    "    while True:\n",
    "        try:\n",
    "            _g = next(_i)\n",
    "            print(\"_g:\", _g)\n",
    "        except StopIteration as e:\n",
    "            RES = e.value\n",
    "        else:\n",
    "            while True:\n",
    "                _s = yield _g\n",
    "                print(\"_s:\",_s)\n",
    "                try:\n",
    "                    _g = _i.send(_s)\n",
    "                    print(\"_g:\",_g)\n",
    "                except StopIteration as _e :\n",
    "                    RES = _e.value\n",
    "                    break\n",
    "\n",
    "\n",
    "#yield from iterable本质上等于for item in iterable: yield item的缩写版\n",
    "d = deal_gen()\n",
    "next(d)\n",
    "next(d)\n",
    "next(d)\n",
    "next(d)\n",
    "next(d)\n",
    "print('----------------------------')\n",
    "\n",
    "EXP = fun(10)\n",
    "def deal_gen1():\n",
    "    RES = yield from EXP\n",
    "\n",
    "f = deal_gen1()\n",
    "print(next(f))\n",
    "print(next(f))\n"
   ]
  },
  {
   "cell_type": "code",
   "execution_count": null,
   "metadata": {
    "collapsed": true,
    "deletable": true,
    "editable": true
   },
   "outputs": [],
   "source": [
    "def test_return_num():\n",
    "    for i in range(1,3):\n",
    "        yield i \n",
    "    return \"123123\"\n",
    "\n",
    "\n",
    "a =test_return_num()\n",
    "try:\n",
    "    next(a)\n",
    "    next(a)\n",
    "    next(a)\n",
    "    next(a)\n",
    "    next(a)\n",
    "except Stop"
   ]
  },
  {
   "cell_type": "code",
   "execution_count": null,
   "metadata": {
    "collapsed": true,
    "deletable": true,
    "editable": true
   },
   "outputs": [],
   "source": [
    "from threading import Thread\n",
    "from queue import Queue\n",
    "from random import random\n",
    "\n",
    "def Produce(queue):\n",
    "    \n",
    "    while True:\n",
    "        put_x = random()*5\n",
    "        print(\"Procude x is:%s\" %put_x)\n",
    "        queue.put(put_x)\n",
    "\n",
    "def Consumer(queue):\n",
    "    while True:\n",
    "        get_x = queue.get()\n",
    "        print(\"Consumer x is:%s\" % get_x)\n",
    "        queue.task_done()\n",
    "print(\"ok\")\n",
    "q = Queue()\n",
    "t1 = Thread(target=Produce,args=(q,))\n",
    "t2 = Thread(target=Consumer,args=(q,))\n",
    "t1.start()\n",
    "t2.start()\n"
   ]
  },
  {
   "cell_type": "code",
   "execution_count": 2,
   "metadata": {
    "collapsed": false,
    "deletable": true,
    "editable": true
   },
   "outputs": [
    {
     "name": "stdout",
     "output_type": "stream",
     "text": [
      "4\n",
      "5\n",
      "café\n"
     ]
    }
   ],
   "source": [
    "s = 'café'\n",
    "print(len(s))\n",
    "b = s.encode('utf-8')\n",
    "print(len(b))\n",
    "print(b.decode('utf-8'))"
   ]
  },
  {
   "cell_type": "markdown",
   "metadata": {
    "deletable": true,
    "editable": true
   },
   "source": [
    "#str unicode \n",
    "\n",
    "Python 3 str是一个新的名字的Python 2 unicode类型\n",
    "\n",
    "Python 3 str == Python 2 unicode\n",
    "\n",
    "Python 3 bytes 不是简单的Python 2 str重命名，而且还有紧密的相关bytearray类型。\n",
    "\n",
    "Python 3 bytes != Python 2 str \n",
    "\n"
   ]
  },
  {
   "cell_type": "code",
   "execution_count": 9,
   "metadata": {
    "collapsed": false,
    "deletable": true,
    "editable": true
   },
   "outputs": [
    {
     "name": "stdout",
     "output_type": "stream",
     "text": [
      "<class 'bytes'>\n",
      "b'caf\\xc3\\xa9'\n",
      "99\n",
      "97\n",
      "102\n",
      "195\n",
      "169\n",
      "99\n",
      "bytearray(b'caf\\xc3\\xa9')\n",
      "bytearray(b'\\xa9')\n"
     ]
    }
   ],
   "source": [
    "\n",
    "cafe = bytes('café', encoding='utf_8')\n",
    "#bytes can be built from a str, given an encoding\n",
    "print(type(cafe))\n",
    "print(cafe)\n",
    "for i in cafe:\n",
    "    print(i)\n",
    "print(cafe[0])\n",
    "cafe_arr = bytearray(cafe)\n",
    "print(cafe_arr)\n",
    "print(cafe_arr[-1:])\n"
   ]
  },
  {
   "cell_type": "code",
   "execution_count": 10,
   "metadata": {
    "collapsed": false,
    "deletable": true,
    "editable": true
   },
   "outputs": [
    {
     "data": {
      "text/plain": [
       "b'1K\\xce\\xa9'"
      ]
     },
     "execution_count": 10,
     "metadata": {},
     "output_type": "execute_result"
    }
   ],
   "source": [
    "bytes.fromhex(\"31 4B CE A9\")"
   ]
  },
  {
   "cell_type": "code",
   "execution_count": 12,
   "metadata": {
    "collapsed": false,
    "deletable": true,
    "editable": true
   },
   "outputs": [
    {
     "name": "stdout",
     "output_type": "stream",
     "text": [
      "array('h', [-2, -1, 0, 1, 2])\n",
      "b'\\xfe\\xff\\xff\\xff\\x00\\x00\\x01\\x00\\x02\\x00'\n"
     ]
    }
   ],
   "source": [
    "import array \n",
    "numbers = array.array('h',[-2,-1,0,1,2])\n",
    "print(numbers)\n",
    "octets = bytes(numbers)\n",
    "print(octets)"
   ]
  },
  {
   "cell_type": "code",
   "execution_count": 18,
   "metadata": {
    "collapsed": false,
    "deletable": true,
    "editable": true
   },
   "outputs": [
    {
     "name": "stdout",
     "output_type": "stream",
     "text": [
      "(b'{\"s', b'tat', 29557, 14882)\n"
     ]
    }
   ],
   "source": [
    "import struct\n",
    "#3s3s two sequences of 3 bytes; HH two 16-bit\n",
    "format_data = \"3s3sHH\"\n",
    "with open(\"data.txt\",'rb') as f:\n",
    "    data = memoryview(f.read(10))\n",
    "\n",
    "a = struct.unpack(format_data,data)\n",
    "print(a)\n",
    "del a \n",
    "\n"
   ]
  },
  {
   "cell_type": "markdown",
   "metadata": {
    "deletable": true,
    "editable": true
   },
   "source": [
    "memoryview将二进制数据存放在内存中，可以处理一些大型的数据\n",
    "必须支持缓存协议。内建对象中支持缓存协议的包括str和bytearray,但是不包括unicode"
   ]
  },
  {
   "cell_type": "code",
   "execution_count": 25,
   "metadata": {
    "collapsed": false,
    "deletable": true,
    "editable": true
   },
   "outputs": [
    {
     "name": "stdout",
     "output_type": "stream",
     "text": [
      "bytes 100000 0.18249988555908203\n",
      "bytes 200000 0.6760001182556152\n",
      "bytes 300000 1.7179999351501465\n",
      "bytes 400000 3.200500011444092\n",
      "memoryview 100000 0.015500068664550781\n",
      "memoryview 200000 0.03299999237060547\n",
      "memoryview 300000 0.04850006103515625\n",
      "memoryview 400000 0.06500005722045898\n"
     ]
    }
   ],
   "source": [
    "import time\n",
    "for n in (100000, 200000, 300000, 400000):\n",
    "    data = 'x'*n\n",
    "    start = time.time()\n",
    "    b = data\n",
    "    while b:\n",
    "        b = b[1:]\n",
    "    print('bytes', n, time.time()-start)\n",
    "\n",
    "for n in (100000, 200000, 300000, 400000):\n",
    "    data=b\"x\"*n\n",
    "    start = time.time()\n",
    "    b = memoryview(data)\n",
    "    while b:\n",
    "        b = b[1:]\n",
    "    print('memoryview', n, time.time()-start)"
   ]
  },
  {
   "cell_type": "code",
   "execution_count": 31,
   "metadata": {
    "collapsed": false,
    "deletable": true,
    "editable": true
   },
   "outputs": [
    {
     "name": "stdout",
     "output_type": "stream",
     "text": [
      "latin1\tb'El Ni\\xf1o'\n",
      "utf-8\tb'El Ni\\xc3\\xb1o'\n",
      "utf-16\tb'\\xff\\xfeE\\x00l\\x00 \\x00N\\x00i\\x00\\xf1\\x00o\\x00'\n"
     ]
    }
   ],
   "source": [
    "for code in ['latin1','utf-8','utf-16']:\n",
    "    print(code,'El Niño'.encode(code),sep='\\t')"
   ]
  },
  {
   "cell_type": "markdown",
   "metadata": {
    "deletable": true,
    "editable": true
   },
   "source": [
    "UnicodeEncodeError when converting str to binary sequences \n",
    "\n",
    "UnicodeDecodeError when reading binary sequences into str."
   ]
  },
  {
   "cell_type": "code",
   "execution_count": 41,
   "metadata": {
    "collapsed": false,
    "deletable": true,
    "editable": true
   },
   "outputs": [
    {
     "name": "stdout",
     "output_type": "stream",
     "text": [
      "<class 'str'>\n",
      "b'S\\xc3\\xa3o Paulo'\n",
      "b'\\xff\\xfeS\\x00\\xe3\\x00o\\x00 \\x00P\\x00a\\x00u\\x00l\\x00o\\x00'\n",
      "b'S\\xe3o Paulo'\n",
      "b'So Paulo'\n",
      "b'S?o Paulo'\n",
      "b'S&#227;o Paulo'\n"
     ]
    }
   ],
   "source": [
    "import chardet\n",
    "city = 'São Paulo'\n",
    "# chardet.detect(city)\n",
    "print(type(city))\n",
    "print(city.encode('utf-8'))\n",
    "print(city.encode('utf-16'))\n",
    "print(city.encode('iso8859_1'))\n",
    "# print(city.encode('cp437'))\n",
    "print(city.encode('cp437',errors='ignore'))\n",
    "print(city.encode('cp437',errors='replace'))\n",
    "print(city.encode('cp437',errors='xmlcharrefreplace'))"
   ]
  },
  {
   "cell_type": "code",
   "execution_count": 5,
   "metadata": {
    "collapsed": false,
    "deletable": true,
    "editable": true
   },
   "outputs": [
    {
     "name": "stdout",
     "output_type": "stream",
     "text": [
      "10\n",
      "55\n"
     ]
    }
   ],
   "source": [
    "def fib(self,n):\n",
    "    return fib(self,n-1)+fib(self,n-2) if n>2 else 1\n",
    "#     if n <=2:\n",
    "#         return 1 \n",
    "#     return fib(self,n-1)+fib(self,n-2)\n",
    "\n",
    "Fib = type(\"Fib\",(object,),{'val':10,'fib':fib})\n",
    "f= Fib()\n",
    "print(f.val)\n",
    "print(f.fib(f.val))"
   ]
  },
  {
   "cell_type": "code",
   "execution_count": 7,
   "metadata": {
    "collapsed": false,
    "deletable": true,
    "editable": true
   },
   "outputs": [
    {
     "data": {
      "text/plain": [
       "55"
      ]
     },
     "execution_count": 7,
     "metadata": {},
     "output_type": "execute_result"
    }
   ],
   "source": [
    "class Fib(object):\n",
    "    def __init__(self,val=10):\n",
    "        self.val =val\n",
    "    def fib(self,n):\n",
    "        if n<=2:\n",
    "            return 1\n",
    "        return fib(self,n-1)+fib(self,n-2)\n",
    "f = Fib()\n",
    "f.fib(f.val)"
   ]
  },
  {
   "cell_type": "code",
   "execution_count": null,
   "metadata": {
    "collapsed": false,
    "deletable": true,
    "editable": true
   },
   "outputs": [],
   "source": [
    "import socket\n",
    "\n",
    "class Socket(object):\n",
    "    def __init__(self,host,port):\n",
    "        self.host = host \n",
    "        self.port =port\n",
    "    \n",
    "    def __enter__(self):\n",
    "        s = socket.socket(socket.AF_INET,socket.SOCK_STREAM)\n",
    "        s.bind((self.host,self.port))\n",
    "        s.listen(5)\n",
    "        self.sock =s \n",
    "        return self.sock\n",
    "    \n",
    "    def __exit__(self,*exc_info):\n",
    "        \n",
    "        if exc_info[0] is not None:\n",
    "            import traceback\n",
    "            traceback.print_exception(*exc_info)\n",
    "        self.sock.close()\n",
    "        \n",
    "if __name__==\"__main__\":\n",
    "    host = \"localhost\"\n",
    "    port = 5566\n",
    "    with Socket(host,port) as s:\n",
    "        while True:\n",
    "            conn,addr = s.accept()\n",
    "            msg = conn.recv(1024)\n",
    "            print(msg)\n",
    "            conn.send(msg)\n",
    "            conn.close()\n",
    "        \n",
    "        "
   ]
  },
  {
   "cell_type": "code",
   "execution_count": 1,
   "metadata": {
    "collapsed": false,
    "deletable": true,
    "editable": true
   },
   "outputs": [
    {
     "name": "stdout",
     "output_type": "stream",
     "text": [
      "#ipynb_books\n",
      "#read and learn to develop\n",
      "\n"
     ]
    }
   ],
   "source": [
    "from contextlib import contextmanager\n",
    "\n",
    "@contextmanager\n",
    "def opening(filename,mode='r'):\n",
    "    f = open(filename,mode)\n",
    "    try:\n",
    "        yield f \n",
    "    finally:\n",
    "        f.close()\n",
    "        \n",
    "with opening('README.md') as f:\n",
    "    print(f.read())\n",
    "    "
   ]
  },
  {
   "cell_type": "code",
   "execution_count": 14,
   "metadata": {
    "collapsed": false,
    "deletable": true,
    "editable": true
   },
   "outputs": [
    {
     "name": "stdout",
     "output_type": "stream",
     "text": [
      "10\n"
     ]
    },
    {
     "ename": "ValueError",
     "evalue": "the value must is int",
     "output_type": "error",
     "traceback": [
      "\u001b[0;31m---------------------------------------------------------------------------\u001b[0m",
      "\u001b[0;31mValueError\u001b[0m                                Traceback (most recent call last)",
      "\u001b[0;32m<ipython-input-14-b296b4b1af8b>\u001b[0m in \u001b[0;36m<module>\u001b[0;34m()\u001b[0m\n\u001b[1;32m     17\u001b[0m \u001b[0ma\u001b[0m \u001b[0;34m=\u001b[0m \u001b[0mExample\u001b[0m\u001b[0;34m(\u001b[0m\u001b[0;36m10\u001b[0m\u001b[0;34m)\u001b[0m\u001b[0;34m\u001b[0m\u001b[0m\n\u001b[1;32m     18\u001b[0m \u001b[0mprint\u001b[0m\u001b[0;34m(\u001b[0m\u001b[0ma\u001b[0m\u001b[0;34m.\u001b[0m\u001b[0m_val\u001b[0m\u001b[0;34m)\u001b[0m\u001b[0;34m\u001b[0m\u001b[0m\n\u001b[0;32m---> 19\u001b[0;31m \u001b[0ma\u001b[0m\u001b[0;34m.\u001b[0m\u001b[0mval\u001b[0m \u001b[0;34m=\u001b[0m \u001b[0;34m'12'\u001b[0m\u001b[0;34m\u001b[0m\u001b[0m\n\u001b[0m\u001b[1;32m     20\u001b[0m \u001b[0mprint\u001b[0m\u001b[0;34m(\u001b[0m\u001b[0ma\u001b[0m\u001b[0;34m.\u001b[0m\u001b[0m_val\u001b[0m\u001b[0;34m)\u001b[0m\u001b[0;34m\u001b[0m\u001b[0m\n\u001b[1;32m     21\u001b[0m \u001b[0;32mdel\u001b[0m \u001b[0ma\u001b[0m\u001b[0;34m.\u001b[0m\u001b[0mval\u001b[0m\u001b[0;34m\u001b[0m\u001b[0m\n",
      "\u001b[0;32m<ipython-input-14-b296b4b1af8b>\u001b[0m in \u001b[0;36mval\u001b[0;34m(self, value)\u001b[0m\n\u001b[1;32m     10\u001b[0m     \u001b[0;32mdef\u001b[0m \u001b[0mval\u001b[0m\u001b[0;34m(\u001b[0m\u001b[0mself\u001b[0m\u001b[0;34m,\u001b[0m\u001b[0mvalue\u001b[0m\u001b[0;34m)\u001b[0m\u001b[0;34m:\u001b[0m\u001b[0;34m\u001b[0m\u001b[0m\n\u001b[1;32m     11\u001b[0m         \u001b[0;32mif\u001b[0m \u001b[0;32mnot\u001b[0m \u001b[0misinstance\u001b[0m\u001b[0;34m(\u001b[0m\u001b[0mvalue\u001b[0m\u001b[0;34m,\u001b[0m\u001b[0mint\u001b[0m\u001b[0;34m)\u001b[0m\u001b[0;34m:\u001b[0m\u001b[0;34m\u001b[0m\u001b[0m\n\u001b[0;32m---> 12\u001b[0;31m             \u001b[0;32mraise\u001b[0m \u001b[0mValueError\u001b[0m\u001b[0;34m(\u001b[0m\u001b[0;34m'the value must is int'\u001b[0m\u001b[0;34m)\u001b[0m\u001b[0;34m\u001b[0m\u001b[0m\n\u001b[0m\u001b[1;32m     13\u001b[0m         \u001b[0mself\u001b[0m\u001b[0;34m.\u001b[0m\u001b[0m_val\u001b[0m \u001b[0;34m=\u001b[0m \u001b[0mvalue\u001b[0m\u001b[0;34m\u001b[0m\u001b[0m\n\u001b[1;32m     14\u001b[0m     \u001b[0;34m@\u001b[0m\u001b[0mval\u001b[0m\u001b[0;34m.\u001b[0m\u001b[0mdeleter\u001b[0m\u001b[0;34m\u001b[0m\u001b[0m\n",
      "\u001b[0;31mValueError\u001b[0m: the value must is int"
     ]
    }
   ],
   "source": [
    "class Example(object):\n",
    "    def __init__(self,value):\n",
    "        self._val = value \n",
    "    \n",
    "    @property\n",
    "    def val(self):\n",
    "        return self._val\n",
    "\n",
    "    @val.setter\n",
    "    def val(self,value):\n",
    "        if not isinstance(value,int):\n",
    "            raise TypeError('the value must is int')\n",
    "        self._val = value\n",
    "    @val.deleter\n",
    "    def val(self):\n",
    "        del self._val\n",
    "a = Example(10)\n",
    "print(a._val)\n",
    "a.val = 12\n",
    "print(a._val)\n",
    "del a.val\n",
    "# print(a.val)"
   ]
  },
  {
   "cell_type": "code",
   "execution_count": 13,
   "metadata": {
    "collapsed": false,
    "deletable": true,
    "editable": true
   },
   "outputs": [
    {
     "name": "stdout",
     "output_type": "stream",
     "text": [
      "1\n"
     ]
    },
    {
     "ename": "TypeError",
     "evalue": "the value is must int",
     "output_type": "error",
     "traceback": [
      "\u001b[0;31m---------------------------------------------------------------------------\u001b[0m",
      "\u001b[0;31mTypeError\u001b[0m                                 Traceback (most recent call last)",
      "\u001b[0;32m<ipython-input-13-8cd4dff1d9b7>\u001b[0m in \u001b[0;36m<module>\u001b[0;34m()\u001b[0m\n\u001b[1;32m     24\u001b[0m \u001b[0me\u001b[0m \u001b[0;34m=\u001b[0m \u001b[0mExample\u001b[0m\u001b[0;34m(\u001b[0m\u001b[0;36m1\u001b[0m\u001b[0;34m)\u001b[0m\u001b[0;34m\u001b[0m\u001b[0m\n\u001b[1;32m     25\u001b[0m \u001b[0mprint\u001b[0m\u001b[0;34m(\u001b[0m\u001b[0me\u001b[0m\u001b[0;34m.\u001b[0m\u001b[0mx\u001b[0m\u001b[0;34m)\u001b[0m\u001b[0;34m\u001b[0m\u001b[0m\n\u001b[0;32m---> 26\u001b[0;31m \u001b[0me1\u001b[0m \u001b[0;34m=\u001b[0m \u001b[0mExample\u001b[0m\u001b[0;34m(\u001b[0m\u001b[0;34m'1'\u001b[0m\u001b[0;34m)\u001b[0m\u001b[0;34m\u001b[0m\u001b[0m\n\u001b[0m\u001b[1;32m     27\u001b[0m \u001b[0mprint\u001b[0m\u001b[0;34m(\u001b[0m\u001b[0me1\u001b[0m\u001b[0;34m.\u001b[0m\u001b[0mx\u001b[0m\u001b[0;34m)\u001b[0m\u001b[0;34m\u001b[0m\u001b[0m\n",
      "\u001b[0;32m<ipython-input-13-8cd4dff1d9b7>\u001b[0m in \u001b[0;36m__init__\u001b[0;34m(self, val)\u001b[0m\n\u001b[1;32m     20\u001b[0m     \u001b[0mx\u001b[0m \u001b[0;34m=\u001b[0m \u001b[0mInterge\u001b[0m\u001b[0;34m(\u001b[0m\u001b[0;34m'x'\u001b[0m\u001b[0;34m)\u001b[0m\u001b[0;34m\u001b[0m\u001b[0m\n\u001b[1;32m     21\u001b[0m     \u001b[0;32mdef\u001b[0m \u001b[0m__init__\u001b[0m\u001b[0;34m(\u001b[0m\u001b[0mself\u001b[0m\u001b[0;34m,\u001b[0m\u001b[0mval\u001b[0m\u001b[0;34m)\u001b[0m\u001b[0;34m:\u001b[0m\u001b[0;34m\u001b[0m\u001b[0m\n\u001b[0;32m---> 22\u001b[0;31m         \u001b[0mself\u001b[0m\u001b[0;34m.\u001b[0m\u001b[0mx\u001b[0m\u001b[0;34m=\u001b[0m \u001b[0mval\u001b[0m\u001b[0;34m\u001b[0m\u001b[0m\n\u001b[0m\u001b[1;32m     23\u001b[0m \u001b[0;34m\u001b[0m\u001b[0m\n\u001b[1;32m     24\u001b[0m \u001b[0me\u001b[0m \u001b[0;34m=\u001b[0m \u001b[0mExample\u001b[0m\u001b[0;34m(\u001b[0m\u001b[0;36m1\u001b[0m\u001b[0;34m)\u001b[0m\u001b[0;34m\u001b[0m\u001b[0m\n",
      "\u001b[0;32m<ipython-input-13-8cd4dff1d9b7>\u001b[0m in \u001b[0;36m__set__\u001b[0;34m(self, inst, value)\u001b[0m\n\u001b[1;32m      6\u001b[0m     \u001b[0;32mdef\u001b[0m \u001b[0m__set__\u001b[0m\u001b[0;34m(\u001b[0m\u001b[0mself\u001b[0m\u001b[0;34m,\u001b[0m\u001b[0minst\u001b[0m\u001b[0;34m,\u001b[0m\u001b[0mvalue\u001b[0m\u001b[0;34m)\u001b[0m\u001b[0;34m:\u001b[0m\u001b[0;34m\u001b[0m\u001b[0m\n\u001b[1;32m      7\u001b[0m         \u001b[0;32mif\u001b[0m \u001b[0;32mnot\u001b[0m \u001b[0misinstance\u001b[0m\u001b[0;34m(\u001b[0m\u001b[0mvalue\u001b[0m\u001b[0;34m,\u001b[0m\u001b[0mint\u001b[0m\u001b[0;34m)\u001b[0m\u001b[0;34m:\u001b[0m\u001b[0;34m\u001b[0m\u001b[0m\n\u001b[0;32m----> 8\u001b[0;31m             \u001b[0;32mraise\u001b[0m \u001b[0mTypeError\u001b[0m\u001b[0;34m(\u001b[0m\u001b[0;34m\"the value is must int\"\u001b[0m\u001b[0;34m)\u001b[0m\u001b[0;34m\u001b[0m\u001b[0m\n\u001b[0m\u001b[1;32m      9\u001b[0m         \u001b[0minst\u001b[0m\u001b[0;34m.\u001b[0m\u001b[0m__dict__\u001b[0m\u001b[0;34m[\u001b[0m\u001b[0mself\u001b[0m\u001b[0;34m.\u001b[0m\u001b[0mname\u001b[0m\u001b[0;34m]\u001b[0m\u001b[0;34m=\u001b[0m\u001b[0mvalue\u001b[0m\u001b[0;34m\u001b[0m\u001b[0m\n\u001b[1;32m     10\u001b[0m     \u001b[0;32mdef\u001b[0m \u001b[0m__get__\u001b[0m\u001b[0;34m(\u001b[0m\u001b[0mself\u001b[0m\u001b[0;34m,\u001b[0m\u001b[0minst\u001b[0m\u001b[0;34m,\u001b[0m\u001b[0mcls\u001b[0m\u001b[0;34m)\u001b[0m\u001b[0;34m:\u001b[0m\u001b[0;34m\u001b[0m\u001b[0m\n",
      "\u001b[0;31mTypeError\u001b[0m: the value is must int"
     ]
    }
   ],
   "source": [
    "class Interge(object):\n",
    "    \n",
    "    def __init__(self,name):\n",
    "        self.name = name\n",
    "        \n",
    "    def __set__(self,inst,value):\n",
    "        if not isinstance(value,int):\n",
    "            raise TypeError(\"the value is must int\")\n",
    "        inst.__dict__[self.name]=value\n",
    "    def __get__(self,inst,cls):\n",
    "        if not inst:\n",
    "            return self \n",
    "        return inst.__dict__[self.name]\n",
    "    \n",
    "    def __delete__(self,inst):\n",
    "        del inst.__dict__[self.name]\n",
    "# a = Interge(1)\n",
    "\n",
    "class Example(object):\n",
    "    x = Interge('x')\n",
    "    def __init__(self,val):\n",
    "        self.x= val\n",
    "    \n",
    "e = Example(1)\n",
    "print(e.x)\n",
    "e1 = Example('1')\n",
    "print(e1.x)"
   ]
  },
  {
   "cell_type": "code",
   "execution_count": 4,
   "metadata": {
    "collapsed": false,
    "deletable": true,
    "editable": true
   },
   "outputs": [
    {
     "name": "stdout",
     "output_type": "stream",
     "text": [
      "['foo bar baz']\n",
      "['foo bar baz']\n"
     ]
    }
   ],
   "source": [
    "import csv\n",
    "try: \n",
    "    from StringIO import StringIO\n",
    "except ImportError:\n",
    "    from io import StringIO\n",
    "f = \"foo bar baz\"\n",
    "s = StringIO(f)\n",
    "for i in csv.reader(s):print(i)\n",
    "\n",
    "#csv 用来读数据兼容python2 python3 \n",
    "f = \"foo bar baz\"\n",
    "for i in csv.reader([f]):print(i)"
   ]
  },
  {
   "cell_type": "code",
   "execution_count": 2,
   "metadata": {
    "collapsed": false,
    "deletable": true,
    "editable": true
   },
   "outputs": [],
   "source": [
    "from __future__ import print_function\n",
    "import unittest\n",
    "\n",
    "class TestFoo(unittest.TestCase):\n",
    "    def test_foo(self):\n",
    "        self.assertTrue(True)\n",
    "    def fun_not_test(self):\n",
    "        pass \n",
    "    "
   ]
  },
  {
   "cell_type": "code",
   "execution_count": 11,
   "metadata": {
    "collapsed": false,
    "deletable": true,
    "editable": true
   },
   "outputs": [
    {
     "name": "stderr",
     "output_type": "stream",
     "text": [
      "E\n",
      "======================================================================\n",
      "ERROR: C:\\Users\\zxc\\AppData\\Roaming\\jupyter\\runtime\\kernel-86de8054-ee53-48bc-9207-6cef13f27aac (unittest.loader._FailedTest)\n",
      "----------------------------------------------------------------------\n",
      "AttributeError: module '__main__' has no attribute 'C:\\Users\\zxc\\AppData\\Roaming\\jupyter\\runtime\\kernel-86de8054-ee53-48bc-9207-6cef13f27aac'\n",
      "\n",
      "----------------------------------------------------------------------\n",
      "Ran 1 test in 0.002s\n",
      "\n",
      "FAILED (errors=1)\n"
     ]
    },
    {
     "ename": "SystemExit",
     "evalue": "True",
     "output_type": "error",
     "traceback": [
      "An exception has occurred, use %tb to see the full traceback.\n",
      "\u001b[0;31mSystemExit\u001b[0m\u001b[0;31m:\u001b[0m True\n"
     ]
    },
    {
     "ename": "TypeError",
     "evalue": "'level' is an invalid keyword argument for this function",
     "output_type": "error",
     "traceback": [
      "\u001b[0;31m---------------------------------------------------------------------------\u001b[0m",
      "\u001b[0;31mSystemExit\u001b[0m                                Traceback (most recent call last)",
      "\u001b[0;32md:\\python35\\lib\\site-packages\\IPython\\core\\interactiveshell.py\u001b[0m in \u001b[0;36mrun_code\u001b[0;34m(self, code_obj, result)\u001b[0m\n\u001b[1;32m   2868\u001b[0m                 \u001b[0;31m#rprint('Running code', repr(code_obj)) # dbg\u001b[0m\u001b[0;34m\u001b[0m\u001b[0;34m\u001b[0m\u001b[0m\n\u001b[0;32m-> 2869\u001b[0;31m                 \u001b[0mexec\u001b[0m\u001b[0;34m(\u001b[0m\u001b[0mcode_obj\u001b[0m\u001b[0;34m,\u001b[0m \u001b[0mself\u001b[0m\u001b[0;34m.\u001b[0m\u001b[0muser_global_ns\u001b[0m\u001b[0;34m,\u001b[0m \u001b[0mself\u001b[0m\u001b[0;34m.\u001b[0m\u001b[0muser_ns\u001b[0m\u001b[0;34m)\u001b[0m\u001b[0;34m\u001b[0m\u001b[0m\n\u001b[0m\u001b[1;32m   2870\u001b[0m             \u001b[0;32mfinally\u001b[0m\u001b[0;34m:\u001b[0m\u001b[0;34m\u001b[0m\u001b[0m\n",
      "\u001b[0;32m<ipython-input-11-a0780d162727>\u001b[0m in \u001b[0;36m<module>\u001b[0;34m()\u001b[0m\n\u001b[1;32m     34\u001b[0m \u001b[0;32mif\u001b[0m \u001b[0m__name__\u001b[0m\u001b[0;34m==\u001b[0m\u001b[0;34m\"__main__\"\u001b[0m\u001b[0;34m:\u001b[0m\u001b[0;34m\u001b[0m\u001b[0m\n\u001b[0;32m---> 35\u001b[0;31m     \u001b[0munittest\u001b[0m\u001b[0;34m.\u001b[0m\u001b[0mmain\u001b[0m\u001b[0;34m(\u001b[0m\u001b[0;34m)\u001b[0m\u001b[0;34m\u001b[0m\u001b[0m\n\u001b[0m\u001b[1;32m     36\u001b[0m \u001b[0;34m\u001b[0m\u001b[0m\n",
      "\u001b[0;32md:\\python35\\lib\\unittest\\main.py\u001b[0m in \u001b[0;36m__init__\u001b[0;34m(self, module, defaultTest, argv, testRunner, testLoader, exit, verbosity, failfast, catchbreak, buffer, warnings, tb_locals)\u001b[0m\n\u001b[1;32m     93\u001b[0m         \u001b[0mself\u001b[0m\u001b[0;34m.\u001b[0m\u001b[0mparseArgs\u001b[0m\u001b[0;34m(\u001b[0m\u001b[0margv\u001b[0m\u001b[0;34m)\u001b[0m\u001b[0;34m\u001b[0m\u001b[0m\n\u001b[0;32m---> 94\u001b[0;31m         \u001b[0mself\u001b[0m\u001b[0;34m.\u001b[0m\u001b[0mrunTests\u001b[0m\u001b[0;34m(\u001b[0m\u001b[0;34m)\u001b[0m\u001b[0;34m\u001b[0m\u001b[0m\n\u001b[0m\u001b[1;32m     95\u001b[0m \u001b[0;34m\u001b[0m\u001b[0m\n",
      "\u001b[0;32md:\\python35\\lib\\unittest\\main.py\u001b[0m in \u001b[0;36mrunTests\u001b[0;34m(self)\u001b[0m\n\u001b[1;32m    256\u001b[0m         \u001b[0;32mif\u001b[0m \u001b[0mself\u001b[0m\u001b[0;34m.\u001b[0m\u001b[0mexit\u001b[0m\u001b[0;34m:\u001b[0m\u001b[0;34m\u001b[0m\u001b[0m\n\u001b[0;32m--> 257\u001b[0;31m             \u001b[0msys\u001b[0m\u001b[0;34m.\u001b[0m\u001b[0mexit\u001b[0m\u001b[0;34m(\u001b[0m\u001b[0;32mnot\u001b[0m \u001b[0mself\u001b[0m\u001b[0;34m.\u001b[0m\u001b[0mresult\u001b[0m\u001b[0;34m.\u001b[0m\u001b[0mwasSuccessful\u001b[0m\u001b[0;34m(\u001b[0m\u001b[0;34m)\u001b[0m\u001b[0;34m)\u001b[0m\u001b[0;34m\u001b[0m\u001b[0m\n\u001b[0m\u001b[1;32m    258\u001b[0m \u001b[0;34m\u001b[0m\u001b[0m\n",
      "\u001b[0;31mSystemExit\u001b[0m: True",
      "\nDuring handling of the above exception, another exception occurred:\n",
      "\u001b[0;31mTypeError\u001b[0m                                 Traceback (most recent call last)",
      "\u001b[0;32md:\\python35\\lib\\site-packages\\IPython\\core\\interactiveshell.py\u001b[0m in \u001b[0;36mrun_code\u001b[0;34m(self, code_obj, result)\u001b[0m\n\u001b[1;32m   2875\u001b[0m                 \u001b[0mresult\u001b[0m\u001b[0;34m.\u001b[0m\u001b[0merror_in_exec\u001b[0m \u001b[0;34m=\u001b[0m \u001b[0me\u001b[0m\u001b[0;34m\u001b[0m\u001b[0m\n\u001b[1;32m   2876\u001b[0m             \u001b[0mself\u001b[0m\u001b[0;34m.\u001b[0m\u001b[0mshowtraceback\u001b[0m\u001b[0;34m(\u001b[0m\u001b[0mexception_only\u001b[0m\u001b[0;34m=\u001b[0m\u001b[0;32mTrue\u001b[0m\u001b[0;34m)\u001b[0m\u001b[0;34m\u001b[0m\u001b[0m\n\u001b[0;32m-> 2877\u001b[0;31m             \u001b[0mwarn\u001b[0m\u001b[0;34m(\u001b[0m\u001b[0;34m\"To exit: use 'exit', 'quit', or Ctrl-D.\"\u001b[0m\u001b[0;34m,\u001b[0m \u001b[0mlevel\u001b[0m\u001b[0;34m=\u001b[0m\u001b[0;36m1\u001b[0m\u001b[0;34m)\u001b[0m\u001b[0;34m\u001b[0m\u001b[0m\n\u001b[0m\u001b[1;32m   2878\u001b[0m         \u001b[0;32mexcept\u001b[0m \u001b[0mself\u001b[0m\u001b[0;34m.\u001b[0m\u001b[0mcustom_exceptions\u001b[0m\u001b[0;34m:\u001b[0m\u001b[0;34m\u001b[0m\u001b[0m\n\u001b[1;32m   2879\u001b[0m             \u001b[0metype\u001b[0m\u001b[0;34m,\u001b[0m \u001b[0mvalue\u001b[0m\u001b[0;34m,\u001b[0m \u001b[0mtb\u001b[0m \u001b[0;34m=\u001b[0m \u001b[0msys\u001b[0m\u001b[0;34m.\u001b[0m\u001b[0mexc_info\u001b[0m\u001b[0;34m(\u001b[0m\u001b[0;34m)\u001b[0m\u001b[0;34m\u001b[0m\u001b[0m\n",
      "\u001b[0;31mTypeError\u001b[0m: 'level' is an invalid keyword argument for this function"
     ]
    }
   ],
   "source": [
    "from __future__ import print_function\n",
    "import unittest\n",
    "\n",
    "def fib(n):\n",
    "    return 1 if n<=2 else fib(n-1)+fib(n-2)\n",
    "\n",
    "def setUpModule():\n",
    "        print(\"setup module\")\n",
    "def tearDownModule():\n",
    "        print(\"teardown module\")\n",
    "        \n",
    "class TestFib(unittest.TestCase):\n",
    "    \n",
    "    def setUp(self):\n",
    "        print(\"setup module\")\n",
    "        self.n =10\n",
    "    \n",
    "    def tearDown(self):\n",
    "        print(\"teardown module\")\n",
    "        del self.n\n",
    "    @classmethod\n",
    "    def setUpClass(cls):\n",
    "        print(\"setUpClass\")\n",
    "    @classmethod\n",
    "    def tearDownClass(cls):\n",
    "        print(\"tearDownClass\")\n",
    "    \n",
    "    def test_assert_true(self):\n",
    "        self.assertTrue(fib(self.n) == 55)\n",
    "        \n",
    "    def test_assert_equal(self):\n",
    "        self.assertEqual(fib(self.n),55)\n",
    "    \n",
    "if __name__==\"__main__\":\n",
    "    unittest.main()\n",
    "        \n",
    "    "
   ]
  },
  {
   "cell_type": "code",
   "execution_count": 10,
   "metadata": {
    "collapsed": false,
    "deletable": true,
    "editable": true
   },
   "outputs": [
    {
     "ename": "TypeError",
     "evalue": "'level' is an invalid keyword argument for this function",
     "output_type": "error",
     "traceback": [
      "\u001b[0;31m---------------------------------------------------------------------------\u001b[0m",
      "\u001b[0;31mSystemExit\u001b[0m                                Traceback (most recent call last)",
      "\u001b[0;32md:\\python35\\lib\\site-packages\\IPython\\core\\interactiveshell.py\u001b[0m in \u001b[0;36mrun_code\u001b[0;34m(self, code_obj, result)\u001b[0m\n\u001b[1;32m   2868\u001b[0m                 \u001b[0;31m#rprint('Running code', repr(code_obj)) # dbg\u001b[0m\u001b[0;34m\u001b[0m\u001b[0;34m\u001b[0m\u001b[0m\n\u001b[0;32m-> 2869\u001b[0;31m                 \u001b[0mexec\u001b[0m\u001b[0;34m(\u001b[0m\u001b[0mcode_obj\u001b[0m\u001b[0;34m,\u001b[0m \u001b[0mself\u001b[0m\u001b[0;34m.\u001b[0m\u001b[0muser_global_ns\u001b[0m\u001b[0;34m,\u001b[0m \u001b[0mself\u001b[0m\u001b[0;34m.\u001b[0m\u001b[0muser_ns\u001b[0m\u001b[0;34m)\u001b[0m\u001b[0;34m\u001b[0m\u001b[0m\n\u001b[0m\u001b[1;32m   2870\u001b[0m             \u001b[0;32mfinally\u001b[0m\u001b[0;34m:\u001b[0m\u001b[0;34m\u001b[0m\u001b[0m\n",
      "\u001b[0;32m<ipython-input-9-5333b0853be1>\u001b[0m in \u001b[0;36m<module>\u001b[0;34m()\u001b[0m\n\u001b[1;32m     23\u001b[0m \u001b[0;32mif\u001b[0m \u001b[0m__name__\u001b[0m\u001b[0;34m==\u001b[0m\u001b[0;34m\"__main__\"\u001b[0m\u001b[0;34m:\u001b[0m\u001b[0;34m\u001b[0m\u001b[0m\n\u001b[0;32m---> 24\u001b[0;31m     \u001b[0munittest\u001b[0m\u001b[0;34m.\u001b[0m\u001b[0mmain\u001b[0m\u001b[0;34m(\u001b[0m\u001b[0;34m)\u001b[0m\u001b[0;34m\u001b[0m\u001b[0m\n\u001b[0m\u001b[1;32m     25\u001b[0m \u001b[0;34m\u001b[0m\u001b[0m\n",
      "\u001b[0;32md:\\python35\\lib\\unittest\\main.py\u001b[0m in \u001b[0;36m__init__\u001b[0;34m(self, module, defaultTest, argv, testRunner, testLoader, exit, verbosity, failfast, catchbreak, buffer, warnings, tb_locals)\u001b[0m\n\u001b[1;32m     93\u001b[0m         \u001b[0mself\u001b[0m\u001b[0;34m.\u001b[0m\u001b[0mparseArgs\u001b[0m\u001b[0;34m(\u001b[0m\u001b[0margv\u001b[0m\u001b[0;34m)\u001b[0m\u001b[0;34m\u001b[0m\u001b[0m\n\u001b[0;32m---> 94\u001b[0;31m         \u001b[0mself\u001b[0m\u001b[0;34m.\u001b[0m\u001b[0mrunTests\u001b[0m\u001b[0;34m(\u001b[0m\u001b[0;34m)\u001b[0m\u001b[0;34m\u001b[0m\u001b[0m\n\u001b[0m\u001b[1;32m     95\u001b[0m \u001b[0;34m\u001b[0m\u001b[0m\n",
      "\u001b[0;32md:\\python35\\lib\\unittest\\main.py\u001b[0m in \u001b[0;36mrunTests\u001b[0;34m(self)\u001b[0m\n\u001b[1;32m    256\u001b[0m         \u001b[0;32mif\u001b[0m \u001b[0mself\u001b[0m\u001b[0;34m.\u001b[0m\u001b[0mexit\u001b[0m\u001b[0;34m:\u001b[0m\u001b[0;34m\u001b[0m\u001b[0m\n\u001b[0;32m--> 257\u001b[0;31m             \u001b[0msys\u001b[0m\u001b[0;34m.\u001b[0m\u001b[0mexit\u001b[0m\u001b[0;34m(\u001b[0m\u001b[0;32mnot\u001b[0m \u001b[0mself\u001b[0m\u001b[0;34m.\u001b[0m\u001b[0mresult\u001b[0m\u001b[0;34m.\u001b[0m\u001b[0mwasSuccessful\u001b[0m\u001b[0;34m(\u001b[0m\u001b[0;34m)\u001b[0m\u001b[0;34m)\u001b[0m\u001b[0;34m\u001b[0m\u001b[0m\n\u001b[0m\u001b[1;32m    258\u001b[0m \u001b[0;34m\u001b[0m\u001b[0m\n",
      "\u001b[0;31mSystemExit\u001b[0m: True",
      "\nDuring handling of the above exception, another exception occurred:\n",
      "\u001b[0;31mTypeError\u001b[0m                                 Traceback (most recent call last)",
      "\u001b[0;32md:\\python35\\lib\\site-packages\\IPython\\core\\interactiveshell.py\u001b[0m in \u001b[0;36mrun_code\u001b[0;34m(self, code_obj, result)\u001b[0m\n\u001b[1;32m   2875\u001b[0m                 \u001b[0mresult\u001b[0m\u001b[0;34m.\u001b[0m\u001b[0merror_in_exec\u001b[0m \u001b[0;34m=\u001b[0m \u001b[0me\u001b[0m\u001b[0;34m\u001b[0m\u001b[0m\n\u001b[1;32m   2876\u001b[0m             \u001b[0mself\u001b[0m\u001b[0;34m.\u001b[0m\u001b[0mshowtraceback\u001b[0m\u001b[0;34m(\u001b[0m\u001b[0mexception_only\u001b[0m\u001b[0;34m=\u001b[0m\u001b[0;32mTrue\u001b[0m\u001b[0;34m)\u001b[0m\u001b[0;34m\u001b[0m\u001b[0m\n\u001b[0;32m-> 2877\u001b[0;31m             \u001b[0mwarn\u001b[0m\u001b[0;34m(\u001b[0m\u001b[0;34m\"To exit: use 'exit', 'quit', or Ctrl-D.\"\u001b[0m\u001b[0;34m,\u001b[0m \u001b[0mlevel\u001b[0m\u001b[0;34m=\u001b[0m\u001b[0;36m1\u001b[0m\u001b[0;34m)\u001b[0m\u001b[0;34m\u001b[0m\u001b[0m\n\u001b[0m\u001b[1;32m   2878\u001b[0m         \u001b[0;32mexcept\u001b[0m \u001b[0mself\u001b[0m\u001b[0;34m.\u001b[0m\u001b[0mcustom_exceptions\u001b[0m\u001b[0;34m:\u001b[0m\u001b[0;34m\u001b[0m\u001b[0m\n\u001b[1;32m   2879\u001b[0m             \u001b[0metype\u001b[0m\u001b[0;34m,\u001b[0m \u001b[0mvalue\u001b[0m\u001b[0;34m,\u001b[0m \u001b[0mtb\u001b[0m \u001b[0;34m=\u001b[0m \u001b[0msys\u001b[0m\u001b[0;34m.\u001b[0m\u001b[0mexc_info\u001b[0m\u001b[0;34m(\u001b[0m\u001b[0;34m)\u001b[0m\u001b[0;34m\u001b[0m\u001b[0m\n",
      "\u001b[0;31mTypeError\u001b[0m: 'level' is an invalid keyword argument for this function"
     ]
    }
   ],
   "source": [
    "%tb"
   ]
  },
  {
   "cell_type": "code",
   "execution_count": 4,
   "metadata": {
    "collapsed": false,
    "deletable": true,
    "editable": true
   },
   "outputs": [
    {
     "name": "stdout",
     "output_type": "stream",
     "text": [
      "remove success\n",
      "ok\n"
     ]
    }
   ],
   "source": [
    "from unittest.mock import patch\n",
    "import os \n",
    "def mock_remove(path,*args,**kwargs):\n",
    "    print(\"remove success\")\n",
    "    \n",
    "@patch(\"os.remove\",mock_remove)\n",
    "def test_remoeve():\n",
    "    try:\n",
    "        os.remove(\"**\")\n",
    "    except OSError as e:\n",
    "        print(e)\n",
    "    else:\n",
    "        print(\"ok\")\n",
    "\n",
    "test_remoeve()"
   ]
  },
  {
   "cell_type": "code",
   "execution_count": 13,
   "metadata": {
    "collapsed": false,
    "deletable": true,
    "editable": true
   },
   "outputs": [
    {
     "name": "stdout",
     "output_type": "stream",
     "text": [
      "remove success\n",
      "remove success\n"
     ]
    }
   ],
   "source": [
    "from unittest.mock import patch \n",
    "import os \n",
    "def mock_remove(path):\n",
    "    print(\"remove success\")\n",
    "    \n",
    "class SimpleMock():\n",
    "    def __init__(self,target,new):\n",
    "        self._target = target\n",
    "        self._new = new\n",
    "    def get_attr(self):\n",
    "        orig,attr = self._target.rsplit('.')\n",
    "        orig = __import__(orig)\n",
    "        return orig,attr\n",
    "    def __enter__(self):\n",
    "        self.orig,self.attr = self.get_attr()\n",
    "        self.old_attr = getattr(self.orig,self.attr)\n",
    "        setattr(self.orig,self.attr,self._new)\n",
    "    def __exit__(self,*ext_info):\n",
    "        setattr(self.orig,self.attr,self.old_attr)\n",
    "        del self.old_attr\n",
    "        \n",
    "with patch(\"os.remove\",mock_remove) :\n",
    "    os.remove('**')\n",
    "with SimpleMock('os.remove',mock_remove):\n",
    "    os.remove('**')"
   ]
  },
  {
   "cell_type": "code",
   "execution_count": null,
   "metadata": {
    "collapsed": true,
    "deletable": true,
    "editable": true
   },
   "outputs": [],
   "source": [
    "a"
   ]
  },
  {
   "cell_type": "code",
   "execution_count": 20,
   "metadata": {
    "collapsed": false,
    "deletable": true,
    "editable": true
   },
   "outputs": [
    {
     "name": "stdout",
     "output_type": "stream",
     "text": [
      "test send_req success\n",
      "test fail\n"
     ]
    }
   ],
   "source": [
    "import urllib\n",
    "from unittest.mock import patch,mock_open\n",
    "\n",
    "def send_req(url):\n",
    "    with urllib.request.urlopen(url) as f:\n",
    "        if f.status == 200:\n",
    "            return f.read()\n",
    "        raise urllib.error.URLError\n",
    "\n",
    "fake_html = \"<html><h1>Mock Data</h1></html>\"\n",
    "\n",
    "mock_urlopen = mock_open(read_data=fake_html)\n",
    "ret = mock_urlopen.return_value\n",
    "ret.status = 200\n",
    "@patch('urllib.request.urlopen',mock_urlopen)\n",
    "def test_send_req_success():\n",
    "    try:\n",
    "        ret = send_req('http://www.qwer1234.com')\n",
    "#         print(ret)\n",
    "        assert ret == fake_html\n",
    "    except Exception as e:\n",
    "        print(e)\n",
    "    else:\n",
    "        print(\"test send_req success\")\n",
    "test_send_req_success()\n",
    "ret = mock_open(read_data=fake_html).return_value\n",
    "ret.status = 404\n",
    "def test_send_req_fail():\n",
    "    try:\n",
    "        ret = send_req('http://qwer1234.com')\n",
    "#         print(ret)\n",
    "        assert ret==fake_html\n",
    "    except Exception as e:\n",
    "        print(\"test fail\")\n",
    "test_send_req_fail()\n",
    "    "
   ]
  },
  {
   "cell_type": "code",
   "execution_count": 2,
   "metadata": {
    "collapsed": false,
    "deletable": true,
    "editable": true
   },
   "outputs": [
    {
     "ename": "ImportError",
     "evalue": "No module named 'client'",
     "output_type": "error",
     "traceback": [
      "\u001b[1;31m---------------------------------------------------------------------------\u001b[0m",
      "\u001b[1;31mImportError\u001b[0m                               Traceback (most recent call last)",
      "\u001b[1;32m<ipython-input-2-3bca1f26d8dd>\u001b[0m in \u001b[0;36m<module>\u001b[1;34m()\u001b[0m\n\u001b[0;32m      1\u001b[0m \u001b[1;32mimport\u001b[0m \u001b[0mmock\u001b[0m\u001b[1;33m\u001b[0m\u001b[0m\n\u001b[1;32m----> 2\u001b[1;33m \u001b[1;32mimport\u001b[0m \u001b[0mclient\u001b[0m\u001b[1;33m\u001b[0m\u001b[0m\n\u001b[0m",
      "\u001b[1;31mImportError\u001b[0m: No module named 'client'"
     ]
    }
   ],
   "source": [
    "import pytest\n",
    "\n",
    "@pytest.fixture \n",
    "def setup_math():\n",
    "    import math\n",
    "    return math \n",
    "\n",
    "@pytest.fixture(scope='function')\n",
    "def setup_function(request):\n",
    "    def teardown_function():\n",
    "        print(\"teardown_funciton called\")\n",
    "    request.addfinalizer(teardown_function)\n",
    "    print(\"setup_funtion called\")\n",
    "\n",
    "def test_fun(setup_function):\n",
    "    print(\"Test_Func called\")\n",
    "\n",
    "def test_setup_math(setup_math):\n",
    "    assert setup_math.pow(2,3)==8\n",
    "    \n",
    "class TestClass(object):\n",
    "    def test_in(self):\n",
    "        assert 'h' in 'hello'\n",
    "    \n",
    "    def test_two(self,setup_math):\n",
    "        assert setup_math.ceil(10)==10.0\n",
    "    \n",
    "    def raise_exit(self):\n",
    "        raise SystemExit(1)\n",
    "    \n",
    "    def test_mytest(self):\n",
    "        with pytest.raises(SystemExit):\n",
    "            raise_exit()\n",
    "    @pytest.mark.parametrize('test_input,expected',[\n",
    "        ('1+3',4),\n",
    "        ('2*4',8),\n",
    "        ('1==2',False),\n",
    "    ])\n",
    "    def test_eval(test_input,expected):\n",
    "        assert eval(test_input) == expected\n",
    "    \n",
    "        \n"
   ]
  },
  {
   "cell_type": "markdown",
   "metadata": {
    "deletable": true,
    "editable": true
   },
   "source": [
    "# socket pythonsheets"
   ]
  },
  {
   "cell_type": "code",
   "execution_count": 5,
   "metadata": {
    "collapsed": false,
    "deletable": true,
    "editable": true
   },
   "outputs": [
    {
     "name": "stdout",
     "output_type": "stream",
     "text": [
      "zxc-PC\n",
      "192.168.71.1\n",
      "127.0.0.1\n"
     ]
    }
   ],
   "source": [
    "import socket\n",
    "hostname = socket.gethostname()\n",
    "print(hostname)\n",
    "ip = socket.gethostbyname(hostname)\n",
    "print(ip)\n",
    "ip = socket.gethostbyname(\"localhost\")\n",
    "print(ip)"
   ]
  },
  {
   "cell_type": "code",
   "execution_count": 16,
   "metadata": {
    "collapsed": false,
    "deletable": true,
    "editable": true
   },
   "outputs": [
    {
     "name": "stdout",
     "output_type": "stream",
     "text": [
      "16777216\n",
      "256\n",
      "1\n",
      "1\n"
     ]
    }
   ],
   "source": [
    "import socket \n",
    "a = 1\n",
    "print(socket.htonl(a))\n",
    "#把32位正整数从主机字节序转换成网络序。\n",
    "print(socket.htons(a))\n",
    "#把16位正整数从主机字节序转换成网络序。\n",
    "print(socket.ntohl(16777216))\n",
    "#把32位正整数从网络序转换成主机字节序\n",
    "print(socket.ntohs(256))\n",
    "#把16位正整数从网络序转换成主机字节序"
   ]
  },
  {
   "cell_type": "code",
   "execution_count": 21,
   "metadata": {
    "collapsed": false,
    "deletable": true,
    "editable": true
   },
   "outputs": [
    {
     "name": "stdout",
     "output_type": "stream",
     "text": [
      "192.168.71.1\n",
      "b'\\xc0\\xa8G\\x01'\n",
      "192.168.71.1\n"
     ]
    }
   ],
   "source": [
    "#ip地址 byte类型转变\n",
    "import socket\n",
    "hostname = socket.gethostname()\n",
    "ip = socket.gethostbyname(hostname)\n",
    "print(ip)\n",
    "addr = socket.inet_aton(ip)\n",
    "print(addr)\n",
    "ip_addr = socket.inet_ntoa(addr)\n",
    "print(ip_addr)"
   ]
  },
  {
   "cell_type": "code",
   "execution_count": 25,
   "metadata": {
    "collapsed": false,
    "deletable": true,
    "editable": true
   },
   "outputs": [
    {
     "name": "stdout",
     "output_type": "stream",
     "text": [
      "2C:D0:5A:36:20:8D\n",
      "b',\\xd0Z6 \\x8d'\n"
     ]
    },
    {
     "data": {
      "text/plain": [
       "b'2cd05a36208d'"
      ]
     },
     "execution_count": 25,
     "metadata": {},
     "output_type": "execute_result"
    }
   ],
   "source": [
    "#mac 地址 byte类型转变\n",
    "import binascii\n",
    "mac = \"2C-D0-5A-36-20-8D\"\n",
    "mac = mac.replace(\"-\",\":\")\n",
    "print(mac)\n",
    "mac_byte = binascii.unhexlify(mac.replace(':',''))\n",
    "print(mac_byte)\n",
    "binascii.hexlify(mac_byte)"
   ]
  },
  {
   "cell_type": "code",
   "execution_count": null,
   "metadata": {
    "collapsed": false,
    "deletable": true,
    "editable": true
   },
   "outputs": [],
   "source": [
    "import socket\n",
    "\n",
    "class Server(object):\n",
    "    def __init__(self,host,port):\n",
    "        self._host = host\n",
    "        self._port = port \n",
    "    def __enter__(self):\n",
    "        sock = socket.socket(socket.AF_INET,socket.SOCK_STREAM)\n",
    "        sock.setsockopt(socket.SOL_SOCKET,socket.SO_REUSEADDR,1)\n",
    "        sock.bind((self._host,self._port))\n",
    "        sock.listen(10)\n",
    "        self._sock = sock\n",
    "        return self._sock\n",
    "    def __exit__(self,*exc_info):\n",
    "        if exc_info[0]:\n",
    "            import traceback\n",
    "            traceback.print_exceptino(*exc_info)\n",
    "        self._sock.close()\n",
    "\n",
    "if __name__=='__main__':\n",
    "    host = \"localhost\"\n",
    "    port = 5566\n",
    "    with Server(host,port) as s:\n",
    "        while True:\n",
    "            conn,addr = s.accept()\n",
    "            msg = conn.recv(1024)\n",
    "            conn.send(meg)\n",
    "            conn.close()\n",
    "    "
   ]
  },
  {
   "cell_type": "code",
   "execution_count": 1,
   "metadata": {
    "collapsed": false,
    "deletable": true,
    "editable": true
   },
   "outputs": [
    {
     "ename": "ImportError",
     "evalue": "No module named 'SocketServer'",
     "output_type": "error",
     "traceback": [
      "\u001b[0;31m---------------------------------------------------------------------------\u001b[0m",
      "\u001b[0;31mImportError\u001b[0m                               Traceback (most recent call last)",
      "\u001b[0;32m<ipython-input-1-e2fe03ed5fbb>\u001b[0m in \u001b[0;36m<module>\u001b[0;34m()\u001b[0m\n\u001b[0;32m----> 1\u001b[0;31m \u001b[0;32mimport\u001b[0m \u001b[0mSocketServer\u001b[0m\u001b[0;34m\u001b[0m\u001b[0m\n\u001b[0m\u001b[1;32m      2\u001b[0m \u001b[0mbh\u001b[0m \u001b[0;34m=\u001b[0m \u001b[0mSocketServer\u001b[0m\u001b[0;34m.\u001b[0m\u001b[0mBaseRequestHandler\u001b[0m\u001b[0;34m\u001b[0m\u001b[0m\n",
      "\u001b[0;31mImportError\u001b[0m: No module named 'SocketServer'"
     ]
    }
   ],
   "source": [
    "In [1]: import SocketServer\n",
    "\n",
    "In [2]: bh = SocketServer.BaseRequestHandler\n",
    "\n",
    "In [3]: class handler(bh):\n",
    "   ...:     def handle(self):\n",
    "   ...:         data = self.request.recv(1024)\n",
    "   ...:         print(self.client_address)\n",
    "   ...:         self.request.sendall(data)\n",
    "   ...:\n",
    "\n",
    "In [4]: host = ('localhost',5566)\n",
    "\n",
    "In [5]: s = SocketServer.TCPServer(host,handler)\n",
    "\n",
    "In [6]: s.serve_forever()\n"
   ]
  },
  {
   "cell_type": "code",
   "execution_count": null,
   "metadata": {
    "collapsed": false,
    "deletable": true,
    "editable": true
   },
   "outputs": [],
   "source": [
    "import socket\n",
    "\n",
    "class UDPServer(object):\n",
    "    def __init__(self,host,port):\n",
    "        self._host = host \n",
    "        self._port = port \n",
    "    def __enter__(self):\n",
    "        sock = socket.socket(socket.AF_INET,socket.SOCK_DGRAM)\n",
    "        sock.bind((self._host,self._port))\n",
    "        self._sock = sock \n",
    "        return self._sock\n",
    "    \n",
    "    def __exit__(self,*exc_info):\n",
    "        if exc_info[0]:\n",
    "            import traceback\n",
    "            traceback.print_exception(*exc_info)\n",
    "        self._sock.close()\n",
    "if __name__==\"__main__\":\n",
    "    host = \"localhost\"\n",
    "    port = 5566\n",
    "    with UDPServer(host, port) as s :\n",
    "        while True:\n",
    "            msg , addr = s.recvfrom(1024)\n",
    "            s.sendto(msg,addr)"
   ]
  },
  {
   "cell_type": "code",
   "execution_count": null,
   "metadata": {
    "collapsed": false,
    "deletable": true,
    "editable": true
   },
   "outputs": [],
   "source": [
    "import socket\n",
    "import time \n",
    "sock = socket.socket(socket.AF_INET, socket.SOCK_DGRAM)\n",
    "host = ('localhost', 5566)\n",
    "while True:\n",
    "    sock.sendto(b\"Hello\\n\", host)\n",
    "    time.sleep(5)\n"
   ]
  },
  {
   "cell_type": "code",
   "execution_count": 1,
   "metadata": {
    "collapsed": false,
    "deletable": true,
    "editable": true
   },
   "outputs": [
    {
     "ename": "AttributeError",
     "evalue": "module 'socket' has no attribute 'SO_BROADACAST'",
     "output_type": "error",
     "traceback": [
      "\u001b[0;31m---------------------------------------------------------------------------\u001b[0m",
      "\u001b[0;31mAttributeError\u001b[0m                            Traceback (most recent call last)",
      "\u001b[0;32m<ipython-input-1-024f3340d3a1>\u001b[0m in \u001b[0;36m<module>\u001b[0;34m()\u001b[0m\n\u001b[1;32m      4\u001b[0m \u001b[0msock\u001b[0m \u001b[0;34m=\u001b[0m \u001b[0msocket\u001b[0m\u001b[0;34m.\u001b[0m\u001b[0msocket\u001b[0m\u001b[0;34m(\u001b[0m\u001b[0msocket\u001b[0m\u001b[0;34m.\u001b[0m\u001b[0mAF_INET\u001b[0m\u001b[0;34m,\u001b[0m\u001b[0msocket\u001b[0m\u001b[0;34m.\u001b[0m\u001b[0mSOCK_DGRAM\u001b[0m\u001b[0;34m)\u001b[0m\u001b[0;34m\u001b[0m\u001b[0m\n\u001b[1;32m      5\u001b[0m \u001b[0msock\u001b[0m\u001b[0;34m.\u001b[0m\u001b[0mbind\u001b[0m\u001b[0;34m(\u001b[0m\u001b[0;34m(\u001b[0m\u001b[0;34m''\u001b[0m\u001b[0;34m,\u001b[0m\u001b[0;36m0\u001b[0m\u001b[0;34m)\u001b[0m\u001b[0;34m)\u001b[0m\u001b[0;34m\u001b[0m\u001b[0m\n\u001b[0;32m----> 6\u001b[0;31m \u001b[0msock\u001b[0m\u001b[0;34m.\u001b[0m\u001b[0msetsockopt\u001b[0m\u001b[0;34m(\u001b[0m\u001b[0msocket\u001b[0m\u001b[0;34m.\u001b[0m\u001b[0mSOL_SOCKET\u001b[0m\u001b[0;34m,\u001b[0m\u001b[0msocket\u001b[0m\u001b[0;34m.\u001b[0m\u001b[0mSO_BROADACAST\u001b[0m\u001b[0;34m,\u001b[0m\u001b[0;36m1\u001b[0m\u001b[0;34m)\u001b[0m\u001b[0;34m\u001b[0m\u001b[0m\n\u001b[0m\u001b[1;32m      7\u001b[0m \u001b[0;32mwhile\u001b[0m \u001b[0;32mTrue\u001b[0m\u001b[0;34m:\u001b[0m\u001b[0;34m\u001b[0m\u001b[0m\n\u001b[1;32m      8\u001b[0m     \u001b[0mm\u001b[0m \u001b[0;34m=\u001b[0m \u001b[0;34m'{0}\\n'\u001b[0m\u001b[0;34m.\u001b[0m\u001b[0mformat\u001b[0m\u001b[0;34m(\u001b[0m\u001b[0mtime\u001b[0m\u001b[0;34m.\u001b[0m\u001b[0mtime\u001b[0m\u001b[0;34m(\u001b[0m\u001b[0;34m)\u001b[0m\u001b[0;34m)\u001b[0m\u001b[0;34m\u001b[0m\u001b[0m\n",
      "\u001b[0;31mAttributeError\u001b[0m: module 'socket' has no attribute 'SO_BROADACAST'"
     ]
    }
   ],
   "source": [
    "import socket \n",
    "import time \n",
    "\n",
    "sock = socket.socket(socket.AF_INET,socket.SOCK_DGRAM)\n",
    "sock.bind(('',0))\n",
    "sock.setsockopt(socket.SOL_SOCKET,socket.SO_BROADACAST,1)\n",
    "while True:\n",
    "    m = '{0}\\n'.format(time.time())\n",
    "    sock.sendto(m,('<broadcast>',5566))\n",
    "    time.sleep(5)\n"
   ]
  },
  {
   "cell_type": "code",
   "execution_count": 7,
   "metadata": {
    "collapsed": false,
    "deletable": true,
    "editable": true
   },
   "outputs": [
    {
     "ename": "RuntimeError",
     "evalue": "Event loop is closed",
     "output_type": "error",
     "traceback": [
      "\u001b[0;31m---------------------------------------------------------------------------\u001b[0m",
      "\u001b[0;31mRuntimeError\u001b[0m                              Traceback (most recent call last)",
      "\u001b[0;32m<ipython-input-7-38dbe57c9af7>\u001b[0m in \u001b[0;36m<module>\u001b[0;34m()\u001b[0m\n\u001b[1;32m     20\u001b[0m     \u001b[0mprint\u001b[0m\u001b[0;34m(\u001b[0m\u001b[0;34m\"Hello Bar\"\u001b[0m\u001b[0;34m)\u001b[0m\u001b[0;34m\u001b[0m\u001b[0m\n\u001b[1;32m     21\u001b[0m \u001b[0mloop\u001b[0m \u001b[0;34m=\u001b[0m \u001b[0masyncio\u001b[0m\u001b[0;34m.\u001b[0m\u001b[0mget_event_loop\u001b[0m\u001b[0;34m(\u001b[0m\u001b[0;34m)\u001b[0m\u001b[0;34m\u001b[0m\u001b[0m\n\u001b[0;32m---> 22\u001b[0;31m tasks = [loop.create_task(foo()),\n\u001b[0m\u001b[1;32m     23\u001b[0m         loop.create_task(bar())]\n\u001b[1;32m     24\u001b[0m \u001b[0mloop\u001b[0m\u001b[0;34m.\u001b[0m\u001b[0mrun_until_complete\u001b[0m\u001b[0;34m(\u001b[0m\u001b[0masyncio\u001b[0m\u001b[0;34m.\u001b[0m\u001b[0mwait\u001b[0m\u001b[0;34m(\u001b[0m\u001b[0mtasks\u001b[0m\u001b[0;34m)\u001b[0m\u001b[0;34m)\u001b[0m\u001b[0;34m\u001b[0m\u001b[0m\n",
      "\u001b[0;32md:\\python35\\lib\\asyncio\\base_events.py\u001b[0m in \u001b[0;36mcreate_task\u001b[0;34m(self, coro)\u001b[0m\n\u001b[1;32m    257\u001b[0m         \u001b[0mReturn\u001b[0m \u001b[0ma\u001b[0m \u001b[0mtask\u001b[0m \u001b[0mobject\u001b[0m\u001b[0;34m.\u001b[0m\u001b[0;34m\u001b[0m\u001b[0m\n\u001b[1;32m    258\u001b[0m         \"\"\"\n\u001b[0;32m--> 259\u001b[0;31m         \u001b[0mself\u001b[0m\u001b[0;34m.\u001b[0m\u001b[0m_check_closed\u001b[0m\u001b[0;34m(\u001b[0m\u001b[0;34m)\u001b[0m\u001b[0;34m\u001b[0m\u001b[0m\n\u001b[0m\u001b[1;32m    260\u001b[0m         \u001b[0;32mif\u001b[0m \u001b[0mself\u001b[0m\u001b[0;34m.\u001b[0m\u001b[0m_task_factory\u001b[0m \u001b[0;32mis\u001b[0m \u001b[0;32mNone\u001b[0m\u001b[0;34m:\u001b[0m\u001b[0;34m\u001b[0m\u001b[0m\n\u001b[1;32m    261\u001b[0m             \u001b[0mtask\u001b[0m \u001b[0;34m=\u001b[0m \u001b[0mtasks\u001b[0m\u001b[0;34m.\u001b[0m\u001b[0mTask\u001b[0m\u001b[0;34m(\u001b[0m\u001b[0mcoro\u001b[0m\u001b[0;34m,\u001b[0m \u001b[0mloop\u001b[0m\u001b[0;34m=\u001b[0m\u001b[0mself\u001b[0m\u001b[0;34m)\u001b[0m\u001b[0;34m\u001b[0m\u001b[0m\n",
      "\u001b[0;32md:\\python35\\lib\\asyncio\\base_events.py\u001b[0m in \u001b[0;36m_check_closed\u001b[0;34m(self)\u001b[0m\n\u001b[1;32m    332\u001b[0m     \u001b[0;32mdef\u001b[0m \u001b[0m_check_closed\u001b[0m\u001b[0;34m(\u001b[0m\u001b[0mself\u001b[0m\u001b[0;34m)\u001b[0m\u001b[0;34m:\u001b[0m\u001b[0;34m\u001b[0m\u001b[0m\n\u001b[1;32m    333\u001b[0m         \u001b[0;32mif\u001b[0m \u001b[0mself\u001b[0m\u001b[0;34m.\u001b[0m\u001b[0m_closed\u001b[0m\u001b[0;34m:\u001b[0m\u001b[0;34m\u001b[0m\u001b[0m\n\u001b[0;32m--> 334\u001b[0;31m             \u001b[0;32mraise\u001b[0m \u001b[0mRuntimeError\u001b[0m\u001b[0;34m(\u001b[0m\u001b[0;34m'Event loop is closed'\u001b[0m\u001b[0;34m)\u001b[0m\u001b[0;34m\u001b[0m\u001b[0m\n\u001b[0m\u001b[1;32m    335\u001b[0m \u001b[0;34m\u001b[0m\u001b[0m\n\u001b[1;32m    336\u001b[0m     \u001b[0;32mdef\u001b[0m \u001b[0mrun_forever\u001b[0m\u001b[0;34m(\u001b[0m\u001b[0mself\u001b[0m\u001b[0;34m)\u001b[0m\u001b[0;34m:\u001b[0m\u001b[0;34m\u001b[0m\u001b[0m\n",
      "\u001b[0;31mRuntimeError\u001b[0m: Event loop is closed"
     ]
    }
   ],
   "source": [
    "import asyncio\n",
    "import inspect\n",
    "from functools import wraps\n",
    "\n",
    "Future = asyncio.futures.Future\n",
    "def coroutine(func):\n",
    "    @wraps(func)\n",
    "    def coro(*args,**kwargs):\n",
    "        res = func(*args, **kwargs)\n",
    "        if isinstance(res,Future) or inspect.isgenerator(res):\n",
    "            res = yield from res \n",
    "        return res\n",
    "    return coro \n",
    "@coroutine\n",
    "def foo():\n",
    "    yield from asyncio.sleep(1)\n",
    "    print(\"Hello Foo\")\n",
    "@asyncio.coroutine\n",
    "def bar():\n",
    "    print(\"Hello Bar\")\n",
    "loop = asyncio.get_event_loop()\n",
    "tasks = [loop.create_task(foo()),\n",
    "        loop.create_task(bar())]\n",
    "loop.run_until_complete(asyncio.wait(tasks))\n",
    "# loop.close()"
   ]
  },
  {
   "cell_type": "code",
   "execution_count": 2,
   "metadata": {
    "collapsed": false,
    "deletable": true,
    "editable": true
   },
   "outputs": [
    {
     "name": "stdout",
     "output_type": "stream",
     "text": [
      "Hello Bar\n",
      "Hello Foo\n"
     ]
    },
    {
     "data": {
      "text/plain": [
       "({<Task finished coro=<bar() done, defined at d:\\python35\\lib\\asyncio\\coroutines.py:204> result=None>,\n",
       "  <Task finished coro=<foo() done, defined at <ipython-input-2-38dbe57c9af7>:7> result=None>},\n",
       " set())"
      ]
     },
     "execution_count": 2,
     "metadata": {},
     "output_type": "execute_result"
    }
   ],
   "source": [
    "import asyncio\n",
    "import inspect\n",
    "from functools import wraps\n",
    "\n",
    "Future = asyncio.futures.Future\n",
    "def coroutine(func):\n",
    "    @wraps(func)\n",
    "    def coro(*args,**kwargs):\n",
    "        res = func(*args, **kwargs)\n",
    "        if isinstance(res,Future) or inspect.isgenerator(res):\n",
    "            res = yield from res \n",
    "        return res\n",
    "    return coro \n",
    "@coroutine\n",
    "def foo():\n",
    "    yield from asyncio.sleep(1)\n",
    "    print(\"Hello Foo\")\n",
    "@asyncio.coroutine\n",
    "def bar():\n",
    "    print(\"Hello Bar\")\n",
    "loop = asyncio.get_event_loop()\n",
    "tasks = [loop.create_task(foo()),\n",
    "        loop.create_task(bar())]\n",
    "loop.run_until_complete(asyncio.wait(tasks))\n",
    "# loop.close()"
   ]
  },
  {
   "cell_type": "markdown",
   "metadata": {},
   "source": [
    "# contextlib"
   ]
  },
  {
   "cell_type": "code",
   "execution_count": 5,
   "metadata": {
    "collapsed": false
   },
   "outputs": [
    {
     "name": "stdout",
     "output_type": "stream",
     "text": [
      "1\n",
      "2\n",
      "3\n",
      "4\n",
      "5\n"
     ]
    }
   ],
   "source": [
    "import contextlib\n",
    "\n",
    "@contextlib.contextmanager\n",
    "def text():\n",
    "    try:\n",
    "        l = [1,2,3,4,5]\n",
    "        yield l\n",
    "    except Exception as e:\n",
    "        print('exit function')\n",
    "\n",
    "with text() as t:\n",
    "    for i in t:\n",
    "        print(i)"
   ]
  },
  {
   "cell_type": "code",
   "execution_count": 9,
   "metadata": {
    "collapsed": false
   },
   "outputs": [
    {
     "name": "stdout",
     "output_type": "stream",
     "text": [
      "1\n",
      "2\n",
      "3\n",
      "4\n",
      "5\n",
      "exit func\n"
     ]
    }
   ],
   "source": [
    "class ActualDoingText(object):\n",
    "    def __init__(self,gen):\n",
    "        self._gen = gen\n",
    "    def __enter__(self):\n",
    "        return next(self._gen)\n",
    "    def __exit__(self,*exc_info):\n",
    "        try:\n",
    "            if exc_info[0] is None:\n",
    "                next(self._gen)\n",
    "            else:\n",
    "                self._gen.throw(exc_info)\n",
    "            raise RuntimeError\n",
    "        except StopIteration as e:\n",
    "            return True\n",
    "            pritn(\"stop\")\n",
    "            \n",
    "def dec(fun):\n",
    "    def run(*args,**kwargs):\n",
    "        return ActualDoingText(fun(*args,**kwargs))\n",
    "    return run \n",
    "\n",
    "@dec \n",
    "def text():\n",
    "    try:\n",
    "        l = [1,2,3,4,5]\n",
    "        yield l \n",
    "    finally:\n",
    "        print(\"exit func\")\n",
    "\n",
    "with text() as l:\n",
    "    for i in l:\n",
    "        print(i)\n",
    "                "
   ]
  },
  {
   "cell_type": "code",
   "execution_count": 12,
   "metadata": {
    "collapsed": false
   },
   "outputs": [
    {
     "name": "stdout",
     "output_type": "stream",
     "text": [
      "function sleep3 of spent time is 3.000171661376953\n"
     ]
    }
   ],
   "source": [
    "import time \n",
    "from contextlib import contextmanager\n",
    "@contextmanager\n",
    "def TimeSpent(name):\n",
    "    try:\n",
    "        start = time.time()\n",
    "        yield\n",
    "    finally:\n",
    "        print(\"function {} of spent time is {}\".format(name,time.time()-start))\n",
    "\n",
    "def sleep3():\n",
    "    time.sleep(3)\n",
    "    \n",
    "with TimeSpent(sleep3.__name__) as t:\n",
    "    sleep3()\n",
    "    "
   ]
  },
  {
   "cell_type": "code",
   "execution_count": 21,
   "metadata": {
    "collapsed": false
   },
   "outputs": [
    {
     "name": "stdout",
     "output_type": "stream",
     "text": [
      "True\n",
      "True\n",
      "False\n",
      "True\n"
     ]
    }
   ],
   "source": [
    "print(any([1,2,3,2,3,4]))\n",
    "print(any([1,0]))\n",
    "print(any([0,0]))\n",
    "print(any([1,0,0,0,0]))\n"
   ]
  },
  {
   "cell_type": "code",
   "execution_count": null,
   "metadata": {
    "collapsed": true
   },
   "outputs": [],
   "source": []
  }
 ],
 "metadata": {
  "kernelspec": {
   "display_name": "Python 3",
   "language": "python",
   "name": "python3"
  },
  "language_info": {
   "codemirror_mode": {
    "name": "ipython",
    "version": 3
   },
   "file_extension": ".py",
   "mimetype": "text/x-python",
   "name": "python",
   "nbconvert_exporter": "python",
   "pygments_lexer": "ipython3",
   "version": "3.5.2"
  }
 },
 "nbformat": 4,
 "nbformat_minor": 1
}
